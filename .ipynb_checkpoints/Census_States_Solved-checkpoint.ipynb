{
 "cells": [
  {
   "cell_type": "code",
   "execution_count": 2,
   "metadata": {},
   "outputs": [],
   "source": [
    "# Dependencies\n",
    "import numpy as np\n",
    "import pandas as pd\n",
    "import matplotlib.pyplot as plt\n",
    "import requests\n",
    "from census import Census\n",
    "from flask import Flask, jsonify\n",
    "\n",
    "# Census API Key\n",
    "from config import api_key\n",
    "c = Census(api_key, year=2018)"
   ]
  },
  {
   "cell_type": "code",
   "execution_count": 3,
   "metadata": {},
   "outputs": [
    {
     "data": {
      "text/html": [
       "<div>\n",
       "<style scoped>\n",
       "    .dataframe tbody tr th:only-of-type {\n",
       "        vertical-align: middle;\n",
       "    }\n",
       "\n",
       "    .dataframe tbody tr th {\n",
       "        vertical-align: top;\n",
       "    }\n",
       "\n",
       "    .dataframe thead th {\n",
       "        text-align: right;\n",
       "    }\n",
       "</style>\n",
       "<table border=\"1\" class=\"dataframe\">\n",
       "  <thead>\n",
       "    <tr style=\"text-align: right;\">\n",
       "      <th></th>\n",
       "      <th>State</th>\n",
       "      <th>Name</th>\n",
       "      <th>Population</th>\n",
       "      <th>Median Age</th>\n",
       "      <th>Household Income</th>\n",
       "      <th>Per Capita Income</th>\n",
       "      <th>Poverty Count</th>\n",
       "      <th>Poverty Rate</th>\n",
       "      <th>Unemployment Rate</th>\n",
       "    </tr>\n",
       "  </thead>\n",
       "  <tbody>\n",
       "    <tr>\n",
       "      <th>0</th>\n",
       "      <td>27</td>\n",
       "      <td>Minnesota</td>\n",
       "      <td>5527358.0</td>\n",
       "      <td>37.9</td>\n",
       "      <td>68411.0</td>\n",
       "      <td>36245.0</td>\n",
       "      <td>547442.0</td>\n",
       "      <td>9.904225</td>\n",
       "      <td>2.156871</td>\n",
       "    </tr>\n",
       "    <tr>\n",
       "      <th>1</th>\n",
       "      <td>28</td>\n",
       "      <td>Mississippi</td>\n",
       "      <td>2988762.0</td>\n",
       "      <td>37.2</td>\n",
       "      <td>43567.0</td>\n",
       "      <td>23434.0</td>\n",
       "      <td>599795.0</td>\n",
       "      <td>20.068343</td>\n",
       "      <td>3.681658</td>\n",
       "    </tr>\n",
       "    <tr>\n",
       "      <th>2</th>\n",
       "      <td>29</td>\n",
       "      <td>Missouri</td>\n",
       "      <td>6090062.0</td>\n",
       "      <td>38.5</td>\n",
       "      <td>53560.0</td>\n",
       "      <td>29537.0</td>\n",
       "      <td>837930.0</td>\n",
       "      <td>13.758973</td>\n",
       "      <td>2.560861</td>\n",
       "    </tr>\n",
       "    <tr>\n",
       "      <th>3</th>\n",
       "      <td>30</td>\n",
       "      <td>Montana</td>\n",
       "      <td>1041732.0</td>\n",
       "      <td>39.8</td>\n",
       "      <td>52559.0</td>\n",
       "      <td>29765.0</td>\n",
       "      <td>139063.0</td>\n",
       "      <td>13.349211</td>\n",
       "      <td>2.153433</td>\n",
       "    </tr>\n",
       "    <tr>\n",
       "      <th>4</th>\n",
       "      <td>31</td>\n",
       "      <td>Nebraska</td>\n",
       "      <td>1904760.0</td>\n",
       "      <td>36.4</td>\n",
       "      <td>59116.0</td>\n",
       "      <td>31101.0</td>\n",
       "      <td>213790.0</td>\n",
       "      <td>11.223986</td>\n",
       "      <td>1.918614</td>\n",
       "    </tr>\n",
       "    <tr>\n",
       "      <th>5</th>\n",
       "      <td>32</td>\n",
       "      <td>Nevada</td>\n",
       "      <td>2922849.0</td>\n",
       "      <td>37.9</td>\n",
       "      <td>57598.0</td>\n",
       "      <td>29961.0</td>\n",
       "      <td>393431.0</td>\n",
       "      <td>13.460531</td>\n",
       "      <td>3.481124</td>\n",
       "    </tr>\n",
       "    <tr>\n",
       "      <th>6</th>\n",
       "      <td>33</td>\n",
       "      <td>New Hampshire</td>\n",
       "      <td>1343622.0</td>\n",
       "      <td>42.7</td>\n",
       "      <td>74057.0</td>\n",
       "      <td>38548.0</td>\n",
       "      <td>102352.0</td>\n",
       "      <td>7.617619</td>\n",
       "      <td>2.261946</td>\n",
       "    </tr>\n",
       "    <tr>\n",
       "      <th>7</th>\n",
       "      <td>34</td>\n",
       "      <td>New Jersey</td>\n",
       "      <td>8881845.0</td>\n",
       "      <td>39.8</td>\n",
       "      <td>79363.0</td>\n",
       "      <td>40895.0</td>\n",
       "      <td>904132.0</td>\n",
       "      <td>10.179552</td>\n",
       "      <td>3.209739</td>\n",
       "    </tr>\n",
       "    <tr>\n",
       "      <th>8</th>\n",
       "      <td>35</td>\n",
       "      <td>New Mexico</td>\n",
       "      <td>2092434.0</td>\n",
       "      <td>37.5</td>\n",
       "      <td>48059.0</td>\n",
       "      <td>26085.0</td>\n",
       "      <td>410389.0</td>\n",
       "      <td>19.612996</td>\n",
       "      <td>3.267487</td>\n",
       "    </tr>\n",
       "    <tr>\n",
       "      <th>9</th>\n",
       "      <td>36</td>\n",
       "      <td>New York</td>\n",
       "      <td>19618453.0</td>\n",
       "      <td>38.7</td>\n",
       "      <td>65323.0</td>\n",
       "      <td>37470.0</td>\n",
       "      <td>2797985.0</td>\n",
       "      <td>14.262006</td>\n",
       "      <td>3.071781</td>\n",
       "    </tr>\n",
       "    <tr>\n",
       "      <th>10</th>\n",
       "      <td>37</td>\n",
       "      <td>North Carolina</td>\n",
       "      <td>10155624.0</td>\n",
       "      <td>38.6</td>\n",
       "      <td>52413.0</td>\n",
       "      <td>29456.0</td>\n",
       "      <td>1523949.0</td>\n",
       "      <td>15.005961</td>\n",
       "      <td>3.078196</td>\n",
       "    </tr>\n",
       "    <tr>\n",
       "      <th>11</th>\n",
       "      <td>38</td>\n",
       "      <td>North Dakota</td>\n",
       "      <td>752201.0</td>\n",
       "      <td>35.1</td>\n",
       "      <td>63473.0</td>\n",
       "      <td>35373.0</td>\n",
       "      <td>79270.0</td>\n",
       "      <td>10.538407</td>\n",
       "      <td>1.553973</td>\n",
       "    </tr>\n",
       "    <tr>\n",
       "      <th>12</th>\n",
       "      <td>39</td>\n",
       "      <td>Ohio</td>\n",
       "      <td>11641879.0</td>\n",
       "      <td>39.3</td>\n",
       "      <td>54533.0</td>\n",
       "      <td>30304.0</td>\n",
       "      <td>1645986.0</td>\n",
       "      <td>14.138491</td>\n",
       "      <td>2.948253</td>\n",
       "    </tr>\n",
       "    <tr>\n",
       "      <th>13</th>\n",
       "      <td>40</td>\n",
       "      <td>Oklahoma</td>\n",
       "      <td>3918137.0</td>\n",
       "      <td>36.4</td>\n",
       "      <td>51424.0</td>\n",
       "      <td>27432.0</td>\n",
       "      <td>607810.0</td>\n",
       "      <td>15.512730</td>\n",
       "      <td>2.528931</td>\n",
       "    </tr>\n",
       "    <tr>\n",
       "      <th>14</th>\n",
       "      <td>41</td>\n",
       "      <td>Oregon</td>\n",
       "      <td>4081943.0</td>\n",
       "      <td>39.2</td>\n",
       "      <td>59393.0</td>\n",
       "      <td>32045.0</td>\n",
       "      <td>565247.0</td>\n",
       "      <td>13.847499</td>\n",
       "      <td>3.025152</td>\n",
       "    </tr>\n",
       "    <tr>\n",
       "      <th>15</th>\n",
       "      <td>42</td>\n",
       "      <td>Pennsylvania</td>\n",
       "      <td>12791181.0</td>\n",
       "      <td>40.7</td>\n",
       "      <td>59445.0</td>\n",
       "      <td>32889.0</td>\n",
       "      <td>1578949.0</td>\n",
       "      <td>12.344044</td>\n",
       "      <td>2.968960</td>\n",
       "    </tr>\n",
       "    <tr>\n",
       "      <th>16</th>\n",
       "      <td>44</td>\n",
       "      <td>Rhode Island</td>\n",
       "      <td>1056611.0</td>\n",
       "      <td>39.9</td>\n",
       "      <td>63296.0</td>\n",
       "      <td>34619.0</td>\n",
       "      <td>133055.0</td>\n",
       "      <td>12.592619</td>\n",
       "      <td>3.263169</td>\n",
       "    </tr>\n",
       "    <tr>\n",
       "      <th>17</th>\n",
       "      <td>45</td>\n",
       "      <td>South Carolina</td>\n",
       "      <td>4955925.0</td>\n",
       "      <td>39.2</td>\n",
       "      <td>51015.0</td>\n",
       "      <td>27986.0</td>\n",
       "      <td>770632.0</td>\n",
       "      <td>15.549711</td>\n",
       "      <td>3.092097</td>\n",
       "    </tr>\n",
       "    <tr>\n",
       "      <th>18</th>\n",
       "      <td>46</td>\n",
       "      <td>South Dakota</td>\n",
       "      <td>864289.0</td>\n",
       "      <td>36.8</td>\n",
       "      <td>56499.0</td>\n",
       "      <td>29801.0</td>\n",
       "      <td>113144.0</td>\n",
       "      <td>13.090992</td>\n",
       "      <td>1.880390</td>\n",
       "    </tr>\n",
       "    <tr>\n",
       "      <th>19</th>\n",
       "      <td>47</td>\n",
       "      <td>Tennessee</td>\n",
       "      <td>6651089.0</td>\n",
       "      <td>38.7</td>\n",
       "      <td>50972.0</td>\n",
       "      <td>28511.0</td>\n",
       "      <td>1046508.0</td>\n",
       "      <td>15.734386</td>\n",
       "      <td>2.879889</td>\n",
       "    </tr>\n",
       "    <tr>\n",
       "      <th>20</th>\n",
       "      <td>48</td>\n",
       "      <td>Texas</td>\n",
       "      <td>27885195.0</td>\n",
       "      <td>34.4</td>\n",
       "      <td>59570.0</td>\n",
       "      <td>30143.0</td>\n",
       "      <td>4213938.0</td>\n",
       "      <td>15.111739</td>\n",
       "      <td>2.664518</td>\n",
       "    </tr>\n",
       "    <tr>\n",
       "      <th>21</th>\n",
       "      <td>49</td>\n",
       "      <td>Utah</td>\n",
       "      <td>3045350.0</td>\n",
       "      <td>30.7</td>\n",
       "      <td>68374.0</td>\n",
       "      <td>28239.0</td>\n",
       "      <td>309904.0</td>\n",
       "      <td>10.176302</td>\n",
       "      <td>1.936001</td>\n",
       "    </tr>\n",
       "    <tr>\n",
       "      <th>22</th>\n",
       "      <td>50</td>\n",
       "      <td>Vermont</td>\n",
       "      <td>624977.0</td>\n",
       "      <td>42.9</td>\n",
       "      <td>60076.0</td>\n",
       "      <td>33238.0</td>\n",
       "      <td>67034.0</td>\n",
       "      <td>10.725835</td>\n",
       "      <td>2.220562</td>\n",
       "    </tr>\n",
       "    <tr>\n",
       "      <th>23</th>\n",
       "      <td>51</td>\n",
       "      <td>Virginia</td>\n",
       "      <td>8413774.0</td>\n",
       "      <td>38.1</td>\n",
       "      <td>71564.0</td>\n",
       "      <td>37763.0</td>\n",
       "      <td>893580.0</td>\n",
       "      <td>10.620442</td>\n",
       "      <td>2.587067</td>\n",
       "    </tr>\n",
       "    <tr>\n",
       "      <th>24</th>\n",
       "      <td>54</td>\n",
       "      <td>West Virginia</td>\n",
       "      <td>1829054.0</td>\n",
       "      <td>42.4</td>\n",
       "      <td>44921.0</td>\n",
       "      <td>25479.0</td>\n",
       "      <td>315464.0</td>\n",
       "      <td>17.247386</td>\n",
       "      <td>2.938678</td>\n",
       "    </tr>\n",
       "    <tr>\n",
       "      <th>25</th>\n",
       "      <td>53</td>\n",
       "      <td>Washington</td>\n",
       "      <td>7294336.0</td>\n",
       "      <td>37.6</td>\n",
       "      <td>70116.0</td>\n",
       "      <td>36888.0</td>\n",
       "      <td>821621.0</td>\n",
       "      <td>11.263822</td>\n",
       "      <td>2.718959</td>\n",
       "    </tr>\n",
       "    <tr>\n",
       "      <th>26</th>\n",
       "      <td>55</td>\n",
       "      <td>Wisconsin</td>\n",
       "      <td>5778394.0</td>\n",
       "      <td>39.3</td>\n",
       "      <td>59209.0</td>\n",
       "      <td>32018.0</td>\n",
       "      <td>668220.0</td>\n",
       "      <td>11.564113</td>\n",
       "      <td>2.159631</td>\n",
       "    </tr>\n",
       "    <tr>\n",
       "      <th>27</th>\n",
       "      <td>56</td>\n",
       "      <td>Wyoming</td>\n",
       "      <td>581836.0</td>\n",
       "      <td>37.3</td>\n",
       "      <td>62268.0</td>\n",
       "      <td>32295.0</td>\n",
       "      <td>63311.0</td>\n",
       "      <td>10.881245</td>\n",
       "      <td>2.352037</td>\n",
       "    </tr>\n",
       "    <tr>\n",
       "      <th>28</th>\n",
       "      <td>72</td>\n",
       "      <td>Puerto Rico</td>\n",
       "      <td>3386941.0</td>\n",
       "      <td>40.9</td>\n",
       "      <td>20166.0</td>\n",
       "      <td>12451.0</td>\n",
       "      <td>1495160.0</td>\n",
       "      <td>44.144849</td>\n",
       "      <td>6.198809</td>\n",
       "    </tr>\n",
       "    <tr>\n",
       "      <th>29</th>\n",
       "      <td>01</td>\n",
       "      <td>Alabama</td>\n",
       "      <td>4864680.0</td>\n",
       "      <td>38.9</td>\n",
       "      <td>48486.0</td>\n",
       "      <td>26846.0</td>\n",
       "      <td>829400.0</td>\n",
       "      <td>17.049426</td>\n",
       "      <td>3.040241</td>\n",
       "    </tr>\n",
       "    <tr>\n",
       "      <th>30</th>\n",
       "      <td>02</td>\n",
       "      <td>Alaska</td>\n",
       "      <td>738516.0</td>\n",
       "      <td>34.0</td>\n",
       "      <td>76715.0</td>\n",
       "      <td>35874.0</td>\n",
       "      <td>77865.0</td>\n",
       "      <td>10.543441</td>\n",
       "      <td>3.800459</td>\n",
       "    </tr>\n",
       "    <tr>\n",
       "      <th>31</th>\n",
       "      <td>04</td>\n",
       "      <td>Arizona</td>\n",
       "      <td>6946685.0</td>\n",
       "      <td>37.4</td>\n",
       "      <td>56213.0</td>\n",
       "      <td>29265.0</td>\n",
       "      <td>1092192.0</td>\n",
       "      <td>15.722492</td>\n",
       "      <td>3.026105</td>\n",
       "    </tr>\n",
       "    <tr>\n",
       "      <th>32</th>\n",
       "      <td>05</td>\n",
       "      <td>Arkansas</td>\n",
       "      <td>2990671.0</td>\n",
       "      <td>37.9</td>\n",
       "      <td>45726.0</td>\n",
       "      <td>25635.0</td>\n",
       "      <td>510337.0</td>\n",
       "      <td>17.064298</td>\n",
       "      <td>2.533679</td>\n",
       "    </tr>\n",
       "    <tr>\n",
       "      <th>33</th>\n",
       "      <td>06</td>\n",
       "      <td>California</td>\n",
       "      <td>39148760.0</td>\n",
       "      <td>36.3</td>\n",
       "      <td>71228.0</td>\n",
       "      <td>35021.0</td>\n",
       "      <td>5487141.0</td>\n",
       "      <td>14.016130</td>\n",
       "      <td>3.375591</td>\n",
       "    </tr>\n",
       "    <tr>\n",
       "      <th>34</th>\n",
       "      <td>08</td>\n",
       "      <td>Colorado</td>\n",
       "      <td>5531141.0</td>\n",
       "      <td>36.6</td>\n",
       "      <td>68811.0</td>\n",
       "      <td>36415.0</td>\n",
       "      <td>590504.0</td>\n",
       "      <td>10.675989</td>\n",
       "      <td>2.518938</td>\n",
       "    </tr>\n",
       "    <tr>\n",
       "      <th>35</th>\n",
       "      <td>09</td>\n",
       "      <td>Connecticut</td>\n",
       "      <td>3581504.0</td>\n",
       "      <td>40.8</td>\n",
       "      <td>76106.0</td>\n",
       "      <td>43056.0</td>\n",
       "      <td>348449.0</td>\n",
       "      <td>9.729125</td>\n",
       "      <td>3.515534</td>\n",
       "    </tr>\n",
       "    <tr>\n",
       "      <th>36</th>\n",
       "      <td>10</td>\n",
       "      <td>Delaware</td>\n",
       "      <td>949495.0</td>\n",
       "      <td>40.2</td>\n",
       "      <td>65627.0</td>\n",
       "      <td>33989.0</td>\n",
       "      <td>109798.0</td>\n",
       "      <td>11.563831</td>\n",
       "      <td>3.001701</td>\n",
       "    </tr>\n",
       "    <tr>\n",
       "      <th>37</th>\n",
       "      <td>11</td>\n",
       "      <td>District of Columbia</td>\n",
       "      <td>684498.0</td>\n",
       "      <td>33.9</td>\n",
       "      <td>82604.0</td>\n",
       "      <td>53321.0</td>\n",
       "      <td>109497.0</td>\n",
       "      <td>15.996687</td>\n",
       "      <td>4.291174</td>\n",
       "    </tr>\n",
       "    <tr>\n",
       "      <th>38</th>\n",
       "      <td>12</td>\n",
       "      <td>Florida</td>\n",
       "      <td>20598139.0</td>\n",
       "      <td>41.9</td>\n",
       "      <td>53267.0</td>\n",
       "      <td>30197.0</td>\n",
       "      <td>2983851.0</td>\n",
       "      <td>14.486022</td>\n",
       "      <td>3.024438</td>\n",
       "    </tr>\n",
       "    <tr>\n",
       "      <th>39</th>\n",
       "      <td>13</td>\n",
       "      <td>Georgia</td>\n",
       "      <td>10297484.0</td>\n",
       "      <td>36.5</td>\n",
       "      <td>55679.0</td>\n",
       "      <td>29523.0</td>\n",
       "      <td>1607714.0</td>\n",
       "      <td>15.612688</td>\n",
       "      <td>3.135271</td>\n",
       "    </tr>\n",
       "    <tr>\n",
       "      <th>40</th>\n",
       "      <td>16</td>\n",
       "      <td>Idaho</td>\n",
       "      <td>1687809.0</td>\n",
       "      <td>36.1</td>\n",
       "      <td>53089.0</td>\n",
       "      <td>26772.0</td>\n",
       "      <td>228882.0</td>\n",
       "      <td>13.560895</td>\n",
       "      <td>2.232006</td>\n",
       "    </tr>\n",
       "    <tr>\n",
       "      <th>41</th>\n",
       "      <td>15</td>\n",
       "      <td>Hawaii</td>\n",
       "      <td>1422029.0</td>\n",
       "      <td>38.9</td>\n",
       "      <td>78084.0</td>\n",
       "      <td>34035.0</td>\n",
       "      <td>137516.0</td>\n",
       "      <td>9.670408</td>\n",
       "      <td>2.252837</td>\n",
       "    </tr>\n",
       "    <tr>\n",
       "      <th>42</th>\n",
       "      <td>17</td>\n",
       "      <td>Illinois</td>\n",
       "      <td>12821497.0</td>\n",
       "      <td>37.9</td>\n",
       "      <td>63575.0</td>\n",
       "      <td>34463.0</td>\n",
       "      <td>1635603.0</td>\n",
       "      <td>12.756724</td>\n",
       "      <td>3.409422</td>\n",
       "    </tr>\n",
       "    <tr>\n",
       "      <th>43</th>\n",
       "      <td>18</td>\n",
       "      <td>Indiana</td>\n",
       "      <td>6637426.0</td>\n",
       "      <td>37.6</td>\n",
       "      <td>54325.0</td>\n",
       "      <td>28461.0</td>\n",
       "      <td>908359.0</td>\n",
       "      <td>13.685411</td>\n",
       "      <td>2.726494</td>\n",
       "    </tr>\n",
       "    <tr>\n",
       "      <th>44</th>\n",
       "      <td>19</td>\n",
       "      <td>Iowa</td>\n",
       "      <td>3132499.0</td>\n",
       "      <td>38.1</td>\n",
       "      <td>58580.0</td>\n",
       "      <td>31085.0</td>\n",
       "      <td>353634.0</td>\n",
       "      <td>11.289198</td>\n",
       "      <td>2.081916</td>\n",
       "    </tr>\n",
       "    <tr>\n",
       "      <th>45</th>\n",
       "      <td>20</td>\n",
       "      <td>Kansas</td>\n",
       "      <td>2908776.0</td>\n",
       "      <td>36.5</td>\n",
       "      <td>57422.0</td>\n",
       "      <td>30757.0</td>\n",
       "      <td>350280.0</td>\n",
       "      <td>12.042179</td>\n",
       "      <td>2.235923</td>\n",
       "    </tr>\n",
       "    <tr>\n",
       "      <th>46</th>\n",
       "      <td>21</td>\n",
       "      <td>Kentucky</td>\n",
       "      <td>4440204.0</td>\n",
       "      <td>38.7</td>\n",
       "      <td>48392.0</td>\n",
       "      <td>26948.0</td>\n",
       "      <td>772080.0</td>\n",
       "      <td>17.388390</td>\n",
       "      <td>2.890813</td>\n",
       "    </tr>\n",
       "    <tr>\n",
       "      <th>47</th>\n",
       "      <td>22</td>\n",
       "      <td>Louisiana</td>\n",
       "      <td>4663616.0</td>\n",
       "      <td>36.6</td>\n",
       "      <td>47942.0</td>\n",
       "      <td>27027.0</td>\n",
       "      <td>878394.0</td>\n",
       "      <td>18.835041</td>\n",
       "      <td>3.213172</td>\n",
       "    </tr>\n",
       "    <tr>\n",
       "      <th>48</th>\n",
       "      <td>23</td>\n",
       "      <td>Maine</td>\n",
       "      <td>1332813.0</td>\n",
       "      <td>44.6</td>\n",
       "      <td>55425.0</td>\n",
       "      <td>31253.0</td>\n",
       "      <td>161743.0</td>\n",
       "      <td>12.135461</td>\n",
       "      <td>2.416168</td>\n",
       "    </tr>\n",
       "    <tr>\n",
       "      <th>49</th>\n",
       "      <td>24</td>\n",
       "      <td>Maryland</td>\n",
       "      <td>6003435.0</td>\n",
       "      <td>38.6</td>\n",
       "      <td>81868.0</td>\n",
       "      <td>40517.0</td>\n",
       "      <td>553496.0</td>\n",
       "      <td>9.219655</td>\n",
       "      <td>3.016423</td>\n",
       "    </tr>\n",
       "    <tr>\n",
       "      <th>50</th>\n",
       "      <td>25</td>\n",
       "      <td>Massachusetts</td>\n",
       "      <td>6830193.0</td>\n",
       "      <td>39.4</td>\n",
       "      <td>77378.0</td>\n",
       "      <td>41794.0</td>\n",
       "      <td>710305.0</td>\n",
       "      <td>10.399487</td>\n",
       "      <td>2.978891</td>\n",
       "    </tr>\n",
       "    <tr>\n",
       "      <th>51</th>\n",
       "      <td>26</td>\n",
       "      <td>Michigan</td>\n",
       "      <td>9957488.0</td>\n",
       "      <td>39.7</td>\n",
       "      <td>54938.0</td>\n",
       "      <td>30336.0</td>\n",
       "      <td>1457008.0</td>\n",
       "      <td>14.632285</td>\n",
       "      <td>3.223785</td>\n",
       "    </tr>\n",
       "  </tbody>\n",
       "</table>\n",
       "</div>"
      ],
      "text/plain": [
       "   State                  Name  Population  Median Age  Household Income  \\\n",
       "0     27             Minnesota   5527358.0        37.9           68411.0   \n",
       "1     28           Mississippi   2988762.0        37.2           43567.0   \n",
       "2     29              Missouri   6090062.0        38.5           53560.0   \n",
       "3     30               Montana   1041732.0        39.8           52559.0   \n",
       "4     31              Nebraska   1904760.0        36.4           59116.0   \n",
       "5     32                Nevada   2922849.0        37.9           57598.0   \n",
       "6     33         New Hampshire   1343622.0        42.7           74057.0   \n",
       "7     34            New Jersey   8881845.0        39.8           79363.0   \n",
       "8     35            New Mexico   2092434.0        37.5           48059.0   \n",
       "9     36              New York  19618453.0        38.7           65323.0   \n",
       "10    37        North Carolina  10155624.0        38.6           52413.0   \n",
       "11    38          North Dakota    752201.0        35.1           63473.0   \n",
       "12    39                  Ohio  11641879.0        39.3           54533.0   \n",
       "13    40              Oklahoma   3918137.0        36.4           51424.0   \n",
       "14    41                Oregon   4081943.0        39.2           59393.0   \n",
       "15    42          Pennsylvania  12791181.0        40.7           59445.0   \n",
       "16    44          Rhode Island   1056611.0        39.9           63296.0   \n",
       "17    45        South Carolina   4955925.0        39.2           51015.0   \n",
       "18    46          South Dakota    864289.0        36.8           56499.0   \n",
       "19    47             Tennessee   6651089.0        38.7           50972.0   \n",
       "20    48                 Texas  27885195.0        34.4           59570.0   \n",
       "21    49                  Utah   3045350.0        30.7           68374.0   \n",
       "22    50               Vermont    624977.0        42.9           60076.0   \n",
       "23    51              Virginia   8413774.0        38.1           71564.0   \n",
       "24    54         West Virginia   1829054.0        42.4           44921.0   \n",
       "25    53            Washington   7294336.0        37.6           70116.0   \n",
       "26    55             Wisconsin   5778394.0        39.3           59209.0   \n",
       "27    56               Wyoming    581836.0        37.3           62268.0   \n",
       "28    72           Puerto Rico   3386941.0        40.9           20166.0   \n",
       "29    01               Alabama   4864680.0        38.9           48486.0   \n",
       "30    02                Alaska    738516.0        34.0           76715.0   \n",
       "31    04               Arizona   6946685.0        37.4           56213.0   \n",
       "32    05              Arkansas   2990671.0        37.9           45726.0   \n",
       "33    06            California  39148760.0        36.3           71228.0   \n",
       "34    08              Colorado   5531141.0        36.6           68811.0   \n",
       "35    09           Connecticut   3581504.0        40.8           76106.0   \n",
       "36    10              Delaware    949495.0        40.2           65627.0   \n",
       "37    11  District of Columbia    684498.0        33.9           82604.0   \n",
       "38    12               Florida  20598139.0        41.9           53267.0   \n",
       "39    13               Georgia  10297484.0        36.5           55679.0   \n",
       "40    16                 Idaho   1687809.0        36.1           53089.0   \n",
       "41    15                Hawaii   1422029.0        38.9           78084.0   \n",
       "42    17              Illinois  12821497.0        37.9           63575.0   \n",
       "43    18               Indiana   6637426.0        37.6           54325.0   \n",
       "44    19                  Iowa   3132499.0        38.1           58580.0   \n",
       "45    20                Kansas   2908776.0        36.5           57422.0   \n",
       "46    21              Kentucky   4440204.0        38.7           48392.0   \n",
       "47    22             Louisiana   4663616.0        36.6           47942.0   \n",
       "48    23                 Maine   1332813.0        44.6           55425.0   \n",
       "49    24              Maryland   6003435.0        38.6           81868.0   \n",
       "50    25         Massachusetts   6830193.0        39.4           77378.0   \n",
       "51    26              Michigan   9957488.0        39.7           54938.0   \n",
       "\n",
       "    Per Capita Income  Poverty Count  Poverty Rate  Unemployment Rate  \n",
       "0             36245.0       547442.0      9.904225           2.156871  \n",
       "1             23434.0       599795.0     20.068343           3.681658  \n",
       "2             29537.0       837930.0     13.758973           2.560861  \n",
       "3             29765.0       139063.0     13.349211           2.153433  \n",
       "4             31101.0       213790.0     11.223986           1.918614  \n",
       "5             29961.0       393431.0     13.460531           3.481124  \n",
       "6             38548.0       102352.0      7.617619           2.261946  \n",
       "7             40895.0       904132.0     10.179552           3.209739  \n",
       "8             26085.0       410389.0     19.612996           3.267487  \n",
       "9             37470.0      2797985.0     14.262006           3.071781  \n",
       "10            29456.0      1523949.0     15.005961           3.078196  \n",
       "11            35373.0        79270.0     10.538407           1.553973  \n",
       "12            30304.0      1645986.0     14.138491           2.948253  \n",
       "13            27432.0       607810.0     15.512730           2.528931  \n",
       "14            32045.0       565247.0     13.847499           3.025152  \n",
       "15            32889.0      1578949.0     12.344044           2.968960  \n",
       "16            34619.0       133055.0     12.592619           3.263169  \n",
       "17            27986.0       770632.0     15.549711           3.092097  \n",
       "18            29801.0       113144.0     13.090992           1.880390  \n",
       "19            28511.0      1046508.0     15.734386           2.879889  \n",
       "20            30143.0      4213938.0     15.111739           2.664518  \n",
       "21            28239.0       309904.0     10.176302           1.936001  \n",
       "22            33238.0        67034.0     10.725835           2.220562  \n",
       "23            37763.0       893580.0     10.620442           2.587067  \n",
       "24            25479.0       315464.0     17.247386           2.938678  \n",
       "25            36888.0       821621.0     11.263822           2.718959  \n",
       "26            32018.0       668220.0     11.564113           2.159631  \n",
       "27            32295.0        63311.0     10.881245           2.352037  \n",
       "28            12451.0      1495160.0     44.144849           6.198809  \n",
       "29            26846.0       829400.0     17.049426           3.040241  \n",
       "30            35874.0        77865.0     10.543441           3.800459  \n",
       "31            29265.0      1092192.0     15.722492           3.026105  \n",
       "32            25635.0       510337.0     17.064298           2.533679  \n",
       "33            35021.0      5487141.0     14.016130           3.375591  \n",
       "34            36415.0       590504.0     10.675989           2.518938  \n",
       "35            43056.0       348449.0      9.729125           3.515534  \n",
       "36            33989.0       109798.0     11.563831           3.001701  \n",
       "37            53321.0       109497.0     15.996687           4.291174  \n",
       "38            30197.0      2983851.0     14.486022           3.024438  \n",
       "39            29523.0      1607714.0     15.612688           3.135271  \n",
       "40            26772.0       228882.0     13.560895           2.232006  \n",
       "41            34035.0       137516.0      9.670408           2.252837  \n",
       "42            34463.0      1635603.0     12.756724           3.409422  \n",
       "43            28461.0       908359.0     13.685411           2.726494  \n",
       "44            31085.0       353634.0     11.289198           2.081916  \n",
       "45            30757.0       350280.0     12.042179           2.235923  \n",
       "46            26948.0       772080.0     17.388390           2.890813  \n",
       "47            27027.0       878394.0     18.835041           3.213172  \n",
       "48            31253.0       161743.0     12.135461           2.416168  \n",
       "49            40517.0       553496.0      9.219655           3.016423  \n",
       "50            41794.0       710305.0     10.399487           2.978891  \n",
       "51            30336.0      1457008.0     14.632285           3.223785  "
      ]
     },
     "execution_count": 3,
     "metadata": {},
     "output_type": "execute_result"
    }
   ],
   "source": [
    "# Run Census Search to retrieve data on all states\n",
    "# Note the addition of \"B23025_005E\" for unemployment count\n",
    "census_data = c.acs5.get((\"NAME\", \"B19013_001E\", \"B01003_001E\", \"B01002_001E\",\n",
    "                          \"B19301_001E\",\n",
    "                          \"B17001_002E\",\n",
    "                          \"B23025_005E\"), {'for': 'state:*'})\n",
    "\n",
    "# Convert to DataFrame\n",
    "census_pd = pd.DataFrame(census_data)\n",
    "\n",
    "# Column Reordering\n",
    "census_pd = census_pd.rename(columns={\"B01003_001E\": \"Population\",\n",
    "                                      \"B01002_001E\": \"Median Age\",\n",
    "                                      \"B19013_001E\": \"Household Income\",\n",
    "                                      \"B19301_001E\": \"Per Capita Income\",\n",
    "                                      \"B17001_002E\": \"Poverty Count\",\n",
    "                                      \"B23025_005E\": \"Unemployment Count\",\n",
    "                                      \"NAME\": \"Name\", \"state\": \"State\"})\n",
    "\n",
    "# Add in Poverty Rate (Poverty Count / Population)\n",
    "census_pd[\"Poverty Rate\"] = 100 * \\\n",
    "    census_pd[\"Poverty Count\"].astype(\n",
    "        int) / census_pd[\"Population\"].astype(int)\n",
    "\n",
    "# Add in Employment Rate (Employment Count / Population)\n",
    "census_pd[\"Unemployment Rate\"] = 100 * \\\n",
    "    census_pd[\"Unemployment Count\"].astype(\n",
    "        int) / census_pd[\"Population\"].astype(int)\n",
    "\n",
    "# Final DataFrame\n",
    "census_pd = census_pd[[\"State\", \"Name\", \"Population\", \"Median Age\", \"Household Income\",\n",
    "                       \"Per Capita Income\", \"Poverty Count\", \"Poverty Rate\", \"Unemployment Rate\"]]\n",
    "\n",
    "census_pd"
   ]
  },
  {
   "cell_type": "code",
   "execution_count": 4,
   "metadata": {},
   "outputs": [
    {
     "data": {
      "text/html": [
       "<div>\n",
       "<style scoped>\n",
       "    .dataframe tbody tr th:only-of-type {\n",
       "        vertical-align: middle;\n",
       "    }\n",
       "\n",
       "    .dataframe tbody tr th {\n",
       "        vertical-align: top;\n",
       "    }\n",
       "\n",
       "    .dataframe thead th {\n",
       "        text-align: right;\n",
       "    }\n",
       "</style>\n",
       "<table border=\"1\" class=\"dataframe\">\n",
       "  <thead>\n",
       "    <tr style=\"text-align: right;\">\n",
       "      <th></th>\n",
       "      <th>State</th>\n",
       "      <th>Name</th>\n",
       "      <th>Population</th>\n",
       "      <th>Median Age</th>\n",
       "      <th>Household Income</th>\n",
       "      <th>Per Capita Income</th>\n",
       "      <th>Poverty Count</th>\n",
       "      <th>Poverty Rate</th>\n",
       "      <th>Unemployment Rate</th>\n",
       "      <th>abbreviation</th>\n",
       "    </tr>\n",
       "  </thead>\n",
       "  <tbody>\n",
       "    <tr>\n",
       "      <th>0</th>\n",
       "      <td>27</td>\n",
       "      <td>Minnesota</td>\n",
       "      <td>5527358.0</td>\n",
       "      <td>37.9</td>\n",
       "      <td>68411.0</td>\n",
       "      <td>36245.0</td>\n",
       "      <td>547442.0</td>\n",
       "      <td>9.904225</td>\n",
       "      <td>2.156871</td>\n",
       "      <td>MN</td>\n",
       "    </tr>\n",
       "    <tr>\n",
       "      <th>1</th>\n",
       "      <td>28</td>\n",
       "      <td>Mississippi</td>\n",
       "      <td>2988762.0</td>\n",
       "      <td>37.2</td>\n",
       "      <td>43567.0</td>\n",
       "      <td>23434.0</td>\n",
       "      <td>599795.0</td>\n",
       "      <td>20.068343</td>\n",
       "      <td>3.681658</td>\n",
       "      <td>MS</td>\n",
       "    </tr>\n",
       "    <tr>\n",
       "      <th>2</th>\n",
       "      <td>29</td>\n",
       "      <td>Missouri</td>\n",
       "      <td>6090062.0</td>\n",
       "      <td>38.5</td>\n",
       "      <td>53560.0</td>\n",
       "      <td>29537.0</td>\n",
       "      <td>837930.0</td>\n",
       "      <td>13.758973</td>\n",
       "      <td>2.560861</td>\n",
       "      <td>MO</td>\n",
       "    </tr>\n",
       "    <tr>\n",
       "      <th>3</th>\n",
       "      <td>30</td>\n",
       "      <td>Montana</td>\n",
       "      <td>1041732.0</td>\n",
       "      <td>39.8</td>\n",
       "      <td>52559.0</td>\n",
       "      <td>29765.0</td>\n",
       "      <td>139063.0</td>\n",
       "      <td>13.349211</td>\n",
       "      <td>2.153433</td>\n",
       "      <td>MT</td>\n",
       "    </tr>\n",
       "    <tr>\n",
       "      <th>4</th>\n",
       "      <td>31</td>\n",
       "      <td>Nebraska</td>\n",
       "      <td>1904760.0</td>\n",
       "      <td>36.4</td>\n",
       "      <td>59116.0</td>\n",
       "      <td>31101.0</td>\n",
       "      <td>213790.0</td>\n",
       "      <td>11.223986</td>\n",
       "      <td>1.918614</td>\n",
       "      <td>NE</td>\n",
       "    </tr>\n",
       "  </tbody>\n",
       "</table>\n",
       "</div>"
      ],
      "text/plain": [
       "  State         Name  Population  Median Age  Household Income  \\\n",
       "0    27    Minnesota   5527358.0        37.9           68411.0   \n",
       "1    28  Mississippi   2988762.0        37.2           43567.0   \n",
       "2    29     Missouri   6090062.0        38.5           53560.0   \n",
       "3    30      Montana   1041732.0        39.8           52559.0   \n",
       "4    31     Nebraska   1904760.0        36.4           59116.0   \n",
       "\n",
       "   Per Capita Income  Poverty Count  Poverty Rate  Unemployment Rate  \\\n",
       "0            36245.0       547442.0      9.904225           2.156871   \n",
       "1            23434.0       599795.0     20.068343           3.681658   \n",
       "2            29537.0       837930.0     13.758973           2.560861   \n",
       "3            29765.0       139063.0     13.349211           2.153433   \n",
       "4            31101.0       213790.0     11.223986           1.918614   \n",
       "\n",
       "  abbreviation  \n",
       "0           MN  \n",
       "1           MS  \n",
       "2           MO  \n",
       "3           MT  \n",
       "4           NE  "
      ]
     },
     "execution_count": 4,
     "metadata": {},
     "output_type": "execute_result"
    }
   ],
   "source": [
    "states_df = pd.read_csv(\"state-abbrevs.csv\")\n",
    "states_df.rename(columns={\"state\": \"Name\"}, inplace=True)\n",
    "states_df.head()\n",
    "\n",
    "merge_table = pd.merge(census_pd, states_df, on=\"Name\")\n",
    "merge_table.head()"
   ]
  },
  {
   "cell_type": "code",
   "execution_count": 5,
   "metadata": {},
   "outputs": [
    {
     "data": {
      "text/html": [
       "<style  type=\"text/css\" >\n",
       "    #T_53138192_9cc6_11ea_8648_28c63f94f556row0_col2 {\n",
       "            background-color:  #deebf7;\n",
       "        }    #T_53138192_9cc6_11ea_8648_28c63f94f556row0_col3 {\n",
       "            background-color:  #65aad4;\n",
       "        }    #T_53138192_9cc6_11ea_8648_28c63f94f556row0_col4 {\n",
       "            background-color:  #1c6bb0;\n",
       "        }    #T_53138192_9cc6_11ea_8648_28c63f94f556row0_col5 {\n",
       "            background-color:  #4f9bcb;\n",
       "        }    #T_53138192_9cc6_11ea_8648_28c63f94f556row0_col6 {\n",
       "            background-color:  #e6f0f9;\n",
       "        }    #T_53138192_9cc6_11ea_8648_28c63f94f556row0_col7 {\n",
       "            background-color:  #eaf3fb;\n",
       "        }    #T_53138192_9cc6_11ea_8648_28c63f94f556row0_col8 {\n",
       "            background-color:  #ddeaf7;\n",
       "        }    #T_53138192_9cc6_11ea_8648_28c63f94f556row1_col2 {\n",
       "            background-color:  #ebf3fb;\n",
       "        }    #T_53138192_9cc6_11ea_8648_28c63f94f556row1_col3 {\n",
       "            background-color:  #79b5d9;\n",
       "        }    #T_53138192_9cc6_11ea_8648_28c63f94f556row1_col4 {\n",
       "            background-color:  #9fcae1;\n",
       "        }    #T_53138192_9cc6_11ea_8648_28c63f94f556row1_col5 {\n",
       "            background-color:  #c1d9ed;\n",
       "        }    #T_53138192_9cc6_11ea_8648_28c63f94f556row1_col6 {\n",
       "            background-color:  #e3eef9;\n",
       "        }    #T_53138192_9cc6_11ea_8648_28c63f94f556row1_col7 {\n",
       "            background-color:  #a9cfe5;\n",
       "        }    #T_53138192_9cc6_11ea_8648_28c63f94f556row1_col8 {\n",
       "            background-color:  #7cb7da;\n",
       "        }    #T_53138192_9cc6_11ea_8648_28c63f94f556row2_col2 {\n",
       "            background-color:  #dbe9f6;\n",
       "        }    #T_53138192_9cc6_11ea_8648_28c63f94f556row2_col3 {\n",
       "            background-color:  #57a0ce;\n",
       "        }    #T_53138192_9cc6_11ea_8648_28c63f94f556row2_col4 {\n",
       "            background-color:  #60a7d2;\n",
       "        }    #T_53138192_9cc6_11ea_8648_28c63f94f556row2_col5 {\n",
       "            background-color:  #8cc0dd;\n",
       "        }    #T_53138192_9cc6_11ea_8648_28c63f94f556row2_col6 {\n",
       "            background-color:  #dbe9f6;\n",
       "        }    #T_53138192_9cc6_11ea_8648_28c63f94f556row2_col7 {\n",
       "            background-color:  #d6e5f4;\n",
       "        }    #T_53138192_9cc6_11ea_8648_28c63f94f556row2_col8 {\n",
       "            background-color:  #cddff1;\n",
       "        }    #T_53138192_9cc6_11ea_8648_28c63f94f556row3_col2 {\n",
       "            background-color:  #f5f9fe;\n",
       "        }    #T_53138192_9cc6_11ea_8648_28c63f94f556row3_col3 {\n",
       "            background-color:  #3a8ac2;\n",
       "        }    #T_53138192_9cc6_11ea_8648_28c63f94f556row3_col4 {\n",
       "            background-color:  #65aad4;\n",
       "        }    #T_53138192_9cc6_11ea_8648_28c63f94f556row3_col5 {\n",
       "            background-color:  #8abfdd;\n",
       "        }    #T_53138192_9cc6_11ea_8648_28c63f94f556row3_col6 {\n",
       "            background-color:  #f5f9fe;\n",
       "        }    #T_53138192_9cc6_11ea_8648_28c63f94f556row3_col7 {\n",
       "            background-color:  #d8e7f5;\n",
       "        }    #T_53138192_9cc6_11ea_8648_28c63f94f556row3_col8 {\n",
       "            background-color:  #ddeaf7;\n",
       "        }    #T_53138192_9cc6_11ea_8648_28c63f94f556row4_col2 {\n",
       "            background-color:  #f1f7fd;\n",
       "        }    #T_53138192_9cc6_11ea_8648_28c63f94f556row4_col3 {\n",
       "            background-color:  #91c3de;\n",
       "        }    #T_53138192_9cc6_11ea_8648_28c63f94f556row4_col4 {\n",
       "            background-color:  #4292c6;\n",
       "        }    #T_53138192_9cc6_11ea_8648_28c63f94f556row4_col5 {\n",
       "            background-color:  #7db8da;\n",
       "        }    #T_53138192_9cc6_11ea_8648_28c63f94f556row4_col6 {\n",
       "            background-color:  #f2f7fd;\n",
       "        }    #T_53138192_9cc6_11ea_8648_28c63f94f556row4_col7 {\n",
       "            background-color:  #e3eef9;\n",
       "        }    #T_53138192_9cc6_11ea_8648_28c63f94f556row4_col8 {\n",
       "            background-color:  #e7f1fa;\n",
       "        }    #T_53138192_9cc6_11ea_8648_28c63f94f556row5_col2 {\n",
       "            background-color:  #ebf3fb;\n",
       "        }    #T_53138192_9cc6_11ea_8648_28c63f94f556row5_col3 {\n",
       "            background-color:  #65aad4;\n",
       "        }    #T_53138192_9cc6_11ea_8648_28c63f94f556row5_col4 {\n",
       "            background-color:  #4a98c9;\n",
       "        }    #T_53138192_9cc6_11ea_8648_28c63f94f556row5_col5 {\n",
       "            background-color:  #89bedc;\n",
       "        }    #T_53138192_9cc6_11ea_8648_28c63f94f556row5_col6 {\n",
       "            background-color:  #ebf3fb;\n",
       "        }    #T_53138192_9cc6_11ea_8648_28c63f94f556row5_col7 {\n",
       "            background-color:  #d8e7f5;\n",
       "        }    #T_53138192_9cc6_11ea_8648_28c63f94f556row5_col8 {\n",
       "            background-color:  #8dc1dd;\n",
       "        }    #T_53138192_9cc6_11ea_8648_28c63f94f556row6_col2 {\n",
       "            background-color:  #f3f8fe;\n",
       "        }    #T_53138192_9cc6_11ea_8648_28c63f94f556row6_col3 {\n",
       "            background-color:  #0a539e;\n",
       "        }    #T_53138192_9cc6_11ea_8648_28c63f94f556row6_col4 {\n",
       "            background-color:  #0a549e;\n",
       "        }    #T_53138192_9cc6_11ea_8648_28c63f94f556row6_col5 {\n",
       "            background-color:  #3e8ec4;\n",
       "        }    #T_53138192_9cc6_11ea_8648_28c63f94f556row6_col6 {\n",
       "            background-color:  #f6faff;\n",
       "        }    #T_53138192_9cc6_11ea_8648_28c63f94f556row6_col7 {\n",
       "            background-color:  #f7fbff;\n",
       "        }    #T_53138192_9cc6_11ea_8648_28c63f94f556row6_col8 {\n",
       "            background-color:  #d9e7f5;\n",
       "        }    #T_53138192_9cc6_11ea_8648_28c63f94f556row7_col2 {\n",
       "            background-color:  #cddff1;\n",
       "        }    #T_53138192_9cc6_11ea_8648_28c63f94f556row7_col3 {\n",
       "            background-color:  #3a8ac2;\n",
       "        }    #T_53138192_9cc6_11ea_8648_28c63f94f556row7_col4 {\n",
       "            background-color:  #083d7f;\n",
       "        }    #T_53138192_9cc6_11ea_8648_28c63f94f556row7_col5 {\n",
       "            background-color:  #2f7fbc;\n",
       "        }    #T_53138192_9cc6_11ea_8648_28c63f94f556row7_col6 {\n",
       "            background-color:  #d9e7f5;\n",
       "        }    #T_53138192_9cc6_11ea_8648_28c63f94f556row7_col7 {\n",
       "            background-color:  #eaf2fb;\n",
       "        }    #T_53138192_9cc6_11ea_8648_28c63f94f556row7_col8 {\n",
       "            background-color:  #a4cce3;\n",
       "        }    #T_53138192_9cc6_11ea_8648_28c63f94f556row8_col2 {\n",
       "            background-color:  #eff6fc;\n",
       "        }    #T_53138192_9cc6_11ea_8648_28c63f94f556row8_col3 {\n",
       "            background-color:  #6fb0d7;\n",
       "        }    #T_53138192_9cc6_11ea_8648_28c63f94f556row8_col4 {\n",
       "            background-color:  #81badb;\n",
       "        }    #T_53138192_9cc6_11ea_8648_28c63f94f556row8_col5 {\n",
       "            background-color:  #abd0e6;\n",
       "        }    #T_53138192_9cc6_11ea_8648_28c63f94f556row8_col6 {\n",
       "            background-color:  #eaf3fb;\n",
       "        }    #T_53138192_9cc6_11ea_8648_28c63f94f556row8_col7 {\n",
       "            background-color:  #add0e6;\n",
       "        }    #T_53138192_9cc6_11ea_8648_28c63f94f556row8_col8 {\n",
       "            background-color:  #a0cbe2;\n",
       "        }    #T_53138192_9cc6_11ea_8648_28c63f94f556row9_col2 {\n",
       "            background-color:  #6dafd7;\n",
       "        }    #T_53138192_9cc6_11ea_8648_28c63f94f556row9_col3 {\n",
       "            background-color:  #529dcc;\n",
       "        }    #T_53138192_9cc6_11ea_8648_28c63f94f556row9_col4 {\n",
       "            background-color:  #2777b8;\n",
       "        }    #T_53138192_9cc6_11ea_8648_28c63f94f556row9_col5 {\n",
       "            background-color:  #4695c8;\n",
       "        }    #T_53138192_9cc6_11ea_8648_28c63f94f556row9_col6 {\n",
       "            background-color:  #69add5;\n",
       "        }    #T_53138192_9cc6_11ea_8648_28c63f94f556row9_col7 {\n",
       "            background-color:  #d3e4f3;\n",
       "        }    #T_53138192_9cc6_11ea_8648_28c63f94f556row9_col8 {\n",
       "            background-color:  #aed1e7;\n",
       "        }    #T_53138192_9cc6_11ea_8648_28c63f94f556row10_col2 {\n",
       "            background-color:  #c7dbef;\n",
       "        }    #T_53138192_9cc6_11ea_8648_28c63f94f556row10_col3 {\n",
       "            background-color:  #549fcd;\n",
       "        }    #T_53138192_9cc6_11ea_8648_28c63f94f556row10_col4 {\n",
       "            background-color:  #65aad4;\n",
       "        }    #T_53138192_9cc6_11ea_8648_28c63f94f556row10_col5 {\n",
       "            background-color:  #8dc1dd;\n",
       "        }    #T_53138192_9cc6_11ea_8648_28c63f94f556row10_col6 {\n",
       "            background-color:  #c1d9ed;\n",
       "        }    #T_53138192_9cc6_11ea_8648_28c63f94f556row10_col7 {\n",
       "            background-color:  #d0e1f2;\n",
       "        }    #T_53138192_9cc6_11ea_8648_28c63f94f556row10_col8 {\n",
       "            background-color:  #add0e6;\n",
       "        }    #T_53138192_9cc6_11ea_8648_28c63f94f556row11_col2 {\n",
       "            background-color:  #f6faff;\n",
       "        }    #T_53138192_9cc6_11ea_8648_28c63f94f556row11_col3 {\n",
       "            background-color:  #b0d2e7;\n",
       "        }    #T_53138192_9cc6_11ea_8648_28c63f94f556row11_col4 {\n",
       "            background-color:  #3080bd;\n",
       "        }    #T_53138192_9cc6_11ea_8648_28c63f94f556row11_col5 {\n",
       "            background-color:  #57a0ce;\n",
       "        }    #T_53138192_9cc6_11ea_8648_28c63f94f556row11_col6 {\n",
       "            background-color:  #f7fbff;\n",
       "        }    #T_53138192_9cc6_11ea_8648_28c63f94f556row11_col7 {\n",
       "            background-color:  #e7f1fa;\n",
       "        }    #T_53138192_9cc6_11ea_8648_28c63f94f556row11_col8 {\n",
       "            background-color:  #f7fbff;\n",
       "        }    #T_53138192_9cc6_11ea_8648_28c63f94f556row12_col2 {\n",
       "            background-color:  #bad6eb;\n",
       "        }    #T_53138192_9cc6_11ea_8648_28c63f94f556row12_col3 {\n",
       "            background-color:  #4493c7;\n",
       "        }    #T_53138192_9cc6_11ea_8648_28c63f94f556row12_col4 {\n",
       "            background-color:  #5ba3d0;\n",
       "        }    #T_53138192_9cc6_11ea_8648_28c63f94f556row12_col5 {\n",
       "            background-color:  #85bcdc;\n",
       "        }    #T_53138192_9cc6_11ea_8648_28c63f94f556row12_col6 {\n",
       "            background-color:  #b9d6ea;\n",
       "        }    #T_53138192_9cc6_11ea_8648_28c63f94f556row12_col7 {\n",
       "            background-color:  #d4e4f4;\n",
       "        }    #T_53138192_9cc6_11ea_8648_28c63f94f556row12_col8 {\n",
       "            background-color:  #b7d4ea;\n",
       "        }    #T_53138192_9cc6_11ea_8648_28c63f94f556row13_col2 {\n",
       "            background-color:  #e6f0f9;\n",
       "        }    #T_53138192_9cc6_11ea_8648_28c63f94f556row13_col3 {\n",
       "            background-color:  #91c3de;\n",
       "        }    #T_53138192_9cc6_11ea_8648_28c63f94f556row13_col4 {\n",
       "            background-color:  #6aaed6;\n",
       "        }    #T_53138192_9cc6_11ea_8648_28c63f94f556row13_col5 {\n",
       "            background-color:  #a1cbe2;\n",
       "        }    #T_53138192_9cc6_11ea_8648_28c63f94f556row13_col6 {\n",
       "            background-color:  #e3eef9;\n",
       "        }    #T_53138192_9cc6_11ea_8648_28c63f94f556row13_col7 {\n",
       "            background-color:  #cddff1;\n",
       "        }    #T_53138192_9cc6_11ea_8648_28c63f94f556row13_col8 {\n",
       "            background-color:  #cee0f2;\n",
       "        }    #T_53138192_9cc6_11ea_8648_28c63f94f556row14_col2 {\n",
       "            background-color:  #e5eff9;\n",
       "        }    #T_53138192_9cc6_11ea_8648_28c63f94f556row14_col3 {\n",
       "            background-color:  #4695c8;\n",
       "        }    #T_53138192_9cc6_11ea_8648_28c63f94f556row14_col4 {\n",
       "            background-color:  #4191c6;\n",
       "        }    #T_53138192_9cc6_11ea_8648_28c63f94f556row14_col5 {\n",
       "            background-color:  #74b3d8;\n",
       "        }    #T_53138192_9cc6_11ea_8648_28c63f94f556row14_col6 {\n",
       "            background-color:  #e5eff9;\n",
       "        }    #T_53138192_9cc6_11ea_8648_28c63f94f556row14_col7 {\n",
       "            background-color:  #d6e5f4;\n",
       "        }    #T_53138192_9cc6_11ea_8648_28c63f94f556row14_col8 {\n",
       "            background-color:  #b0d2e7;\n",
       "        }    #T_53138192_9cc6_11ea_8648_28c63f94f556row15_col2 {\n",
       "            background-color:  #b0d2e7;\n",
       "        }    #T_53138192_9cc6_11ea_8648_28c63f94f556row15_col3 {\n",
       "            background-color:  #2979b9;\n",
       "        }    #T_53138192_9cc6_11ea_8648_28c63f94f556row15_col4 {\n",
       "            background-color:  #4090c5;\n",
       "        }    #T_53138192_9cc6_11ea_8648_28c63f94f556row15_col5 {\n",
       "            background-color:  #6aaed6;\n",
       "        }    #T_53138192_9cc6_11ea_8648_28c63f94f556row15_col6 {\n",
       "            background-color:  #bdd7ec;\n",
       "        }    #T_53138192_9cc6_11ea_8648_28c63f94f556row15_col7 {\n",
       "            background-color:  #ddeaf7;\n",
       "        }    #T_53138192_9cc6_11ea_8648_28c63f94f556row15_col8 {\n",
       "            background-color:  #b5d4e9;\n",
       "        }    #T_53138192_9cc6_11ea_8648_28c63f94f556row16_col2 {\n",
       "            background-color:  #f5f9fe;\n",
       "        }    #T_53138192_9cc6_11ea_8648_28c63f94f556row16_col3 {\n",
       "            background-color:  #3888c1;\n",
       "        }    #T_53138192_9cc6_11ea_8648_28c63f94f556row16_col4 {\n",
       "            background-color:  #3181bd;\n",
       "        }    #T_53138192_9cc6_11ea_8648_28c63f94f556row16_col5 {\n",
       "            background-color:  #5da5d1;\n",
       "        }    #T_53138192_9cc6_11ea_8648_28c63f94f556row16_col6 {\n",
       "            background-color:  #f5f9fe;\n",
       "        }    #T_53138192_9cc6_11ea_8648_28c63f94f556row16_col7 {\n",
       "            background-color:  #dceaf6;\n",
       "        }    #T_53138192_9cc6_11ea_8648_28c63f94f556row16_col8 {\n",
       "            background-color:  #a0cbe2;\n",
       "        }    #T_53138192_9cc6_11ea_8648_28c63f94f556row17_col2 {\n",
       "            background-color:  #e0ecf8;\n",
       "        }    #T_53138192_9cc6_11ea_8648_28c63f94f556row17_col3 {\n",
       "            background-color:  #4695c8;\n",
       "        }    #T_53138192_9cc6_11ea_8648_28c63f94f556row17_col4 {\n",
       "            background-color:  #6dafd7;\n",
       "        }    #T_53138192_9cc6_11ea_8648_28c63f94f556row17_col5 {\n",
       "            background-color:  #9cc9e1;\n",
       "        }    #T_53138192_9cc6_11ea_8648_28c63f94f556row17_col6 {\n",
       "            background-color:  #ddeaf7;\n",
       "        }    #T_53138192_9cc6_11ea_8648_28c63f94f556row17_col7 {\n",
       "            background-color:  #cddff1;\n",
       "        }    #T_53138192_9cc6_11ea_8648_28c63f94f556row17_col8 {\n",
       "            background-color:  #add0e6;\n",
       "        }    #T_53138192_9cc6_11ea_8648_28c63f94f556row18_col2 {\n",
       "            background-color:  #f6faff;\n",
       "        }    #T_53138192_9cc6_11ea_8648_28c63f94f556row18_col3 {\n",
       "            background-color:  #84bcdb;\n",
       "        }    #T_53138192_9cc6_11ea_8648_28c63f94f556row18_col4 {\n",
       "            background-color:  #519ccc;\n",
       "        }    #T_53138192_9cc6_11ea_8648_28c63f94f556row18_col5 {\n",
       "            background-color:  #8abfdd;\n",
       "        }    #T_53138192_9cc6_11ea_8648_28c63f94f556row18_col6 {\n",
       "            background-color:  #f5fafe;\n",
       "        }    #T_53138192_9cc6_11ea_8648_28c63f94f556row18_col7 {\n",
       "            background-color:  #d9e8f5;\n",
       "        }    #T_53138192_9cc6_11ea_8648_28c63f94f556row18_col8 {\n",
       "            background-color:  #eaf2fb;\n",
       "        }    #T_53138192_9cc6_11ea_8648_28c63f94f556row19_col2 {\n",
       "            background-color:  #d8e7f5;\n",
       "        }    #T_53138192_9cc6_11ea_8648_28c63f94f556row19_col3 {\n",
       "            background-color:  #529dcc;\n",
       "        }    #T_53138192_9cc6_11ea_8648_28c63f94f556row19_col4 {\n",
       "            background-color:  #6dafd7;\n",
       "        }    #T_53138192_9cc6_11ea_8648_28c63f94f556row19_col5 {\n",
       "            background-color:  #97c6df;\n",
       "        }    #T_53138192_9cc6_11ea_8648_28c63f94f556row19_col6 {\n",
       "            background-color:  #d3e4f3;\n",
       "        }    #T_53138192_9cc6_11ea_8648_28c63f94f556row19_col7 {\n",
       "            background-color:  #ccdff1;\n",
       "        }    #T_53138192_9cc6_11ea_8648_28c63f94f556row19_col8 {\n",
       "            background-color:  #bad6eb;\n",
       "        }    #T_53138192_9cc6_11ea_8648_28c63f94f556row20_col2 {\n",
       "            background-color:  #2c7cba;\n",
       "        }    #T_53138192_9cc6_11ea_8648_28c63f94f556row20_col3 {\n",
       "            background-color:  #c1d9ed;\n",
       "        }    #T_53138192_9cc6_11ea_8648_28c63f94f556row20_col4 {\n",
       "            background-color:  #4090c5;\n",
       "        }    #T_53138192_9cc6_11ea_8648_28c63f94f556row20_col5 {\n",
       "            background-color:  #87bddc;\n",
       "        }    #T_53138192_9cc6_11ea_8648_28c63f94f556row20_col6 {\n",
       "            background-color:  #1e6db2;\n",
       "        }    #T_53138192_9cc6_11ea_8648_28c63f94f556row20_col7 {\n",
       "            background-color:  #cfe1f2;\n",
       "        }    #T_53138192_9cc6_11ea_8648_28c63f94f556row20_col8 {\n",
       "            background-color:  #c8dcf0;\n",
       "        }    #T_53138192_9cc6_11ea_8648_28c63f94f556row21_col2 {\n",
       "            background-color:  #eaf3fb;\n",
       "        }    #T_53138192_9cc6_11ea_8648_28c63f94f556row21_col3 {\n",
       "            background-color:  #f7fbff;\n",
       "        }    #T_53138192_9cc6_11ea_8648_28c63f94f556row21_col4 {\n",
       "            background-color:  #1c6bb0;\n",
       "        }    #T_53138192_9cc6_11ea_8648_28c63f94f556row21_col5 {\n",
       "            background-color:  #9ac8e0;\n",
       "        }    #T_53138192_9cc6_11ea_8648_28c63f94f556row21_col6 {\n",
       "            background-color:  #eef5fc;\n",
       "        }    #T_53138192_9cc6_11ea_8648_28c63f94f556row21_col7 {\n",
       "            background-color:  #eaf2fb;\n",
       "        }    #T_53138192_9cc6_11ea_8648_28c63f94f556row21_col8 {\n",
       "            background-color:  #e7f0fa;\n",
       "        }    #T_53138192_9cc6_11ea_8648_28c63f94f556row22_col2 {\n",
       "            background-color:  #f7fbff;\n",
       "        }    #T_53138192_9cc6_11ea_8648_28c63f94f556row22_col3 {\n",
       "            background-color:  #08509b;\n",
       "        }    #T_53138192_9cc6_11ea_8648_28c63f94f556row22_col4 {\n",
       "            background-color:  #3e8ec4;\n",
       "        }    #T_53138192_9cc6_11ea_8648_28c63f94f556row22_col5 {\n",
       "            background-color:  #68acd5;\n",
       "        }    #T_53138192_9cc6_11ea_8648_28c63f94f556row22_col6 {\n",
       "            background-color:  #f7fbff;\n",
       "        }    #T_53138192_9cc6_11ea_8648_28c63f94f556row22_col7 {\n",
       "            background-color:  #e7f0fa;\n",
       "        }    #T_53138192_9cc6_11ea_8648_28c63f94f556row22_col8 {\n",
       "            background-color:  #dbe9f6;\n",
       "        }    #T_53138192_9cc6_11ea_8648_28c63f94f556row23_col2 {\n",
       "            background-color:  #d0e1f2;\n",
       "        }    #T_53138192_9cc6_11ea_8648_28c63f94f556row23_col3 {\n",
       "            background-color:  #60a7d2;\n",
       "        }    #T_53138192_9cc6_11ea_8648_28c63f94f556row23_col4 {\n",
       "            background-color:  #125ea6;\n",
       "        }    #T_53138192_9cc6_11ea_8648_28c63f94f556row23_col5 {\n",
       "            background-color:  #4493c7;\n",
       "        }    #T_53138192_9cc6_11ea_8648_28c63f94f556row23_col6 {\n",
       "            background-color:  #d9e7f5;\n",
       "        }    #T_53138192_9cc6_11ea_8648_28c63f94f556row23_col7 {\n",
       "            background-color:  #e7f0fa;\n",
       "        }    #T_53138192_9cc6_11ea_8648_28c63f94f556row23_col8 {\n",
       "            background-color:  #ccdff1;\n",
       "        }    #T_53138192_9cc6_11ea_8648_28c63f94f556row24_col2 {\n",
       "            background-color:  #f1f7fd;\n",
       "        }    #T_53138192_9cc6_11ea_8648_28c63f94f556row24_col3 {\n",
       "            background-color:  #0e59a2;\n",
       "        }    #T_53138192_9cc6_11ea_8648_28c63f94f556row24_col4 {\n",
       "            background-color:  #95c5df;\n",
       "        }    #T_53138192_9cc6_11ea_8648_28c63f94f556row24_col5 {\n",
       "            background-color:  #b0d2e7;\n",
       "        }    #T_53138192_9cc6_11ea_8648_28c63f94f556row24_col6 {\n",
       "            background-color:  #eef5fc;\n",
       "        }    #T_53138192_9cc6_11ea_8648_28c63f94f556row24_col7 {\n",
       "            background-color:  #c2d9ee;\n",
       "        }    #T_53138192_9cc6_11ea_8648_28c63f94f556row24_col8 {\n",
       "            background-color:  #b7d4ea;\n",
       "        }    #T_53138192_9cc6_11ea_8648_28c63f94f556row25_col2 {\n",
       "            background-color:  #d5e5f4;\n",
       "        }    #T_53138192_9cc6_11ea_8648_28c63f94f556row25_col3 {\n",
       "            background-color:  #6caed6;\n",
       "        }    #T_53138192_9cc6_11ea_8648_28c63f94f556row25_col4 {\n",
       "            background-color:  #1764ab;\n",
       "        }    #T_53138192_9cc6_11ea_8648_28c63f94f556row25_col5 {\n",
       "            background-color:  #4a98c9;\n",
       "        }    #T_53138192_9cc6_11ea_8648_28c63f94f556row25_col6 {\n",
       "            background-color:  #dce9f6;\n",
       "        }    #T_53138192_9cc6_11ea_8648_28c63f94f556row25_col7 {\n",
       "            background-color:  #e3eef9;\n",
       "        }    #T_53138192_9cc6_11ea_8648_28c63f94f556row25_col8 {\n",
       "            background-color:  #c6dbef;\n",
       "        }    #T_53138192_9cc6_11ea_8648_28c63f94f556row26_col2 {\n",
       "            background-color:  #dceaf6;\n",
       "        }    #T_53138192_9cc6_11ea_8648_28c63f94f556row26_col3 {\n",
       "            background-color:  #4493c7;\n",
       "        }    #T_53138192_9cc6_11ea_8648_28c63f94f556row26_col4 {\n",
       "            background-color:  #4191c6;\n",
       "        }    #T_53138192_9cc6_11ea_8648_28c63f94f556row26_col5 {\n",
       "            background-color:  #74b3d8;\n",
       "        }    #T_53138192_9cc6_11ea_8648_28c63f94f556row26_col6 {\n",
       "            background-color:  #e1edf8;\n",
       "        }    #T_53138192_9cc6_11ea_8648_28c63f94f556row26_col7 {\n",
       "            background-color:  #e2edf8;\n",
       "        }    #T_53138192_9cc6_11ea_8648_28c63f94f556row26_col8 {\n",
       "            background-color:  #ddeaf7;\n",
       "        }    #T_53138192_9cc6_11ea_8648_28c63f94f556row27_col2 {\n",
       "            background-color:  #f7fbff;\n",
       "        }    #T_53138192_9cc6_11ea_8648_28c63f94f556row27_col3 {\n",
       "            background-color:  #75b4d8;\n",
       "        }    #T_53138192_9cc6_11ea_8648_28c63f94f556row27_col4 {\n",
       "            background-color:  #3585bf;\n",
       "        }    #T_53138192_9cc6_11ea_8648_28c63f94f556row27_col5 {\n",
       "            background-color:  #71b1d7;\n",
       "        }    #T_53138192_9cc6_11ea_8648_28c63f94f556row27_col6 {\n",
       "            background-color:  #f7fbff;\n",
       "        }    #T_53138192_9cc6_11ea_8648_28c63f94f556row27_col7 {\n",
       "            background-color:  #e6f0f9;\n",
       "        }    #T_53138192_9cc6_11ea_8648_28c63f94f556row27_col8 {\n",
       "            background-color:  #d6e5f4;\n",
       "        }    #T_53138192_9cc6_11ea_8648_28c63f94f556row28_col2 {\n",
       "            background-color:  #e9f2fa;\n",
       "        }    #T_53138192_9cc6_11ea_8648_28c63f94f556row28_col3 {\n",
       "            background-color:  #2575b7;\n",
       "        }    #T_53138192_9cc6_11ea_8648_28c63f94f556row28_col4 {\n",
       "            background-color:  #f7fbff;\n",
       "        }    #T_53138192_9cc6_11ea_8648_28c63f94f556row28_col5 {\n",
       "            background-color:  #f7fbff;\n",
       "        }    #T_53138192_9cc6_11ea_8648_28c63f94f556row28_col6 {\n",
       "            background-color:  #c2d9ee;\n",
       "        }    #T_53138192_9cc6_11ea_8648_28c63f94f556row28_col7 {\n",
       "            background-color:  #08306b;\n",
       "        }    #T_53138192_9cc6_11ea_8648_28c63f94f556row28_col8 {\n",
       "            background-color:  #08306b;\n",
       "        }    #T_53138192_9cc6_11ea_8648_28c63f94f556row29_col2 {\n",
       "            background-color:  #e1edf8;\n",
       "        }    #T_53138192_9cc6_11ea_8648_28c63f94f556row29_col3 {\n",
       "            background-color:  #4d99ca;\n",
       "        }    #T_53138192_9cc6_11ea_8648_28c63f94f556row29_col4 {\n",
       "            background-color:  #7db8da;\n",
       "        }    #T_53138192_9cc6_11ea_8648_28c63f94f556row29_col5 {\n",
       "            background-color:  #a5cde3;\n",
       "        }    #T_53138192_9cc6_11ea_8648_28c63f94f556row29_col6 {\n",
       "            background-color:  #dbe9f6;\n",
       "        }    #T_53138192_9cc6_11ea_8648_28c63f94f556row29_col7 {\n",
       "            background-color:  #c3daee;\n",
       "        }    #T_53138192_9cc6_11ea_8648_28c63f94f556row29_col8 {\n",
       "            background-color:  #b0d2e7;\n",
       "        }    #T_53138192_9cc6_11ea_8648_28c63f94f556row30_col2 {\n",
       "            background-color:  #f6faff;\n",
       "        }    #T_53138192_9cc6_11ea_8648_28c63f94f556row30_col3 {\n",
       "            background-color:  #c9ddf0;\n",
       "        }    #T_53138192_9cc6_11ea_8648_28c63f94f556row30_col4 {\n",
       "            background-color:  #084990;\n",
       "        }    #T_53138192_9cc6_11ea_8648_28c63f94f556row30_col5 {\n",
       "            background-color:  #539ecd;\n",
       "        }    #T_53138192_9cc6_11ea_8648_28c63f94f556row30_col6 {\n",
       "            background-color:  #f7fbff;\n",
       "        }    #T_53138192_9cc6_11ea_8648_28c63f94f556row30_col7 {\n",
       "            background-color:  #e7f1fa;\n",
       "        }    #T_53138192_9cc6_11ea_8648_28c63f94f556row30_col8 {\n",
       "            background-color:  #72b2d8;\n",
       "        }    #T_53138192_9cc6_11ea_8648_28c63f94f556row31_col2 {\n",
       "            background-color:  #d6e6f4;\n",
       "        }    #T_53138192_9cc6_11ea_8648_28c63f94f556row31_col3 {\n",
       "            background-color:  #72b2d8;\n",
       "        }    #T_53138192_9cc6_11ea_8648_28c63f94f556row31_col4 {\n",
       "            background-color:  #529dcc;\n",
       "        }    #T_53138192_9cc6_11ea_8648_28c63f94f556row31_col5 {\n",
       "            background-color:  #8fc2de;\n",
       "        }    #T_53138192_9cc6_11ea_8648_28c63f94f556row31_col6 {\n",
       "            background-color:  #d2e3f3;\n",
       "        }    #T_53138192_9cc6_11ea_8648_28c63f94f556row31_col7 {\n",
       "            background-color:  #ccdff1;\n",
       "        }    #T_53138192_9cc6_11ea_8648_28c63f94f556row31_col8 {\n",
       "            background-color:  #b0d2e7;\n",
       "        }    #T_53138192_9cc6_11ea_8648_28c63f94f556row32_col2 {\n",
       "            background-color:  #ebf3fb;\n",
       "        }    #T_53138192_9cc6_11ea_8648_28c63f94f556row32_col3 {\n",
       "            background-color:  #65aad4;\n",
       "        }    #T_53138192_9cc6_11ea_8648_28c63f94f556row32_col4 {\n",
       "            background-color:  #91c3de;\n",
       "        }    #T_53138192_9cc6_11ea_8648_28c63f94f556row32_col5 {\n",
       "            background-color:  #afd1e7;\n",
       "        }    #T_53138192_9cc6_11ea_8648_28c63f94f556row32_col6 {\n",
       "            background-color:  #e7f0fa;\n",
       "        }    #T_53138192_9cc6_11ea_8648_28c63f94f556row32_col7 {\n",
       "            background-color:  #c3daee;\n",
       "        }    #T_53138192_9cc6_11ea_8648_28c63f94f556row32_col8 {\n",
       "            background-color:  #cee0f2;\n",
       "        }    #T_53138192_9cc6_11ea_8648_28c63f94f556row33_col2 {\n",
       "            background-color:  #08306b;\n",
       "        }    #T_53138192_9cc6_11ea_8648_28c63f94f556row33_col3 {\n",
       "            background-color:  #92c4de;\n",
       "        }    #T_53138192_9cc6_11ea_8648_28c63f94f556row33_col4 {\n",
       "            background-color:  #135fa7;\n",
       "        }    #T_53138192_9cc6_11ea_8648_28c63f94f556row33_col5 {\n",
       "            background-color:  #5aa2cf;\n",
       "        }    #T_53138192_9cc6_11ea_8648_28c63f94f556row33_col6 {\n",
       "            background-color:  #08306b;\n",
       "        }    #T_53138192_9cc6_11ea_8648_28c63f94f556row33_col7 {\n",
       "            background-color:  #d5e5f4;\n",
       "        }    #T_53138192_9cc6_11ea_8648_28c63f94f556row33_col8 {\n",
       "            background-color:  #97c6df;\n",
       "        }    #T_53138192_9cc6_11ea_8648_28c63f94f556row34_col2 {\n",
       "            background-color:  #deebf7;\n",
       "        }    #T_53138192_9cc6_11ea_8648_28c63f94f556row34_col3 {\n",
       "            background-color:  #8abfdd;\n",
       "        }    #T_53138192_9cc6_11ea_8648_28c63f94f556row34_col4 {\n",
       "            background-color:  #1b69af;\n",
       "        }    #T_53138192_9cc6_11ea_8648_28c63f94f556row34_col5 {\n",
       "            background-color:  #4e9acb;\n",
       "        }    #T_53138192_9cc6_11ea_8648_28c63f94f556row34_col6 {\n",
       "            background-color:  #e4eff9;\n",
       "        }    #T_53138192_9cc6_11ea_8648_28c63f94f556row34_col7 {\n",
       "            background-color:  #e7f0fa;\n",
       "        }    #T_53138192_9cc6_11ea_8648_28c63f94f556row34_col8 {\n",
       "            background-color:  #cee0f2;\n",
       "        }    #T_53138192_9cc6_11ea_8648_28c63f94f556row35_col2 {\n",
       "            background-color:  #e8f1fa;\n",
       "        }    #T_53138192_9cc6_11ea_8648_28c63f94f556row35_col3 {\n",
       "            background-color:  #2676b8;\n",
       "        }    #T_53138192_9cc6_11ea_8648_28c63f94f556row35_col4 {\n",
       "            background-color:  #084b93;\n",
       "        }    #T_53138192_9cc6_11ea_8648_28c63f94f556row35_col5 {\n",
       "            background-color:  #2171b5;\n",
       "        }    #T_53138192_9cc6_11ea_8648_28c63f94f556row35_col6 {\n",
       "            background-color:  #edf4fc;\n",
       "        }    #T_53138192_9cc6_11ea_8648_28c63f94f556row35_col7 {\n",
       "            background-color:  #ecf4fb;\n",
       "        }    #T_53138192_9cc6_11ea_8648_28c63f94f556row35_col8 {\n",
       "            background-color:  #8abfdd;\n",
       "        }    #T_53138192_9cc6_11ea_8648_28c63f94f556row36_col2 {\n",
       "            background-color:  #f5fafe;\n",
       "        }    #T_53138192_9cc6_11ea_8648_28c63f94f556row36_col3 {\n",
       "            background-color:  #3383be;\n",
       "        }    #T_53138192_9cc6_11ea_8648_28c63f94f556row36_col4 {\n",
       "            background-color:  #2676b8;\n",
       "        }    #T_53138192_9cc6_11ea_8648_28c63f94f556row36_col5 {\n",
       "            background-color:  #63a8d3;\n",
       "        }    #T_53138192_9cc6_11ea_8648_28c63f94f556row36_col6 {\n",
       "            background-color:  #f5fafe;\n",
       "        }    #T_53138192_9cc6_11ea_8648_28c63f94f556row36_col7 {\n",
       "            background-color:  #e2edf8;\n",
       "        }    #T_53138192_9cc6_11ea_8648_28c63f94f556row36_col8 {\n",
       "            background-color:  #b3d3e8;\n",
       "        }    #T_53138192_9cc6_11ea_8648_28c63f94f556row37_col2 {\n",
       "            background-color:  #f7fbff;\n",
       "        }    #T_53138192_9cc6_11ea_8648_28c63f94f556row37_col3 {\n",
       "            background-color:  #cadef0;\n",
       "        }    #T_53138192_9cc6_11ea_8648_28c63f94f556row37_col4 {\n",
       "            background-color:  #08306b;\n",
       "        }    #T_53138192_9cc6_11ea_8648_28c63f94f556row37_col5 {\n",
       "            background-color:  #08306b;\n",
       "        }    #T_53138192_9cc6_11ea_8648_28c63f94f556row37_col6 {\n",
       "            background-color:  #f5fafe;\n",
       "        }    #T_53138192_9cc6_11ea_8648_28c63f94f556row37_col7 {\n",
       "            background-color:  #cadef0;\n",
       "        }    #T_53138192_9cc6_11ea_8648_28c63f94f556row37_col8 {\n",
       "            background-color:  #4e9acb;\n",
       "        }    #T_53138192_9cc6_11ea_8648_28c63f94f556row38_col2 {\n",
       "            background-color:  #65aad4;\n",
       "        }    #T_53138192_9cc6_11ea_8648_28c63f94f556row38_col3 {\n",
       "            background-color:  #1562a9;\n",
       "        }    #T_53138192_9cc6_11ea_8648_28c63f94f556row38_col4 {\n",
       "            background-color:  #61a7d2;\n",
       "        }    #T_53138192_9cc6_11ea_8648_28c63f94f556row38_col5 {\n",
       "            background-color:  #85bcdc;\n",
       "        }    #T_53138192_9cc6_11ea_8648_28c63f94f556row38_col6 {\n",
       "            background-color:  #5fa6d1;\n",
       "        }    #T_53138192_9cc6_11ea_8648_28c63f94f556row38_col7 {\n",
       "            background-color:  #d2e3f3;\n",
       "        }    #T_53138192_9cc6_11ea_8648_28c63f94f556row38_col8 {\n",
       "            background-color:  #b0d2e7;\n",
       "        }    #T_53138192_9cc6_11ea_8648_28c63f94f556row39_col2 {\n",
       "            background-color:  #c6dbef;\n",
       "        }    #T_53138192_9cc6_11ea_8648_28c63f94f556row39_col3 {\n",
       "            background-color:  #8dc1dd;\n",
       "        }    #T_53138192_9cc6_11ea_8648_28c63f94f556row39_col4 {\n",
       "            background-color:  #549fcd;\n",
       "        }    #T_53138192_9cc6_11ea_8648_28c63f94f556row39_col5 {\n",
       "            background-color:  #8dc1dd;\n",
       "        }    #T_53138192_9cc6_11ea_8648_28c63f94f556row39_col6 {\n",
       "            background-color:  #bcd7eb;\n",
       "        }    #T_53138192_9cc6_11ea_8648_28c63f94f556row39_col7 {\n",
       "            background-color:  #ccdff1;\n",
       "        }    #T_53138192_9cc6_11ea_8648_28c63f94f556row39_col8 {\n",
       "            background-color:  #a9cfe5;\n",
       "        }    #T_53138192_9cc6_11ea_8648_28c63f94f556row40_col2 {\n",
       "            background-color:  #f2f7fd;\n",
       "        }    #T_53138192_9cc6_11ea_8648_28c63f94f556row40_col3 {\n",
       "            background-color:  #99c7e0;\n",
       "        }    #T_53138192_9cc6_11ea_8648_28c63f94f556row40_col4 {\n",
       "            background-color:  #63a8d3;\n",
       "        }    #T_53138192_9cc6_11ea_8648_28c63f94f556row40_col5 {\n",
       "            background-color:  #a6cee4;\n",
       "        }    #T_53138192_9cc6_11ea_8648_28c63f94f556row40_col6 {\n",
       "            background-color:  #f2f7fd;\n",
       "        }    #T_53138192_9cc6_11ea_8648_28c63f94f556row40_col7 {\n",
       "            background-color:  #d7e6f5;\n",
       "        }    #T_53138192_9cc6_11ea_8648_28c63f94f556row40_col8 {\n",
       "            background-color:  #dae8f6;\n",
       "        }    #T_53138192_9cc6_11ea_8648_28c63f94f556row41_col2 {\n",
       "            background-color:  #f3f8fe;\n",
       "        }    #T_53138192_9cc6_11ea_8648_28c63f94f556row41_col3 {\n",
       "            background-color:  #4d99ca;\n",
       "        }    #T_53138192_9cc6_11ea_8648_28c63f94f556row41_col4 {\n",
       "            background-color:  #084387;\n",
       "        }    #T_53138192_9cc6_11ea_8648_28c63f94f556row41_col5 {\n",
       "            background-color:  #61a7d2;\n",
       "        }    #T_53138192_9cc6_11ea_8648_28c63f94f556row41_col6 {\n",
       "            background-color:  #f5f9fe;\n",
       "        }    #T_53138192_9cc6_11ea_8648_28c63f94f556row41_col7 {\n",
       "            background-color:  #ecf4fb;\n",
       "        }    #T_53138192_9cc6_11ea_8648_28c63f94f556row41_col8 {\n",
       "            background-color:  #d9e8f5;\n",
       "        }    #T_53138192_9cc6_11ea_8648_28c63f94f556row42_col2 {\n",
       "            background-color:  #b0d2e7;\n",
       "        }    #T_53138192_9cc6_11ea_8648_28c63f94f556row42_col3 {\n",
       "            background-color:  #65aad4;\n",
       "        }    #T_53138192_9cc6_11ea_8648_28c63f94f556row42_col4 {\n",
       "            background-color:  #3080bd;\n",
       "        }    #T_53138192_9cc6_11ea_8648_28c63f94f556row42_col5 {\n",
       "            background-color:  #5fa6d1;\n",
       "        }    #T_53138192_9cc6_11ea_8648_28c63f94f556row42_col6 {\n",
       "            background-color:  #b9d6ea;\n",
       "        }    #T_53138192_9cc6_11ea_8648_28c63f94f556row42_col7 {\n",
       "            background-color:  #dbe9f6;\n",
       "        }    #T_53138192_9cc6_11ea_8648_28c63f94f556row42_col8 {\n",
       "            background-color:  #94c4df;\n",
       "        }    #T_53138192_9cc6_11ea_8648_28c63f94f556row43_col2 {\n",
       "            background-color:  #d8e7f5;\n",
       "        }    #T_53138192_9cc6_11ea_8648_28c63f94f556row43_col3 {\n",
       "            background-color:  #6caed6;\n",
       "        }    #T_53138192_9cc6_11ea_8648_28c63f94f556row43_col4 {\n",
       "            background-color:  #5ba3d0;\n",
       "        }    #T_53138192_9cc6_11ea_8648_28c63f94f556row43_col5 {\n",
       "            background-color:  #97c6df;\n",
       "        }    #T_53138192_9cc6_11ea_8648_28c63f94f556row43_col6 {\n",
       "            background-color:  #d9e7f5;\n",
       "        }    #T_53138192_9cc6_11ea_8648_28c63f94f556row43_col7 {\n",
       "            background-color:  #d6e6f4;\n",
       "        }    #T_53138192_9cc6_11ea_8648_28c63f94f556row43_col8 {\n",
       "            background-color:  #c6dbef;\n",
       "        }    #T_53138192_9cc6_11ea_8648_28c63f94f556row44_col2 {\n",
       "            background-color:  #eaf3fb;\n",
       "        }    #T_53138192_9cc6_11ea_8648_28c63f94f556row44_col3 {\n",
       "            background-color:  #60a7d2;\n",
       "        }    #T_53138192_9cc6_11ea_8648_28c63f94f556row44_col4 {\n",
       "            background-color:  #4594c7;\n",
       "        }    #T_53138192_9cc6_11ea_8648_28c63f94f556row44_col5 {\n",
       "            background-color:  #7db8da;\n",
       "        }    #T_53138192_9cc6_11ea_8648_28c63f94f556row44_col6 {\n",
       "            background-color:  #edf4fc;\n",
       "        }    #T_53138192_9cc6_11ea_8648_28c63f94f556row44_col7 {\n",
       "            background-color:  #e3eef9;\n",
       "        }    #T_53138192_9cc6_11ea_8648_28c63f94f556row44_col8 {\n",
       "            background-color:  #e0ecf8;\n",
       "        }    #T_53138192_9cc6_11ea_8648_28c63f94f556row45_col2 {\n",
       "            background-color:  #ebf3fb;\n",
       "        }    #T_53138192_9cc6_11ea_8648_28c63f94f556row45_col3 {\n",
       "            background-color:  #8dc1dd;\n",
       "        }    #T_53138192_9cc6_11ea_8648_28c63f94f556row45_col4 {\n",
       "            background-color:  #4b98ca;\n",
       "        }    #T_53138192_9cc6_11ea_8648_28c63f94f556row45_col5 {\n",
       "            background-color:  #81badb;\n",
       "        }    #T_53138192_9cc6_11ea_8648_28c63f94f556row45_col6 {\n",
       "            background-color:  #edf4fc;\n",
       "        }    #T_53138192_9cc6_11ea_8648_28c63f94f556row45_col7 {\n",
       "            background-color:  #dfebf7;\n",
       "        }    #T_53138192_9cc6_11ea_8648_28c63f94f556row45_col8 {\n",
       "            background-color:  #dae8f6;\n",
       "        }    #T_53138192_9cc6_11ea_8648_28c63f94f556row46_col2 {\n",
       "            background-color:  #e3eef9;\n",
       "        }    #T_53138192_9cc6_11ea_8648_28c63f94f556row46_col3 {\n",
       "            background-color:  #529dcc;\n",
       "        }    #T_53138192_9cc6_11ea_8648_28c63f94f556row46_col4 {\n",
       "            background-color:  #7fb9da;\n",
       "        }    #T_53138192_9cc6_11ea_8648_28c63f94f556row46_col5 {\n",
       "            background-color:  #a5cde3;\n",
       "        }    #T_53138192_9cc6_11ea_8648_28c63f94f556row46_col6 {\n",
       "            background-color:  #ddeaf7;\n",
       "        }    #T_53138192_9cc6_11ea_8648_28c63f94f556row46_col7 {\n",
       "            background-color:  #c1d9ed;\n",
       "        }    #T_53138192_9cc6_11ea_8648_28c63f94f556row46_col8 {\n",
       "            background-color:  #bad6eb;\n",
       "        }    #T_53138192_9cc6_11ea_8648_28c63f94f556row47_col2 {\n",
       "            background-color:  #e2edf8;\n",
       "        }    #T_53138192_9cc6_11ea_8648_28c63f94f556row47_col3 {\n",
       "            background-color:  #8abfdd;\n",
       "        }    #T_53138192_9cc6_11ea_8648_28c63f94f556row47_col4 {\n",
       "            background-color:  #82bbdb;\n",
       "        }    #T_53138192_9cc6_11ea_8648_28c63f94f556row47_col5 {\n",
       "            background-color:  #a4cce3;\n",
       "        }    #T_53138192_9cc6_11ea_8648_28c63f94f556row47_col6 {\n",
       "            background-color:  #d9e8f5;\n",
       "        }    #T_53138192_9cc6_11ea_8648_28c63f94f556row47_col7 {\n",
       "            background-color:  #b4d3e9;\n",
       "        }    #T_53138192_9cc6_11ea_8648_28c63f94f556row47_col8 {\n",
       "            background-color:  #a4cce3;\n",
       "        }    #T_53138192_9cc6_11ea_8648_28c63f94f556row48_col2 {\n",
       "            background-color:  #f4f9fe;\n",
       "        }    #T_53138192_9cc6_11ea_8648_28c63f94f556row48_col3 {\n",
       "            background-color:  #08306b;\n",
       "        }    #T_53138192_9cc6_11ea_8648_28c63f94f556row48_col4 {\n",
       "            background-color:  #56a0ce;\n",
       "        }    #T_53138192_9cc6_11ea_8648_28c63f94f556row48_col5 {\n",
       "            background-color:  #7cb7da;\n",
       "        }    #T_53138192_9cc6_11ea_8648_28c63f94f556row48_col6 {\n",
       "            background-color:  #f4f9fe;\n",
       "        }    #T_53138192_9cc6_11ea_8648_28c63f94f556row48_col7 {\n",
       "            background-color:  #dfebf7;\n",
       "        }    #T_53138192_9cc6_11ea_8648_28c63f94f556row48_col8 {\n",
       "            background-color:  #d3e3f3;\n",
       "        }    #T_53138192_9cc6_11ea_8648_28c63f94f556row49_col2 {\n",
       "            background-color:  #dce9f6;\n",
       "        }    #T_53138192_9cc6_11ea_8648_28c63f94f556row49_col3 {\n",
       "            background-color:  #549fcd;\n",
       "        }    #T_53138192_9cc6_11ea_8648_28c63f94f556row49_col4 {\n",
       "            background-color:  #083370;\n",
       "        }    #T_53138192_9cc6_11ea_8648_28c63f94f556row49_col5 {\n",
       "            background-color:  #3282be;\n",
       "        }    #T_53138192_9cc6_11ea_8648_28c63f94f556row49_col6 {\n",
       "            background-color:  #e5eff9;\n",
       "        }    #T_53138192_9cc6_11ea_8648_28c63f94f556row49_col7 {\n",
       "            background-color:  #eef5fc;\n",
       "        }    #T_53138192_9cc6_11ea_8648_28c63f94f556row49_col8 {\n",
       "            background-color:  #b2d2e8;\n",
       "        }    #T_53138192_9cc6_11ea_8648_28c63f94f556row50_col2 {\n",
       "            background-color:  #d7e6f5;\n",
       "        }    #T_53138192_9cc6_11ea_8648_28c63f94f556row50_col3 {\n",
       "            background-color:  #4191c6;\n",
       "        }    #T_53138192_9cc6_11ea_8648_28c63f94f556row50_col4 {\n",
       "            background-color:  #08468b;\n",
       "        }    #T_53138192_9cc6_11ea_8648_28c63f94f556row50_col5 {\n",
       "            background-color:  #2a7ab9;\n",
       "        }    #T_53138192_9cc6_11ea_8648_28c63f94f556row50_col6 {\n",
       "            background-color:  #dfecf7;\n",
       "        }    #T_53138192_9cc6_11ea_8648_28c63f94f556row50_col7 {\n",
       "            background-color:  #e8f1fa;\n",
       "        }    #T_53138192_9cc6_11ea_8648_28c63f94f556row50_col8 {\n",
       "            background-color:  #b4d3e9;\n",
       "        }    #T_53138192_9cc6_11ea_8648_28c63f94f556row51_col2 {\n",
       "            background-color:  #c7dcef;\n",
       "        }    #T_53138192_9cc6_11ea_8648_28c63f94f556row51_col3 {\n",
       "            background-color:  #3c8cc3;\n",
       "        }    #T_53138192_9cc6_11ea_8648_28c63f94f556row51_col4 {\n",
       "            background-color:  #58a1cf;\n",
       "        }    #T_53138192_9cc6_11ea_8648_28c63f94f556row51_col5 {\n",
       "            background-color:  #84bcdb;\n",
       "        }    #T_53138192_9cc6_11ea_8648_28c63f94f556row51_col6 {\n",
       "            background-color:  #c4daee;\n",
       "        }    #T_53138192_9cc6_11ea_8648_28c63f94f556row51_col7 {\n",
       "            background-color:  #d1e2f3;\n",
       "        }    #T_53138192_9cc6_11ea_8648_28c63f94f556row51_col8 {\n",
       "            background-color:  #a3cce3;\n",
       "        }</style>  \n",
       "<table id=\"T_53138192_9cc6_11ea_8648_28c63f94f556\" > \n",
       "<thead>    <tr> \n",
       "        <th class=\"col_heading level0 col0\" >State</th> \n",
       "        <th class=\"col_heading level0 col1\" >Name</th> \n",
       "        <th class=\"col_heading level0 col2\" >Population</th> \n",
       "        <th class=\"col_heading level0 col3\" >Median Age</th> \n",
       "        <th class=\"col_heading level0 col4\" >Household Income</th> \n",
       "        <th class=\"col_heading level0 col5\" >Per Capita Income</th> \n",
       "        <th class=\"col_heading level0 col6\" >Poverty Count</th> \n",
       "        <th class=\"col_heading level0 col7\" >Poverty Rate</th> \n",
       "        <th class=\"col_heading level0 col8\" >Unemployment Rate</th> \n",
       "    </tr></thead> \n",
       "<tbody>    <tr> \n",
       "        <td id=\"T_53138192_9cc6_11ea_8648_28c63f94f556row0_col0\" class=\"data row0 col0\" >27</td> \n",
       "        <td id=\"T_53138192_9cc6_11ea_8648_28c63f94f556row0_col1\" class=\"data row0 col1\" >Minnesota</td> \n",
       "        <td id=\"T_53138192_9cc6_11ea_8648_28c63f94f556row0_col2\" class=\"data row0 col2\" >           5,527,358</td> \n",
       "        <td id=\"T_53138192_9cc6_11ea_8648_28c63f94f556row0_col3\" class=\"data row0 col3\" >37.9</td> \n",
       "        <td id=\"T_53138192_9cc6_11ea_8648_28c63f94f556row0_col4\" class=\"data row0 col4\" >$              68,411</td> \n",
       "        <td id=\"T_53138192_9cc6_11ea_8648_28c63f94f556row0_col5\" class=\"data row0 col5\" >36245</td> \n",
       "        <td id=\"T_53138192_9cc6_11ea_8648_28c63f94f556row0_col6\" class=\"data row0 col6\" >             547,442</td> \n",
       "        <td id=\"T_53138192_9cc6_11ea_8648_28c63f94f556row0_col7\" class=\"data row0 col7\" >                  10 %</td> \n",
       "        <td id=\"T_53138192_9cc6_11ea_8648_28c63f94f556row0_col8\" class=\"data row0 col8\" >2.15687</td> \n",
       "    </tr>    <tr> \n",
       "        <td id=\"T_53138192_9cc6_11ea_8648_28c63f94f556row1_col0\" class=\"data row1 col0\" >28</td> \n",
       "        <td id=\"T_53138192_9cc6_11ea_8648_28c63f94f556row1_col1\" class=\"data row1 col1\" >Mississippi</td> \n",
       "        <td id=\"T_53138192_9cc6_11ea_8648_28c63f94f556row1_col2\" class=\"data row1 col2\" >           2,988,762</td> \n",
       "        <td id=\"T_53138192_9cc6_11ea_8648_28c63f94f556row1_col3\" class=\"data row1 col3\" >37.2</td> \n",
       "        <td id=\"T_53138192_9cc6_11ea_8648_28c63f94f556row1_col4\" class=\"data row1 col4\" >$              43,567</td> \n",
       "        <td id=\"T_53138192_9cc6_11ea_8648_28c63f94f556row1_col5\" class=\"data row1 col5\" >23434</td> \n",
       "        <td id=\"T_53138192_9cc6_11ea_8648_28c63f94f556row1_col6\" class=\"data row1 col6\" >             599,795</td> \n",
       "        <td id=\"T_53138192_9cc6_11ea_8648_28c63f94f556row1_col7\" class=\"data row1 col7\" >                  20 %</td> \n",
       "        <td id=\"T_53138192_9cc6_11ea_8648_28c63f94f556row1_col8\" class=\"data row1 col8\" >3.68166</td> \n",
       "    </tr>    <tr> \n",
       "        <td id=\"T_53138192_9cc6_11ea_8648_28c63f94f556row2_col0\" class=\"data row2 col0\" >29</td> \n",
       "        <td id=\"T_53138192_9cc6_11ea_8648_28c63f94f556row2_col1\" class=\"data row2 col1\" >Missouri</td> \n",
       "        <td id=\"T_53138192_9cc6_11ea_8648_28c63f94f556row2_col2\" class=\"data row2 col2\" >           6,090,062</td> \n",
       "        <td id=\"T_53138192_9cc6_11ea_8648_28c63f94f556row2_col3\" class=\"data row2 col3\" >38.5</td> \n",
       "        <td id=\"T_53138192_9cc6_11ea_8648_28c63f94f556row2_col4\" class=\"data row2 col4\" >$              53,560</td> \n",
       "        <td id=\"T_53138192_9cc6_11ea_8648_28c63f94f556row2_col5\" class=\"data row2 col5\" >29537</td> \n",
       "        <td id=\"T_53138192_9cc6_11ea_8648_28c63f94f556row2_col6\" class=\"data row2 col6\" >             837,930</td> \n",
       "        <td id=\"T_53138192_9cc6_11ea_8648_28c63f94f556row2_col7\" class=\"data row2 col7\" >                  14 %</td> \n",
       "        <td id=\"T_53138192_9cc6_11ea_8648_28c63f94f556row2_col8\" class=\"data row2 col8\" >2.56086</td> \n",
       "    </tr>    <tr> \n",
       "        <td id=\"T_53138192_9cc6_11ea_8648_28c63f94f556row3_col0\" class=\"data row3 col0\" >30</td> \n",
       "        <td id=\"T_53138192_9cc6_11ea_8648_28c63f94f556row3_col1\" class=\"data row3 col1\" >Montana</td> \n",
       "        <td id=\"T_53138192_9cc6_11ea_8648_28c63f94f556row3_col2\" class=\"data row3 col2\" >           1,041,732</td> \n",
       "        <td id=\"T_53138192_9cc6_11ea_8648_28c63f94f556row3_col3\" class=\"data row3 col3\" >39.8</td> \n",
       "        <td id=\"T_53138192_9cc6_11ea_8648_28c63f94f556row3_col4\" class=\"data row3 col4\" >$              52,559</td> \n",
       "        <td id=\"T_53138192_9cc6_11ea_8648_28c63f94f556row3_col5\" class=\"data row3 col5\" >29765</td> \n",
       "        <td id=\"T_53138192_9cc6_11ea_8648_28c63f94f556row3_col6\" class=\"data row3 col6\" >             139,063</td> \n",
       "        <td id=\"T_53138192_9cc6_11ea_8648_28c63f94f556row3_col7\" class=\"data row3 col7\" >                  13 %</td> \n",
       "        <td id=\"T_53138192_9cc6_11ea_8648_28c63f94f556row3_col8\" class=\"data row3 col8\" >2.15343</td> \n",
       "    </tr>    <tr> \n",
       "        <td id=\"T_53138192_9cc6_11ea_8648_28c63f94f556row4_col0\" class=\"data row4 col0\" >31</td> \n",
       "        <td id=\"T_53138192_9cc6_11ea_8648_28c63f94f556row4_col1\" class=\"data row4 col1\" >Nebraska</td> \n",
       "        <td id=\"T_53138192_9cc6_11ea_8648_28c63f94f556row4_col2\" class=\"data row4 col2\" >           1,904,760</td> \n",
       "        <td id=\"T_53138192_9cc6_11ea_8648_28c63f94f556row4_col3\" class=\"data row4 col3\" >36.4</td> \n",
       "        <td id=\"T_53138192_9cc6_11ea_8648_28c63f94f556row4_col4\" class=\"data row4 col4\" >$              59,116</td> \n",
       "        <td id=\"T_53138192_9cc6_11ea_8648_28c63f94f556row4_col5\" class=\"data row4 col5\" >31101</td> \n",
       "        <td id=\"T_53138192_9cc6_11ea_8648_28c63f94f556row4_col6\" class=\"data row4 col6\" >             213,790</td> \n",
       "        <td id=\"T_53138192_9cc6_11ea_8648_28c63f94f556row4_col7\" class=\"data row4 col7\" >                  11 %</td> \n",
       "        <td id=\"T_53138192_9cc6_11ea_8648_28c63f94f556row4_col8\" class=\"data row4 col8\" >1.91861</td> \n",
       "    </tr>    <tr> \n",
       "        <td id=\"T_53138192_9cc6_11ea_8648_28c63f94f556row5_col0\" class=\"data row5 col0\" >32</td> \n",
       "        <td id=\"T_53138192_9cc6_11ea_8648_28c63f94f556row5_col1\" class=\"data row5 col1\" >Nevada</td> \n",
       "        <td id=\"T_53138192_9cc6_11ea_8648_28c63f94f556row5_col2\" class=\"data row5 col2\" >           2,922,849</td> \n",
       "        <td id=\"T_53138192_9cc6_11ea_8648_28c63f94f556row5_col3\" class=\"data row5 col3\" >37.9</td> \n",
       "        <td id=\"T_53138192_9cc6_11ea_8648_28c63f94f556row5_col4\" class=\"data row5 col4\" >$              57,598</td> \n",
       "        <td id=\"T_53138192_9cc6_11ea_8648_28c63f94f556row5_col5\" class=\"data row5 col5\" >29961</td> \n",
       "        <td id=\"T_53138192_9cc6_11ea_8648_28c63f94f556row5_col6\" class=\"data row5 col6\" >             393,431</td> \n",
       "        <td id=\"T_53138192_9cc6_11ea_8648_28c63f94f556row5_col7\" class=\"data row5 col7\" >                  13 %</td> \n",
       "        <td id=\"T_53138192_9cc6_11ea_8648_28c63f94f556row5_col8\" class=\"data row5 col8\" >3.48112</td> \n",
       "    </tr>    <tr> \n",
       "        <td id=\"T_53138192_9cc6_11ea_8648_28c63f94f556row6_col0\" class=\"data row6 col0\" >33</td> \n",
       "        <td id=\"T_53138192_9cc6_11ea_8648_28c63f94f556row6_col1\" class=\"data row6 col1\" >New Hampshire</td> \n",
       "        <td id=\"T_53138192_9cc6_11ea_8648_28c63f94f556row6_col2\" class=\"data row6 col2\" >           1,343,622</td> \n",
       "        <td id=\"T_53138192_9cc6_11ea_8648_28c63f94f556row6_col3\" class=\"data row6 col3\" >42.7</td> \n",
       "        <td id=\"T_53138192_9cc6_11ea_8648_28c63f94f556row6_col4\" class=\"data row6 col4\" >$              74,057</td> \n",
       "        <td id=\"T_53138192_9cc6_11ea_8648_28c63f94f556row6_col5\" class=\"data row6 col5\" >38548</td> \n",
       "        <td id=\"T_53138192_9cc6_11ea_8648_28c63f94f556row6_col6\" class=\"data row6 col6\" >             102,352</td> \n",
       "        <td id=\"T_53138192_9cc6_11ea_8648_28c63f94f556row6_col7\" class=\"data row6 col7\" >                   8 %</td> \n",
       "        <td id=\"T_53138192_9cc6_11ea_8648_28c63f94f556row6_col8\" class=\"data row6 col8\" >2.26195</td> \n",
       "    </tr>    <tr> \n",
       "        <td id=\"T_53138192_9cc6_11ea_8648_28c63f94f556row7_col0\" class=\"data row7 col0\" >34</td> \n",
       "        <td id=\"T_53138192_9cc6_11ea_8648_28c63f94f556row7_col1\" class=\"data row7 col1\" >New Jersey</td> \n",
       "        <td id=\"T_53138192_9cc6_11ea_8648_28c63f94f556row7_col2\" class=\"data row7 col2\" >           8,881,845</td> \n",
       "        <td id=\"T_53138192_9cc6_11ea_8648_28c63f94f556row7_col3\" class=\"data row7 col3\" >39.8</td> \n",
       "        <td id=\"T_53138192_9cc6_11ea_8648_28c63f94f556row7_col4\" class=\"data row7 col4\" >$              79,363</td> \n",
       "        <td id=\"T_53138192_9cc6_11ea_8648_28c63f94f556row7_col5\" class=\"data row7 col5\" >40895</td> \n",
       "        <td id=\"T_53138192_9cc6_11ea_8648_28c63f94f556row7_col6\" class=\"data row7 col6\" >             904,132</td> \n",
       "        <td id=\"T_53138192_9cc6_11ea_8648_28c63f94f556row7_col7\" class=\"data row7 col7\" >                  10 %</td> \n",
       "        <td id=\"T_53138192_9cc6_11ea_8648_28c63f94f556row7_col8\" class=\"data row7 col8\" >3.20974</td> \n",
       "    </tr>    <tr> \n",
       "        <td id=\"T_53138192_9cc6_11ea_8648_28c63f94f556row8_col0\" class=\"data row8 col0\" >35</td> \n",
       "        <td id=\"T_53138192_9cc6_11ea_8648_28c63f94f556row8_col1\" class=\"data row8 col1\" >New Mexico</td> \n",
       "        <td id=\"T_53138192_9cc6_11ea_8648_28c63f94f556row8_col2\" class=\"data row8 col2\" >           2,092,434</td> \n",
       "        <td id=\"T_53138192_9cc6_11ea_8648_28c63f94f556row8_col3\" class=\"data row8 col3\" >37.5</td> \n",
       "        <td id=\"T_53138192_9cc6_11ea_8648_28c63f94f556row8_col4\" class=\"data row8 col4\" >$              48,059</td> \n",
       "        <td id=\"T_53138192_9cc6_11ea_8648_28c63f94f556row8_col5\" class=\"data row8 col5\" >26085</td> \n",
       "        <td id=\"T_53138192_9cc6_11ea_8648_28c63f94f556row8_col6\" class=\"data row8 col6\" >             410,389</td> \n",
       "        <td id=\"T_53138192_9cc6_11ea_8648_28c63f94f556row8_col7\" class=\"data row8 col7\" >                  20 %</td> \n",
       "        <td id=\"T_53138192_9cc6_11ea_8648_28c63f94f556row8_col8\" class=\"data row8 col8\" >3.26749</td> \n",
       "    </tr>    <tr> \n",
       "        <td id=\"T_53138192_9cc6_11ea_8648_28c63f94f556row9_col0\" class=\"data row9 col0\" >36</td> \n",
       "        <td id=\"T_53138192_9cc6_11ea_8648_28c63f94f556row9_col1\" class=\"data row9 col1\" >New York</td> \n",
       "        <td id=\"T_53138192_9cc6_11ea_8648_28c63f94f556row9_col2\" class=\"data row9 col2\" >          19,618,453</td> \n",
       "        <td id=\"T_53138192_9cc6_11ea_8648_28c63f94f556row9_col3\" class=\"data row9 col3\" >38.7</td> \n",
       "        <td id=\"T_53138192_9cc6_11ea_8648_28c63f94f556row9_col4\" class=\"data row9 col4\" >$              65,323</td> \n",
       "        <td id=\"T_53138192_9cc6_11ea_8648_28c63f94f556row9_col5\" class=\"data row9 col5\" >37470</td> \n",
       "        <td id=\"T_53138192_9cc6_11ea_8648_28c63f94f556row9_col6\" class=\"data row9 col6\" >           2,797,985</td> \n",
       "        <td id=\"T_53138192_9cc6_11ea_8648_28c63f94f556row9_col7\" class=\"data row9 col7\" >                  14 %</td> \n",
       "        <td id=\"T_53138192_9cc6_11ea_8648_28c63f94f556row9_col8\" class=\"data row9 col8\" >3.07178</td> \n",
       "    </tr>    <tr> \n",
       "        <td id=\"T_53138192_9cc6_11ea_8648_28c63f94f556row10_col0\" class=\"data row10 col0\" >37</td> \n",
       "        <td id=\"T_53138192_9cc6_11ea_8648_28c63f94f556row10_col1\" class=\"data row10 col1\" >North Carolina</td> \n",
       "        <td id=\"T_53138192_9cc6_11ea_8648_28c63f94f556row10_col2\" class=\"data row10 col2\" >          10,155,624</td> \n",
       "        <td id=\"T_53138192_9cc6_11ea_8648_28c63f94f556row10_col3\" class=\"data row10 col3\" >38.6</td> \n",
       "        <td id=\"T_53138192_9cc6_11ea_8648_28c63f94f556row10_col4\" class=\"data row10 col4\" >$              52,413</td> \n",
       "        <td id=\"T_53138192_9cc6_11ea_8648_28c63f94f556row10_col5\" class=\"data row10 col5\" >29456</td> \n",
       "        <td id=\"T_53138192_9cc6_11ea_8648_28c63f94f556row10_col6\" class=\"data row10 col6\" >           1,523,949</td> \n",
       "        <td id=\"T_53138192_9cc6_11ea_8648_28c63f94f556row10_col7\" class=\"data row10 col7\" >                  15 %</td> \n",
       "        <td id=\"T_53138192_9cc6_11ea_8648_28c63f94f556row10_col8\" class=\"data row10 col8\" >3.0782</td> \n",
       "    </tr>    <tr> \n",
       "        <td id=\"T_53138192_9cc6_11ea_8648_28c63f94f556row11_col0\" class=\"data row11 col0\" >38</td> \n",
       "        <td id=\"T_53138192_9cc6_11ea_8648_28c63f94f556row11_col1\" class=\"data row11 col1\" >North Dakota</td> \n",
       "        <td id=\"T_53138192_9cc6_11ea_8648_28c63f94f556row11_col2\" class=\"data row11 col2\" >             752,201</td> \n",
       "        <td id=\"T_53138192_9cc6_11ea_8648_28c63f94f556row11_col3\" class=\"data row11 col3\" >35.1</td> \n",
       "        <td id=\"T_53138192_9cc6_11ea_8648_28c63f94f556row11_col4\" class=\"data row11 col4\" >$              63,473</td> \n",
       "        <td id=\"T_53138192_9cc6_11ea_8648_28c63f94f556row11_col5\" class=\"data row11 col5\" >35373</td> \n",
       "        <td id=\"T_53138192_9cc6_11ea_8648_28c63f94f556row11_col6\" class=\"data row11 col6\" >              79,270</td> \n",
       "        <td id=\"T_53138192_9cc6_11ea_8648_28c63f94f556row11_col7\" class=\"data row11 col7\" >                  11 %</td> \n",
       "        <td id=\"T_53138192_9cc6_11ea_8648_28c63f94f556row11_col8\" class=\"data row11 col8\" >1.55397</td> \n",
       "    </tr>    <tr> \n",
       "        <td id=\"T_53138192_9cc6_11ea_8648_28c63f94f556row12_col0\" class=\"data row12 col0\" >39</td> \n",
       "        <td id=\"T_53138192_9cc6_11ea_8648_28c63f94f556row12_col1\" class=\"data row12 col1\" >Ohio</td> \n",
       "        <td id=\"T_53138192_9cc6_11ea_8648_28c63f94f556row12_col2\" class=\"data row12 col2\" >          11,641,879</td> \n",
       "        <td id=\"T_53138192_9cc6_11ea_8648_28c63f94f556row12_col3\" class=\"data row12 col3\" >39.3</td> \n",
       "        <td id=\"T_53138192_9cc6_11ea_8648_28c63f94f556row12_col4\" class=\"data row12 col4\" >$              54,533</td> \n",
       "        <td id=\"T_53138192_9cc6_11ea_8648_28c63f94f556row12_col5\" class=\"data row12 col5\" >30304</td> \n",
       "        <td id=\"T_53138192_9cc6_11ea_8648_28c63f94f556row12_col6\" class=\"data row12 col6\" >           1,645,986</td> \n",
       "        <td id=\"T_53138192_9cc6_11ea_8648_28c63f94f556row12_col7\" class=\"data row12 col7\" >                  14 %</td> \n",
       "        <td id=\"T_53138192_9cc6_11ea_8648_28c63f94f556row12_col8\" class=\"data row12 col8\" >2.94825</td> \n",
       "    </tr>    <tr> \n",
       "        <td id=\"T_53138192_9cc6_11ea_8648_28c63f94f556row13_col0\" class=\"data row13 col0\" >40</td> \n",
       "        <td id=\"T_53138192_9cc6_11ea_8648_28c63f94f556row13_col1\" class=\"data row13 col1\" >Oklahoma</td> \n",
       "        <td id=\"T_53138192_9cc6_11ea_8648_28c63f94f556row13_col2\" class=\"data row13 col2\" >           3,918,137</td> \n",
       "        <td id=\"T_53138192_9cc6_11ea_8648_28c63f94f556row13_col3\" class=\"data row13 col3\" >36.4</td> \n",
       "        <td id=\"T_53138192_9cc6_11ea_8648_28c63f94f556row13_col4\" class=\"data row13 col4\" >$              51,424</td> \n",
       "        <td id=\"T_53138192_9cc6_11ea_8648_28c63f94f556row13_col5\" class=\"data row13 col5\" >27432</td> \n",
       "        <td id=\"T_53138192_9cc6_11ea_8648_28c63f94f556row13_col6\" class=\"data row13 col6\" >             607,810</td> \n",
       "        <td id=\"T_53138192_9cc6_11ea_8648_28c63f94f556row13_col7\" class=\"data row13 col7\" >                  16 %</td> \n",
       "        <td id=\"T_53138192_9cc6_11ea_8648_28c63f94f556row13_col8\" class=\"data row13 col8\" >2.52893</td> \n",
       "    </tr>    <tr> \n",
       "        <td id=\"T_53138192_9cc6_11ea_8648_28c63f94f556row14_col0\" class=\"data row14 col0\" >41</td> \n",
       "        <td id=\"T_53138192_9cc6_11ea_8648_28c63f94f556row14_col1\" class=\"data row14 col1\" >Oregon</td> \n",
       "        <td id=\"T_53138192_9cc6_11ea_8648_28c63f94f556row14_col2\" class=\"data row14 col2\" >           4,081,943</td> \n",
       "        <td id=\"T_53138192_9cc6_11ea_8648_28c63f94f556row14_col3\" class=\"data row14 col3\" >39.2</td> \n",
       "        <td id=\"T_53138192_9cc6_11ea_8648_28c63f94f556row14_col4\" class=\"data row14 col4\" >$              59,393</td> \n",
       "        <td id=\"T_53138192_9cc6_11ea_8648_28c63f94f556row14_col5\" class=\"data row14 col5\" >32045</td> \n",
       "        <td id=\"T_53138192_9cc6_11ea_8648_28c63f94f556row14_col6\" class=\"data row14 col6\" >             565,247</td> \n",
       "        <td id=\"T_53138192_9cc6_11ea_8648_28c63f94f556row14_col7\" class=\"data row14 col7\" >                  14 %</td> \n",
       "        <td id=\"T_53138192_9cc6_11ea_8648_28c63f94f556row14_col8\" class=\"data row14 col8\" >3.02515</td> \n",
       "    </tr>    <tr> \n",
       "        <td id=\"T_53138192_9cc6_11ea_8648_28c63f94f556row15_col0\" class=\"data row15 col0\" >42</td> \n",
       "        <td id=\"T_53138192_9cc6_11ea_8648_28c63f94f556row15_col1\" class=\"data row15 col1\" >Pennsylvania</td> \n",
       "        <td id=\"T_53138192_9cc6_11ea_8648_28c63f94f556row15_col2\" class=\"data row15 col2\" >          12,791,181</td> \n",
       "        <td id=\"T_53138192_9cc6_11ea_8648_28c63f94f556row15_col3\" class=\"data row15 col3\" >40.7</td> \n",
       "        <td id=\"T_53138192_9cc6_11ea_8648_28c63f94f556row15_col4\" class=\"data row15 col4\" >$              59,445</td> \n",
       "        <td id=\"T_53138192_9cc6_11ea_8648_28c63f94f556row15_col5\" class=\"data row15 col5\" >32889</td> \n",
       "        <td id=\"T_53138192_9cc6_11ea_8648_28c63f94f556row15_col6\" class=\"data row15 col6\" >           1,578,949</td> \n",
       "        <td id=\"T_53138192_9cc6_11ea_8648_28c63f94f556row15_col7\" class=\"data row15 col7\" >                  12 %</td> \n",
       "        <td id=\"T_53138192_9cc6_11ea_8648_28c63f94f556row15_col8\" class=\"data row15 col8\" >2.96896</td> \n",
       "    </tr>    <tr> \n",
       "        <td id=\"T_53138192_9cc6_11ea_8648_28c63f94f556row16_col0\" class=\"data row16 col0\" >44</td> \n",
       "        <td id=\"T_53138192_9cc6_11ea_8648_28c63f94f556row16_col1\" class=\"data row16 col1\" >Rhode Island</td> \n",
       "        <td id=\"T_53138192_9cc6_11ea_8648_28c63f94f556row16_col2\" class=\"data row16 col2\" >           1,056,611</td> \n",
       "        <td id=\"T_53138192_9cc6_11ea_8648_28c63f94f556row16_col3\" class=\"data row16 col3\" >39.9</td> \n",
       "        <td id=\"T_53138192_9cc6_11ea_8648_28c63f94f556row16_col4\" class=\"data row16 col4\" >$              63,296</td> \n",
       "        <td id=\"T_53138192_9cc6_11ea_8648_28c63f94f556row16_col5\" class=\"data row16 col5\" >34619</td> \n",
       "        <td id=\"T_53138192_9cc6_11ea_8648_28c63f94f556row16_col6\" class=\"data row16 col6\" >             133,055</td> \n",
       "        <td id=\"T_53138192_9cc6_11ea_8648_28c63f94f556row16_col7\" class=\"data row16 col7\" >                  13 %</td> \n",
       "        <td id=\"T_53138192_9cc6_11ea_8648_28c63f94f556row16_col8\" class=\"data row16 col8\" >3.26317</td> \n",
       "    </tr>    <tr> \n",
       "        <td id=\"T_53138192_9cc6_11ea_8648_28c63f94f556row17_col0\" class=\"data row17 col0\" >45</td> \n",
       "        <td id=\"T_53138192_9cc6_11ea_8648_28c63f94f556row17_col1\" class=\"data row17 col1\" >South Carolina</td> \n",
       "        <td id=\"T_53138192_9cc6_11ea_8648_28c63f94f556row17_col2\" class=\"data row17 col2\" >           4,955,925</td> \n",
       "        <td id=\"T_53138192_9cc6_11ea_8648_28c63f94f556row17_col3\" class=\"data row17 col3\" >39.2</td> \n",
       "        <td id=\"T_53138192_9cc6_11ea_8648_28c63f94f556row17_col4\" class=\"data row17 col4\" >$              51,015</td> \n",
       "        <td id=\"T_53138192_9cc6_11ea_8648_28c63f94f556row17_col5\" class=\"data row17 col5\" >27986</td> \n",
       "        <td id=\"T_53138192_9cc6_11ea_8648_28c63f94f556row17_col6\" class=\"data row17 col6\" >             770,632</td> \n",
       "        <td id=\"T_53138192_9cc6_11ea_8648_28c63f94f556row17_col7\" class=\"data row17 col7\" >                  16 %</td> \n",
       "        <td id=\"T_53138192_9cc6_11ea_8648_28c63f94f556row17_col8\" class=\"data row17 col8\" >3.0921</td> \n",
       "    </tr>    <tr> \n",
       "        <td id=\"T_53138192_9cc6_11ea_8648_28c63f94f556row18_col0\" class=\"data row18 col0\" >46</td> \n",
       "        <td id=\"T_53138192_9cc6_11ea_8648_28c63f94f556row18_col1\" class=\"data row18 col1\" >South Dakota</td> \n",
       "        <td id=\"T_53138192_9cc6_11ea_8648_28c63f94f556row18_col2\" class=\"data row18 col2\" >             864,289</td> \n",
       "        <td id=\"T_53138192_9cc6_11ea_8648_28c63f94f556row18_col3\" class=\"data row18 col3\" >36.8</td> \n",
       "        <td id=\"T_53138192_9cc6_11ea_8648_28c63f94f556row18_col4\" class=\"data row18 col4\" >$              56,499</td> \n",
       "        <td id=\"T_53138192_9cc6_11ea_8648_28c63f94f556row18_col5\" class=\"data row18 col5\" >29801</td> \n",
       "        <td id=\"T_53138192_9cc6_11ea_8648_28c63f94f556row18_col6\" class=\"data row18 col6\" >             113,144</td> \n",
       "        <td id=\"T_53138192_9cc6_11ea_8648_28c63f94f556row18_col7\" class=\"data row18 col7\" >                  13 %</td> \n",
       "        <td id=\"T_53138192_9cc6_11ea_8648_28c63f94f556row18_col8\" class=\"data row18 col8\" >1.88039</td> \n",
       "    </tr>    <tr> \n",
       "        <td id=\"T_53138192_9cc6_11ea_8648_28c63f94f556row19_col0\" class=\"data row19 col0\" >47</td> \n",
       "        <td id=\"T_53138192_9cc6_11ea_8648_28c63f94f556row19_col1\" class=\"data row19 col1\" >Tennessee</td> \n",
       "        <td id=\"T_53138192_9cc6_11ea_8648_28c63f94f556row19_col2\" class=\"data row19 col2\" >           6,651,089</td> \n",
       "        <td id=\"T_53138192_9cc6_11ea_8648_28c63f94f556row19_col3\" class=\"data row19 col3\" >38.7</td> \n",
       "        <td id=\"T_53138192_9cc6_11ea_8648_28c63f94f556row19_col4\" class=\"data row19 col4\" >$              50,972</td> \n",
       "        <td id=\"T_53138192_9cc6_11ea_8648_28c63f94f556row19_col5\" class=\"data row19 col5\" >28511</td> \n",
       "        <td id=\"T_53138192_9cc6_11ea_8648_28c63f94f556row19_col6\" class=\"data row19 col6\" >           1,046,508</td> \n",
       "        <td id=\"T_53138192_9cc6_11ea_8648_28c63f94f556row19_col7\" class=\"data row19 col7\" >                  16 %</td> \n",
       "        <td id=\"T_53138192_9cc6_11ea_8648_28c63f94f556row19_col8\" class=\"data row19 col8\" >2.87989</td> \n",
       "    </tr>    <tr> \n",
       "        <td id=\"T_53138192_9cc6_11ea_8648_28c63f94f556row20_col0\" class=\"data row20 col0\" >48</td> \n",
       "        <td id=\"T_53138192_9cc6_11ea_8648_28c63f94f556row20_col1\" class=\"data row20 col1\" >Texas</td> \n",
       "        <td id=\"T_53138192_9cc6_11ea_8648_28c63f94f556row20_col2\" class=\"data row20 col2\" >          27,885,195</td> \n",
       "        <td id=\"T_53138192_9cc6_11ea_8648_28c63f94f556row20_col3\" class=\"data row20 col3\" >34.4</td> \n",
       "        <td id=\"T_53138192_9cc6_11ea_8648_28c63f94f556row20_col4\" class=\"data row20 col4\" >$              59,570</td> \n",
       "        <td id=\"T_53138192_9cc6_11ea_8648_28c63f94f556row20_col5\" class=\"data row20 col5\" >30143</td> \n",
       "        <td id=\"T_53138192_9cc6_11ea_8648_28c63f94f556row20_col6\" class=\"data row20 col6\" >           4,213,938</td> \n",
       "        <td id=\"T_53138192_9cc6_11ea_8648_28c63f94f556row20_col7\" class=\"data row20 col7\" >                  15 %</td> \n",
       "        <td id=\"T_53138192_9cc6_11ea_8648_28c63f94f556row20_col8\" class=\"data row20 col8\" >2.66452</td> \n",
       "    </tr>    <tr> \n",
       "        <td id=\"T_53138192_9cc6_11ea_8648_28c63f94f556row21_col0\" class=\"data row21 col0\" >49</td> \n",
       "        <td id=\"T_53138192_9cc6_11ea_8648_28c63f94f556row21_col1\" class=\"data row21 col1\" >Utah</td> \n",
       "        <td id=\"T_53138192_9cc6_11ea_8648_28c63f94f556row21_col2\" class=\"data row21 col2\" >           3,045,350</td> \n",
       "        <td id=\"T_53138192_9cc6_11ea_8648_28c63f94f556row21_col3\" class=\"data row21 col3\" >30.7</td> \n",
       "        <td id=\"T_53138192_9cc6_11ea_8648_28c63f94f556row21_col4\" class=\"data row21 col4\" >$              68,374</td> \n",
       "        <td id=\"T_53138192_9cc6_11ea_8648_28c63f94f556row21_col5\" class=\"data row21 col5\" >28239</td> \n",
       "        <td id=\"T_53138192_9cc6_11ea_8648_28c63f94f556row21_col6\" class=\"data row21 col6\" >             309,904</td> \n",
       "        <td id=\"T_53138192_9cc6_11ea_8648_28c63f94f556row21_col7\" class=\"data row21 col7\" >                  10 %</td> \n",
       "        <td id=\"T_53138192_9cc6_11ea_8648_28c63f94f556row21_col8\" class=\"data row21 col8\" >1.936</td> \n",
       "    </tr>    <tr> \n",
       "        <td id=\"T_53138192_9cc6_11ea_8648_28c63f94f556row22_col0\" class=\"data row22 col0\" >50</td> \n",
       "        <td id=\"T_53138192_9cc6_11ea_8648_28c63f94f556row22_col1\" class=\"data row22 col1\" >Vermont</td> \n",
       "        <td id=\"T_53138192_9cc6_11ea_8648_28c63f94f556row22_col2\" class=\"data row22 col2\" >             624,977</td> \n",
       "        <td id=\"T_53138192_9cc6_11ea_8648_28c63f94f556row22_col3\" class=\"data row22 col3\" >42.9</td> \n",
       "        <td id=\"T_53138192_9cc6_11ea_8648_28c63f94f556row22_col4\" class=\"data row22 col4\" >$              60,076</td> \n",
       "        <td id=\"T_53138192_9cc6_11ea_8648_28c63f94f556row22_col5\" class=\"data row22 col5\" >33238</td> \n",
       "        <td id=\"T_53138192_9cc6_11ea_8648_28c63f94f556row22_col6\" class=\"data row22 col6\" >              67,034</td> \n",
       "        <td id=\"T_53138192_9cc6_11ea_8648_28c63f94f556row22_col7\" class=\"data row22 col7\" >                  11 %</td> \n",
       "        <td id=\"T_53138192_9cc6_11ea_8648_28c63f94f556row22_col8\" class=\"data row22 col8\" >2.22056</td> \n",
       "    </tr>    <tr> \n",
       "        <td id=\"T_53138192_9cc6_11ea_8648_28c63f94f556row23_col0\" class=\"data row23 col0\" >51</td> \n",
       "        <td id=\"T_53138192_9cc6_11ea_8648_28c63f94f556row23_col1\" class=\"data row23 col1\" >Virginia</td> \n",
       "        <td id=\"T_53138192_9cc6_11ea_8648_28c63f94f556row23_col2\" class=\"data row23 col2\" >           8,413,774</td> \n",
       "        <td id=\"T_53138192_9cc6_11ea_8648_28c63f94f556row23_col3\" class=\"data row23 col3\" >38.1</td> \n",
       "        <td id=\"T_53138192_9cc6_11ea_8648_28c63f94f556row23_col4\" class=\"data row23 col4\" >$              71,564</td> \n",
       "        <td id=\"T_53138192_9cc6_11ea_8648_28c63f94f556row23_col5\" class=\"data row23 col5\" >37763</td> \n",
       "        <td id=\"T_53138192_9cc6_11ea_8648_28c63f94f556row23_col6\" class=\"data row23 col6\" >             893,580</td> \n",
       "        <td id=\"T_53138192_9cc6_11ea_8648_28c63f94f556row23_col7\" class=\"data row23 col7\" >                  11 %</td> \n",
       "        <td id=\"T_53138192_9cc6_11ea_8648_28c63f94f556row23_col8\" class=\"data row23 col8\" >2.58707</td> \n",
       "    </tr>    <tr> \n",
       "        <td id=\"T_53138192_9cc6_11ea_8648_28c63f94f556row24_col0\" class=\"data row24 col0\" >54</td> \n",
       "        <td id=\"T_53138192_9cc6_11ea_8648_28c63f94f556row24_col1\" class=\"data row24 col1\" >West Virginia</td> \n",
       "        <td id=\"T_53138192_9cc6_11ea_8648_28c63f94f556row24_col2\" class=\"data row24 col2\" >           1,829,054</td> \n",
       "        <td id=\"T_53138192_9cc6_11ea_8648_28c63f94f556row24_col3\" class=\"data row24 col3\" >42.4</td> \n",
       "        <td id=\"T_53138192_9cc6_11ea_8648_28c63f94f556row24_col4\" class=\"data row24 col4\" >$              44,921</td> \n",
       "        <td id=\"T_53138192_9cc6_11ea_8648_28c63f94f556row24_col5\" class=\"data row24 col5\" >25479</td> \n",
       "        <td id=\"T_53138192_9cc6_11ea_8648_28c63f94f556row24_col6\" class=\"data row24 col6\" >             315,464</td> \n",
       "        <td id=\"T_53138192_9cc6_11ea_8648_28c63f94f556row24_col7\" class=\"data row24 col7\" >                  17 %</td> \n",
       "        <td id=\"T_53138192_9cc6_11ea_8648_28c63f94f556row24_col8\" class=\"data row24 col8\" >2.93868</td> \n",
       "    </tr>    <tr> \n",
       "        <td id=\"T_53138192_9cc6_11ea_8648_28c63f94f556row25_col0\" class=\"data row25 col0\" >53</td> \n",
       "        <td id=\"T_53138192_9cc6_11ea_8648_28c63f94f556row25_col1\" class=\"data row25 col1\" >Washington</td> \n",
       "        <td id=\"T_53138192_9cc6_11ea_8648_28c63f94f556row25_col2\" class=\"data row25 col2\" >           7,294,336</td> \n",
       "        <td id=\"T_53138192_9cc6_11ea_8648_28c63f94f556row25_col3\" class=\"data row25 col3\" >37.6</td> \n",
       "        <td id=\"T_53138192_9cc6_11ea_8648_28c63f94f556row25_col4\" class=\"data row25 col4\" >$              70,116</td> \n",
       "        <td id=\"T_53138192_9cc6_11ea_8648_28c63f94f556row25_col5\" class=\"data row25 col5\" >36888</td> \n",
       "        <td id=\"T_53138192_9cc6_11ea_8648_28c63f94f556row25_col6\" class=\"data row25 col6\" >             821,621</td> \n",
       "        <td id=\"T_53138192_9cc6_11ea_8648_28c63f94f556row25_col7\" class=\"data row25 col7\" >                  11 %</td> \n",
       "        <td id=\"T_53138192_9cc6_11ea_8648_28c63f94f556row25_col8\" class=\"data row25 col8\" >2.71896</td> \n",
       "    </tr>    <tr> \n",
       "        <td id=\"T_53138192_9cc6_11ea_8648_28c63f94f556row26_col0\" class=\"data row26 col0\" >55</td> \n",
       "        <td id=\"T_53138192_9cc6_11ea_8648_28c63f94f556row26_col1\" class=\"data row26 col1\" >Wisconsin</td> \n",
       "        <td id=\"T_53138192_9cc6_11ea_8648_28c63f94f556row26_col2\" class=\"data row26 col2\" >           5,778,394</td> \n",
       "        <td id=\"T_53138192_9cc6_11ea_8648_28c63f94f556row26_col3\" class=\"data row26 col3\" >39.3</td> \n",
       "        <td id=\"T_53138192_9cc6_11ea_8648_28c63f94f556row26_col4\" class=\"data row26 col4\" >$              59,209</td> \n",
       "        <td id=\"T_53138192_9cc6_11ea_8648_28c63f94f556row26_col5\" class=\"data row26 col5\" >32018</td> \n",
       "        <td id=\"T_53138192_9cc6_11ea_8648_28c63f94f556row26_col6\" class=\"data row26 col6\" >             668,220</td> \n",
       "        <td id=\"T_53138192_9cc6_11ea_8648_28c63f94f556row26_col7\" class=\"data row26 col7\" >                  12 %</td> \n",
       "        <td id=\"T_53138192_9cc6_11ea_8648_28c63f94f556row26_col8\" class=\"data row26 col8\" >2.15963</td> \n",
       "    </tr>    <tr> \n",
       "        <td id=\"T_53138192_9cc6_11ea_8648_28c63f94f556row27_col0\" class=\"data row27 col0\" >56</td> \n",
       "        <td id=\"T_53138192_9cc6_11ea_8648_28c63f94f556row27_col1\" class=\"data row27 col1\" >Wyoming</td> \n",
       "        <td id=\"T_53138192_9cc6_11ea_8648_28c63f94f556row27_col2\" class=\"data row27 col2\" >             581,836</td> \n",
       "        <td id=\"T_53138192_9cc6_11ea_8648_28c63f94f556row27_col3\" class=\"data row27 col3\" >37.3</td> \n",
       "        <td id=\"T_53138192_9cc6_11ea_8648_28c63f94f556row27_col4\" class=\"data row27 col4\" >$              62,268</td> \n",
       "        <td id=\"T_53138192_9cc6_11ea_8648_28c63f94f556row27_col5\" class=\"data row27 col5\" >32295</td> \n",
       "        <td id=\"T_53138192_9cc6_11ea_8648_28c63f94f556row27_col6\" class=\"data row27 col6\" >              63,311</td> \n",
       "        <td id=\"T_53138192_9cc6_11ea_8648_28c63f94f556row27_col7\" class=\"data row27 col7\" >                  11 %</td> \n",
       "        <td id=\"T_53138192_9cc6_11ea_8648_28c63f94f556row27_col8\" class=\"data row27 col8\" >2.35204</td> \n",
       "    </tr>    <tr> \n",
       "        <td id=\"T_53138192_9cc6_11ea_8648_28c63f94f556row28_col0\" class=\"data row28 col0\" >72</td> \n",
       "        <td id=\"T_53138192_9cc6_11ea_8648_28c63f94f556row28_col1\" class=\"data row28 col1\" >Puerto Rico</td> \n",
       "        <td id=\"T_53138192_9cc6_11ea_8648_28c63f94f556row28_col2\" class=\"data row28 col2\" >           3,386,941</td> \n",
       "        <td id=\"T_53138192_9cc6_11ea_8648_28c63f94f556row28_col3\" class=\"data row28 col3\" >40.9</td> \n",
       "        <td id=\"T_53138192_9cc6_11ea_8648_28c63f94f556row28_col4\" class=\"data row28 col4\" >$              20,166</td> \n",
       "        <td id=\"T_53138192_9cc6_11ea_8648_28c63f94f556row28_col5\" class=\"data row28 col5\" >12451</td> \n",
       "        <td id=\"T_53138192_9cc6_11ea_8648_28c63f94f556row28_col6\" class=\"data row28 col6\" >           1,495,160</td> \n",
       "        <td id=\"T_53138192_9cc6_11ea_8648_28c63f94f556row28_col7\" class=\"data row28 col7\" >                  44 %</td> \n",
       "        <td id=\"T_53138192_9cc6_11ea_8648_28c63f94f556row28_col8\" class=\"data row28 col8\" >6.19881</td> \n",
       "    </tr>    <tr> \n",
       "        <td id=\"T_53138192_9cc6_11ea_8648_28c63f94f556row29_col0\" class=\"data row29 col0\" >01</td> \n",
       "        <td id=\"T_53138192_9cc6_11ea_8648_28c63f94f556row29_col1\" class=\"data row29 col1\" >Alabama</td> \n",
       "        <td id=\"T_53138192_9cc6_11ea_8648_28c63f94f556row29_col2\" class=\"data row29 col2\" >           4,864,680</td> \n",
       "        <td id=\"T_53138192_9cc6_11ea_8648_28c63f94f556row29_col3\" class=\"data row29 col3\" >38.9</td> \n",
       "        <td id=\"T_53138192_9cc6_11ea_8648_28c63f94f556row29_col4\" class=\"data row29 col4\" >$              48,486</td> \n",
       "        <td id=\"T_53138192_9cc6_11ea_8648_28c63f94f556row29_col5\" class=\"data row29 col5\" >26846</td> \n",
       "        <td id=\"T_53138192_9cc6_11ea_8648_28c63f94f556row29_col6\" class=\"data row29 col6\" >             829,400</td> \n",
       "        <td id=\"T_53138192_9cc6_11ea_8648_28c63f94f556row29_col7\" class=\"data row29 col7\" >                  17 %</td> \n",
       "        <td id=\"T_53138192_9cc6_11ea_8648_28c63f94f556row29_col8\" class=\"data row29 col8\" >3.04024</td> \n",
       "    </tr>    <tr> \n",
       "        <td id=\"T_53138192_9cc6_11ea_8648_28c63f94f556row30_col0\" class=\"data row30 col0\" >02</td> \n",
       "        <td id=\"T_53138192_9cc6_11ea_8648_28c63f94f556row30_col1\" class=\"data row30 col1\" >Alaska</td> \n",
       "        <td id=\"T_53138192_9cc6_11ea_8648_28c63f94f556row30_col2\" class=\"data row30 col2\" >             738,516</td> \n",
       "        <td id=\"T_53138192_9cc6_11ea_8648_28c63f94f556row30_col3\" class=\"data row30 col3\" >34</td> \n",
       "        <td id=\"T_53138192_9cc6_11ea_8648_28c63f94f556row30_col4\" class=\"data row30 col4\" >$              76,715</td> \n",
       "        <td id=\"T_53138192_9cc6_11ea_8648_28c63f94f556row30_col5\" class=\"data row30 col5\" >35874</td> \n",
       "        <td id=\"T_53138192_9cc6_11ea_8648_28c63f94f556row30_col6\" class=\"data row30 col6\" >              77,865</td> \n",
       "        <td id=\"T_53138192_9cc6_11ea_8648_28c63f94f556row30_col7\" class=\"data row30 col7\" >                  11 %</td> \n",
       "        <td id=\"T_53138192_9cc6_11ea_8648_28c63f94f556row30_col8\" class=\"data row30 col8\" >3.80046</td> \n",
       "    </tr>    <tr> \n",
       "        <td id=\"T_53138192_9cc6_11ea_8648_28c63f94f556row31_col0\" class=\"data row31 col0\" >04</td> \n",
       "        <td id=\"T_53138192_9cc6_11ea_8648_28c63f94f556row31_col1\" class=\"data row31 col1\" >Arizona</td> \n",
       "        <td id=\"T_53138192_9cc6_11ea_8648_28c63f94f556row31_col2\" class=\"data row31 col2\" >           6,946,685</td> \n",
       "        <td id=\"T_53138192_9cc6_11ea_8648_28c63f94f556row31_col3\" class=\"data row31 col3\" >37.4</td> \n",
       "        <td id=\"T_53138192_9cc6_11ea_8648_28c63f94f556row31_col4\" class=\"data row31 col4\" >$              56,213</td> \n",
       "        <td id=\"T_53138192_9cc6_11ea_8648_28c63f94f556row31_col5\" class=\"data row31 col5\" >29265</td> \n",
       "        <td id=\"T_53138192_9cc6_11ea_8648_28c63f94f556row31_col6\" class=\"data row31 col6\" >           1,092,192</td> \n",
       "        <td id=\"T_53138192_9cc6_11ea_8648_28c63f94f556row31_col7\" class=\"data row31 col7\" >                  16 %</td> \n",
       "        <td id=\"T_53138192_9cc6_11ea_8648_28c63f94f556row31_col8\" class=\"data row31 col8\" >3.02611</td> \n",
       "    </tr>    <tr> \n",
       "        <td id=\"T_53138192_9cc6_11ea_8648_28c63f94f556row32_col0\" class=\"data row32 col0\" >05</td> \n",
       "        <td id=\"T_53138192_9cc6_11ea_8648_28c63f94f556row32_col1\" class=\"data row32 col1\" >Arkansas</td> \n",
       "        <td id=\"T_53138192_9cc6_11ea_8648_28c63f94f556row32_col2\" class=\"data row32 col2\" >           2,990,671</td> \n",
       "        <td id=\"T_53138192_9cc6_11ea_8648_28c63f94f556row32_col3\" class=\"data row32 col3\" >37.9</td> \n",
       "        <td id=\"T_53138192_9cc6_11ea_8648_28c63f94f556row32_col4\" class=\"data row32 col4\" >$              45,726</td> \n",
       "        <td id=\"T_53138192_9cc6_11ea_8648_28c63f94f556row32_col5\" class=\"data row32 col5\" >25635</td> \n",
       "        <td id=\"T_53138192_9cc6_11ea_8648_28c63f94f556row32_col6\" class=\"data row32 col6\" >             510,337</td> \n",
       "        <td id=\"T_53138192_9cc6_11ea_8648_28c63f94f556row32_col7\" class=\"data row32 col7\" >                  17 %</td> \n",
       "        <td id=\"T_53138192_9cc6_11ea_8648_28c63f94f556row32_col8\" class=\"data row32 col8\" >2.53368</td> \n",
       "    </tr>    <tr> \n",
       "        <td id=\"T_53138192_9cc6_11ea_8648_28c63f94f556row33_col0\" class=\"data row33 col0\" >06</td> \n",
       "        <td id=\"T_53138192_9cc6_11ea_8648_28c63f94f556row33_col1\" class=\"data row33 col1\" >California</td> \n",
       "        <td id=\"T_53138192_9cc6_11ea_8648_28c63f94f556row33_col2\" class=\"data row33 col2\" >          39,148,760</td> \n",
       "        <td id=\"T_53138192_9cc6_11ea_8648_28c63f94f556row33_col3\" class=\"data row33 col3\" >36.3</td> \n",
       "        <td id=\"T_53138192_9cc6_11ea_8648_28c63f94f556row33_col4\" class=\"data row33 col4\" >$              71,228</td> \n",
       "        <td id=\"T_53138192_9cc6_11ea_8648_28c63f94f556row33_col5\" class=\"data row33 col5\" >35021</td> \n",
       "        <td id=\"T_53138192_9cc6_11ea_8648_28c63f94f556row33_col6\" class=\"data row33 col6\" >           5,487,141</td> \n",
       "        <td id=\"T_53138192_9cc6_11ea_8648_28c63f94f556row33_col7\" class=\"data row33 col7\" >                  14 %</td> \n",
       "        <td id=\"T_53138192_9cc6_11ea_8648_28c63f94f556row33_col8\" class=\"data row33 col8\" >3.37559</td> \n",
       "    </tr>    <tr> \n",
       "        <td id=\"T_53138192_9cc6_11ea_8648_28c63f94f556row34_col0\" class=\"data row34 col0\" >08</td> \n",
       "        <td id=\"T_53138192_9cc6_11ea_8648_28c63f94f556row34_col1\" class=\"data row34 col1\" >Colorado</td> \n",
       "        <td id=\"T_53138192_9cc6_11ea_8648_28c63f94f556row34_col2\" class=\"data row34 col2\" >           5,531,141</td> \n",
       "        <td id=\"T_53138192_9cc6_11ea_8648_28c63f94f556row34_col3\" class=\"data row34 col3\" >36.6</td> \n",
       "        <td id=\"T_53138192_9cc6_11ea_8648_28c63f94f556row34_col4\" class=\"data row34 col4\" >$              68,811</td> \n",
       "        <td id=\"T_53138192_9cc6_11ea_8648_28c63f94f556row34_col5\" class=\"data row34 col5\" >36415</td> \n",
       "        <td id=\"T_53138192_9cc6_11ea_8648_28c63f94f556row34_col6\" class=\"data row34 col6\" >             590,504</td> \n",
       "        <td id=\"T_53138192_9cc6_11ea_8648_28c63f94f556row34_col7\" class=\"data row34 col7\" >                  11 %</td> \n",
       "        <td id=\"T_53138192_9cc6_11ea_8648_28c63f94f556row34_col8\" class=\"data row34 col8\" >2.51894</td> \n",
       "    </tr>    <tr> \n",
       "        <td id=\"T_53138192_9cc6_11ea_8648_28c63f94f556row35_col0\" class=\"data row35 col0\" >09</td> \n",
       "        <td id=\"T_53138192_9cc6_11ea_8648_28c63f94f556row35_col1\" class=\"data row35 col1\" >Connecticut</td> \n",
       "        <td id=\"T_53138192_9cc6_11ea_8648_28c63f94f556row35_col2\" class=\"data row35 col2\" >           3,581,504</td> \n",
       "        <td id=\"T_53138192_9cc6_11ea_8648_28c63f94f556row35_col3\" class=\"data row35 col3\" >40.8</td> \n",
       "        <td id=\"T_53138192_9cc6_11ea_8648_28c63f94f556row35_col4\" class=\"data row35 col4\" >$              76,106</td> \n",
       "        <td id=\"T_53138192_9cc6_11ea_8648_28c63f94f556row35_col5\" class=\"data row35 col5\" >43056</td> \n",
       "        <td id=\"T_53138192_9cc6_11ea_8648_28c63f94f556row35_col6\" class=\"data row35 col6\" >             348,449</td> \n",
       "        <td id=\"T_53138192_9cc6_11ea_8648_28c63f94f556row35_col7\" class=\"data row35 col7\" >                  10 %</td> \n",
       "        <td id=\"T_53138192_9cc6_11ea_8648_28c63f94f556row35_col8\" class=\"data row35 col8\" >3.51553</td> \n",
       "    </tr>    <tr> \n",
       "        <td id=\"T_53138192_9cc6_11ea_8648_28c63f94f556row36_col0\" class=\"data row36 col0\" >10</td> \n",
       "        <td id=\"T_53138192_9cc6_11ea_8648_28c63f94f556row36_col1\" class=\"data row36 col1\" >Delaware</td> \n",
       "        <td id=\"T_53138192_9cc6_11ea_8648_28c63f94f556row36_col2\" class=\"data row36 col2\" >             949,495</td> \n",
       "        <td id=\"T_53138192_9cc6_11ea_8648_28c63f94f556row36_col3\" class=\"data row36 col3\" >40.2</td> \n",
       "        <td id=\"T_53138192_9cc6_11ea_8648_28c63f94f556row36_col4\" class=\"data row36 col4\" >$              65,627</td> \n",
       "        <td id=\"T_53138192_9cc6_11ea_8648_28c63f94f556row36_col5\" class=\"data row36 col5\" >33989</td> \n",
       "        <td id=\"T_53138192_9cc6_11ea_8648_28c63f94f556row36_col6\" class=\"data row36 col6\" >             109,798</td> \n",
       "        <td id=\"T_53138192_9cc6_11ea_8648_28c63f94f556row36_col7\" class=\"data row36 col7\" >                  12 %</td> \n",
       "        <td id=\"T_53138192_9cc6_11ea_8648_28c63f94f556row36_col8\" class=\"data row36 col8\" >3.0017</td> \n",
       "    </tr>    <tr> \n",
       "        <td id=\"T_53138192_9cc6_11ea_8648_28c63f94f556row37_col0\" class=\"data row37 col0\" >11</td> \n",
       "        <td id=\"T_53138192_9cc6_11ea_8648_28c63f94f556row37_col1\" class=\"data row37 col1\" >District of Columbia</td> \n",
       "        <td id=\"T_53138192_9cc6_11ea_8648_28c63f94f556row37_col2\" class=\"data row37 col2\" >             684,498</td> \n",
       "        <td id=\"T_53138192_9cc6_11ea_8648_28c63f94f556row37_col3\" class=\"data row37 col3\" >33.9</td> \n",
       "        <td id=\"T_53138192_9cc6_11ea_8648_28c63f94f556row37_col4\" class=\"data row37 col4\" >$              82,604</td> \n",
       "        <td id=\"T_53138192_9cc6_11ea_8648_28c63f94f556row37_col5\" class=\"data row37 col5\" >53321</td> \n",
       "        <td id=\"T_53138192_9cc6_11ea_8648_28c63f94f556row37_col6\" class=\"data row37 col6\" >             109,497</td> \n",
       "        <td id=\"T_53138192_9cc6_11ea_8648_28c63f94f556row37_col7\" class=\"data row37 col7\" >                  16 %</td> \n",
       "        <td id=\"T_53138192_9cc6_11ea_8648_28c63f94f556row37_col8\" class=\"data row37 col8\" >4.29117</td> \n",
       "    </tr>    <tr> \n",
       "        <td id=\"T_53138192_9cc6_11ea_8648_28c63f94f556row38_col0\" class=\"data row38 col0\" >12</td> \n",
       "        <td id=\"T_53138192_9cc6_11ea_8648_28c63f94f556row38_col1\" class=\"data row38 col1\" >Florida</td> \n",
       "        <td id=\"T_53138192_9cc6_11ea_8648_28c63f94f556row38_col2\" class=\"data row38 col2\" >          20,598,139</td> \n",
       "        <td id=\"T_53138192_9cc6_11ea_8648_28c63f94f556row38_col3\" class=\"data row38 col3\" >41.9</td> \n",
       "        <td id=\"T_53138192_9cc6_11ea_8648_28c63f94f556row38_col4\" class=\"data row38 col4\" >$              53,267</td> \n",
       "        <td id=\"T_53138192_9cc6_11ea_8648_28c63f94f556row38_col5\" class=\"data row38 col5\" >30197</td> \n",
       "        <td id=\"T_53138192_9cc6_11ea_8648_28c63f94f556row38_col6\" class=\"data row38 col6\" >           2,983,851</td> \n",
       "        <td id=\"T_53138192_9cc6_11ea_8648_28c63f94f556row38_col7\" class=\"data row38 col7\" >                  14 %</td> \n",
       "        <td id=\"T_53138192_9cc6_11ea_8648_28c63f94f556row38_col8\" class=\"data row38 col8\" >3.02444</td> \n",
       "    </tr>    <tr> \n",
       "        <td id=\"T_53138192_9cc6_11ea_8648_28c63f94f556row39_col0\" class=\"data row39 col0\" >13</td> \n",
       "        <td id=\"T_53138192_9cc6_11ea_8648_28c63f94f556row39_col1\" class=\"data row39 col1\" >Georgia</td> \n",
       "        <td id=\"T_53138192_9cc6_11ea_8648_28c63f94f556row39_col2\" class=\"data row39 col2\" >          10,297,484</td> \n",
       "        <td id=\"T_53138192_9cc6_11ea_8648_28c63f94f556row39_col3\" class=\"data row39 col3\" >36.5</td> \n",
       "        <td id=\"T_53138192_9cc6_11ea_8648_28c63f94f556row39_col4\" class=\"data row39 col4\" >$              55,679</td> \n",
       "        <td id=\"T_53138192_9cc6_11ea_8648_28c63f94f556row39_col5\" class=\"data row39 col5\" >29523</td> \n",
       "        <td id=\"T_53138192_9cc6_11ea_8648_28c63f94f556row39_col6\" class=\"data row39 col6\" >           1,607,714</td> \n",
       "        <td id=\"T_53138192_9cc6_11ea_8648_28c63f94f556row39_col7\" class=\"data row39 col7\" >                  16 %</td> \n",
       "        <td id=\"T_53138192_9cc6_11ea_8648_28c63f94f556row39_col8\" class=\"data row39 col8\" >3.13527</td> \n",
       "    </tr>    <tr> \n",
       "        <td id=\"T_53138192_9cc6_11ea_8648_28c63f94f556row40_col0\" class=\"data row40 col0\" >16</td> \n",
       "        <td id=\"T_53138192_9cc6_11ea_8648_28c63f94f556row40_col1\" class=\"data row40 col1\" >Idaho</td> \n",
       "        <td id=\"T_53138192_9cc6_11ea_8648_28c63f94f556row40_col2\" class=\"data row40 col2\" >           1,687,809</td> \n",
       "        <td id=\"T_53138192_9cc6_11ea_8648_28c63f94f556row40_col3\" class=\"data row40 col3\" >36.1</td> \n",
       "        <td id=\"T_53138192_9cc6_11ea_8648_28c63f94f556row40_col4\" class=\"data row40 col4\" >$              53,089</td> \n",
       "        <td id=\"T_53138192_9cc6_11ea_8648_28c63f94f556row40_col5\" class=\"data row40 col5\" >26772</td> \n",
       "        <td id=\"T_53138192_9cc6_11ea_8648_28c63f94f556row40_col6\" class=\"data row40 col6\" >             228,882</td> \n",
       "        <td id=\"T_53138192_9cc6_11ea_8648_28c63f94f556row40_col7\" class=\"data row40 col7\" >                  14 %</td> \n",
       "        <td id=\"T_53138192_9cc6_11ea_8648_28c63f94f556row40_col8\" class=\"data row40 col8\" >2.23201</td> \n",
       "    </tr>    <tr> \n",
       "        <td id=\"T_53138192_9cc6_11ea_8648_28c63f94f556row41_col0\" class=\"data row41 col0\" >15</td> \n",
       "        <td id=\"T_53138192_9cc6_11ea_8648_28c63f94f556row41_col1\" class=\"data row41 col1\" >Hawaii</td> \n",
       "        <td id=\"T_53138192_9cc6_11ea_8648_28c63f94f556row41_col2\" class=\"data row41 col2\" >           1,422,029</td> \n",
       "        <td id=\"T_53138192_9cc6_11ea_8648_28c63f94f556row41_col3\" class=\"data row41 col3\" >38.9</td> \n",
       "        <td id=\"T_53138192_9cc6_11ea_8648_28c63f94f556row41_col4\" class=\"data row41 col4\" >$              78,084</td> \n",
       "        <td id=\"T_53138192_9cc6_11ea_8648_28c63f94f556row41_col5\" class=\"data row41 col5\" >34035</td> \n",
       "        <td id=\"T_53138192_9cc6_11ea_8648_28c63f94f556row41_col6\" class=\"data row41 col6\" >             137,516</td> \n",
       "        <td id=\"T_53138192_9cc6_11ea_8648_28c63f94f556row41_col7\" class=\"data row41 col7\" >                  10 %</td> \n",
       "        <td id=\"T_53138192_9cc6_11ea_8648_28c63f94f556row41_col8\" class=\"data row41 col8\" >2.25284</td> \n",
       "    </tr>    <tr> \n",
       "        <td id=\"T_53138192_9cc6_11ea_8648_28c63f94f556row42_col0\" class=\"data row42 col0\" >17</td> \n",
       "        <td id=\"T_53138192_9cc6_11ea_8648_28c63f94f556row42_col1\" class=\"data row42 col1\" >Illinois</td> \n",
       "        <td id=\"T_53138192_9cc6_11ea_8648_28c63f94f556row42_col2\" class=\"data row42 col2\" >          12,821,497</td> \n",
       "        <td id=\"T_53138192_9cc6_11ea_8648_28c63f94f556row42_col3\" class=\"data row42 col3\" >37.9</td> \n",
       "        <td id=\"T_53138192_9cc6_11ea_8648_28c63f94f556row42_col4\" class=\"data row42 col4\" >$              63,575</td> \n",
       "        <td id=\"T_53138192_9cc6_11ea_8648_28c63f94f556row42_col5\" class=\"data row42 col5\" >34463</td> \n",
       "        <td id=\"T_53138192_9cc6_11ea_8648_28c63f94f556row42_col6\" class=\"data row42 col6\" >           1,635,603</td> \n",
       "        <td id=\"T_53138192_9cc6_11ea_8648_28c63f94f556row42_col7\" class=\"data row42 col7\" >                  13 %</td> \n",
       "        <td id=\"T_53138192_9cc6_11ea_8648_28c63f94f556row42_col8\" class=\"data row42 col8\" >3.40942</td> \n",
       "    </tr>    <tr> \n",
       "        <td id=\"T_53138192_9cc6_11ea_8648_28c63f94f556row43_col0\" class=\"data row43 col0\" >18</td> \n",
       "        <td id=\"T_53138192_9cc6_11ea_8648_28c63f94f556row43_col1\" class=\"data row43 col1\" >Indiana</td> \n",
       "        <td id=\"T_53138192_9cc6_11ea_8648_28c63f94f556row43_col2\" class=\"data row43 col2\" >           6,637,426</td> \n",
       "        <td id=\"T_53138192_9cc6_11ea_8648_28c63f94f556row43_col3\" class=\"data row43 col3\" >37.6</td> \n",
       "        <td id=\"T_53138192_9cc6_11ea_8648_28c63f94f556row43_col4\" class=\"data row43 col4\" >$              54,325</td> \n",
       "        <td id=\"T_53138192_9cc6_11ea_8648_28c63f94f556row43_col5\" class=\"data row43 col5\" >28461</td> \n",
       "        <td id=\"T_53138192_9cc6_11ea_8648_28c63f94f556row43_col6\" class=\"data row43 col6\" >             908,359</td> \n",
       "        <td id=\"T_53138192_9cc6_11ea_8648_28c63f94f556row43_col7\" class=\"data row43 col7\" >                  14 %</td> \n",
       "        <td id=\"T_53138192_9cc6_11ea_8648_28c63f94f556row43_col8\" class=\"data row43 col8\" >2.72649</td> \n",
       "    </tr>    <tr> \n",
       "        <td id=\"T_53138192_9cc6_11ea_8648_28c63f94f556row44_col0\" class=\"data row44 col0\" >19</td> \n",
       "        <td id=\"T_53138192_9cc6_11ea_8648_28c63f94f556row44_col1\" class=\"data row44 col1\" >Iowa</td> \n",
       "        <td id=\"T_53138192_9cc6_11ea_8648_28c63f94f556row44_col2\" class=\"data row44 col2\" >           3,132,499</td> \n",
       "        <td id=\"T_53138192_9cc6_11ea_8648_28c63f94f556row44_col3\" class=\"data row44 col3\" >38.1</td> \n",
       "        <td id=\"T_53138192_9cc6_11ea_8648_28c63f94f556row44_col4\" class=\"data row44 col4\" >$              58,580</td> \n",
       "        <td id=\"T_53138192_9cc6_11ea_8648_28c63f94f556row44_col5\" class=\"data row44 col5\" >31085</td> \n",
       "        <td id=\"T_53138192_9cc6_11ea_8648_28c63f94f556row44_col6\" class=\"data row44 col6\" >             353,634</td> \n",
       "        <td id=\"T_53138192_9cc6_11ea_8648_28c63f94f556row44_col7\" class=\"data row44 col7\" >                  11 %</td> \n",
       "        <td id=\"T_53138192_9cc6_11ea_8648_28c63f94f556row44_col8\" class=\"data row44 col8\" >2.08192</td> \n",
       "    </tr>    <tr> \n",
       "        <td id=\"T_53138192_9cc6_11ea_8648_28c63f94f556row45_col0\" class=\"data row45 col0\" >20</td> \n",
       "        <td id=\"T_53138192_9cc6_11ea_8648_28c63f94f556row45_col1\" class=\"data row45 col1\" >Kansas</td> \n",
       "        <td id=\"T_53138192_9cc6_11ea_8648_28c63f94f556row45_col2\" class=\"data row45 col2\" >           2,908,776</td> \n",
       "        <td id=\"T_53138192_9cc6_11ea_8648_28c63f94f556row45_col3\" class=\"data row45 col3\" >36.5</td> \n",
       "        <td id=\"T_53138192_9cc6_11ea_8648_28c63f94f556row45_col4\" class=\"data row45 col4\" >$              57,422</td> \n",
       "        <td id=\"T_53138192_9cc6_11ea_8648_28c63f94f556row45_col5\" class=\"data row45 col5\" >30757</td> \n",
       "        <td id=\"T_53138192_9cc6_11ea_8648_28c63f94f556row45_col6\" class=\"data row45 col6\" >             350,280</td> \n",
       "        <td id=\"T_53138192_9cc6_11ea_8648_28c63f94f556row45_col7\" class=\"data row45 col7\" >                  12 %</td> \n",
       "        <td id=\"T_53138192_9cc6_11ea_8648_28c63f94f556row45_col8\" class=\"data row45 col8\" >2.23592</td> \n",
       "    </tr>    <tr> \n",
       "        <td id=\"T_53138192_9cc6_11ea_8648_28c63f94f556row46_col0\" class=\"data row46 col0\" >21</td> \n",
       "        <td id=\"T_53138192_9cc6_11ea_8648_28c63f94f556row46_col1\" class=\"data row46 col1\" >Kentucky</td> \n",
       "        <td id=\"T_53138192_9cc6_11ea_8648_28c63f94f556row46_col2\" class=\"data row46 col2\" >           4,440,204</td> \n",
       "        <td id=\"T_53138192_9cc6_11ea_8648_28c63f94f556row46_col3\" class=\"data row46 col3\" >38.7</td> \n",
       "        <td id=\"T_53138192_9cc6_11ea_8648_28c63f94f556row46_col4\" class=\"data row46 col4\" >$              48,392</td> \n",
       "        <td id=\"T_53138192_9cc6_11ea_8648_28c63f94f556row46_col5\" class=\"data row46 col5\" >26948</td> \n",
       "        <td id=\"T_53138192_9cc6_11ea_8648_28c63f94f556row46_col6\" class=\"data row46 col6\" >             772,080</td> \n",
       "        <td id=\"T_53138192_9cc6_11ea_8648_28c63f94f556row46_col7\" class=\"data row46 col7\" >                  17 %</td> \n",
       "        <td id=\"T_53138192_9cc6_11ea_8648_28c63f94f556row46_col8\" class=\"data row46 col8\" >2.89081</td> \n",
       "    </tr>    <tr> \n",
       "        <td id=\"T_53138192_9cc6_11ea_8648_28c63f94f556row47_col0\" class=\"data row47 col0\" >22</td> \n",
       "        <td id=\"T_53138192_9cc6_11ea_8648_28c63f94f556row47_col1\" class=\"data row47 col1\" >Louisiana</td> \n",
       "        <td id=\"T_53138192_9cc6_11ea_8648_28c63f94f556row47_col2\" class=\"data row47 col2\" >           4,663,616</td> \n",
       "        <td id=\"T_53138192_9cc6_11ea_8648_28c63f94f556row47_col3\" class=\"data row47 col3\" >36.6</td> \n",
       "        <td id=\"T_53138192_9cc6_11ea_8648_28c63f94f556row47_col4\" class=\"data row47 col4\" >$              47,942</td> \n",
       "        <td id=\"T_53138192_9cc6_11ea_8648_28c63f94f556row47_col5\" class=\"data row47 col5\" >27027</td> \n",
       "        <td id=\"T_53138192_9cc6_11ea_8648_28c63f94f556row47_col6\" class=\"data row47 col6\" >             878,394</td> \n",
       "        <td id=\"T_53138192_9cc6_11ea_8648_28c63f94f556row47_col7\" class=\"data row47 col7\" >                  19 %</td> \n",
       "        <td id=\"T_53138192_9cc6_11ea_8648_28c63f94f556row47_col8\" class=\"data row47 col8\" >3.21317</td> \n",
       "    </tr>    <tr> \n",
       "        <td id=\"T_53138192_9cc6_11ea_8648_28c63f94f556row48_col0\" class=\"data row48 col0\" >23</td> \n",
       "        <td id=\"T_53138192_9cc6_11ea_8648_28c63f94f556row48_col1\" class=\"data row48 col1\" >Maine</td> \n",
       "        <td id=\"T_53138192_9cc6_11ea_8648_28c63f94f556row48_col2\" class=\"data row48 col2\" >           1,332,813</td> \n",
       "        <td id=\"T_53138192_9cc6_11ea_8648_28c63f94f556row48_col3\" class=\"data row48 col3\" >44.6</td> \n",
       "        <td id=\"T_53138192_9cc6_11ea_8648_28c63f94f556row48_col4\" class=\"data row48 col4\" >$              55,425</td> \n",
       "        <td id=\"T_53138192_9cc6_11ea_8648_28c63f94f556row48_col5\" class=\"data row48 col5\" >31253</td> \n",
       "        <td id=\"T_53138192_9cc6_11ea_8648_28c63f94f556row48_col6\" class=\"data row48 col6\" >             161,743</td> \n",
       "        <td id=\"T_53138192_9cc6_11ea_8648_28c63f94f556row48_col7\" class=\"data row48 col7\" >                  12 %</td> \n",
       "        <td id=\"T_53138192_9cc6_11ea_8648_28c63f94f556row48_col8\" class=\"data row48 col8\" >2.41617</td> \n",
       "    </tr>    <tr> \n",
       "        <td id=\"T_53138192_9cc6_11ea_8648_28c63f94f556row49_col0\" class=\"data row49 col0\" >24</td> \n",
       "        <td id=\"T_53138192_9cc6_11ea_8648_28c63f94f556row49_col1\" class=\"data row49 col1\" >Maryland</td> \n",
       "        <td id=\"T_53138192_9cc6_11ea_8648_28c63f94f556row49_col2\" class=\"data row49 col2\" >           6,003,435</td> \n",
       "        <td id=\"T_53138192_9cc6_11ea_8648_28c63f94f556row49_col3\" class=\"data row49 col3\" >38.6</td> \n",
       "        <td id=\"T_53138192_9cc6_11ea_8648_28c63f94f556row49_col4\" class=\"data row49 col4\" >$              81,868</td> \n",
       "        <td id=\"T_53138192_9cc6_11ea_8648_28c63f94f556row49_col5\" class=\"data row49 col5\" >40517</td> \n",
       "        <td id=\"T_53138192_9cc6_11ea_8648_28c63f94f556row49_col6\" class=\"data row49 col6\" >             553,496</td> \n",
       "        <td id=\"T_53138192_9cc6_11ea_8648_28c63f94f556row49_col7\" class=\"data row49 col7\" >                   9 %</td> \n",
       "        <td id=\"T_53138192_9cc6_11ea_8648_28c63f94f556row49_col8\" class=\"data row49 col8\" >3.01642</td> \n",
       "    </tr>    <tr> \n",
       "        <td id=\"T_53138192_9cc6_11ea_8648_28c63f94f556row50_col0\" class=\"data row50 col0\" >25</td> \n",
       "        <td id=\"T_53138192_9cc6_11ea_8648_28c63f94f556row50_col1\" class=\"data row50 col1\" >Massachusetts</td> \n",
       "        <td id=\"T_53138192_9cc6_11ea_8648_28c63f94f556row50_col2\" class=\"data row50 col2\" >           6,830,193</td> \n",
       "        <td id=\"T_53138192_9cc6_11ea_8648_28c63f94f556row50_col3\" class=\"data row50 col3\" >39.4</td> \n",
       "        <td id=\"T_53138192_9cc6_11ea_8648_28c63f94f556row50_col4\" class=\"data row50 col4\" >$              77,378</td> \n",
       "        <td id=\"T_53138192_9cc6_11ea_8648_28c63f94f556row50_col5\" class=\"data row50 col5\" >41794</td> \n",
       "        <td id=\"T_53138192_9cc6_11ea_8648_28c63f94f556row50_col6\" class=\"data row50 col6\" >             710,305</td> \n",
       "        <td id=\"T_53138192_9cc6_11ea_8648_28c63f94f556row50_col7\" class=\"data row50 col7\" >                  10 %</td> \n",
       "        <td id=\"T_53138192_9cc6_11ea_8648_28c63f94f556row50_col8\" class=\"data row50 col8\" >2.97889</td> \n",
       "    </tr>    <tr> \n",
       "        <td id=\"T_53138192_9cc6_11ea_8648_28c63f94f556row51_col0\" class=\"data row51 col0\" >26</td> \n",
       "        <td id=\"T_53138192_9cc6_11ea_8648_28c63f94f556row51_col1\" class=\"data row51 col1\" >Michigan</td> \n",
       "        <td id=\"T_53138192_9cc6_11ea_8648_28c63f94f556row51_col2\" class=\"data row51 col2\" >           9,957,488</td> \n",
       "        <td id=\"T_53138192_9cc6_11ea_8648_28c63f94f556row51_col3\" class=\"data row51 col3\" >39.7</td> \n",
       "        <td id=\"T_53138192_9cc6_11ea_8648_28c63f94f556row51_col4\" class=\"data row51 col4\" >$              54,938</td> \n",
       "        <td id=\"T_53138192_9cc6_11ea_8648_28c63f94f556row51_col5\" class=\"data row51 col5\" >30336</td> \n",
       "        <td id=\"T_53138192_9cc6_11ea_8648_28c63f94f556row51_col6\" class=\"data row51 col6\" >           1,457,008</td> \n",
       "        <td id=\"T_53138192_9cc6_11ea_8648_28c63f94f556row51_col7\" class=\"data row51 col7\" >                  15 %</td> \n",
       "        <td id=\"T_53138192_9cc6_11ea_8648_28c63f94f556row51_col8\" class=\"data row51 col8\" >3.22378</td> \n",
       "    </tr></tbody> \n",
       "</table> "
      ],
      "text/plain": [
       "<pandas.io.formats.style.Styler at 0x1f0d9b78ac8>"
      ]
     },
     "execution_count": 5,
     "metadata": {},
     "output_type": "execute_result"
    }
   ],
   "source": [
    "census_pd.style.format({\"Population\": \"{:20,.0f}\", \n",
    "                          \"Household Income\": \"${:20,.0f}\", \n",
    "                          \"Poverty Count\": \"{:20,.0f}\",\n",
    "                          \"Poverty Rate\":\"{:20,.0f} %\"})\\\n",
    "                 .hide_index()\\\n",
    "                 .background_gradient(cmap='Blues')"
   ]
  },
  {
   "cell_type": "code",
   "execution_count": 6,
   "metadata": {},
   "outputs": [
    {
     "data": {
      "text/html": [
       "<style  type=\"text/css\" >\n",
       "    #T_55b4f402_9cc6_11ea_94b4_28c63f94f556row0_col2 {\n",
       "            width:  10em;\n",
       "             height:  80%;\n",
       "            background:  linear-gradient(90deg,#ee1f5f 0.3%, transparent 0%);\n",
       "        }    #T_55b4f402_9cc6_11ea_94b4_28c63f94f556row0_col4 {\n",
       "            width:  10em;\n",
       "             height:  80%;\n",
       "            background:  linear-gradient(90deg,lightgreen 100.0%, transparent 0%);\n",
       "        }    #T_55b4f402_9cc6_11ea_94b4_28c63f94f556row0_col7 {\n",
       "            width:  10em;\n",
       "             height:  80%;\n",
       "            background:  linear-gradient(90deg,orange 22.9%, transparent 0%);\n",
       "        }    #T_55b4f402_9cc6_11ea_94b4_28c63f94f556row1_col2 {\n",
       "            width:  10em;\n",
       "             height:  80%;\n",
       "            background:  linear-gradient(90deg,#ee1f5f 14.1%, transparent 0%);\n",
       "        }    #T_55b4f402_9cc6_11ea_94b4_28c63f94f556row1_col4 {\n",
       "            width:  10em;\n",
       "             height:  80%;\n",
       "            background:  linear-gradient(90deg,lightgreen 98.8%, transparent 0%);\n",
       "        }    #T_55b4f402_9cc6_11ea_94b4_28c63f94f556row1_col7 {\n",
       "            width:  10em;\n",
       "             height:  80%;\n",
       "            background:  linear-gradient(90deg,orange 4.4%, transparent 0%);\n",
       "        }    #T_55b4f402_9cc6_11ea_94b4_28c63f94f556row2_col2 {\n",
       "            width:  10em;\n",
       "             height:  80%;\n",
       "            background:  linear-gradient(90deg,#ee1f5f 21.5%, transparent 0%);\n",
       "        }    #T_55b4f402_9cc6_11ea_94b4_28c63f94f556row2_col4 {\n",
       "            width:  10em;\n",
       "             height:  80%;\n",
       "            background:  linear-gradient(90deg,lightgreen 94.8%, transparent 0%);\n",
       "        }    #T_55b4f402_9cc6_11ea_94b4_28c63f94f556row2_col7 {\n",
       "            width:  10em;\n",
       "             height:  80%;\n",
       "            background:  linear-gradient(90deg,orange 7.0%, transparent 0%);\n",
       "        }    #T_55b4f402_9cc6_11ea_94b4_28c63f94f556row3_col2 {\n",
       "            width:  10em;\n",
       "             height:  80%;\n",
       "            background:  linear-gradient(90deg,#ee1f5f 2.2%, transparent 0%);\n",
       "        }    #T_55b4f402_9cc6_11ea_94b4_28c63f94f556row3_col4 {\n",
       "            width:  10em;\n",
       "             height:  80%;\n",
       "            background:  linear-gradient(90deg,lightgreen 92.8%, transparent 0%);\n",
       "        }    #T_55b4f402_9cc6_11ea_94b4_28c63f94f556row3_col7 {\n",
       "            width:  10em;\n",
       "             height:  80%;\n",
       "            background:  linear-gradient(90deg,orange 5.6%, transparent 0%);\n",
       "        }    #T_55b4f402_9cc6_11ea_94b4_28c63f94f556row4_col2 {\n",
       "            width:  10em;\n",
       "             height:  80%;\n",
       "            background:  linear-gradient(90deg,#ee1f5f 16.2%, transparent 0%);\n",
       "        }    #T_55b4f402_9cc6_11ea_94b4_28c63f94f556row4_col4 {\n",
       "            width:  10em;\n",
       "             height:  80%;\n",
       "            background:  linear-gradient(90deg,lightgreen 91.6%, transparent 0%);\n",
       "        }    #T_55b4f402_9cc6_11ea_94b4_28c63f94f556row4_col7 {\n",
       "            width:  10em;\n",
       "             height:  80%;\n",
       "            background:  linear-gradient(90deg,orange 7.6%, transparent 0%);\n",
       "        }    #T_55b4f402_9cc6_11ea_94b4_28c63f94f556row5_col2 {\n",
       "            width:  10em;\n",
       "             height:  80%;\n",
       "            background:  linear-gradient(90deg,#ee1f5f 0.4%, transparent 0%);\n",
       "        }    #T_55b4f402_9cc6_11ea_94b4_28c63f94f556row5_col4 {\n",
       "            width:  10em;\n",
       "             height:  80%;\n",
       "            background:  linear-gradient(90deg,lightgreen 90.6%, transparent 0%);\n",
       "        }    #T_55b4f402_9cc6_11ea_94b4_28c63f94f556row5_col7 {\n",
       "            width:  10em;\n",
       "             height:  80%;\n",
       "            background:  linear-gradient(90deg,orange 8.0%, transparent 0%);\n",
       "        }    #T_55b4f402_9cc6_11ea_94b4_28c63f94f556row6_col2 {\n",
       "            width:  10em;\n",
       "             height:  80%;\n",
       "            background:  linear-gradient(90deg,#ee1f5f 7.8%, transparent 0%);\n",
       "        }    #T_55b4f402_9cc6_11ea_94b4_28c63f94f556row6_col4 {\n",
       "            width:  10em;\n",
       "             height:  80%;\n",
       "            background:  linear-gradient(90deg,lightgreen 89.6%, transparent 0%);\n",
       "        }    #T_55b4f402_9cc6_11ea_94b4_28c63f94f556row6_col7 {\n",
       "            width:  10em;\n",
       "             height:  80%;\n",
       "            background:  linear-gradient(90deg,orange 5.8%, transparent 0%);\n",
       "        }    #T_55b4f402_9cc6_11ea_94b4_28c63f94f556row7_col2 {\n",
       "            width:  10em;\n",
       "             height:  80%;\n",
       "            background:  linear-gradient(90deg,#ee1f5f 2.0%, transparent 0%);\n",
       "        }    #T_55b4f402_9cc6_11ea_94b4_28c63f94f556row7_col4 {\n",
       "            width:  10em;\n",
       "             height:  80%;\n",
       "            background:  linear-gradient(90deg,lightgreen 86.3%, transparent 0%);\n",
       "        }    #T_55b4f402_9cc6_11ea_94b4_28c63f94f556row7_col7 {\n",
       "            width:  10em;\n",
       "             height:  80%;\n",
       "        }    #T_55b4f402_9cc6_11ea_94b4_28c63f94f556row8_col2 {\n",
       "            width:  10em;\n",
       "             height:  80%;\n",
       "            background:  linear-gradient(90deg,#ee1f5f 20.3%, transparent 0%);\n",
       "        }    #T_55b4f402_9cc6_11ea_94b4_28c63f94f556row8_col4 {\n",
       "            width:  10em;\n",
       "             height:  80%;\n",
       "            background:  linear-gradient(90deg,lightgreen 82.3%, transparent 0%);\n",
       "        }    #T_55b4f402_9cc6_11ea_94b4_28c63f94f556row8_col7 {\n",
       "            width:  10em;\n",
       "             height:  80%;\n",
       "            background:  linear-gradient(90deg,orange 8.2%, transparent 0%);\n",
       "        }    #T_55b4f402_9cc6_11ea_94b4_28c63f94f556row9_col2 {\n",
       "            width:  10em;\n",
       "             height:  80%;\n",
       "            background:  linear-gradient(90deg,#ee1f5f 100.0%, transparent 0%);\n",
       "        }    #T_55b4f402_9cc6_11ea_94b4_28c63f94f556row9_col4 {\n",
       "            width:  10em;\n",
       "             height:  80%;\n",
       "            background:  linear-gradient(90deg,lightgreen 81.8%, transparent 0%);\n",
       "        }    #T_55b4f402_9cc6_11ea_94b4_28c63f94f556row9_col7 {\n",
       "            width:  10em;\n",
       "             height:  80%;\n",
       "            background:  linear-gradient(90deg,orange 17.5%, transparent 0%);\n",
       "        }    #T_55b4f402_9cc6_11ea_94b4_28c63f94f556row10_col2 {\n",
       "            width:  10em;\n",
       "             height:  80%;\n",
       "            background:  linear-gradient(90deg,#ee1f5f 17.4%, transparent 0%);\n",
       "        }    #T_55b4f402_9cc6_11ea_94b4_28c63f94f556row10_col4 {\n",
       "            width:  10em;\n",
       "             height:  80%;\n",
       "            background:  linear-gradient(90deg,lightgreen 80.0%, transparent 0%);\n",
       "        }    #T_55b4f402_9cc6_11ea_94b4_28c63f94f556row10_col7 {\n",
       "            width:  10em;\n",
       "             height:  80%;\n",
       "            background:  linear-gradient(90deg,orange 10.0%, transparent 0%);\n",
       "        }    #T_55b4f402_9cc6_11ea_94b4_28c63f94f556row11_col2 {\n",
       "            width:  10em;\n",
       "             height:  80%;\n",
       "            background:  linear-gradient(90deg,#ee1f5f 12.8%, transparent 0%);\n",
       "        }    #T_55b4f402_9cc6_11ea_94b4_28c63f94f556row11_col4 {\n",
       "            width:  10em;\n",
       "             height:  80%;\n",
       "            background:  linear-gradient(90deg,lightgreen 77.9%, transparent 0%);\n",
       "        }    #T_55b4f402_9cc6_11ea_94b4_28c63f94f556row11_col7 {\n",
       "            width:  10em;\n",
       "             height:  80%;\n",
       "            background:  linear-gradient(90deg,orange 8.4%, transparent 0%);\n",
       "        }    #T_55b4f402_9cc6_11ea_94b4_28c63f94f556row12_col2 {\n",
       "            width:  10em;\n",
       "             height:  80%;\n",
       "            background:  linear-gradient(90deg,#ee1f5f 12.8%, transparent 0%);\n",
       "        }    #T_55b4f402_9cc6_11ea_94b4_28c63f94f556row12_col4 {\n",
       "            width:  10em;\n",
       "             height:  80%;\n",
       "            background:  linear-gradient(90deg,lightgreen 77.3%, transparent 0%);\n",
       "        }    #T_55b4f402_9cc6_11ea_94b4_28c63f94f556row12_col7 {\n",
       "            width:  10em;\n",
       "             height:  80%;\n",
       "            background:  linear-gradient(90deg,orange 6.3%, transparent 0%);\n",
       "        }    #T_55b4f402_9cc6_11ea_94b4_28c63f94f556row13_col2 {\n",
       "            width:  10em;\n",
       "             height:  80%;\n",
       "            background:  linear-gradient(90deg,#ee1f5f 6.4%, transparent 0%);\n",
       "        }    #T_55b4f402_9cc6_11ea_94b4_28c63f94f556row13_col4 {\n",
       "            width:  10em;\n",
       "             height:  80%;\n",
       "            background:  linear-gradient(90deg,lightgreen 77.2%, transparent 0%);\n",
       "        }    #T_55b4f402_9cc6_11ea_94b4_28c63f94f556row13_col7 {\n",
       "            width:  10em;\n",
       "             height:  80%;\n",
       "            background:  linear-gradient(90deg,orange 7.0%, transparent 0%);\n",
       "        }    #T_55b4f402_9cc6_11ea_94b4_28c63f94f556row14_col2 {\n",
       "            width:  10em;\n",
       "             height:  80%;\n",
       "            background:  linear-gradient(90deg,#ee1f5f 1.0%, transparent 0%);\n",
       "        }    #T_55b4f402_9cc6_11ea_94b4_28c63f94f556row14_col4 {\n",
       "            width:  10em;\n",
       "             height:  80%;\n",
       "            background:  linear-gradient(90deg,lightgreen 72.8%, transparent 0%);\n",
       "        }    #T_55b4f402_9cc6_11ea_94b4_28c63f94f556row14_col7 {\n",
       "            width:  10em;\n",
       "             height:  80%;\n",
       "            background:  linear-gradient(90deg,orange 10.8%, transparent 0%);\n",
       "        }    #T_55b4f402_9cc6_11ea_94b4_28c63f94f556row15_col2 {\n",
       "            width:  10em;\n",
       "             height:  80%;\n",
       "            background:  linear-gradient(90deg,#ee1f5f 49.4%, transparent 0%);\n",
       "        }    #T_55b4f402_9cc6_11ea_94b4_28c63f94f556row15_col4 {\n",
       "            width:  10em;\n",
       "             height:  80%;\n",
       "            background:  linear-gradient(90deg,lightgreen 72.3%, transparent 0%);\n",
       "        }    #T_55b4f402_9cc6_11ea_94b4_28c63f94f556row15_col7 {\n",
       "            width:  10em;\n",
       "             height:  80%;\n",
       "            background:  linear-gradient(90deg,orange 18.2%, transparent 0%);\n",
       "        }    #T_55b4f402_9cc6_11ea_94b4_28c63f94f556row16_col2 {\n",
       "            width:  10em;\n",
       "             height:  80%;\n",
       "            background:  linear-gradient(90deg,#ee1f5f 31.7%, transparent 0%);\n",
       "        }    #T_55b4f402_9cc6_11ea_94b4_28c63f94f556row16_col4 {\n",
       "            width:  10em;\n",
       "             height:  80%;\n",
       "            background:  linear-gradient(90deg,lightgreen 69.5%, transparent 0%);\n",
       "        }    #T_55b4f402_9cc6_11ea_94b4_28c63f94f556row16_col7 {\n",
       "            width:  10em;\n",
       "             height:  80%;\n",
       "            background:  linear-gradient(90deg,orange 14.1%, transparent 0%);\n",
       "        }    #T_55b4f402_9cc6_11ea_94b4_28c63f94f556row17_col2 {\n",
       "            width:  10em;\n",
       "             height:  80%;\n",
       "            background:  linear-gradient(90deg,#ee1f5f 0.4%, transparent 0%);\n",
       "        }    #T_55b4f402_9cc6_11ea_94b4_28c63f94f556row17_col4 {\n",
       "            width:  10em;\n",
       "             height:  80%;\n",
       "            background:  linear-gradient(90deg,lightgreen 69.4%, transparent 0%);\n",
       "        }    #T_55b4f402_9cc6_11ea_94b4_28c63f94f556row17_col7 {\n",
       "            width:  10em;\n",
       "             height:  80%;\n",
       "            background:  linear-gradient(90deg,orange 8.0%, transparent 0%);\n",
       "        }    #T_55b4f402_9cc6_11ea_94b4_28c63f94f556row18_col2 {\n",
       "            width:  10em;\n",
       "             height:  80%;\n",
       "            background:  linear-gradient(90deg,#ee1f5f 1.2%, transparent 0%);\n",
       "        }    #T_55b4f402_9cc6_11ea_94b4_28c63f94f556row18_col4 {\n",
       "            width:  10em;\n",
       "             height:  80%;\n",
       "            background:  linear-gradient(90deg,lightgreen 69.1%, transparent 0%);\n",
       "        }    #T_55b4f402_9cc6_11ea_94b4_28c63f94f556row18_col7 {\n",
       "            width:  10em;\n",
       "             height:  80%;\n",
       "            background:  linear-gradient(90deg,orange 13.6%, transparent 0%);\n",
       "        }    #T_55b4f402_9cc6_11ea_94b4_28c63f94f556row19_col2 {\n",
       "            width:  10em;\n",
       "             height:  80%;\n",
       "        }    #T_55b4f402_9cc6_11ea_94b4_28c63f94f556row19_col4 {\n",
       "            width:  10em;\n",
       "             height:  80%;\n",
       "            background:  linear-gradient(90deg,lightgreen 67.4%, transparent 0%);\n",
       "        }    #T_55b4f402_9cc6_11ea_94b4_28c63f94f556row19_col7 {\n",
       "            width:  10em;\n",
       "             height:  80%;\n",
       "            background:  linear-gradient(90deg,orange 8.9%, transparent 0%);\n",
       "        }    #T_55b4f402_9cc6_11ea_94b4_28c63f94f556row20_col2 {\n",
       "            width:  10em;\n",
       "             height:  80%;\n",
       "            background:  linear-gradient(90deg,#ee1f5f 0.1%, transparent 0%);\n",
       "        }    #T_55b4f402_9cc6_11ea_94b4_28c63f94f556row20_col4 {\n",
       "            width:  10em;\n",
       "             height:  80%;\n",
       "            background:  linear-gradient(90deg,lightgreen 63.9%, transparent 0%);\n",
       "        }    #T_55b4f402_9cc6_11ea_94b4_28c63f94f556row20_col7 {\n",
       "            width:  10em;\n",
       "             height:  80%;\n",
       "            background:  linear-gradient(90deg,orange 8.5%, transparent 0%);\n",
       "        }    #T_55b4f402_9cc6_11ea_94b4_28c63f94f556row21_col2 {\n",
       "            width:  10em;\n",
       "             height:  80%;\n",
       "            background:  linear-gradient(90deg,#ee1f5f 70.8%, transparent 0%);\n",
       "        }    #T_55b4f402_9cc6_11ea_94b4_28c63f94f556row21_col4 {\n",
       "            width:  10em;\n",
       "             height:  80%;\n",
       "            background:  linear-gradient(90deg,lightgreen 63.1%, transparent 0%);\n",
       "        }    #T_55b4f402_9cc6_11ea_94b4_28c63f94f556row21_col7 {\n",
       "            width:  10em;\n",
       "             height:  80%;\n",
       "            background:  linear-gradient(90deg,orange 20.5%, transparent 0%);\n",
       "        }    #T_55b4f402_9cc6_11ea_94b4_28c63f94f556row22_col2 {\n",
       "            width:  10em;\n",
       "             height:  80%;\n",
       "            background:  linear-gradient(90deg,#ee1f5f 31.7%, transparent 0%);\n",
       "        }    #T_55b4f402_9cc6_11ea_94b4_28c63f94f556row22_col4 {\n",
       "            width:  10em;\n",
       "             height:  80%;\n",
       "            background:  linear-gradient(90deg,lightgreen 62.9%, transparent 0%);\n",
       "        }    #T_55b4f402_9cc6_11ea_94b4_28c63f94f556row22_col7 {\n",
       "            width:  10em;\n",
       "             height:  80%;\n",
       "            background:  linear-gradient(90deg,orange 12.9%, transparent 0%);\n",
       "        }    #T_55b4f402_9cc6_11ea_94b4_28c63f94f556row23_col2 {\n",
       "            width:  10em;\n",
       "             height:  80%;\n",
       "            background:  linear-gradient(90deg,#ee1f5f 9.1%, transparent 0%);\n",
       "        }    #T_55b4f402_9cc6_11ea_94b4_28c63f94f556row23_col4 {\n",
       "            width:  10em;\n",
       "             height:  80%;\n",
       "            background:  linear-gradient(90deg,lightgreen 62.8%, transparent 0%);\n",
       "        }    #T_55b4f402_9cc6_11ea_94b4_28c63f94f556row23_col7 {\n",
       "            width:  10em;\n",
       "             height:  80%;\n",
       "            background:  linear-gradient(90deg,orange 17.1%, transparent 0%);\n",
       "        }    #T_55b4f402_9cc6_11ea_94b4_28c63f94f556row24_col2 {\n",
       "            width:  10em;\n",
       "             height:  80%;\n",
       "            background:  linear-gradient(90deg,#ee1f5f 13.5%, transparent 0%);\n",
       "        }    #T_55b4f402_9cc6_11ea_94b4_28c63f94f556row24_col4 {\n",
       "            width:  10em;\n",
       "             height:  80%;\n",
       "            background:  linear-gradient(90deg,lightgreen 62.5%, transparent 0%);\n",
       "        }    #T_55b4f402_9cc6_11ea_94b4_28c63f94f556row24_col7 {\n",
       "            width:  10em;\n",
       "             height:  80%;\n",
       "            background:  linear-gradient(90deg,orange 10.8%, transparent 0%);\n",
       "        }    #T_55b4f402_9cc6_11ea_94b4_28c63f94f556row25_col2 {\n",
       "            width:  10em;\n",
       "             height:  80%;\n",
       "            background:  linear-gradient(90deg,#ee1f5f 3.4%, transparent 0%);\n",
       "        }    #T_55b4f402_9cc6_11ea_94b4_28c63f94f556row25_col4 {\n",
       "            width:  10em;\n",
       "             height:  80%;\n",
       "            background:  linear-gradient(90deg,lightgreen 62.4%, transparent 0%);\n",
       "        }    #T_55b4f402_9cc6_11ea_94b4_28c63f94f556row25_col7 {\n",
       "            width:  10em;\n",
       "             height:  80%;\n",
       "            background:  linear-gradient(90deg,orange 9.9%, transparent 0%);\n",
       "        }    #T_55b4f402_9cc6_11ea_94b4_28c63f94f556row26_col2 {\n",
       "            width:  10em;\n",
       "             height:  80%;\n",
       "            background:  linear-gradient(90deg,#ee1f5f 6.6%, transparent 0%);\n",
       "        }    #T_55b4f402_9cc6_11ea_94b4_28c63f94f556row26_col4 {\n",
       "            width:  10em;\n",
       "             height:  80%;\n",
       "            background:  linear-gradient(90deg,lightgreen 61.5%, transparent 0%);\n",
       "        }    #T_55b4f402_9cc6_11ea_94b4_28c63f94f556row26_col7 {\n",
       "            width:  10em;\n",
       "             height:  80%;\n",
       "            background:  linear-gradient(90deg,orange 10.1%, transparent 0%);\n",
       "        }    #T_55b4f402_9cc6_11ea_94b4_28c63f94f556row27_col2 {\n",
       "            width:  10em;\n",
       "             height:  80%;\n",
       "            background:  linear-gradient(90deg,#ee1f5f 6.1%, transparent 0%);\n",
       "        }    #T_55b4f402_9cc6_11ea_94b4_28c63f94f556row27_col4 {\n",
       "            width:  10em;\n",
       "             height:  80%;\n",
       "            background:  linear-gradient(90deg,lightgreen 60.0%, transparent 0%);\n",
       "        }    #T_55b4f402_9cc6_11ea_94b4_28c63f94f556row27_col7 {\n",
       "            width:  10em;\n",
       "             height:  80%;\n",
       "            background:  linear-gradient(90deg,orange 16.0%, transparent 0%);\n",
       "        }    #T_55b4f402_9cc6_11ea_94b4_28c63f94f556row28_col2 {\n",
       "            width:  10em;\n",
       "             height:  80%;\n",
       "            background:  linear-gradient(90deg,#ee1f5f 6.0%, transparent 0%);\n",
       "        }    #T_55b4f402_9cc6_11ea_94b4_28c63f94f556row28_col4 {\n",
       "            width:  10em;\n",
       "             height:  80%;\n",
       "            background:  linear-gradient(90deg,lightgreen 59.7%, transparent 0%);\n",
       "        }    #T_55b4f402_9cc6_11ea_94b4_28c63f94f556row28_col7 {\n",
       "            width:  10em;\n",
       "             height:  80%;\n",
       "            background:  linear-gradient(90deg,orange 12.1%, transparent 0%);\n",
       "        }    #T_55b4f402_9cc6_11ea_94b4_28c63f94f556row29_col2 {\n",
       "            width:  10em;\n",
       "             height:  80%;\n",
       "            background:  linear-gradient(90deg,#ee1f5f 0.7%, transparent 0%);\n",
       "        }    #T_55b4f402_9cc6_11ea_94b4_28c63f94f556row29_col4 {\n",
       "            width:  10em;\n",
       "             height:  80%;\n",
       "            background:  linear-gradient(90deg,lightgreen 58.2%, transparent 0%);\n",
       "        }    #T_55b4f402_9cc6_11ea_94b4_28c63f94f556row29_col7 {\n",
       "            width:  10em;\n",
       "             height:  80%;\n",
       "            background:  linear-gradient(90deg,orange 15.0%, transparent 0%);\n",
       "        }    #T_55b4f402_9cc6_11ea_94b4_28c63f94f556row30_col2 {\n",
       "            width:  10em;\n",
       "             height:  80%;\n",
       "            background:  linear-gradient(90deg,#ee1f5f 16.5%, transparent 0%);\n",
       "        }    #T_55b4f402_9cc6_11ea_94b4_28c63f94f556row30_col4 {\n",
       "            width:  10em;\n",
       "             height:  80%;\n",
       "            background:  linear-gradient(90deg,lightgreen 57.7%, transparent 0%);\n",
       "        }    #T_55b4f402_9cc6_11ea_94b4_28c63f94f556row30_col7 {\n",
       "            width:  10em;\n",
       "             height:  80%;\n",
       "            background:  linear-gradient(90deg,orange 22.2%, transparent 0%);\n",
       "        }    #T_55b4f402_9cc6_11ea_94b4_28c63f94f556row31_col2 {\n",
       "            width:  10em;\n",
       "             height:  80%;\n",
       "            background:  linear-gradient(90deg,#ee1f5f 25.2%, transparent 0%);\n",
       "        }    #T_55b4f402_9cc6_11ea_94b4_28c63f94f556row31_col4 {\n",
       "            width:  10em;\n",
       "             height:  80%;\n",
       "            background:  linear-gradient(90deg,lightgreen 56.9%, transparent 0%);\n",
       "        }    #T_55b4f402_9cc6_11ea_94b4_28c63f94f556row31_col7 {\n",
       "            width:  10em;\n",
       "             height:  80%;\n",
       "            background:  linear-gradient(90deg,orange 21.9%, transparent 0%);\n",
       "        }    #T_55b4f402_9cc6_11ea_94b4_28c63f94f556row32_col2 {\n",
       "            width:  10em;\n",
       "             height:  80%;\n",
       "            background:  linear-gradient(90deg,#ee1f5f 1.9%, transparent 0%);\n",
       "        }    #T_55b4f402_9cc6_11ea_94b4_28c63f94f556row32_col4 {\n",
       "            width:  10em;\n",
       "             height:  80%;\n",
       "            background:  linear-gradient(90deg,lightgreen 56.5%, transparent 0%);\n",
       "        }    #T_55b4f402_9cc6_11ea_94b4_28c63f94f556row32_col7 {\n",
       "            width:  10em;\n",
       "             height:  80%;\n",
       "            background:  linear-gradient(90deg,orange 12.4%, transparent 0%);\n",
       "        }    #T_55b4f402_9cc6_11ea_94b4_28c63f94f556row33_col2 {\n",
       "            width:  10em;\n",
       "             height:  80%;\n",
       "            background:  linear-gradient(90deg,#ee1f5f 24.3%, transparent 0%);\n",
       "        }    #T_55b4f402_9cc6_11ea_94b4_28c63f94f556row33_col4 {\n",
       "            width:  10em;\n",
       "             height:  80%;\n",
       "            background:  linear-gradient(90deg,lightgreen 55.7%, transparent 0%);\n",
       "        }    #T_55b4f402_9cc6_11ea_94b4_28c63f94f556row33_col7 {\n",
       "            width:  10em;\n",
       "             height:  80%;\n",
       "            background:  linear-gradient(90deg,orange 19.2%, transparent 0%);\n",
       "        }    #T_55b4f402_9cc6_11ea_94b4_28c63f94f556row34_col2 {\n",
       "            width:  10em;\n",
       "             height:  80%;\n",
       "            background:  linear-gradient(90deg,#ee1f5f 28.7%, transparent 0%);\n",
       "        }    #T_55b4f402_9cc6_11ea_94b4_28c63f94f556row34_col4 {\n",
       "            width:  10em;\n",
       "             height:  80%;\n",
       "            background:  linear-gradient(90deg,lightgreen 55.0%, transparent 0%);\n",
       "        }    #T_55b4f402_9cc6_11ea_94b4_28c63f94f556row34_col7 {\n",
       "            width:  10em;\n",
       "             height:  80%;\n",
       "            background:  linear-gradient(90deg,orange 17.9%, transparent 0%);\n",
       "        }    #T_55b4f402_9cc6_11ea_94b4_28c63f94f556row35_col2 {\n",
       "            width:  10em;\n",
       "             height:  80%;\n",
       "            background:  linear-gradient(90deg,#ee1f5f 15.7%, transparent 0%);\n",
       "        }    #T_55b4f402_9cc6_11ea_94b4_28c63f94f556row35_col4 {\n",
       "            width:  10em;\n",
       "             height:  80%;\n",
       "            background:  linear-gradient(90deg,lightgreen 54.7%, transparent 0%);\n",
       "        }    #T_55b4f402_9cc6_11ea_94b4_28c63f94f556row35_col7 {\n",
       "            width:  10em;\n",
       "             height:  80%;\n",
       "            background:  linear-gradient(90deg,orange 16.6%, transparent 0%);\n",
       "        }    #T_55b4f402_9cc6_11ea_94b4_28c63f94f556row36_col2 {\n",
       "            width:  10em;\n",
       "             height:  80%;\n",
       "            background:  linear-gradient(90deg,#ee1f5f 14.3%, transparent 0%);\n",
       "        }    #T_55b4f402_9cc6_11ea_94b4_28c63f94f556row36_col4 {\n",
       "            width:  10em;\n",
       "             height:  80%;\n",
       "            background:  linear-gradient(90deg,lightgreen 53.5%, transparent 0%);\n",
       "        }    #T_55b4f402_9cc6_11ea_94b4_28c63f94f556row36_col7 {\n",
       "            width:  10em;\n",
       "             height:  80%;\n",
       "            background:  linear-gradient(90deg,orange 16.8%, transparent 0%);\n",
       "        }    #T_55b4f402_9cc6_11ea_94b4_28c63f94f556row37_col2 {\n",
       "            width:  10em;\n",
       "             height:  80%;\n",
       "            background:  linear-gradient(90deg,#ee1f5f 51.9%, transparent 0%);\n",
       "        }    #T_55b4f402_9cc6_11ea_94b4_28c63f94f556row37_col4 {\n",
       "            width:  10em;\n",
       "             height:  80%;\n",
       "            background:  linear-gradient(90deg,lightgreen 53.0%, transparent 0%);\n",
       "        }    #T_55b4f402_9cc6_11ea_94b4_28c63f94f556row37_col7 {\n",
       "            width:  10em;\n",
       "             height:  80%;\n",
       "            background:  linear-gradient(90deg,orange 18.8%, transparent 0%);\n",
       "        }    #T_55b4f402_9cc6_11ea_94b4_28c63f94f556row38_col2 {\n",
       "            width:  10em;\n",
       "             height:  80%;\n",
       "            background:  linear-gradient(90deg,#ee1f5f 2.9%, transparent 0%);\n",
       "        }    #T_55b4f402_9cc6_11ea_94b4_28c63f94f556row38_col4 {\n",
       "            width:  10em;\n",
       "             height:  80%;\n",
       "            background:  linear-gradient(90deg,lightgreen 52.7%, transparent 0%);\n",
       "        }    #T_55b4f402_9cc6_11ea_94b4_28c63f94f556row38_col7 {\n",
       "            width:  10em;\n",
       "             height:  80%;\n",
       "            background:  linear-gradient(90deg,orange 16.3%, transparent 0%);\n",
       "        }    #T_55b4f402_9cc6_11ea_94b4_28c63f94f556row39_col2 {\n",
       "            width:  10em;\n",
       "             height:  80%;\n",
       "            background:  linear-gradient(90deg,#ee1f5f 1.2%, transparent 0%);\n",
       "        }    #T_55b4f402_9cc6_11ea_94b4_28c63f94f556row39_col4 {\n",
       "            width:  10em;\n",
       "             height:  80%;\n",
       "            background:  linear-gradient(90deg,lightgreen 51.9%, transparent 0%);\n",
       "        }    #T_55b4f402_9cc6_11ea_94b4_28c63f94f556row39_col7 {\n",
       "            width:  10em;\n",
       "             height:  80%;\n",
       "            background:  linear-gradient(90deg,orange 15.7%, transparent 0%);\n",
       "        }    #T_55b4f402_9cc6_11ea_94b4_28c63f94f556row40_col2 {\n",
       "            width:  10em;\n",
       "             height:  80%;\n",
       "            background:  linear-gradient(90deg,#ee1f5f 24.8%, transparent 0%);\n",
       "        }    #T_55b4f402_9cc6_11ea_94b4_28c63f94f556row40_col4 {\n",
       "            width:  10em;\n",
       "             height:  80%;\n",
       "            background:  linear-gradient(90deg,lightgreen 51.6%, transparent 0%);\n",
       "        }    #T_55b4f402_9cc6_11ea_94b4_28c63f94f556row40_col7 {\n",
       "            width:  10em;\n",
       "             height:  80%;\n",
       "            background:  linear-gradient(90deg,orange 20.2%, transparent 0%);\n",
       "        }    #T_55b4f402_9cc6_11ea_94b4_28c63f94f556row41_col2 {\n",
       "            width:  10em;\n",
       "             height:  80%;\n",
       "            background:  linear-gradient(90deg,#ee1f5f 8.7%, transparent 0%);\n",
       "        }    #T_55b4f402_9cc6_11ea_94b4_28c63f94f556row41_col4 {\n",
       "            width:  10em;\n",
       "             height:  80%;\n",
       "            background:  linear-gradient(90deg,lightgreen 50.1%, transparent 0%);\n",
       "        }    #T_55b4f402_9cc6_11ea_94b4_28c63f94f556row41_col7 {\n",
       "            width:  10em;\n",
       "             height:  80%;\n",
       "            background:  linear-gradient(90deg,orange 21.6%, transparent 0%);\n",
       "        }    #T_55b4f402_9cc6_11ea_94b4_28c63f94f556row42_col2 {\n",
       "            width:  10em;\n",
       "             height:  80%;\n",
       "            background:  linear-gradient(90deg,#ee1f5f 11.3%, transparent 0%);\n",
       "        }    #T_55b4f402_9cc6_11ea_94b4_28c63f94f556row42_col4 {\n",
       "            width:  10em;\n",
       "             height:  80%;\n",
       "            background:  linear-gradient(90deg,lightgreen 49.4%, transparent 0%);\n",
       "        }    #T_55b4f402_9cc6_11ea_94b4_28c63f94f556row42_col7 {\n",
       "            width:  10em;\n",
       "             height:  80%;\n",
       "            background:  linear-gradient(90deg,orange 21.7%, transparent 0%);\n",
       "        }    #T_55b4f402_9cc6_11ea_94b4_28c63f94f556row43_col2 {\n",
       "            width:  10em;\n",
       "             height:  80%;\n",
       "            background:  linear-gradient(90deg,#ee1f5f 15.7%, transparent 0%);\n",
       "        }    #T_55b4f402_9cc6_11ea_94b4_28c63f94f556row43_col4 {\n",
       "            width:  10em;\n",
       "             height:  80%;\n",
       "            background:  linear-gradient(90deg,lightgreen 49.3%, transparent 0%);\n",
       "        }    #T_55b4f402_9cc6_11ea_94b4_28c63f94f556row43_col7 {\n",
       "            width:  10em;\n",
       "             height:  80%;\n",
       "            background:  linear-gradient(90deg,orange 22.2%, transparent 0%);\n",
       "        }    #T_55b4f402_9cc6_11ea_94b4_28c63f94f556row44_col2 {\n",
       "            width:  10em;\n",
       "             height:  80%;\n",
       "            background:  linear-gradient(90deg,#ee1f5f 11.1%, transparent 0%);\n",
       "        }    #T_55b4f402_9cc6_11ea_94b4_28c63f94f556row44_col4 {\n",
       "            width:  10em;\n",
       "             height:  80%;\n",
       "            background:  linear-gradient(90deg,lightgreen 45.4%, transparent 0%);\n",
       "        }    #T_55b4f402_9cc6_11ea_94b4_28c63f94f556row44_col7 {\n",
       "            width:  10em;\n",
       "             height:  80%;\n",
       "            background:  linear-gradient(90deg,orange 25.8%, transparent 0%);\n",
       "        }    #T_55b4f402_9cc6_11ea_94b4_28c63f94f556row45_col2 {\n",
       "            width:  10em;\n",
       "             height:  80%;\n",
       "            background:  linear-gradient(90deg,#ee1f5f 10.0%, transparent 0%);\n",
       "        }    #T_55b4f402_9cc6_11ea_94b4_28c63f94f556row45_col4 {\n",
       "            width:  10em;\n",
       "             height:  80%;\n",
       "            background:  linear-gradient(90deg,lightgreen 45.2%, transparent 0%);\n",
       "        }    #T_55b4f402_9cc6_11ea_94b4_28c63f94f556row45_col7 {\n",
       "            width:  10em;\n",
       "             height:  80%;\n",
       "            background:  linear-gradient(90deg,orange 26.7%, transparent 0%);\n",
       "        }    #T_55b4f402_9cc6_11ea_94b4_28c63f94f556row46_col2 {\n",
       "            width:  10em;\n",
       "             height:  80%;\n",
       "            background:  linear-gradient(90deg,#ee1f5f 3.9%, transparent 0%);\n",
       "        }    #T_55b4f402_9cc6_11ea_94b4_28c63f94f556row46_col4 {\n",
       "            width:  10em;\n",
       "             height:  80%;\n",
       "            background:  linear-gradient(90deg,lightgreen 44.7%, transparent 0%);\n",
       "        }    #T_55b4f402_9cc6_11ea_94b4_28c63f94f556row46_col7 {\n",
       "            width:  10em;\n",
       "             height:  80%;\n",
       "            background:  linear-gradient(90deg,orange 32.8%, transparent 0%);\n",
       "        }    #T_55b4f402_9cc6_11ea_94b4_28c63f94f556row47_col2 {\n",
       "            width:  10em;\n",
       "             height:  80%;\n",
       "            background:  linear-gradient(90deg,#ee1f5f 10.6%, transparent 0%);\n",
       "        }    #T_55b4f402_9cc6_11ea_94b4_28c63f94f556row47_col4 {\n",
       "            width:  10em;\n",
       "             height:  80%;\n",
       "            background:  linear-gradient(90deg,lightgreen 44.5%, transparent 0%);\n",
       "        }    #T_55b4f402_9cc6_11ea_94b4_28c63f94f556row47_col7 {\n",
       "            width:  10em;\n",
       "             height:  80%;\n",
       "            background:  linear-gradient(90deg,orange 30.7%, transparent 0%);\n",
       "        }    #T_55b4f402_9cc6_11ea_94b4_28c63f94f556row48_col2 {\n",
       "            width:  10em;\n",
       "             height:  80%;\n",
       "            background:  linear-gradient(90deg,#ee1f5f 6.2%, transparent 0%);\n",
       "        }    #T_55b4f402_9cc6_11ea_94b4_28c63f94f556row48_col4 {\n",
       "            width:  10em;\n",
       "             height:  80%;\n",
       "            background:  linear-gradient(90deg,lightgreen 40.9%, transparent 0%);\n",
       "        }    #T_55b4f402_9cc6_11ea_94b4_28c63f94f556row48_col7 {\n",
       "            width:  10em;\n",
       "             height:  80%;\n",
       "            background:  linear-gradient(90deg,orange 25.9%, transparent 0%);\n",
       "        }    #T_55b4f402_9cc6_11ea_94b4_28c63f94f556row49_col2 {\n",
       "            width:  10em;\n",
       "             height:  80%;\n",
       "            background:  linear-gradient(90deg,#ee1f5f 3.2%, transparent 0%);\n",
       "        }    #T_55b4f402_9cc6_11ea_94b4_28c63f94f556row49_col4 {\n",
       "            width:  10em;\n",
       "             height:  80%;\n",
       "            background:  linear-gradient(90deg,lightgreen 39.6%, transparent 0%);\n",
       "        }    #T_55b4f402_9cc6_11ea_94b4_28c63f94f556row49_col7 {\n",
       "            width:  10em;\n",
       "             height:  80%;\n",
       "            background:  linear-gradient(90deg,orange 26.4%, transparent 0%);\n",
       "        }    #T_55b4f402_9cc6_11ea_94b4_28c63f94f556row50_col2 {\n",
       "            width:  10em;\n",
       "             height:  80%;\n",
       "            background:  linear-gradient(90deg,#ee1f5f 6.2%, transparent 0%);\n",
       "        }    #T_55b4f402_9cc6_11ea_94b4_28c63f94f556row50_col4 {\n",
       "            width:  10em;\n",
       "             height:  80%;\n",
       "            background:  linear-gradient(90deg,lightgreen 37.5%, transparent 0%);\n",
       "        }    #T_55b4f402_9cc6_11ea_94b4_28c63f94f556row50_col7 {\n",
       "            width:  10em;\n",
       "             height:  80%;\n",
       "            background:  linear-gradient(90deg,orange 34.1%, transparent 0%);\n",
       "        }    #T_55b4f402_9cc6_11ea_94b4_28c63f94f556row51_col2 {\n",
       "            width:  10em;\n",
       "             height:  80%;\n",
       "            background:  linear-gradient(90deg,#ee1f5f 7.3%, transparent 0%);\n",
       "        }    #T_55b4f402_9cc6_11ea_94b4_28c63f94f556row51_col4 {\n",
       "            width:  10em;\n",
       "             height:  80%;\n",
       "        }    #T_55b4f402_9cc6_11ea_94b4_28c63f94f556row51_col7 {\n",
       "            width:  10em;\n",
       "             height:  80%;\n",
       "            background:  linear-gradient(90deg,orange 100.0%, transparent 0%);\n",
       "        }</style>  \n",
       "<table id=\"T_55b4f402_9cc6_11ea_94b4_28c63f94f556\" > \n",
       "<thead>    <tr> \n",
       "        <th class=\"col_heading level0 col0\" >State</th> \n",
       "        <th class=\"col_heading level0 col1\" >Name</th> \n",
       "        <th class=\"col_heading level0 col2\" >Population</th> \n",
       "        <th class=\"col_heading level0 col3\" >Median Age</th> \n",
       "        <th class=\"col_heading level0 col4\" >Household Income</th> \n",
       "        <th class=\"col_heading level0 col5\" >Per Capita Income</th> \n",
       "        <th class=\"col_heading level0 col6\" >Poverty Count</th> \n",
       "        <th class=\"col_heading level0 col7\" >Poverty Rate</th> \n",
       "        <th class=\"col_heading level0 col8\" >Unemployment Rate</th> \n",
       "    </tr></thead> \n",
       "<tbody>    <tr> \n",
       "        <td id=\"T_55b4f402_9cc6_11ea_94b4_28c63f94f556row0_col0\" class=\"data row0 col0\" >11</td> \n",
       "        <td id=\"T_55b4f402_9cc6_11ea_94b4_28c63f94f556row0_col1\" class=\"data row0 col1\" >District of Columbia</td> \n",
       "        <td id=\"T_55b4f402_9cc6_11ea_94b4_28c63f94f556row0_col2\" class=\"data row0 col2\" >             684,498</td> \n",
       "        <td id=\"T_55b4f402_9cc6_11ea_94b4_28c63f94f556row0_col3\" class=\"data row0 col3\" >33.9</td> \n",
       "        <td id=\"T_55b4f402_9cc6_11ea_94b4_28c63f94f556row0_col4\" class=\"data row0 col4\" >$              82,604</td> \n",
       "        <td id=\"T_55b4f402_9cc6_11ea_94b4_28c63f94f556row0_col5\" class=\"data row0 col5\" >53321</td> \n",
       "        <td id=\"T_55b4f402_9cc6_11ea_94b4_28c63f94f556row0_col6\" class=\"data row0 col6\" >             109,497</td> \n",
       "        <td id=\"T_55b4f402_9cc6_11ea_94b4_28c63f94f556row0_col7\" class=\"data row0 col7\" >                  16 %</td> \n",
       "        <td id=\"T_55b4f402_9cc6_11ea_94b4_28c63f94f556row0_col8\" class=\"data row0 col8\" >4.29117</td> \n",
       "    </tr>    <tr> \n",
       "        <td id=\"T_55b4f402_9cc6_11ea_94b4_28c63f94f556row1_col0\" class=\"data row1 col0\" >24</td> \n",
       "        <td id=\"T_55b4f402_9cc6_11ea_94b4_28c63f94f556row1_col1\" class=\"data row1 col1\" >Maryland</td> \n",
       "        <td id=\"T_55b4f402_9cc6_11ea_94b4_28c63f94f556row1_col2\" class=\"data row1 col2\" >           6,003,435</td> \n",
       "        <td id=\"T_55b4f402_9cc6_11ea_94b4_28c63f94f556row1_col3\" class=\"data row1 col3\" >38.6</td> \n",
       "        <td id=\"T_55b4f402_9cc6_11ea_94b4_28c63f94f556row1_col4\" class=\"data row1 col4\" >$              81,868</td> \n",
       "        <td id=\"T_55b4f402_9cc6_11ea_94b4_28c63f94f556row1_col5\" class=\"data row1 col5\" >40517</td> \n",
       "        <td id=\"T_55b4f402_9cc6_11ea_94b4_28c63f94f556row1_col6\" class=\"data row1 col6\" >             553,496</td> \n",
       "        <td id=\"T_55b4f402_9cc6_11ea_94b4_28c63f94f556row1_col7\" class=\"data row1 col7\" >                   9 %</td> \n",
       "        <td id=\"T_55b4f402_9cc6_11ea_94b4_28c63f94f556row1_col8\" class=\"data row1 col8\" >3.01642</td> \n",
       "    </tr>    <tr> \n",
       "        <td id=\"T_55b4f402_9cc6_11ea_94b4_28c63f94f556row2_col0\" class=\"data row2 col0\" >34</td> \n",
       "        <td id=\"T_55b4f402_9cc6_11ea_94b4_28c63f94f556row2_col1\" class=\"data row2 col1\" >New Jersey</td> \n",
       "        <td id=\"T_55b4f402_9cc6_11ea_94b4_28c63f94f556row2_col2\" class=\"data row2 col2\" >           8,881,845</td> \n",
       "        <td id=\"T_55b4f402_9cc6_11ea_94b4_28c63f94f556row2_col3\" class=\"data row2 col3\" >39.8</td> \n",
       "        <td id=\"T_55b4f402_9cc6_11ea_94b4_28c63f94f556row2_col4\" class=\"data row2 col4\" >$              79,363</td> \n",
       "        <td id=\"T_55b4f402_9cc6_11ea_94b4_28c63f94f556row2_col5\" class=\"data row2 col5\" >40895</td> \n",
       "        <td id=\"T_55b4f402_9cc6_11ea_94b4_28c63f94f556row2_col6\" class=\"data row2 col6\" >             904,132</td> \n",
       "        <td id=\"T_55b4f402_9cc6_11ea_94b4_28c63f94f556row2_col7\" class=\"data row2 col7\" >                  10 %</td> \n",
       "        <td id=\"T_55b4f402_9cc6_11ea_94b4_28c63f94f556row2_col8\" class=\"data row2 col8\" >3.20974</td> \n",
       "    </tr>    <tr> \n",
       "        <td id=\"T_55b4f402_9cc6_11ea_94b4_28c63f94f556row3_col0\" class=\"data row3 col0\" >15</td> \n",
       "        <td id=\"T_55b4f402_9cc6_11ea_94b4_28c63f94f556row3_col1\" class=\"data row3 col1\" >Hawaii</td> \n",
       "        <td id=\"T_55b4f402_9cc6_11ea_94b4_28c63f94f556row3_col2\" class=\"data row3 col2\" >           1,422,029</td> \n",
       "        <td id=\"T_55b4f402_9cc6_11ea_94b4_28c63f94f556row3_col3\" class=\"data row3 col3\" >38.9</td> \n",
       "        <td id=\"T_55b4f402_9cc6_11ea_94b4_28c63f94f556row3_col4\" class=\"data row3 col4\" >$              78,084</td> \n",
       "        <td id=\"T_55b4f402_9cc6_11ea_94b4_28c63f94f556row3_col5\" class=\"data row3 col5\" >34035</td> \n",
       "        <td id=\"T_55b4f402_9cc6_11ea_94b4_28c63f94f556row3_col6\" class=\"data row3 col6\" >             137,516</td> \n",
       "        <td id=\"T_55b4f402_9cc6_11ea_94b4_28c63f94f556row3_col7\" class=\"data row3 col7\" >                  10 %</td> \n",
       "        <td id=\"T_55b4f402_9cc6_11ea_94b4_28c63f94f556row3_col8\" class=\"data row3 col8\" >2.25284</td> \n",
       "    </tr>    <tr> \n",
       "        <td id=\"T_55b4f402_9cc6_11ea_94b4_28c63f94f556row4_col0\" class=\"data row4 col0\" >25</td> \n",
       "        <td id=\"T_55b4f402_9cc6_11ea_94b4_28c63f94f556row4_col1\" class=\"data row4 col1\" >Massachusetts</td> \n",
       "        <td id=\"T_55b4f402_9cc6_11ea_94b4_28c63f94f556row4_col2\" class=\"data row4 col2\" >           6,830,193</td> \n",
       "        <td id=\"T_55b4f402_9cc6_11ea_94b4_28c63f94f556row4_col3\" class=\"data row4 col3\" >39.4</td> \n",
       "        <td id=\"T_55b4f402_9cc6_11ea_94b4_28c63f94f556row4_col4\" class=\"data row4 col4\" >$              77,378</td> \n",
       "        <td id=\"T_55b4f402_9cc6_11ea_94b4_28c63f94f556row4_col5\" class=\"data row4 col5\" >41794</td> \n",
       "        <td id=\"T_55b4f402_9cc6_11ea_94b4_28c63f94f556row4_col6\" class=\"data row4 col6\" >             710,305</td> \n",
       "        <td id=\"T_55b4f402_9cc6_11ea_94b4_28c63f94f556row4_col7\" class=\"data row4 col7\" >                  10 %</td> \n",
       "        <td id=\"T_55b4f402_9cc6_11ea_94b4_28c63f94f556row4_col8\" class=\"data row4 col8\" >2.97889</td> \n",
       "    </tr>    <tr> \n",
       "        <td id=\"T_55b4f402_9cc6_11ea_94b4_28c63f94f556row5_col0\" class=\"data row5 col0\" >02</td> \n",
       "        <td id=\"T_55b4f402_9cc6_11ea_94b4_28c63f94f556row5_col1\" class=\"data row5 col1\" >Alaska</td> \n",
       "        <td id=\"T_55b4f402_9cc6_11ea_94b4_28c63f94f556row5_col2\" class=\"data row5 col2\" >             738,516</td> \n",
       "        <td id=\"T_55b4f402_9cc6_11ea_94b4_28c63f94f556row5_col3\" class=\"data row5 col3\" >34</td> \n",
       "        <td id=\"T_55b4f402_9cc6_11ea_94b4_28c63f94f556row5_col4\" class=\"data row5 col4\" >$              76,715</td> \n",
       "        <td id=\"T_55b4f402_9cc6_11ea_94b4_28c63f94f556row5_col5\" class=\"data row5 col5\" >35874</td> \n",
       "        <td id=\"T_55b4f402_9cc6_11ea_94b4_28c63f94f556row5_col6\" class=\"data row5 col6\" >              77,865</td> \n",
       "        <td id=\"T_55b4f402_9cc6_11ea_94b4_28c63f94f556row5_col7\" class=\"data row5 col7\" >                  11 %</td> \n",
       "        <td id=\"T_55b4f402_9cc6_11ea_94b4_28c63f94f556row5_col8\" class=\"data row5 col8\" >3.80046</td> \n",
       "    </tr>    <tr> \n",
       "        <td id=\"T_55b4f402_9cc6_11ea_94b4_28c63f94f556row6_col0\" class=\"data row6 col0\" >09</td> \n",
       "        <td id=\"T_55b4f402_9cc6_11ea_94b4_28c63f94f556row6_col1\" class=\"data row6 col1\" >Connecticut</td> \n",
       "        <td id=\"T_55b4f402_9cc6_11ea_94b4_28c63f94f556row6_col2\" class=\"data row6 col2\" >           3,581,504</td> \n",
       "        <td id=\"T_55b4f402_9cc6_11ea_94b4_28c63f94f556row6_col3\" class=\"data row6 col3\" >40.8</td> \n",
       "        <td id=\"T_55b4f402_9cc6_11ea_94b4_28c63f94f556row6_col4\" class=\"data row6 col4\" >$              76,106</td> \n",
       "        <td id=\"T_55b4f402_9cc6_11ea_94b4_28c63f94f556row6_col5\" class=\"data row6 col5\" >43056</td> \n",
       "        <td id=\"T_55b4f402_9cc6_11ea_94b4_28c63f94f556row6_col6\" class=\"data row6 col6\" >             348,449</td> \n",
       "        <td id=\"T_55b4f402_9cc6_11ea_94b4_28c63f94f556row6_col7\" class=\"data row6 col7\" >                  10 %</td> \n",
       "        <td id=\"T_55b4f402_9cc6_11ea_94b4_28c63f94f556row6_col8\" class=\"data row6 col8\" >3.51553</td> \n",
       "    </tr>    <tr> \n",
       "        <td id=\"T_55b4f402_9cc6_11ea_94b4_28c63f94f556row7_col0\" class=\"data row7 col0\" >33</td> \n",
       "        <td id=\"T_55b4f402_9cc6_11ea_94b4_28c63f94f556row7_col1\" class=\"data row7 col1\" >New Hampshire</td> \n",
       "        <td id=\"T_55b4f402_9cc6_11ea_94b4_28c63f94f556row7_col2\" class=\"data row7 col2\" >           1,343,622</td> \n",
       "        <td id=\"T_55b4f402_9cc6_11ea_94b4_28c63f94f556row7_col3\" class=\"data row7 col3\" >42.7</td> \n",
       "        <td id=\"T_55b4f402_9cc6_11ea_94b4_28c63f94f556row7_col4\" class=\"data row7 col4\" >$              74,057</td> \n",
       "        <td id=\"T_55b4f402_9cc6_11ea_94b4_28c63f94f556row7_col5\" class=\"data row7 col5\" >38548</td> \n",
       "        <td id=\"T_55b4f402_9cc6_11ea_94b4_28c63f94f556row7_col6\" class=\"data row7 col6\" >             102,352</td> \n",
       "        <td id=\"T_55b4f402_9cc6_11ea_94b4_28c63f94f556row7_col7\" class=\"data row7 col7\" >                   8 %</td> \n",
       "        <td id=\"T_55b4f402_9cc6_11ea_94b4_28c63f94f556row7_col8\" class=\"data row7 col8\" >2.26195</td> \n",
       "    </tr>    <tr> \n",
       "        <td id=\"T_55b4f402_9cc6_11ea_94b4_28c63f94f556row8_col0\" class=\"data row8 col0\" >51</td> \n",
       "        <td id=\"T_55b4f402_9cc6_11ea_94b4_28c63f94f556row8_col1\" class=\"data row8 col1\" >Virginia</td> \n",
       "        <td id=\"T_55b4f402_9cc6_11ea_94b4_28c63f94f556row8_col2\" class=\"data row8 col2\" >           8,413,774</td> \n",
       "        <td id=\"T_55b4f402_9cc6_11ea_94b4_28c63f94f556row8_col3\" class=\"data row8 col3\" >38.1</td> \n",
       "        <td id=\"T_55b4f402_9cc6_11ea_94b4_28c63f94f556row8_col4\" class=\"data row8 col4\" >$              71,564</td> \n",
       "        <td id=\"T_55b4f402_9cc6_11ea_94b4_28c63f94f556row8_col5\" class=\"data row8 col5\" >37763</td> \n",
       "        <td id=\"T_55b4f402_9cc6_11ea_94b4_28c63f94f556row8_col6\" class=\"data row8 col6\" >             893,580</td> \n",
       "        <td id=\"T_55b4f402_9cc6_11ea_94b4_28c63f94f556row8_col7\" class=\"data row8 col7\" >                  11 %</td> \n",
       "        <td id=\"T_55b4f402_9cc6_11ea_94b4_28c63f94f556row8_col8\" class=\"data row8 col8\" >2.58707</td> \n",
       "    </tr>    <tr> \n",
       "        <td id=\"T_55b4f402_9cc6_11ea_94b4_28c63f94f556row9_col0\" class=\"data row9 col0\" >06</td> \n",
       "        <td id=\"T_55b4f402_9cc6_11ea_94b4_28c63f94f556row9_col1\" class=\"data row9 col1\" >California</td> \n",
       "        <td id=\"T_55b4f402_9cc6_11ea_94b4_28c63f94f556row9_col2\" class=\"data row9 col2\" >          39,148,760</td> \n",
       "        <td id=\"T_55b4f402_9cc6_11ea_94b4_28c63f94f556row9_col3\" class=\"data row9 col3\" >36.3</td> \n",
       "        <td id=\"T_55b4f402_9cc6_11ea_94b4_28c63f94f556row9_col4\" class=\"data row9 col4\" >$              71,228</td> \n",
       "        <td id=\"T_55b4f402_9cc6_11ea_94b4_28c63f94f556row9_col5\" class=\"data row9 col5\" >35021</td> \n",
       "        <td id=\"T_55b4f402_9cc6_11ea_94b4_28c63f94f556row9_col6\" class=\"data row9 col6\" >           5,487,141</td> \n",
       "        <td id=\"T_55b4f402_9cc6_11ea_94b4_28c63f94f556row9_col7\" class=\"data row9 col7\" >                  14 %</td> \n",
       "        <td id=\"T_55b4f402_9cc6_11ea_94b4_28c63f94f556row9_col8\" class=\"data row9 col8\" >3.37559</td> \n",
       "    </tr>    <tr> \n",
       "        <td id=\"T_55b4f402_9cc6_11ea_94b4_28c63f94f556row10_col0\" class=\"data row10 col0\" >53</td> \n",
       "        <td id=\"T_55b4f402_9cc6_11ea_94b4_28c63f94f556row10_col1\" class=\"data row10 col1\" >Washington</td> \n",
       "        <td id=\"T_55b4f402_9cc6_11ea_94b4_28c63f94f556row10_col2\" class=\"data row10 col2\" >           7,294,336</td> \n",
       "        <td id=\"T_55b4f402_9cc6_11ea_94b4_28c63f94f556row10_col3\" class=\"data row10 col3\" >37.6</td> \n",
       "        <td id=\"T_55b4f402_9cc6_11ea_94b4_28c63f94f556row10_col4\" class=\"data row10 col4\" >$              70,116</td> \n",
       "        <td id=\"T_55b4f402_9cc6_11ea_94b4_28c63f94f556row10_col5\" class=\"data row10 col5\" >36888</td> \n",
       "        <td id=\"T_55b4f402_9cc6_11ea_94b4_28c63f94f556row10_col6\" class=\"data row10 col6\" >             821,621</td> \n",
       "        <td id=\"T_55b4f402_9cc6_11ea_94b4_28c63f94f556row10_col7\" class=\"data row10 col7\" >                  11 %</td> \n",
       "        <td id=\"T_55b4f402_9cc6_11ea_94b4_28c63f94f556row10_col8\" class=\"data row10 col8\" >2.71896</td> \n",
       "    </tr>    <tr> \n",
       "        <td id=\"T_55b4f402_9cc6_11ea_94b4_28c63f94f556row11_col0\" class=\"data row11 col0\" >08</td> \n",
       "        <td id=\"T_55b4f402_9cc6_11ea_94b4_28c63f94f556row11_col1\" class=\"data row11 col1\" >Colorado</td> \n",
       "        <td id=\"T_55b4f402_9cc6_11ea_94b4_28c63f94f556row11_col2\" class=\"data row11 col2\" >           5,531,141</td> \n",
       "        <td id=\"T_55b4f402_9cc6_11ea_94b4_28c63f94f556row11_col3\" class=\"data row11 col3\" >36.6</td> \n",
       "        <td id=\"T_55b4f402_9cc6_11ea_94b4_28c63f94f556row11_col4\" class=\"data row11 col4\" >$              68,811</td> \n",
       "        <td id=\"T_55b4f402_9cc6_11ea_94b4_28c63f94f556row11_col5\" class=\"data row11 col5\" >36415</td> \n",
       "        <td id=\"T_55b4f402_9cc6_11ea_94b4_28c63f94f556row11_col6\" class=\"data row11 col6\" >             590,504</td> \n",
       "        <td id=\"T_55b4f402_9cc6_11ea_94b4_28c63f94f556row11_col7\" class=\"data row11 col7\" >                  11 %</td> \n",
       "        <td id=\"T_55b4f402_9cc6_11ea_94b4_28c63f94f556row11_col8\" class=\"data row11 col8\" >2.51894</td> \n",
       "    </tr>    <tr> \n",
       "        <td id=\"T_55b4f402_9cc6_11ea_94b4_28c63f94f556row12_col0\" class=\"data row12 col0\" >27</td> \n",
       "        <td id=\"T_55b4f402_9cc6_11ea_94b4_28c63f94f556row12_col1\" class=\"data row12 col1\" >Minnesota</td> \n",
       "        <td id=\"T_55b4f402_9cc6_11ea_94b4_28c63f94f556row12_col2\" class=\"data row12 col2\" >           5,527,358</td> \n",
       "        <td id=\"T_55b4f402_9cc6_11ea_94b4_28c63f94f556row12_col3\" class=\"data row12 col3\" >37.9</td> \n",
       "        <td id=\"T_55b4f402_9cc6_11ea_94b4_28c63f94f556row12_col4\" class=\"data row12 col4\" >$              68,411</td> \n",
       "        <td id=\"T_55b4f402_9cc6_11ea_94b4_28c63f94f556row12_col5\" class=\"data row12 col5\" >36245</td> \n",
       "        <td id=\"T_55b4f402_9cc6_11ea_94b4_28c63f94f556row12_col6\" class=\"data row12 col6\" >             547,442</td> \n",
       "        <td id=\"T_55b4f402_9cc6_11ea_94b4_28c63f94f556row12_col7\" class=\"data row12 col7\" >                  10 %</td> \n",
       "        <td id=\"T_55b4f402_9cc6_11ea_94b4_28c63f94f556row12_col8\" class=\"data row12 col8\" >2.15687</td> \n",
       "    </tr>    <tr> \n",
       "        <td id=\"T_55b4f402_9cc6_11ea_94b4_28c63f94f556row13_col0\" class=\"data row13 col0\" >49</td> \n",
       "        <td id=\"T_55b4f402_9cc6_11ea_94b4_28c63f94f556row13_col1\" class=\"data row13 col1\" >Utah</td> \n",
       "        <td id=\"T_55b4f402_9cc6_11ea_94b4_28c63f94f556row13_col2\" class=\"data row13 col2\" >           3,045,350</td> \n",
       "        <td id=\"T_55b4f402_9cc6_11ea_94b4_28c63f94f556row13_col3\" class=\"data row13 col3\" >30.7</td> \n",
       "        <td id=\"T_55b4f402_9cc6_11ea_94b4_28c63f94f556row13_col4\" class=\"data row13 col4\" >$              68,374</td> \n",
       "        <td id=\"T_55b4f402_9cc6_11ea_94b4_28c63f94f556row13_col5\" class=\"data row13 col5\" >28239</td> \n",
       "        <td id=\"T_55b4f402_9cc6_11ea_94b4_28c63f94f556row13_col6\" class=\"data row13 col6\" >             309,904</td> \n",
       "        <td id=\"T_55b4f402_9cc6_11ea_94b4_28c63f94f556row13_col7\" class=\"data row13 col7\" >                  10 %</td> \n",
       "        <td id=\"T_55b4f402_9cc6_11ea_94b4_28c63f94f556row13_col8\" class=\"data row13 col8\" >1.936</td> \n",
       "    </tr>    <tr> \n",
       "        <td id=\"T_55b4f402_9cc6_11ea_94b4_28c63f94f556row14_col0\" class=\"data row14 col0\" >10</td> \n",
       "        <td id=\"T_55b4f402_9cc6_11ea_94b4_28c63f94f556row14_col1\" class=\"data row14 col1\" >Delaware</td> \n",
       "        <td id=\"T_55b4f402_9cc6_11ea_94b4_28c63f94f556row14_col2\" class=\"data row14 col2\" >             949,495</td> \n",
       "        <td id=\"T_55b4f402_9cc6_11ea_94b4_28c63f94f556row14_col3\" class=\"data row14 col3\" >40.2</td> \n",
       "        <td id=\"T_55b4f402_9cc6_11ea_94b4_28c63f94f556row14_col4\" class=\"data row14 col4\" >$              65,627</td> \n",
       "        <td id=\"T_55b4f402_9cc6_11ea_94b4_28c63f94f556row14_col5\" class=\"data row14 col5\" >33989</td> \n",
       "        <td id=\"T_55b4f402_9cc6_11ea_94b4_28c63f94f556row14_col6\" class=\"data row14 col6\" >             109,798</td> \n",
       "        <td id=\"T_55b4f402_9cc6_11ea_94b4_28c63f94f556row14_col7\" class=\"data row14 col7\" >                  12 %</td> \n",
       "        <td id=\"T_55b4f402_9cc6_11ea_94b4_28c63f94f556row14_col8\" class=\"data row14 col8\" >3.0017</td> \n",
       "    </tr>    <tr> \n",
       "        <td id=\"T_55b4f402_9cc6_11ea_94b4_28c63f94f556row15_col0\" class=\"data row15 col0\" >36</td> \n",
       "        <td id=\"T_55b4f402_9cc6_11ea_94b4_28c63f94f556row15_col1\" class=\"data row15 col1\" >New York</td> \n",
       "        <td id=\"T_55b4f402_9cc6_11ea_94b4_28c63f94f556row15_col2\" class=\"data row15 col2\" >          19,618,453</td> \n",
       "        <td id=\"T_55b4f402_9cc6_11ea_94b4_28c63f94f556row15_col3\" class=\"data row15 col3\" >38.7</td> \n",
       "        <td id=\"T_55b4f402_9cc6_11ea_94b4_28c63f94f556row15_col4\" class=\"data row15 col4\" >$              65,323</td> \n",
       "        <td id=\"T_55b4f402_9cc6_11ea_94b4_28c63f94f556row15_col5\" class=\"data row15 col5\" >37470</td> \n",
       "        <td id=\"T_55b4f402_9cc6_11ea_94b4_28c63f94f556row15_col6\" class=\"data row15 col6\" >           2,797,985</td> \n",
       "        <td id=\"T_55b4f402_9cc6_11ea_94b4_28c63f94f556row15_col7\" class=\"data row15 col7\" >                  14 %</td> \n",
       "        <td id=\"T_55b4f402_9cc6_11ea_94b4_28c63f94f556row15_col8\" class=\"data row15 col8\" >3.07178</td> \n",
       "    </tr>    <tr> \n",
       "        <td id=\"T_55b4f402_9cc6_11ea_94b4_28c63f94f556row16_col0\" class=\"data row16 col0\" >17</td> \n",
       "        <td id=\"T_55b4f402_9cc6_11ea_94b4_28c63f94f556row16_col1\" class=\"data row16 col1\" >Illinois</td> \n",
       "        <td id=\"T_55b4f402_9cc6_11ea_94b4_28c63f94f556row16_col2\" class=\"data row16 col2\" >          12,821,497</td> \n",
       "        <td id=\"T_55b4f402_9cc6_11ea_94b4_28c63f94f556row16_col3\" class=\"data row16 col3\" >37.9</td> \n",
       "        <td id=\"T_55b4f402_9cc6_11ea_94b4_28c63f94f556row16_col4\" class=\"data row16 col4\" >$              63,575</td> \n",
       "        <td id=\"T_55b4f402_9cc6_11ea_94b4_28c63f94f556row16_col5\" class=\"data row16 col5\" >34463</td> \n",
       "        <td id=\"T_55b4f402_9cc6_11ea_94b4_28c63f94f556row16_col6\" class=\"data row16 col6\" >           1,635,603</td> \n",
       "        <td id=\"T_55b4f402_9cc6_11ea_94b4_28c63f94f556row16_col7\" class=\"data row16 col7\" >                  13 %</td> \n",
       "        <td id=\"T_55b4f402_9cc6_11ea_94b4_28c63f94f556row16_col8\" class=\"data row16 col8\" >3.40942</td> \n",
       "    </tr>    <tr> \n",
       "        <td id=\"T_55b4f402_9cc6_11ea_94b4_28c63f94f556row17_col0\" class=\"data row17 col0\" >38</td> \n",
       "        <td id=\"T_55b4f402_9cc6_11ea_94b4_28c63f94f556row17_col1\" class=\"data row17 col1\" >North Dakota</td> \n",
       "        <td id=\"T_55b4f402_9cc6_11ea_94b4_28c63f94f556row17_col2\" class=\"data row17 col2\" >             752,201</td> \n",
       "        <td id=\"T_55b4f402_9cc6_11ea_94b4_28c63f94f556row17_col3\" class=\"data row17 col3\" >35.1</td> \n",
       "        <td id=\"T_55b4f402_9cc6_11ea_94b4_28c63f94f556row17_col4\" class=\"data row17 col4\" >$              63,473</td> \n",
       "        <td id=\"T_55b4f402_9cc6_11ea_94b4_28c63f94f556row17_col5\" class=\"data row17 col5\" >35373</td> \n",
       "        <td id=\"T_55b4f402_9cc6_11ea_94b4_28c63f94f556row17_col6\" class=\"data row17 col6\" >              79,270</td> \n",
       "        <td id=\"T_55b4f402_9cc6_11ea_94b4_28c63f94f556row17_col7\" class=\"data row17 col7\" >                  11 %</td> \n",
       "        <td id=\"T_55b4f402_9cc6_11ea_94b4_28c63f94f556row17_col8\" class=\"data row17 col8\" >1.55397</td> \n",
       "    </tr>    <tr> \n",
       "        <td id=\"T_55b4f402_9cc6_11ea_94b4_28c63f94f556row18_col0\" class=\"data row18 col0\" >44</td> \n",
       "        <td id=\"T_55b4f402_9cc6_11ea_94b4_28c63f94f556row18_col1\" class=\"data row18 col1\" >Rhode Island</td> \n",
       "        <td id=\"T_55b4f402_9cc6_11ea_94b4_28c63f94f556row18_col2\" class=\"data row18 col2\" >           1,056,611</td> \n",
       "        <td id=\"T_55b4f402_9cc6_11ea_94b4_28c63f94f556row18_col3\" class=\"data row18 col3\" >39.9</td> \n",
       "        <td id=\"T_55b4f402_9cc6_11ea_94b4_28c63f94f556row18_col4\" class=\"data row18 col4\" >$              63,296</td> \n",
       "        <td id=\"T_55b4f402_9cc6_11ea_94b4_28c63f94f556row18_col5\" class=\"data row18 col5\" >34619</td> \n",
       "        <td id=\"T_55b4f402_9cc6_11ea_94b4_28c63f94f556row18_col6\" class=\"data row18 col6\" >             133,055</td> \n",
       "        <td id=\"T_55b4f402_9cc6_11ea_94b4_28c63f94f556row18_col7\" class=\"data row18 col7\" >                  13 %</td> \n",
       "        <td id=\"T_55b4f402_9cc6_11ea_94b4_28c63f94f556row18_col8\" class=\"data row18 col8\" >3.26317</td> \n",
       "    </tr>    <tr> \n",
       "        <td id=\"T_55b4f402_9cc6_11ea_94b4_28c63f94f556row19_col0\" class=\"data row19 col0\" >56</td> \n",
       "        <td id=\"T_55b4f402_9cc6_11ea_94b4_28c63f94f556row19_col1\" class=\"data row19 col1\" >Wyoming</td> \n",
       "        <td id=\"T_55b4f402_9cc6_11ea_94b4_28c63f94f556row19_col2\" class=\"data row19 col2\" >             581,836</td> \n",
       "        <td id=\"T_55b4f402_9cc6_11ea_94b4_28c63f94f556row19_col3\" class=\"data row19 col3\" >37.3</td> \n",
       "        <td id=\"T_55b4f402_9cc6_11ea_94b4_28c63f94f556row19_col4\" class=\"data row19 col4\" >$              62,268</td> \n",
       "        <td id=\"T_55b4f402_9cc6_11ea_94b4_28c63f94f556row19_col5\" class=\"data row19 col5\" >32295</td> \n",
       "        <td id=\"T_55b4f402_9cc6_11ea_94b4_28c63f94f556row19_col6\" class=\"data row19 col6\" >              63,311</td> \n",
       "        <td id=\"T_55b4f402_9cc6_11ea_94b4_28c63f94f556row19_col7\" class=\"data row19 col7\" >                  11 %</td> \n",
       "        <td id=\"T_55b4f402_9cc6_11ea_94b4_28c63f94f556row19_col8\" class=\"data row19 col8\" >2.35204</td> \n",
       "    </tr>    <tr> \n",
       "        <td id=\"T_55b4f402_9cc6_11ea_94b4_28c63f94f556row20_col0\" class=\"data row20 col0\" >50</td> \n",
       "        <td id=\"T_55b4f402_9cc6_11ea_94b4_28c63f94f556row20_col1\" class=\"data row20 col1\" >Vermont</td> \n",
       "        <td id=\"T_55b4f402_9cc6_11ea_94b4_28c63f94f556row20_col2\" class=\"data row20 col2\" >             624,977</td> \n",
       "        <td id=\"T_55b4f402_9cc6_11ea_94b4_28c63f94f556row20_col3\" class=\"data row20 col3\" >42.9</td> \n",
       "        <td id=\"T_55b4f402_9cc6_11ea_94b4_28c63f94f556row20_col4\" class=\"data row20 col4\" >$              60,076</td> \n",
       "        <td id=\"T_55b4f402_9cc6_11ea_94b4_28c63f94f556row20_col5\" class=\"data row20 col5\" >33238</td> \n",
       "        <td id=\"T_55b4f402_9cc6_11ea_94b4_28c63f94f556row20_col6\" class=\"data row20 col6\" >              67,034</td> \n",
       "        <td id=\"T_55b4f402_9cc6_11ea_94b4_28c63f94f556row20_col7\" class=\"data row20 col7\" >                  11 %</td> \n",
       "        <td id=\"T_55b4f402_9cc6_11ea_94b4_28c63f94f556row20_col8\" class=\"data row20 col8\" >2.22056</td> \n",
       "    </tr>    <tr> \n",
       "        <td id=\"T_55b4f402_9cc6_11ea_94b4_28c63f94f556row21_col0\" class=\"data row21 col0\" >48</td> \n",
       "        <td id=\"T_55b4f402_9cc6_11ea_94b4_28c63f94f556row21_col1\" class=\"data row21 col1\" >Texas</td> \n",
       "        <td id=\"T_55b4f402_9cc6_11ea_94b4_28c63f94f556row21_col2\" class=\"data row21 col2\" >          27,885,195</td> \n",
       "        <td id=\"T_55b4f402_9cc6_11ea_94b4_28c63f94f556row21_col3\" class=\"data row21 col3\" >34.4</td> \n",
       "        <td id=\"T_55b4f402_9cc6_11ea_94b4_28c63f94f556row21_col4\" class=\"data row21 col4\" >$              59,570</td> \n",
       "        <td id=\"T_55b4f402_9cc6_11ea_94b4_28c63f94f556row21_col5\" class=\"data row21 col5\" >30143</td> \n",
       "        <td id=\"T_55b4f402_9cc6_11ea_94b4_28c63f94f556row21_col6\" class=\"data row21 col6\" >           4,213,938</td> \n",
       "        <td id=\"T_55b4f402_9cc6_11ea_94b4_28c63f94f556row21_col7\" class=\"data row21 col7\" >                  15 %</td> \n",
       "        <td id=\"T_55b4f402_9cc6_11ea_94b4_28c63f94f556row21_col8\" class=\"data row21 col8\" >2.66452</td> \n",
       "    </tr>    <tr> \n",
       "        <td id=\"T_55b4f402_9cc6_11ea_94b4_28c63f94f556row22_col0\" class=\"data row22 col0\" >42</td> \n",
       "        <td id=\"T_55b4f402_9cc6_11ea_94b4_28c63f94f556row22_col1\" class=\"data row22 col1\" >Pennsylvania</td> \n",
       "        <td id=\"T_55b4f402_9cc6_11ea_94b4_28c63f94f556row22_col2\" class=\"data row22 col2\" >          12,791,181</td> \n",
       "        <td id=\"T_55b4f402_9cc6_11ea_94b4_28c63f94f556row22_col3\" class=\"data row22 col3\" >40.7</td> \n",
       "        <td id=\"T_55b4f402_9cc6_11ea_94b4_28c63f94f556row22_col4\" class=\"data row22 col4\" >$              59,445</td> \n",
       "        <td id=\"T_55b4f402_9cc6_11ea_94b4_28c63f94f556row22_col5\" class=\"data row22 col5\" >32889</td> \n",
       "        <td id=\"T_55b4f402_9cc6_11ea_94b4_28c63f94f556row22_col6\" class=\"data row22 col6\" >           1,578,949</td> \n",
       "        <td id=\"T_55b4f402_9cc6_11ea_94b4_28c63f94f556row22_col7\" class=\"data row22 col7\" >                  12 %</td> \n",
       "        <td id=\"T_55b4f402_9cc6_11ea_94b4_28c63f94f556row22_col8\" class=\"data row22 col8\" >2.96896</td> \n",
       "    </tr>    <tr> \n",
       "        <td id=\"T_55b4f402_9cc6_11ea_94b4_28c63f94f556row23_col0\" class=\"data row23 col0\" >41</td> \n",
       "        <td id=\"T_55b4f402_9cc6_11ea_94b4_28c63f94f556row23_col1\" class=\"data row23 col1\" >Oregon</td> \n",
       "        <td id=\"T_55b4f402_9cc6_11ea_94b4_28c63f94f556row23_col2\" class=\"data row23 col2\" >           4,081,943</td> \n",
       "        <td id=\"T_55b4f402_9cc6_11ea_94b4_28c63f94f556row23_col3\" class=\"data row23 col3\" >39.2</td> \n",
       "        <td id=\"T_55b4f402_9cc6_11ea_94b4_28c63f94f556row23_col4\" class=\"data row23 col4\" >$              59,393</td> \n",
       "        <td id=\"T_55b4f402_9cc6_11ea_94b4_28c63f94f556row23_col5\" class=\"data row23 col5\" >32045</td> \n",
       "        <td id=\"T_55b4f402_9cc6_11ea_94b4_28c63f94f556row23_col6\" class=\"data row23 col6\" >             565,247</td> \n",
       "        <td id=\"T_55b4f402_9cc6_11ea_94b4_28c63f94f556row23_col7\" class=\"data row23 col7\" >                  14 %</td> \n",
       "        <td id=\"T_55b4f402_9cc6_11ea_94b4_28c63f94f556row23_col8\" class=\"data row23 col8\" >3.02515</td> \n",
       "    </tr>    <tr> \n",
       "        <td id=\"T_55b4f402_9cc6_11ea_94b4_28c63f94f556row24_col0\" class=\"data row24 col0\" >55</td> \n",
       "        <td id=\"T_55b4f402_9cc6_11ea_94b4_28c63f94f556row24_col1\" class=\"data row24 col1\" >Wisconsin</td> \n",
       "        <td id=\"T_55b4f402_9cc6_11ea_94b4_28c63f94f556row24_col2\" class=\"data row24 col2\" >           5,778,394</td> \n",
       "        <td id=\"T_55b4f402_9cc6_11ea_94b4_28c63f94f556row24_col3\" class=\"data row24 col3\" >39.3</td> \n",
       "        <td id=\"T_55b4f402_9cc6_11ea_94b4_28c63f94f556row24_col4\" class=\"data row24 col4\" >$              59,209</td> \n",
       "        <td id=\"T_55b4f402_9cc6_11ea_94b4_28c63f94f556row24_col5\" class=\"data row24 col5\" >32018</td> \n",
       "        <td id=\"T_55b4f402_9cc6_11ea_94b4_28c63f94f556row24_col6\" class=\"data row24 col6\" >             668,220</td> \n",
       "        <td id=\"T_55b4f402_9cc6_11ea_94b4_28c63f94f556row24_col7\" class=\"data row24 col7\" >                  12 %</td> \n",
       "        <td id=\"T_55b4f402_9cc6_11ea_94b4_28c63f94f556row24_col8\" class=\"data row24 col8\" >2.15963</td> \n",
       "    </tr>    <tr> \n",
       "        <td id=\"T_55b4f402_9cc6_11ea_94b4_28c63f94f556row25_col0\" class=\"data row25 col0\" >31</td> \n",
       "        <td id=\"T_55b4f402_9cc6_11ea_94b4_28c63f94f556row25_col1\" class=\"data row25 col1\" >Nebraska</td> \n",
       "        <td id=\"T_55b4f402_9cc6_11ea_94b4_28c63f94f556row25_col2\" class=\"data row25 col2\" >           1,904,760</td> \n",
       "        <td id=\"T_55b4f402_9cc6_11ea_94b4_28c63f94f556row25_col3\" class=\"data row25 col3\" >36.4</td> \n",
       "        <td id=\"T_55b4f402_9cc6_11ea_94b4_28c63f94f556row25_col4\" class=\"data row25 col4\" >$              59,116</td> \n",
       "        <td id=\"T_55b4f402_9cc6_11ea_94b4_28c63f94f556row25_col5\" class=\"data row25 col5\" >31101</td> \n",
       "        <td id=\"T_55b4f402_9cc6_11ea_94b4_28c63f94f556row25_col6\" class=\"data row25 col6\" >             213,790</td> \n",
       "        <td id=\"T_55b4f402_9cc6_11ea_94b4_28c63f94f556row25_col7\" class=\"data row25 col7\" >                  11 %</td> \n",
       "        <td id=\"T_55b4f402_9cc6_11ea_94b4_28c63f94f556row25_col8\" class=\"data row25 col8\" >1.91861</td> \n",
       "    </tr>    <tr> \n",
       "        <td id=\"T_55b4f402_9cc6_11ea_94b4_28c63f94f556row26_col0\" class=\"data row26 col0\" >19</td> \n",
       "        <td id=\"T_55b4f402_9cc6_11ea_94b4_28c63f94f556row26_col1\" class=\"data row26 col1\" >Iowa</td> \n",
       "        <td id=\"T_55b4f402_9cc6_11ea_94b4_28c63f94f556row26_col2\" class=\"data row26 col2\" >           3,132,499</td> \n",
       "        <td id=\"T_55b4f402_9cc6_11ea_94b4_28c63f94f556row26_col3\" class=\"data row26 col3\" >38.1</td> \n",
       "        <td id=\"T_55b4f402_9cc6_11ea_94b4_28c63f94f556row26_col4\" class=\"data row26 col4\" >$              58,580</td> \n",
       "        <td id=\"T_55b4f402_9cc6_11ea_94b4_28c63f94f556row26_col5\" class=\"data row26 col5\" >31085</td> \n",
       "        <td id=\"T_55b4f402_9cc6_11ea_94b4_28c63f94f556row26_col6\" class=\"data row26 col6\" >             353,634</td> \n",
       "        <td id=\"T_55b4f402_9cc6_11ea_94b4_28c63f94f556row26_col7\" class=\"data row26 col7\" >                  11 %</td> \n",
       "        <td id=\"T_55b4f402_9cc6_11ea_94b4_28c63f94f556row26_col8\" class=\"data row26 col8\" >2.08192</td> \n",
       "    </tr>    <tr> \n",
       "        <td id=\"T_55b4f402_9cc6_11ea_94b4_28c63f94f556row27_col0\" class=\"data row27 col0\" >32</td> \n",
       "        <td id=\"T_55b4f402_9cc6_11ea_94b4_28c63f94f556row27_col1\" class=\"data row27 col1\" >Nevada</td> \n",
       "        <td id=\"T_55b4f402_9cc6_11ea_94b4_28c63f94f556row27_col2\" class=\"data row27 col2\" >           2,922,849</td> \n",
       "        <td id=\"T_55b4f402_9cc6_11ea_94b4_28c63f94f556row27_col3\" class=\"data row27 col3\" >37.9</td> \n",
       "        <td id=\"T_55b4f402_9cc6_11ea_94b4_28c63f94f556row27_col4\" class=\"data row27 col4\" >$              57,598</td> \n",
       "        <td id=\"T_55b4f402_9cc6_11ea_94b4_28c63f94f556row27_col5\" class=\"data row27 col5\" >29961</td> \n",
       "        <td id=\"T_55b4f402_9cc6_11ea_94b4_28c63f94f556row27_col6\" class=\"data row27 col6\" >             393,431</td> \n",
       "        <td id=\"T_55b4f402_9cc6_11ea_94b4_28c63f94f556row27_col7\" class=\"data row27 col7\" >                  13 %</td> \n",
       "        <td id=\"T_55b4f402_9cc6_11ea_94b4_28c63f94f556row27_col8\" class=\"data row27 col8\" >3.48112</td> \n",
       "    </tr>    <tr> \n",
       "        <td id=\"T_55b4f402_9cc6_11ea_94b4_28c63f94f556row28_col0\" class=\"data row28 col0\" >20</td> \n",
       "        <td id=\"T_55b4f402_9cc6_11ea_94b4_28c63f94f556row28_col1\" class=\"data row28 col1\" >Kansas</td> \n",
       "        <td id=\"T_55b4f402_9cc6_11ea_94b4_28c63f94f556row28_col2\" class=\"data row28 col2\" >           2,908,776</td> \n",
       "        <td id=\"T_55b4f402_9cc6_11ea_94b4_28c63f94f556row28_col3\" class=\"data row28 col3\" >36.5</td> \n",
       "        <td id=\"T_55b4f402_9cc6_11ea_94b4_28c63f94f556row28_col4\" class=\"data row28 col4\" >$              57,422</td> \n",
       "        <td id=\"T_55b4f402_9cc6_11ea_94b4_28c63f94f556row28_col5\" class=\"data row28 col5\" >30757</td> \n",
       "        <td id=\"T_55b4f402_9cc6_11ea_94b4_28c63f94f556row28_col6\" class=\"data row28 col6\" >             350,280</td> \n",
       "        <td id=\"T_55b4f402_9cc6_11ea_94b4_28c63f94f556row28_col7\" class=\"data row28 col7\" >                  12 %</td> \n",
       "        <td id=\"T_55b4f402_9cc6_11ea_94b4_28c63f94f556row28_col8\" class=\"data row28 col8\" >2.23592</td> \n",
       "    </tr>    <tr> \n",
       "        <td id=\"T_55b4f402_9cc6_11ea_94b4_28c63f94f556row29_col0\" class=\"data row29 col0\" >46</td> \n",
       "        <td id=\"T_55b4f402_9cc6_11ea_94b4_28c63f94f556row29_col1\" class=\"data row29 col1\" >South Dakota</td> \n",
       "        <td id=\"T_55b4f402_9cc6_11ea_94b4_28c63f94f556row29_col2\" class=\"data row29 col2\" >             864,289</td> \n",
       "        <td id=\"T_55b4f402_9cc6_11ea_94b4_28c63f94f556row29_col3\" class=\"data row29 col3\" >36.8</td> \n",
       "        <td id=\"T_55b4f402_9cc6_11ea_94b4_28c63f94f556row29_col4\" class=\"data row29 col4\" >$              56,499</td> \n",
       "        <td id=\"T_55b4f402_9cc6_11ea_94b4_28c63f94f556row29_col5\" class=\"data row29 col5\" >29801</td> \n",
       "        <td id=\"T_55b4f402_9cc6_11ea_94b4_28c63f94f556row29_col6\" class=\"data row29 col6\" >             113,144</td> \n",
       "        <td id=\"T_55b4f402_9cc6_11ea_94b4_28c63f94f556row29_col7\" class=\"data row29 col7\" >                  13 %</td> \n",
       "        <td id=\"T_55b4f402_9cc6_11ea_94b4_28c63f94f556row29_col8\" class=\"data row29 col8\" >1.88039</td> \n",
       "    </tr>    <tr> \n",
       "        <td id=\"T_55b4f402_9cc6_11ea_94b4_28c63f94f556row30_col0\" class=\"data row30 col0\" >04</td> \n",
       "        <td id=\"T_55b4f402_9cc6_11ea_94b4_28c63f94f556row30_col1\" class=\"data row30 col1\" >Arizona</td> \n",
       "        <td id=\"T_55b4f402_9cc6_11ea_94b4_28c63f94f556row30_col2\" class=\"data row30 col2\" >           6,946,685</td> \n",
       "        <td id=\"T_55b4f402_9cc6_11ea_94b4_28c63f94f556row30_col3\" class=\"data row30 col3\" >37.4</td> \n",
       "        <td id=\"T_55b4f402_9cc6_11ea_94b4_28c63f94f556row30_col4\" class=\"data row30 col4\" >$              56,213</td> \n",
       "        <td id=\"T_55b4f402_9cc6_11ea_94b4_28c63f94f556row30_col5\" class=\"data row30 col5\" >29265</td> \n",
       "        <td id=\"T_55b4f402_9cc6_11ea_94b4_28c63f94f556row30_col6\" class=\"data row30 col6\" >           1,092,192</td> \n",
       "        <td id=\"T_55b4f402_9cc6_11ea_94b4_28c63f94f556row30_col7\" class=\"data row30 col7\" >                  16 %</td> \n",
       "        <td id=\"T_55b4f402_9cc6_11ea_94b4_28c63f94f556row30_col8\" class=\"data row30 col8\" >3.02611</td> \n",
       "    </tr>    <tr> \n",
       "        <td id=\"T_55b4f402_9cc6_11ea_94b4_28c63f94f556row31_col0\" class=\"data row31 col0\" >13</td> \n",
       "        <td id=\"T_55b4f402_9cc6_11ea_94b4_28c63f94f556row31_col1\" class=\"data row31 col1\" >Georgia</td> \n",
       "        <td id=\"T_55b4f402_9cc6_11ea_94b4_28c63f94f556row31_col2\" class=\"data row31 col2\" >          10,297,484</td> \n",
       "        <td id=\"T_55b4f402_9cc6_11ea_94b4_28c63f94f556row31_col3\" class=\"data row31 col3\" >36.5</td> \n",
       "        <td id=\"T_55b4f402_9cc6_11ea_94b4_28c63f94f556row31_col4\" class=\"data row31 col4\" >$              55,679</td> \n",
       "        <td id=\"T_55b4f402_9cc6_11ea_94b4_28c63f94f556row31_col5\" class=\"data row31 col5\" >29523</td> \n",
       "        <td id=\"T_55b4f402_9cc6_11ea_94b4_28c63f94f556row31_col6\" class=\"data row31 col6\" >           1,607,714</td> \n",
       "        <td id=\"T_55b4f402_9cc6_11ea_94b4_28c63f94f556row31_col7\" class=\"data row31 col7\" >                  16 %</td> \n",
       "        <td id=\"T_55b4f402_9cc6_11ea_94b4_28c63f94f556row31_col8\" class=\"data row31 col8\" >3.13527</td> \n",
       "    </tr>    <tr> \n",
       "        <td id=\"T_55b4f402_9cc6_11ea_94b4_28c63f94f556row32_col0\" class=\"data row32 col0\" >23</td> \n",
       "        <td id=\"T_55b4f402_9cc6_11ea_94b4_28c63f94f556row32_col1\" class=\"data row32 col1\" >Maine</td> \n",
       "        <td id=\"T_55b4f402_9cc6_11ea_94b4_28c63f94f556row32_col2\" class=\"data row32 col2\" >           1,332,813</td> \n",
       "        <td id=\"T_55b4f402_9cc6_11ea_94b4_28c63f94f556row32_col3\" class=\"data row32 col3\" >44.6</td> \n",
       "        <td id=\"T_55b4f402_9cc6_11ea_94b4_28c63f94f556row32_col4\" class=\"data row32 col4\" >$              55,425</td> \n",
       "        <td id=\"T_55b4f402_9cc6_11ea_94b4_28c63f94f556row32_col5\" class=\"data row32 col5\" >31253</td> \n",
       "        <td id=\"T_55b4f402_9cc6_11ea_94b4_28c63f94f556row32_col6\" class=\"data row32 col6\" >             161,743</td> \n",
       "        <td id=\"T_55b4f402_9cc6_11ea_94b4_28c63f94f556row32_col7\" class=\"data row32 col7\" >                  12 %</td> \n",
       "        <td id=\"T_55b4f402_9cc6_11ea_94b4_28c63f94f556row32_col8\" class=\"data row32 col8\" >2.41617</td> \n",
       "    </tr>    <tr> \n",
       "        <td id=\"T_55b4f402_9cc6_11ea_94b4_28c63f94f556row33_col0\" class=\"data row33 col0\" >26</td> \n",
       "        <td id=\"T_55b4f402_9cc6_11ea_94b4_28c63f94f556row33_col1\" class=\"data row33 col1\" >Michigan</td> \n",
       "        <td id=\"T_55b4f402_9cc6_11ea_94b4_28c63f94f556row33_col2\" class=\"data row33 col2\" >           9,957,488</td> \n",
       "        <td id=\"T_55b4f402_9cc6_11ea_94b4_28c63f94f556row33_col3\" class=\"data row33 col3\" >39.7</td> \n",
       "        <td id=\"T_55b4f402_9cc6_11ea_94b4_28c63f94f556row33_col4\" class=\"data row33 col4\" >$              54,938</td> \n",
       "        <td id=\"T_55b4f402_9cc6_11ea_94b4_28c63f94f556row33_col5\" class=\"data row33 col5\" >30336</td> \n",
       "        <td id=\"T_55b4f402_9cc6_11ea_94b4_28c63f94f556row33_col6\" class=\"data row33 col6\" >           1,457,008</td> \n",
       "        <td id=\"T_55b4f402_9cc6_11ea_94b4_28c63f94f556row33_col7\" class=\"data row33 col7\" >                  15 %</td> \n",
       "        <td id=\"T_55b4f402_9cc6_11ea_94b4_28c63f94f556row33_col8\" class=\"data row33 col8\" >3.22378</td> \n",
       "    </tr>    <tr> \n",
       "        <td id=\"T_55b4f402_9cc6_11ea_94b4_28c63f94f556row34_col0\" class=\"data row34 col0\" >39</td> \n",
       "        <td id=\"T_55b4f402_9cc6_11ea_94b4_28c63f94f556row34_col1\" class=\"data row34 col1\" >Ohio</td> \n",
       "        <td id=\"T_55b4f402_9cc6_11ea_94b4_28c63f94f556row34_col2\" class=\"data row34 col2\" >          11,641,879</td> \n",
       "        <td id=\"T_55b4f402_9cc6_11ea_94b4_28c63f94f556row34_col3\" class=\"data row34 col3\" >39.3</td> \n",
       "        <td id=\"T_55b4f402_9cc6_11ea_94b4_28c63f94f556row34_col4\" class=\"data row34 col4\" >$              54,533</td> \n",
       "        <td id=\"T_55b4f402_9cc6_11ea_94b4_28c63f94f556row34_col5\" class=\"data row34 col5\" >30304</td> \n",
       "        <td id=\"T_55b4f402_9cc6_11ea_94b4_28c63f94f556row34_col6\" class=\"data row34 col6\" >           1,645,986</td> \n",
       "        <td id=\"T_55b4f402_9cc6_11ea_94b4_28c63f94f556row34_col7\" class=\"data row34 col7\" >                  14 %</td> \n",
       "        <td id=\"T_55b4f402_9cc6_11ea_94b4_28c63f94f556row34_col8\" class=\"data row34 col8\" >2.94825</td> \n",
       "    </tr>    <tr> \n",
       "        <td id=\"T_55b4f402_9cc6_11ea_94b4_28c63f94f556row35_col0\" class=\"data row35 col0\" >18</td> \n",
       "        <td id=\"T_55b4f402_9cc6_11ea_94b4_28c63f94f556row35_col1\" class=\"data row35 col1\" >Indiana</td> \n",
       "        <td id=\"T_55b4f402_9cc6_11ea_94b4_28c63f94f556row35_col2\" class=\"data row35 col2\" >           6,637,426</td> \n",
       "        <td id=\"T_55b4f402_9cc6_11ea_94b4_28c63f94f556row35_col3\" class=\"data row35 col3\" >37.6</td> \n",
       "        <td id=\"T_55b4f402_9cc6_11ea_94b4_28c63f94f556row35_col4\" class=\"data row35 col4\" >$              54,325</td> \n",
       "        <td id=\"T_55b4f402_9cc6_11ea_94b4_28c63f94f556row35_col5\" class=\"data row35 col5\" >28461</td> \n",
       "        <td id=\"T_55b4f402_9cc6_11ea_94b4_28c63f94f556row35_col6\" class=\"data row35 col6\" >             908,359</td> \n",
       "        <td id=\"T_55b4f402_9cc6_11ea_94b4_28c63f94f556row35_col7\" class=\"data row35 col7\" >                  14 %</td> \n",
       "        <td id=\"T_55b4f402_9cc6_11ea_94b4_28c63f94f556row35_col8\" class=\"data row35 col8\" >2.72649</td> \n",
       "    </tr>    <tr> \n",
       "        <td id=\"T_55b4f402_9cc6_11ea_94b4_28c63f94f556row36_col0\" class=\"data row36 col0\" >29</td> \n",
       "        <td id=\"T_55b4f402_9cc6_11ea_94b4_28c63f94f556row36_col1\" class=\"data row36 col1\" >Missouri</td> \n",
       "        <td id=\"T_55b4f402_9cc6_11ea_94b4_28c63f94f556row36_col2\" class=\"data row36 col2\" >           6,090,062</td> \n",
       "        <td id=\"T_55b4f402_9cc6_11ea_94b4_28c63f94f556row36_col3\" class=\"data row36 col3\" >38.5</td> \n",
       "        <td id=\"T_55b4f402_9cc6_11ea_94b4_28c63f94f556row36_col4\" class=\"data row36 col4\" >$              53,560</td> \n",
       "        <td id=\"T_55b4f402_9cc6_11ea_94b4_28c63f94f556row36_col5\" class=\"data row36 col5\" >29537</td> \n",
       "        <td id=\"T_55b4f402_9cc6_11ea_94b4_28c63f94f556row36_col6\" class=\"data row36 col6\" >             837,930</td> \n",
       "        <td id=\"T_55b4f402_9cc6_11ea_94b4_28c63f94f556row36_col7\" class=\"data row36 col7\" >                  14 %</td> \n",
       "        <td id=\"T_55b4f402_9cc6_11ea_94b4_28c63f94f556row36_col8\" class=\"data row36 col8\" >2.56086</td> \n",
       "    </tr>    <tr> \n",
       "        <td id=\"T_55b4f402_9cc6_11ea_94b4_28c63f94f556row37_col0\" class=\"data row37 col0\" >12</td> \n",
       "        <td id=\"T_55b4f402_9cc6_11ea_94b4_28c63f94f556row37_col1\" class=\"data row37 col1\" >Florida</td> \n",
       "        <td id=\"T_55b4f402_9cc6_11ea_94b4_28c63f94f556row37_col2\" class=\"data row37 col2\" >          20,598,139</td> \n",
       "        <td id=\"T_55b4f402_9cc6_11ea_94b4_28c63f94f556row37_col3\" class=\"data row37 col3\" >41.9</td> \n",
       "        <td id=\"T_55b4f402_9cc6_11ea_94b4_28c63f94f556row37_col4\" class=\"data row37 col4\" >$              53,267</td> \n",
       "        <td id=\"T_55b4f402_9cc6_11ea_94b4_28c63f94f556row37_col5\" class=\"data row37 col5\" >30197</td> \n",
       "        <td id=\"T_55b4f402_9cc6_11ea_94b4_28c63f94f556row37_col6\" class=\"data row37 col6\" >           2,983,851</td> \n",
       "        <td id=\"T_55b4f402_9cc6_11ea_94b4_28c63f94f556row37_col7\" class=\"data row37 col7\" >                  14 %</td> \n",
       "        <td id=\"T_55b4f402_9cc6_11ea_94b4_28c63f94f556row37_col8\" class=\"data row37 col8\" >3.02444</td> \n",
       "    </tr>    <tr> \n",
       "        <td id=\"T_55b4f402_9cc6_11ea_94b4_28c63f94f556row38_col0\" class=\"data row38 col0\" >16</td> \n",
       "        <td id=\"T_55b4f402_9cc6_11ea_94b4_28c63f94f556row38_col1\" class=\"data row38 col1\" >Idaho</td> \n",
       "        <td id=\"T_55b4f402_9cc6_11ea_94b4_28c63f94f556row38_col2\" class=\"data row38 col2\" >           1,687,809</td> \n",
       "        <td id=\"T_55b4f402_9cc6_11ea_94b4_28c63f94f556row38_col3\" class=\"data row38 col3\" >36.1</td> \n",
       "        <td id=\"T_55b4f402_9cc6_11ea_94b4_28c63f94f556row38_col4\" class=\"data row38 col4\" >$              53,089</td> \n",
       "        <td id=\"T_55b4f402_9cc6_11ea_94b4_28c63f94f556row38_col5\" class=\"data row38 col5\" >26772</td> \n",
       "        <td id=\"T_55b4f402_9cc6_11ea_94b4_28c63f94f556row38_col6\" class=\"data row38 col6\" >             228,882</td> \n",
       "        <td id=\"T_55b4f402_9cc6_11ea_94b4_28c63f94f556row38_col7\" class=\"data row38 col7\" >                  14 %</td> \n",
       "        <td id=\"T_55b4f402_9cc6_11ea_94b4_28c63f94f556row38_col8\" class=\"data row38 col8\" >2.23201</td> \n",
       "    </tr>    <tr> \n",
       "        <td id=\"T_55b4f402_9cc6_11ea_94b4_28c63f94f556row39_col0\" class=\"data row39 col0\" >30</td> \n",
       "        <td id=\"T_55b4f402_9cc6_11ea_94b4_28c63f94f556row39_col1\" class=\"data row39 col1\" >Montana</td> \n",
       "        <td id=\"T_55b4f402_9cc6_11ea_94b4_28c63f94f556row39_col2\" class=\"data row39 col2\" >           1,041,732</td> \n",
       "        <td id=\"T_55b4f402_9cc6_11ea_94b4_28c63f94f556row39_col3\" class=\"data row39 col3\" >39.8</td> \n",
       "        <td id=\"T_55b4f402_9cc6_11ea_94b4_28c63f94f556row39_col4\" class=\"data row39 col4\" >$              52,559</td> \n",
       "        <td id=\"T_55b4f402_9cc6_11ea_94b4_28c63f94f556row39_col5\" class=\"data row39 col5\" >29765</td> \n",
       "        <td id=\"T_55b4f402_9cc6_11ea_94b4_28c63f94f556row39_col6\" class=\"data row39 col6\" >             139,063</td> \n",
       "        <td id=\"T_55b4f402_9cc6_11ea_94b4_28c63f94f556row39_col7\" class=\"data row39 col7\" >                  13 %</td> \n",
       "        <td id=\"T_55b4f402_9cc6_11ea_94b4_28c63f94f556row39_col8\" class=\"data row39 col8\" >2.15343</td> \n",
       "    </tr>    <tr> \n",
       "        <td id=\"T_55b4f402_9cc6_11ea_94b4_28c63f94f556row40_col0\" class=\"data row40 col0\" >37</td> \n",
       "        <td id=\"T_55b4f402_9cc6_11ea_94b4_28c63f94f556row40_col1\" class=\"data row40 col1\" >North Carolina</td> \n",
       "        <td id=\"T_55b4f402_9cc6_11ea_94b4_28c63f94f556row40_col2\" class=\"data row40 col2\" >          10,155,624</td> \n",
       "        <td id=\"T_55b4f402_9cc6_11ea_94b4_28c63f94f556row40_col3\" class=\"data row40 col3\" >38.6</td> \n",
       "        <td id=\"T_55b4f402_9cc6_11ea_94b4_28c63f94f556row40_col4\" class=\"data row40 col4\" >$              52,413</td> \n",
       "        <td id=\"T_55b4f402_9cc6_11ea_94b4_28c63f94f556row40_col5\" class=\"data row40 col5\" >29456</td> \n",
       "        <td id=\"T_55b4f402_9cc6_11ea_94b4_28c63f94f556row40_col6\" class=\"data row40 col6\" >           1,523,949</td> \n",
       "        <td id=\"T_55b4f402_9cc6_11ea_94b4_28c63f94f556row40_col7\" class=\"data row40 col7\" >                  15 %</td> \n",
       "        <td id=\"T_55b4f402_9cc6_11ea_94b4_28c63f94f556row40_col8\" class=\"data row40 col8\" >3.0782</td> \n",
       "    </tr>    <tr> \n",
       "        <td id=\"T_55b4f402_9cc6_11ea_94b4_28c63f94f556row41_col0\" class=\"data row41 col0\" >40</td> \n",
       "        <td id=\"T_55b4f402_9cc6_11ea_94b4_28c63f94f556row41_col1\" class=\"data row41 col1\" >Oklahoma</td> \n",
       "        <td id=\"T_55b4f402_9cc6_11ea_94b4_28c63f94f556row41_col2\" class=\"data row41 col2\" >           3,918,137</td> \n",
       "        <td id=\"T_55b4f402_9cc6_11ea_94b4_28c63f94f556row41_col3\" class=\"data row41 col3\" >36.4</td> \n",
       "        <td id=\"T_55b4f402_9cc6_11ea_94b4_28c63f94f556row41_col4\" class=\"data row41 col4\" >$              51,424</td> \n",
       "        <td id=\"T_55b4f402_9cc6_11ea_94b4_28c63f94f556row41_col5\" class=\"data row41 col5\" >27432</td> \n",
       "        <td id=\"T_55b4f402_9cc6_11ea_94b4_28c63f94f556row41_col6\" class=\"data row41 col6\" >             607,810</td> \n",
       "        <td id=\"T_55b4f402_9cc6_11ea_94b4_28c63f94f556row41_col7\" class=\"data row41 col7\" >                  16 %</td> \n",
       "        <td id=\"T_55b4f402_9cc6_11ea_94b4_28c63f94f556row41_col8\" class=\"data row41 col8\" >2.52893</td> \n",
       "    </tr>    <tr> \n",
       "        <td id=\"T_55b4f402_9cc6_11ea_94b4_28c63f94f556row42_col0\" class=\"data row42 col0\" >45</td> \n",
       "        <td id=\"T_55b4f402_9cc6_11ea_94b4_28c63f94f556row42_col1\" class=\"data row42 col1\" >South Carolina</td> \n",
       "        <td id=\"T_55b4f402_9cc6_11ea_94b4_28c63f94f556row42_col2\" class=\"data row42 col2\" >           4,955,925</td> \n",
       "        <td id=\"T_55b4f402_9cc6_11ea_94b4_28c63f94f556row42_col3\" class=\"data row42 col3\" >39.2</td> \n",
       "        <td id=\"T_55b4f402_9cc6_11ea_94b4_28c63f94f556row42_col4\" class=\"data row42 col4\" >$              51,015</td> \n",
       "        <td id=\"T_55b4f402_9cc6_11ea_94b4_28c63f94f556row42_col5\" class=\"data row42 col5\" >27986</td> \n",
       "        <td id=\"T_55b4f402_9cc6_11ea_94b4_28c63f94f556row42_col6\" class=\"data row42 col6\" >             770,632</td> \n",
       "        <td id=\"T_55b4f402_9cc6_11ea_94b4_28c63f94f556row42_col7\" class=\"data row42 col7\" >                  16 %</td> \n",
       "        <td id=\"T_55b4f402_9cc6_11ea_94b4_28c63f94f556row42_col8\" class=\"data row42 col8\" >3.0921</td> \n",
       "    </tr>    <tr> \n",
       "        <td id=\"T_55b4f402_9cc6_11ea_94b4_28c63f94f556row43_col0\" class=\"data row43 col0\" >47</td> \n",
       "        <td id=\"T_55b4f402_9cc6_11ea_94b4_28c63f94f556row43_col1\" class=\"data row43 col1\" >Tennessee</td> \n",
       "        <td id=\"T_55b4f402_9cc6_11ea_94b4_28c63f94f556row43_col2\" class=\"data row43 col2\" >           6,651,089</td> \n",
       "        <td id=\"T_55b4f402_9cc6_11ea_94b4_28c63f94f556row43_col3\" class=\"data row43 col3\" >38.7</td> \n",
       "        <td id=\"T_55b4f402_9cc6_11ea_94b4_28c63f94f556row43_col4\" class=\"data row43 col4\" >$              50,972</td> \n",
       "        <td id=\"T_55b4f402_9cc6_11ea_94b4_28c63f94f556row43_col5\" class=\"data row43 col5\" >28511</td> \n",
       "        <td id=\"T_55b4f402_9cc6_11ea_94b4_28c63f94f556row43_col6\" class=\"data row43 col6\" >           1,046,508</td> \n",
       "        <td id=\"T_55b4f402_9cc6_11ea_94b4_28c63f94f556row43_col7\" class=\"data row43 col7\" >                  16 %</td> \n",
       "        <td id=\"T_55b4f402_9cc6_11ea_94b4_28c63f94f556row43_col8\" class=\"data row43 col8\" >2.87989</td> \n",
       "    </tr>    <tr> \n",
       "        <td id=\"T_55b4f402_9cc6_11ea_94b4_28c63f94f556row44_col0\" class=\"data row44 col0\" >01</td> \n",
       "        <td id=\"T_55b4f402_9cc6_11ea_94b4_28c63f94f556row44_col1\" class=\"data row44 col1\" >Alabama</td> \n",
       "        <td id=\"T_55b4f402_9cc6_11ea_94b4_28c63f94f556row44_col2\" class=\"data row44 col2\" >           4,864,680</td> \n",
       "        <td id=\"T_55b4f402_9cc6_11ea_94b4_28c63f94f556row44_col3\" class=\"data row44 col3\" >38.9</td> \n",
       "        <td id=\"T_55b4f402_9cc6_11ea_94b4_28c63f94f556row44_col4\" class=\"data row44 col4\" >$              48,486</td> \n",
       "        <td id=\"T_55b4f402_9cc6_11ea_94b4_28c63f94f556row44_col5\" class=\"data row44 col5\" >26846</td> \n",
       "        <td id=\"T_55b4f402_9cc6_11ea_94b4_28c63f94f556row44_col6\" class=\"data row44 col6\" >             829,400</td> \n",
       "        <td id=\"T_55b4f402_9cc6_11ea_94b4_28c63f94f556row44_col7\" class=\"data row44 col7\" >                  17 %</td> \n",
       "        <td id=\"T_55b4f402_9cc6_11ea_94b4_28c63f94f556row44_col8\" class=\"data row44 col8\" >3.04024</td> \n",
       "    </tr>    <tr> \n",
       "        <td id=\"T_55b4f402_9cc6_11ea_94b4_28c63f94f556row45_col0\" class=\"data row45 col0\" >21</td> \n",
       "        <td id=\"T_55b4f402_9cc6_11ea_94b4_28c63f94f556row45_col1\" class=\"data row45 col1\" >Kentucky</td> \n",
       "        <td id=\"T_55b4f402_9cc6_11ea_94b4_28c63f94f556row45_col2\" class=\"data row45 col2\" >           4,440,204</td> \n",
       "        <td id=\"T_55b4f402_9cc6_11ea_94b4_28c63f94f556row45_col3\" class=\"data row45 col3\" >38.7</td> \n",
       "        <td id=\"T_55b4f402_9cc6_11ea_94b4_28c63f94f556row45_col4\" class=\"data row45 col4\" >$              48,392</td> \n",
       "        <td id=\"T_55b4f402_9cc6_11ea_94b4_28c63f94f556row45_col5\" class=\"data row45 col5\" >26948</td> \n",
       "        <td id=\"T_55b4f402_9cc6_11ea_94b4_28c63f94f556row45_col6\" class=\"data row45 col6\" >             772,080</td> \n",
       "        <td id=\"T_55b4f402_9cc6_11ea_94b4_28c63f94f556row45_col7\" class=\"data row45 col7\" >                  17 %</td> \n",
       "        <td id=\"T_55b4f402_9cc6_11ea_94b4_28c63f94f556row45_col8\" class=\"data row45 col8\" >2.89081</td> \n",
       "    </tr>    <tr> \n",
       "        <td id=\"T_55b4f402_9cc6_11ea_94b4_28c63f94f556row46_col0\" class=\"data row46 col0\" >35</td> \n",
       "        <td id=\"T_55b4f402_9cc6_11ea_94b4_28c63f94f556row46_col1\" class=\"data row46 col1\" >New Mexico</td> \n",
       "        <td id=\"T_55b4f402_9cc6_11ea_94b4_28c63f94f556row46_col2\" class=\"data row46 col2\" >           2,092,434</td> \n",
       "        <td id=\"T_55b4f402_9cc6_11ea_94b4_28c63f94f556row46_col3\" class=\"data row46 col3\" >37.5</td> \n",
       "        <td id=\"T_55b4f402_9cc6_11ea_94b4_28c63f94f556row46_col4\" class=\"data row46 col4\" >$              48,059</td> \n",
       "        <td id=\"T_55b4f402_9cc6_11ea_94b4_28c63f94f556row46_col5\" class=\"data row46 col5\" >26085</td> \n",
       "        <td id=\"T_55b4f402_9cc6_11ea_94b4_28c63f94f556row46_col6\" class=\"data row46 col6\" >             410,389</td> \n",
       "        <td id=\"T_55b4f402_9cc6_11ea_94b4_28c63f94f556row46_col7\" class=\"data row46 col7\" >                  20 %</td> \n",
       "        <td id=\"T_55b4f402_9cc6_11ea_94b4_28c63f94f556row46_col8\" class=\"data row46 col8\" >3.26749</td> \n",
       "    </tr>    <tr> \n",
       "        <td id=\"T_55b4f402_9cc6_11ea_94b4_28c63f94f556row47_col0\" class=\"data row47 col0\" >22</td> \n",
       "        <td id=\"T_55b4f402_9cc6_11ea_94b4_28c63f94f556row47_col1\" class=\"data row47 col1\" >Louisiana</td> \n",
       "        <td id=\"T_55b4f402_9cc6_11ea_94b4_28c63f94f556row47_col2\" class=\"data row47 col2\" >           4,663,616</td> \n",
       "        <td id=\"T_55b4f402_9cc6_11ea_94b4_28c63f94f556row47_col3\" class=\"data row47 col3\" >36.6</td> \n",
       "        <td id=\"T_55b4f402_9cc6_11ea_94b4_28c63f94f556row47_col4\" class=\"data row47 col4\" >$              47,942</td> \n",
       "        <td id=\"T_55b4f402_9cc6_11ea_94b4_28c63f94f556row47_col5\" class=\"data row47 col5\" >27027</td> \n",
       "        <td id=\"T_55b4f402_9cc6_11ea_94b4_28c63f94f556row47_col6\" class=\"data row47 col6\" >             878,394</td> \n",
       "        <td id=\"T_55b4f402_9cc6_11ea_94b4_28c63f94f556row47_col7\" class=\"data row47 col7\" >                  19 %</td> \n",
       "        <td id=\"T_55b4f402_9cc6_11ea_94b4_28c63f94f556row47_col8\" class=\"data row47 col8\" >3.21317</td> \n",
       "    </tr>    <tr> \n",
       "        <td id=\"T_55b4f402_9cc6_11ea_94b4_28c63f94f556row48_col0\" class=\"data row48 col0\" >05</td> \n",
       "        <td id=\"T_55b4f402_9cc6_11ea_94b4_28c63f94f556row48_col1\" class=\"data row48 col1\" >Arkansas</td> \n",
       "        <td id=\"T_55b4f402_9cc6_11ea_94b4_28c63f94f556row48_col2\" class=\"data row48 col2\" >           2,990,671</td> \n",
       "        <td id=\"T_55b4f402_9cc6_11ea_94b4_28c63f94f556row48_col3\" class=\"data row48 col3\" >37.9</td> \n",
       "        <td id=\"T_55b4f402_9cc6_11ea_94b4_28c63f94f556row48_col4\" class=\"data row48 col4\" >$              45,726</td> \n",
       "        <td id=\"T_55b4f402_9cc6_11ea_94b4_28c63f94f556row48_col5\" class=\"data row48 col5\" >25635</td> \n",
       "        <td id=\"T_55b4f402_9cc6_11ea_94b4_28c63f94f556row48_col6\" class=\"data row48 col6\" >             510,337</td> \n",
       "        <td id=\"T_55b4f402_9cc6_11ea_94b4_28c63f94f556row48_col7\" class=\"data row48 col7\" >                  17 %</td> \n",
       "        <td id=\"T_55b4f402_9cc6_11ea_94b4_28c63f94f556row48_col8\" class=\"data row48 col8\" >2.53368</td> \n",
       "    </tr>    <tr> \n",
       "        <td id=\"T_55b4f402_9cc6_11ea_94b4_28c63f94f556row49_col0\" class=\"data row49 col0\" >54</td> \n",
       "        <td id=\"T_55b4f402_9cc6_11ea_94b4_28c63f94f556row49_col1\" class=\"data row49 col1\" >West Virginia</td> \n",
       "        <td id=\"T_55b4f402_9cc6_11ea_94b4_28c63f94f556row49_col2\" class=\"data row49 col2\" >           1,829,054</td> \n",
       "        <td id=\"T_55b4f402_9cc6_11ea_94b4_28c63f94f556row49_col3\" class=\"data row49 col3\" >42.4</td> \n",
       "        <td id=\"T_55b4f402_9cc6_11ea_94b4_28c63f94f556row49_col4\" class=\"data row49 col4\" >$              44,921</td> \n",
       "        <td id=\"T_55b4f402_9cc6_11ea_94b4_28c63f94f556row49_col5\" class=\"data row49 col5\" >25479</td> \n",
       "        <td id=\"T_55b4f402_9cc6_11ea_94b4_28c63f94f556row49_col6\" class=\"data row49 col6\" >             315,464</td> \n",
       "        <td id=\"T_55b4f402_9cc6_11ea_94b4_28c63f94f556row49_col7\" class=\"data row49 col7\" >                  17 %</td> \n",
       "        <td id=\"T_55b4f402_9cc6_11ea_94b4_28c63f94f556row49_col8\" class=\"data row49 col8\" >2.93868</td> \n",
       "    </tr>    <tr> \n",
       "        <td id=\"T_55b4f402_9cc6_11ea_94b4_28c63f94f556row50_col0\" class=\"data row50 col0\" >28</td> \n",
       "        <td id=\"T_55b4f402_9cc6_11ea_94b4_28c63f94f556row50_col1\" class=\"data row50 col1\" >Mississippi</td> \n",
       "        <td id=\"T_55b4f402_9cc6_11ea_94b4_28c63f94f556row50_col2\" class=\"data row50 col2\" >           2,988,762</td> \n",
       "        <td id=\"T_55b4f402_9cc6_11ea_94b4_28c63f94f556row50_col3\" class=\"data row50 col3\" >37.2</td> \n",
       "        <td id=\"T_55b4f402_9cc6_11ea_94b4_28c63f94f556row50_col4\" class=\"data row50 col4\" >$              43,567</td> \n",
       "        <td id=\"T_55b4f402_9cc6_11ea_94b4_28c63f94f556row50_col5\" class=\"data row50 col5\" >23434</td> \n",
       "        <td id=\"T_55b4f402_9cc6_11ea_94b4_28c63f94f556row50_col6\" class=\"data row50 col6\" >             599,795</td> \n",
       "        <td id=\"T_55b4f402_9cc6_11ea_94b4_28c63f94f556row50_col7\" class=\"data row50 col7\" >                  20 %</td> \n",
       "        <td id=\"T_55b4f402_9cc6_11ea_94b4_28c63f94f556row50_col8\" class=\"data row50 col8\" >3.68166</td> \n",
       "    </tr>    <tr> \n",
       "        <td id=\"T_55b4f402_9cc6_11ea_94b4_28c63f94f556row51_col0\" class=\"data row51 col0\" >72</td> \n",
       "        <td id=\"T_55b4f402_9cc6_11ea_94b4_28c63f94f556row51_col1\" class=\"data row51 col1\" >Puerto Rico</td> \n",
       "        <td id=\"T_55b4f402_9cc6_11ea_94b4_28c63f94f556row51_col2\" class=\"data row51 col2\" >           3,386,941</td> \n",
       "        <td id=\"T_55b4f402_9cc6_11ea_94b4_28c63f94f556row51_col3\" class=\"data row51 col3\" >40.9</td> \n",
       "        <td id=\"T_55b4f402_9cc6_11ea_94b4_28c63f94f556row51_col4\" class=\"data row51 col4\" >$              20,166</td> \n",
       "        <td id=\"T_55b4f402_9cc6_11ea_94b4_28c63f94f556row51_col5\" class=\"data row51 col5\" >12451</td> \n",
       "        <td id=\"T_55b4f402_9cc6_11ea_94b4_28c63f94f556row51_col6\" class=\"data row51 col6\" >           1,495,160</td> \n",
       "        <td id=\"T_55b4f402_9cc6_11ea_94b4_28c63f94f556row51_col7\" class=\"data row51 col7\" >                  44 %</td> \n",
       "        <td id=\"T_55b4f402_9cc6_11ea_94b4_28c63f94f556row51_col8\" class=\"data row51 col8\" >6.19881</td> \n",
       "    </tr></tbody> \n",
       "</table> "
      ],
      "text/plain": [
       "<pandas.io.formats.style.Styler at 0x1f0da767c50>"
      ]
     },
     "execution_count": 6,
     "metadata": {},
     "output_type": "execute_result"
    }
   ],
   "source": [
    "census_pd = census_pd.sort_values(by=[\"Household Income\"], ascending=False)\n",
    "\n",
    "census_pd.style.format({\"Population\": \"{:20,.0f}\", \n",
    "                          \"Household Income\": \"${:20,.0f}\", \n",
    "                          \"Poverty Count\": \"{:20,.0f}\",\n",
    "                          \"Poverty Rate\":\"{:20,.0f} %\"})\\\n",
    "                 .hide_index()\\\n",
    "                 .bar(subset=[\"Population\",], color='#ee1f5f')\\\n",
    "                 .bar(subset=[\"Household Income\"], color='lightgreen')\\\n",
    "                 .bar(subset=[\"Poverty Rate\"], color='orange')\n",
    "             "
   ]
  },
  {
   "cell_type": "code",
   "execution_count": 7,
   "metadata": {},
   "outputs": [
    {
     "data": {
      "text/html": [
       "<style  type=\"text/css\" >\n",
       "    #T_58079330_9cc6_11ea_9927_28c63f94f556row0_col0 {\n",
       "            background-color:  black;\n",
       "            color:  lawngreen;\n",
       "            border-color:  white;\n",
       "        }    #T_58079330_9cc6_11ea_9927_28c63f94f556row0_col1 {\n",
       "            background-color:  black;\n",
       "            color:  lawngreen;\n",
       "            border-color:  white;\n",
       "        }    #T_58079330_9cc6_11ea_9927_28c63f94f556row0_col2 {\n",
       "            background-color:  black;\n",
       "            color:  lawngreen;\n",
       "            border-color:  white;\n",
       "        }    #T_58079330_9cc6_11ea_9927_28c63f94f556row0_col3 {\n",
       "            background-color:  black;\n",
       "            color:  lawngreen;\n",
       "            border-color:  white;\n",
       "        }    #T_58079330_9cc6_11ea_9927_28c63f94f556row0_col4 {\n",
       "            background-color:  black;\n",
       "            color:  lawngreen;\n",
       "            border-color:  white;\n",
       "        }    #T_58079330_9cc6_11ea_9927_28c63f94f556row0_col5 {\n",
       "            background-color:  black;\n",
       "            color:  lawngreen;\n",
       "            border-color:  white;\n",
       "        }    #T_58079330_9cc6_11ea_9927_28c63f94f556row0_col6 {\n",
       "            background-color:  black;\n",
       "            color:  lawngreen;\n",
       "            border-color:  white;\n",
       "        }    #T_58079330_9cc6_11ea_9927_28c63f94f556row0_col7 {\n",
       "            background-color:  black;\n",
       "            color:  lawngreen;\n",
       "            border-color:  white;\n",
       "        }    #T_58079330_9cc6_11ea_9927_28c63f94f556row0_col8 {\n",
       "            background-color:  black;\n",
       "            color:  lawngreen;\n",
       "            border-color:  white;\n",
       "        }    #T_58079330_9cc6_11ea_9927_28c63f94f556row1_col0 {\n",
       "            background-color:  black;\n",
       "            color:  lawngreen;\n",
       "            border-color:  white;\n",
       "        }    #T_58079330_9cc6_11ea_9927_28c63f94f556row1_col1 {\n",
       "            background-color:  black;\n",
       "            color:  lawngreen;\n",
       "            border-color:  white;\n",
       "        }    #T_58079330_9cc6_11ea_9927_28c63f94f556row1_col2 {\n",
       "            background-color:  black;\n",
       "            color:  lawngreen;\n",
       "            border-color:  white;\n",
       "        }    #T_58079330_9cc6_11ea_9927_28c63f94f556row1_col3 {\n",
       "            background-color:  black;\n",
       "            color:  lawngreen;\n",
       "            border-color:  white;\n",
       "        }    #T_58079330_9cc6_11ea_9927_28c63f94f556row1_col4 {\n",
       "            background-color:  black;\n",
       "            color:  lawngreen;\n",
       "            border-color:  white;\n",
       "        }    #T_58079330_9cc6_11ea_9927_28c63f94f556row1_col5 {\n",
       "            background-color:  black;\n",
       "            color:  lawngreen;\n",
       "            border-color:  white;\n",
       "        }    #T_58079330_9cc6_11ea_9927_28c63f94f556row1_col6 {\n",
       "            background-color:  black;\n",
       "            color:  lawngreen;\n",
       "            border-color:  white;\n",
       "        }    #T_58079330_9cc6_11ea_9927_28c63f94f556row1_col7 {\n",
       "            background-color:  black;\n",
       "            color:  lawngreen;\n",
       "            border-color:  white;\n",
       "        }    #T_58079330_9cc6_11ea_9927_28c63f94f556row1_col8 {\n",
       "            background-color:  black;\n",
       "            color:  lawngreen;\n",
       "            border-color:  white;\n",
       "        }    #T_58079330_9cc6_11ea_9927_28c63f94f556row2_col0 {\n",
       "            background-color:  black;\n",
       "            color:  lawngreen;\n",
       "            border-color:  white;\n",
       "        }    #T_58079330_9cc6_11ea_9927_28c63f94f556row2_col1 {\n",
       "            background-color:  black;\n",
       "            color:  lawngreen;\n",
       "            border-color:  white;\n",
       "        }    #T_58079330_9cc6_11ea_9927_28c63f94f556row2_col2 {\n",
       "            background-color:  black;\n",
       "            color:  lawngreen;\n",
       "            border-color:  white;\n",
       "        }    #T_58079330_9cc6_11ea_9927_28c63f94f556row2_col3 {\n",
       "            background-color:  black;\n",
       "            color:  lawngreen;\n",
       "            border-color:  white;\n",
       "        }    #T_58079330_9cc6_11ea_9927_28c63f94f556row2_col4 {\n",
       "            background-color:  black;\n",
       "            color:  lawngreen;\n",
       "            border-color:  white;\n",
       "        }    #T_58079330_9cc6_11ea_9927_28c63f94f556row2_col5 {\n",
       "            background-color:  black;\n",
       "            color:  lawngreen;\n",
       "            border-color:  white;\n",
       "        }    #T_58079330_9cc6_11ea_9927_28c63f94f556row2_col6 {\n",
       "            background-color:  black;\n",
       "            color:  lawngreen;\n",
       "            border-color:  white;\n",
       "        }    #T_58079330_9cc6_11ea_9927_28c63f94f556row2_col7 {\n",
       "            background-color:  black;\n",
       "            color:  lawngreen;\n",
       "            border-color:  white;\n",
       "        }    #T_58079330_9cc6_11ea_9927_28c63f94f556row2_col8 {\n",
       "            background-color:  black;\n",
       "            color:  lawngreen;\n",
       "            border-color:  white;\n",
       "        }    #T_58079330_9cc6_11ea_9927_28c63f94f556row3_col0 {\n",
       "            background-color:  black;\n",
       "            color:  lawngreen;\n",
       "            border-color:  white;\n",
       "        }    #T_58079330_9cc6_11ea_9927_28c63f94f556row3_col1 {\n",
       "            background-color:  black;\n",
       "            color:  lawngreen;\n",
       "            border-color:  white;\n",
       "        }    #T_58079330_9cc6_11ea_9927_28c63f94f556row3_col2 {\n",
       "            background-color:  black;\n",
       "            color:  lawngreen;\n",
       "            border-color:  white;\n",
       "        }    #T_58079330_9cc6_11ea_9927_28c63f94f556row3_col3 {\n",
       "            background-color:  black;\n",
       "            color:  lawngreen;\n",
       "            border-color:  white;\n",
       "        }    #T_58079330_9cc6_11ea_9927_28c63f94f556row3_col4 {\n",
       "            background-color:  black;\n",
       "            color:  lawngreen;\n",
       "            border-color:  white;\n",
       "        }    #T_58079330_9cc6_11ea_9927_28c63f94f556row3_col5 {\n",
       "            background-color:  black;\n",
       "            color:  lawngreen;\n",
       "            border-color:  white;\n",
       "        }    #T_58079330_9cc6_11ea_9927_28c63f94f556row3_col6 {\n",
       "            background-color:  black;\n",
       "            color:  lawngreen;\n",
       "            border-color:  white;\n",
       "        }    #T_58079330_9cc6_11ea_9927_28c63f94f556row3_col7 {\n",
       "            background-color:  black;\n",
       "            color:  lawngreen;\n",
       "            border-color:  white;\n",
       "        }    #T_58079330_9cc6_11ea_9927_28c63f94f556row3_col8 {\n",
       "            background-color:  black;\n",
       "            color:  lawngreen;\n",
       "            border-color:  white;\n",
       "        }    #T_58079330_9cc6_11ea_9927_28c63f94f556row4_col0 {\n",
       "            background-color:  black;\n",
       "            color:  lawngreen;\n",
       "            border-color:  white;\n",
       "        }    #T_58079330_9cc6_11ea_9927_28c63f94f556row4_col1 {\n",
       "            background-color:  black;\n",
       "            color:  lawngreen;\n",
       "            border-color:  white;\n",
       "        }    #T_58079330_9cc6_11ea_9927_28c63f94f556row4_col2 {\n",
       "            background-color:  black;\n",
       "            color:  lawngreen;\n",
       "            border-color:  white;\n",
       "        }    #T_58079330_9cc6_11ea_9927_28c63f94f556row4_col3 {\n",
       "            background-color:  black;\n",
       "            color:  lawngreen;\n",
       "            border-color:  white;\n",
       "        }    #T_58079330_9cc6_11ea_9927_28c63f94f556row4_col4 {\n",
       "            background-color:  black;\n",
       "            color:  lawngreen;\n",
       "            border-color:  white;\n",
       "        }    #T_58079330_9cc6_11ea_9927_28c63f94f556row4_col5 {\n",
       "            background-color:  black;\n",
       "            color:  lawngreen;\n",
       "            border-color:  white;\n",
       "        }    #T_58079330_9cc6_11ea_9927_28c63f94f556row4_col6 {\n",
       "            background-color:  black;\n",
       "            color:  lawngreen;\n",
       "            border-color:  white;\n",
       "        }    #T_58079330_9cc6_11ea_9927_28c63f94f556row4_col7 {\n",
       "            background-color:  black;\n",
       "            color:  lawngreen;\n",
       "            border-color:  white;\n",
       "        }    #T_58079330_9cc6_11ea_9927_28c63f94f556row4_col8 {\n",
       "            background-color:  black;\n",
       "            color:  lawngreen;\n",
       "            border-color:  white;\n",
       "        }    #T_58079330_9cc6_11ea_9927_28c63f94f556row5_col0 {\n",
       "            background-color:  black;\n",
       "            color:  lawngreen;\n",
       "            border-color:  white;\n",
       "        }    #T_58079330_9cc6_11ea_9927_28c63f94f556row5_col1 {\n",
       "            background-color:  black;\n",
       "            color:  lawngreen;\n",
       "            border-color:  white;\n",
       "        }    #T_58079330_9cc6_11ea_9927_28c63f94f556row5_col2 {\n",
       "            background-color:  black;\n",
       "            color:  lawngreen;\n",
       "            border-color:  white;\n",
       "        }    #T_58079330_9cc6_11ea_9927_28c63f94f556row5_col3 {\n",
       "            background-color:  black;\n",
       "            color:  lawngreen;\n",
       "            border-color:  white;\n",
       "        }    #T_58079330_9cc6_11ea_9927_28c63f94f556row5_col4 {\n",
       "            background-color:  black;\n",
       "            color:  lawngreen;\n",
       "            border-color:  white;\n",
       "        }    #T_58079330_9cc6_11ea_9927_28c63f94f556row5_col5 {\n",
       "            background-color:  black;\n",
       "            color:  lawngreen;\n",
       "            border-color:  white;\n",
       "        }    #T_58079330_9cc6_11ea_9927_28c63f94f556row5_col6 {\n",
       "            background-color:  black;\n",
       "            color:  lawngreen;\n",
       "            border-color:  white;\n",
       "        }    #T_58079330_9cc6_11ea_9927_28c63f94f556row5_col7 {\n",
       "            background-color:  black;\n",
       "            color:  lawngreen;\n",
       "            border-color:  white;\n",
       "        }    #T_58079330_9cc6_11ea_9927_28c63f94f556row5_col8 {\n",
       "            background-color:  black;\n",
       "            color:  lawngreen;\n",
       "            border-color:  white;\n",
       "        }    #T_58079330_9cc6_11ea_9927_28c63f94f556row6_col0 {\n",
       "            background-color:  black;\n",
       "            color:  lawngreen;\n",
       "            border-color:  white;\n",
       "        }    #T_58079330_9cc6_11ea_9927_28c63f94f556row6_col1 {\n",
       "            background-color:  black;\n",
       "            color:  lawngreen;\n",
       "            border-color:  white;\n",
       "        }    #T_58079330_9cc6_11ea_9927_28c63f94f556row6_col2 {\n",
       "            background-color:  black;\n",
       "            color:  lawngreen;\n",
       "            border-color:  white;\n",
       "        }    #T_58079330_9cc6_11ea_9927_28c63f94f556row6_col3 {\n",
       "            background-color:  black;\n",
       "            color:  lawngreen;\n",
       "            border-color:  white;\n",
       "        }    #T_58079330_9cc6_11ea_9927_28c63f94f556row6_col4 {\n",
       "            background-color:  black;\n",
       "            color:  lawngreen;\n",
       "            border-color:  white;\n",
       "        }    #T_58079330_9cc6_11ea_9927_28c63f94f556row6_col5 {\n",
       "            background-color:  black;\n",
       "            color:  lawngreen;\n",
       "            border-color:  white;\n",
       "        }    #T_58079330_9cc6_11ea_9927_28c63f94f556row6_col6 {\n",
       "            background-color:  black;\n",
       "            color:  lawngreen;\n",
       "            border-color:  white;\n",
       "        }    #T_58079330_9cc6_11ea_9927_28c63f94f556row6_col7 {\n",
       "            background-color:  black;\n",
       "            color:  lawngreen;\n",
       "            border-color:  white;\n",
       "        }    #T_58079330_9cc6_11ea_9927_28c63f94f556row6_col8 {\n",
       "            background-color:  black;\n",
       "            color:  lawngreen;\n",
       "            border-color:  white;\n",
       "        }    #T_58079330_9cc6_11ea_9927_28c63f94f556row7_col0 {\n",
       "            background-color:  black;\n",
       "            color:  lawngreen;\n",
       "            border-color:  white;\n",
       "        }    #T_58079330_9cc6_11ea_9927_28c63f94f556row7_col1 {\n",
       "            background-color:  black;\n",
       "            color:  lawngreen;\n",
       "            border-color:  white;\n",
       "        }    #T_58079330_9cc6_11ea_9927_28c63f94f556row7_col2 {\n",
       "            background-color:  black;\n",
       "            color:  lawngreen;\n",
       "            border-color:  white;\n",
       "        }    #T_58079330_9cc6_11ea_9927_28c63f94f556row7_col3 {\n",
       "            background-color:  black;\n",
       "            color:  lawngreen;\n",
       "            border-color:  white;\n",
       "        }    #T_58079330_9cc6_11ea_9927_28c63f94f556row7_col4 {\n",
       "            background-color:  black;\n",
       "            color:  lawngreen;\n",
       "            border-color:  white;\n",
       "        }    #T_58079330_9cc6_11ea_9927_28c63f94f556row7_col5 {\n",
       "            background-color:  black;\n",
       "            color:  lawngreen;\n",
       "            border-color:  white;\n",
       "        }    #T_58079330_9cc6_11ea_9927_28c63f94f556row7_col6 {\n",
       "            background-color:  black;\n",
       "            color:  lawngreen;\n",
       "            border-color:  white;\n",
       "        }    #T_58079330_9cc6_11ea_9927_28c63f94f556row7_col7 {\n",
       "            background-color:  black;\n",
       "            color:  lawngreen;\n",
       "            border-color:  white;\n",
       "        }    #T_58079330_9cc6_11ea_9927_28c63f94f556row7_col8 {\n",
       "            background-color:  black;\n",
       "            color:  lawngreen;\n",
       "            border-color:  white;\n",
       "        }    #T_58079330_9cc6_11ea_9927_28c63f94f556row8_col0 {\n",
       "            background-color:  black;\n",
       "            color:  lawngreen;\n",
       "            border-color:  white;\n",
       "        }    #T_58079330_9cc6_11ea_9927_28c63f94f556row8_col1 {\n",
       "            background-color:  black;\n",
       "            color:  lawngreen;\n",
       "            border-color:  white;\n",
       "        }    #T_58079330_9cc6_11ea_9927_28c63f94f556row8_col2 {\n",
       "            background-color:  black;\n",
       "            color:  lawngreen;\n",
       "            border-color:  white;\n",
       "        }    #T_58079330_9cc6_11ea_9927_28c63f94f556row8_col3 {\n",
       "            background-color:  black;\n",
       "            color:  lawngreen;\n",
       "            border-color:  white;\n",
       "        }    #T_58079330_9cc6_11ea_9927_28c63f94f556row8_col4 {\n",
       "            background-color:  black;\n",
       "            color:  lawngreen;\n",
       "            border-color:  white;\n",
       "        }    #T_58079330_9cc6_11ea_9927_28c63f94f556row8_col5 {\n",
       "            background-color:  black;\n",
       "            color:  lawngreen;\n",
       "            border-color:  white;\n",
       "        }    #T_58079330_9cc6_11ea_9927_28c63f94f556row8_col6 {\n",
       "            background-color:  black;\n",
       "            color:  lawngreen;\n",
       "            border-color:  white;\n",
       "        }    #T_58079330_9cc6_11ea_9927_28c63f94f556row8_col7 {\n",
       "            background-color:  black;\n",
       "            color:  lawngreen;\n",
       "            border-color:  white;\n",
       "        }    #T_58079330_9cc6_11ea_9927_28c63f94f556row8_col8 {\n",
       "            background-color:  black;\n",
       "            color:  lawngreen;\n",
       "            border-color:  white;\n",
       "        }    #T_58079330_9cc6_11ea_9927_28c63f94f556row9_col0 {\n",
       "            background-color:  black;\n",
       "            color:  lawngreen;\n",
       "            border-color:  white;\n",
       "        }    #T_58079330_9cc6_11ea_9927_28c63f94f556row9_col1 {\n",
       "            background-color:  black;\n",
       "            color:  lawngreen;\n",
       "            border-color:  white;\n",
       "        }    #T_58079330_9cc6_11ea_9927_28c63f94f556row9_col2 {\n",
       "            background-color:  black;\n",
       "            color:  lawngreen;\n",
       "            border-color:  white;\n",
       "        }    #T_58079330_9cc6_11ea_9927_28c63f94f556row9_col3 {\n",
       "            background-color:  black;\n",
       "            color:  lawngreen;\n",
       "            border-color:  white;\n",
       "        }    #T_58079330_9cc6_11ea_9927_28c63f94f556row9_col4 {\n",
       "            background-color:  black;\n",
       "            color:  lawngreen;\n",
       "            border-color:  white;\n",
       "        }    #T_58079330_9cc6_11ea_9927_28c63f94f556row9_col5 {\n",
       "            background-color:  black;\n",
       "            color:  lawngreen;\n",
       "            border-color:  white;\n",
       "        }    #T_58079330_9cc6_11ea_9927_28c63f94f556row9_col6 {\n",
       "            background-color:  black;\n",
       "            color:  lawngreen;\n",
       "            border-color:  white;\n",
       "        }    #T_58079330_9cc6_11ea_9927_28c63f94f556row9_col7 {\n",
       "            background-color:  black;\n",
       "            color:  lawngreen;\n",
       "            border-color:  white;\n",
       "        }    #T_58079330_9cc6_11ea_9927_28c63f94f556row9_col8 {\n",
       "            background-color:  black;\n",
       "            color:  lawngreen;\n",
       "            border-color:  white;\n",
       "        }</style>  \n",
       "<table id=\"T_58079330_9cc6_11ea_9927_28c63f94f556\" > \n",
       "<thead>    <tr> \n",
       "        <th class=\"blank level0\" ></th> \n",
       "        <th class=\"col_heading level0 col0\" >State</th> \n",
       "        <th class=\"col_heading level0 col1\" >Name</th> \n",
       "        <th class=\"col_heading level0 col2\" >Population</th> \n",
       "        <th class=\"col_heading level0 col3\" >Median Age</th> \n",
       "        <th class=\"col_heading level0 col4\" >Household Income</th> \n",
       "        <th class=\"col_heading level0 col5\" >Per Capita Income</th> \n",
       "        <th class=\"col_heading level0 col6\" >Poverty Count</th> \n",
       "        <th class=\"col_heading level0 col7\" >Poverty Rate</th> \n",
       "        <th class=\"col_heading level0 col8\" >Unemployment Rate</th> \n",
       "    </tr></thead> \n",
       "<tbody>    <tr> \n",
       "        <th id=\"T_58079330_9cc6_11ea_9927_28c63f94f556level0_row0\" class=\"row_heading level0 row0\" >37</th> \n",
       "        <td id=\"T_58079330_9cc6_11ea_9927_28c63f94f556row0_col0\" class=\"data row0 col0\" >11</td> \n",
       "        <td id=\"T_58079330_9cc6_11ea_9927_28c63f94f556row0_col1\" class=\"data row0 col1\" >District of Columbia</td> \n",
       "        <td id=\"T_58079330_9cc6_11ea_9927_28c63f94f556row0_col2\" class=\"data row0 col2\" >684498</td> \n",
       "        <td id=\"T_58079330_9cc6_11ea_9927_28c63f94f556row0_col3\" class=\"data row0 col3\" >33.9</td> \n",
       "        <td id=\"T_58079330_9cc6_11ea_9927_28c63f94f556row0_col4\" class=\"data row0 col4\" >82604</td> \n",
       "        <td id=\"T_58079330_9cc6_11ea_9927_28c63f94f556row0_col5\" class=\"data row0 col5\" >53321</td> \n",
       "        <td id=\"T_58079330_9cc6_11ea_9927_28c63f94f556row0_col6\" class=\"data row0 col6\" >109497</td> \n",
       "        <td id=\"T_58079330_9cc6_11ea_9927_28c63f94f556row0_col7\" class=\"data row0 col7\" >15.9967</td> \n",
       "        <td id=\"T_58079330_9cc6_11ea_9927_28c63f94f556row0_col8\" class=\"data row0 col8\" >4.29117</td> \n",
       "    </tr>    <tr> \n",
       "        <th id=\"T_58079330_9cc6_11ea_9927_28c63f94f556level0_row1\" class=\"row_heading level0 row1\" >49</th> \n",
       "        <td id=\"T_58079330_9cc6_11ea_9927_28c63f94f556row1_col0\" class=\"data row1 col0\" >24</td> \n",
       "        <td id=\"T_58079330_9cc6_11ea_9927_28c63f94f556row1_col1\" class=\"data row1 col1\" >Maryland</td> \n",
       "        <td id=\"T_58079330_9cc6_11ea_9927_28c63f94f556row1_col2\" class=\"data row1 col2\" >6.00344e+06</td> \n",
       "        <td id=\"T_58079330_9cc6_11ea_9927_28c63f94f556row1_col3\" class=\"data row1 col3\" >38.6</td> \n",
       "        <td id=\"T_58079330_9cc6_11ea_9927_28c63f94f556row1_col4\" class=\"data row1 col4\" >81868</td> \n",
       "        <td id=\"T_58079330_9cc6_11ea_9927_28c63f94f556row1_col5\" class=\"data row1 col5\" >40517</td> \n",
       "        <td id=\"T_58079330_9cc6_11ea_9927_28c63f94f556row1_col6\" class=\"data row1 col6\" >553496</td> \n",
       "        <td id=\"T_58079330_9cc6_11ea_9927_28c63f94f556row1_col7\" class=\"data row1 col7\" >9.21966</td> \n",
       "        <td id=\"T_58079330_9cc6_11ea_9927_28c63f94f556row1_col8\" class=\"data row1 col8\" >3.01642</td> \n",
       "    </tr>    <tr> \n",
       "        <th id=\"T_58079330_9cc6_11ea_9927_28c63f94f556level0_row2\" class=\"row_heading level0 row2\" >7</th> \n",
       "        <td id=\"T_58079330_9cc6_11ea_9927_28c63f94f556row2_col0\" class=\"data row2 col0\" >34</td> \n",
       "        <td id=\"T_58079330_9cc6_11ea_9927_28c63f94f556row2_col1\" class=\"data row2 col1\" >New Jersey</td> \n",
       "        <td id=\"T_58079330_9cc6_11ea_9927_28c63f94f556row2_col2\" class=\"data row2 col2\" >8.88184e+06</td> \n",
       "        <td id=\"T_58079330_9cc6_11ea_9927_28c63f94f556row2_col3\" class=\"data row2 col3\" >39.8</td> \n",
       "        <td id=\"T_58079330_9cc6_11ea_9927_28c63f94f556row2_col4\" class=\"data row2 col4\" >79363</td> \n",
       "        <td id=\"T_58079330_9cc6_11ea_9927_28c63f94f556row2_col5\" class=\"data row2 col5\" >40895</td> \n",
       "        <td id=\"T_58079330_9cc6_11ea_9927_28c63f94f556row2_col6\" class=\"data row2 col6\" >904132</td> \n",
       "        <td id=\"T_58079330_9cc6_11ea_9927_28c63f94f556row2_col7\" class=\"data row2 col7\" >10.1796</td> \n",
       "        <td id=\"T_58079330_9cc6_11ea_9927_28c63f94f556row2_col8\" class=\"data row2 col8\" >3.20974</td> \n",
       "    </tr>    <tr> \n",
       "        <th id=\"T_58079330_9cc6_11ea_9927_28c63f94f556level0_row3\" class=\"row_heading level0 row3\" >41</th> \n",
       "        <td id=\"T_58079330_9cc6_11ea_9927_28c63f94f556row3_col0\" class=\"data row3 col0\" >15</td> \n",
       "        <td id=\"T_58079330_9cc6_11ea_9927_28c63f94f556row3_col1\" class=\"data row3 col1\" >Hawaii</td> \n",
       "        <td id=\"T_58079330_9cc6_11ea_9927_28c63f94f556row3_col2\" class=\"data row3 col2\" >1.42203e+06</td> \n",
       "        <td id=\"T_58079330_9cc6_11ea_9927_28c63f94f556row3_col3\" class=\"data row3 col3\" >38.9</td> \n",
       "        <td id=\"T_58079330_9cc6_11ea_9927_28c63f94f556row3_col4\" class=\"data row3 col4\" >78084</td> \n",
       "        <td id=\"T_58079330_9cc6_11ea_9927_28c63f94f556row3_col5\" class=\"data row3 col5\" >34035</td> \n",
       "        <td id=\"T_58079330_9cc6_11ea_9927_28c63f94f556row3_col6\" class=\"data row3 col6\" >137516</td> \n",
       "        <td id=\"T_58079330_9cc6_11ea_9927_28c63f94f556row3_col7\" class=\"data row3 col7\" >9.67041</td> \n",
       "        <td id=\"T_58079330_9cc6_11ea_9927_28c63f94f556row3_col8\" class=\"data row3 col8\" >2.25284</td> \n",
       "    </tr>    <tr> \n",
       "        <th id=\"T_58079330_9cc6_11ea_9927_28c63f94f556level0_row4\" class=\"row_heading level0 row4\" >50</th> \n",
       "        <td id=\"T_58079330_9cc6_11ea_9927_28c63f94f556row4_col0\" class=\"data row4 col0\" >25</td> \n",
       "        <td id=\"T_58079330_9cc6_11ea_9927_28c63f94f556row4_col1\" class=\"data row4 col1\" >Massachusetts</td> \n",
       "        <td id=\"T_58079330_9cc6_11ea_9927_28c63f94f556row4_col2\" class=\"data row4 col2\" >6.83019e+06</td> \n",
       "        <td id=\"T_58079330_9cc6_11ea_9927_28c63f94f556row4_col3\" class=\"data row4 col3\" >39.4</td> \n",
       "        <td id=\"T_58079330_9cc6_11ea_9927_28c63f94f556row4_col4\" class=\"data row4 col4\" >77378</td> \n",
       "        <td id=\"T_58079330_9cc6_11ea_9927_28c63f94f556row4_col5\" class=\"data row4 col5\" >41794</td> \n",
       "        <td id=\"T_58079330_9cc6_11ea_9927_28c63f94f556row4_col6\" class=\"data row4 col6\" >710305</td> \n",
       "        <td id=\"T_58079330_9cc6_11ea_9927_28c63f94f556row4_col7\" class=\"data row4 col7\" >10.3995</td> \n",
       "        <td id=\"T_58079330_9cc6_11ea_9927_28c63f94f556row4_col8\" class=\"data row4 col8\" >2.97889</td> \n",
       "    </tr>    <tr> \n",
       "        <th id=\"T_58079330_9cc6_11ea_9927_28c63f94f556level0_row5\" class=\"row_heading level0 row5\" >30</th> \n",
       "        <td id=\"T_58079330_9cc6_11ea_9927_28c63f94f556row5_col0\" class=\"data row5 col0\" >02</td> \n",
       "        <td id=\"T_58079330_9cc6_11ea_9927_28c63f94f556row5_col1\" class=\"data row5 col1\" >Alaska</td> \n",
       "        <td id=\"T_58079330_9cc6_11ea_9927_28c63f94f556row5_col2\" class=\"data row5 col2\" >738516</td> \n",
       "        <td id=\"T_58079330_9cc6_11ea_9927_28c63f94f556row5_col3\" class=\"data row5 col3\" >34</td> \n",
       "        <td id=\"T_58079330_9cc6_11ea_9927_28c63f94f556row5_col4\" class=\"data row5 col4\" >76715</td> \n",
       "        <td id=\"T_58079330_9cc6_11ea_9927_28c63f94f556row5_col5\" class=\"data row5 col5\" >35874</td> \n",
       "        <td id=\"T_58079330_9cc6_11ea_9927_28c63f94f556row5_col6\" class=\"data row5 col6\" >77865</td> \n",
       "        <td id=\"T_58079330_9cc6_11ea_9927_28c63f94f556row5_col7\" class=\"data row5 col7\" >10.5434</td> \n",
       "        <td id=\"T_58079330_9cc6_11ea_9927_28c63f94f556row5_col8\" class=\"data row5 col8\" >3.80046</td> \n",
       "    </tr>    <tr> \n",
       "        <th id=\"T_58079330_9cc6_11ea_9927_28c63f94f556level0_row6\" class=\"row_heading level0 row6\" >35</th> \n",
       "        <td id=\"T_58079330_9cc6_11ea_9927_28c63f94f556row6_col0\" class=\"data row6 col0\" >09</td> \n",
       "        <td id=\"T_58079330_9cc6_11ea_9927_28c63f94f556row6_col1\" class=\"data row6 col1\" >Connecticut</td> \n",
       "        <td id=\"T_58079330_9cc6_11ea_9927_28c63f94f556row6_col2\" class=\"data row6 col2\" >3.5815e+06</td> \n",
       "        <td id=\"T_58079330_9cc6_11ea_9927_28c63f94f556row6_col3\" class=\"data row6 col3\" >40.8</td> \n",
       "        <td id=\"T_58079330_9cc6_11ea_9927_28c63f94f556row6_col4\" class=\"data row6 col4\" >76106</td> \n",
       "        <td id=\"T_58079330_9cc6_11ea_9927_28c63f94f556row6_col5\" class=\"data row6 col5\" >43056</td> \n",
       "        <td id=\"T_58079330_9cc6_11ea_9927_28c63f94f556row6_col6\" class=\"data row6 col6\" >348449</td> \n",
       "        <td id=\"T_58079330_9cc6_11ea_9927_28c63f94f556row6_col7\" class=\"data row6 col7\" >9.72912</td> \n",
       "        <td id=\"T_58079330_9cc6_11ea_9927_28c63f94f556row6_col8\" class=\"data row6 col8\" >3.51553</td> \n",
       "    </tr>    <tr> \n",
       "        <th id=\"T_58079330_9cc6_11ea_9927_28c63f94f556level0_row7\" class=\"row_heading level0 row7\" >6</th> \n",
       "        <td id=\"T_58079330_9cc6_11ea_9927_28c63f94f556row7_col0\" class=\"data row7 col0\" >33</td> \n",
       "        <td id=\"T_58079330_9cc6_11ea_9927_28c63f94f556row7_col1\" class=\"data row7 col1\" >New Hampshire</td> \n",
       "        <td id=\"T_58079330_9cc6_11ea_9927_28c63f94f556row7_col2\" class=\"data row7 col2\" >1.34362e+06</td> \n",
       "        <td id=\"T_58079330_9cc6_11ea_9927_28c63f94f556row7_col3\" class=\"data row7 col3\" >42.7</td> \n",
       "        <td id=\"T_58079330_9cc6_11ea_9927_28c63f94f556row7_col4\" class=\"data row7 col4\" >74057</td> \n",
       "        <td id=\"T_58079330_9cc6_11ea_9927_28c63f94f556row7_col5\" class=\"data row7 col5\" >38548</td> \n",
       "        <td id=\"T_58079330_9cc6_11ea_9927_28c63f94f556row7_col6\" class=\"data row7 col6\" >102352</td> \n",
       "        <td id=\"T_58079330_9cc6_11ea_9927_28c63f94f556row7_col7\" class=\"data row7 col7\" >7.61762</td> \n",
       "        <td id=\"T_58079330_9cc6_11ea_9927_28c63f94f556row7_col8\" class=\"data row7 col8\" >2.26195</td> \n",
       "    </tr>    <tr> \n",
       "        <th id=\"T_58079330_9cc6_11ea_9927_28c63f94f556level0_row8\" class=\"row_heading level0 row8\" >23</th> \n",
       "        <td id=\"T_58079330_9cc6_11ea_9927_28c63f94f556row8_col0\" class=\"data row8 col0\" >51</td> \n",
       "        <td id=\"T_58079330_9cc6_11ea_9927_28c63f94f556row8_col1\" class=\"data row8 col1\" >Virginia</td> \n",
       "        <td id=\"T_58079330_9cc6_11ea_9927_28c63f94f556row8_col2\" class=\"data row8 col2\" >8.41377e+06</td> \n",
       "        <td id=\"T_58079330_9cc6_11ea_9927_28c63f94f556row8_col3\" class=\"data row8 col3\" >38.1</td> \n",
       "        <td id=\"T_58079330_9cc6_11ea_9927_28c63f94f556row8_col4\" class=\"data row8 col4\" >71564</td> \n",
       "        <td id=\"T_58079330_9cc6_11ea_9927_28c63f94f556row8_col5\" class=\"data row8 col5\" >37763</td> \n",
       "        <td id=\"T_58079330_9cc6_11ea_9927_28c63f94f556row8_col6\" class=\"data row8 col6\" >893580</td> \n",
       "        <td id=\"T_58079330_9cc6_11ea_9927_28c63f94f556row8_col7\" class=\"data row8 col7\" >10.6204</td> \n",
       "        <td id=\"T_58079330_9cc6_11ea_9927_28c63f94f556row8_col8\" class=\"data row8 col8\" >2.58707</td> \n",
       "    </tr>    <tr> \n",
       "        <th id=\"T_58079330_9cc6_11ea_9927_28c63f94f556level0_row9\" class=\"row_heading level0 row9\" >33</th> \n",
       "        <td id=\"T_58079330_9cc6_11ea_9927_28c63f94f556row9_col0\" class=\"data row9 col0\" >06</td> \n",
       "        <td id=\"T_58079330_9cc6_11ea_9927_28c63f94f556row9_col1\" class=\"data row9 col1\" >California</td> \n",
       "        <td id=\"T_58079330_9cc6_11ea_9927_28c63f94f556row9_col2\" class=\"data row9 col2\" >3.91488e+07</td> \n",
       "        <td id=\"T_58079330_9cc6_11ea_9927_28c63f94f556row9_col3\" class=\"data row9 col3\" >36.3</td> \n",
       "        <td id=\"T_58079330_9cc6_11ea_9927_28c63f94f556row9_col4\" class=\"data row9 col4\" >71228</td> \n",
       "        <td id=\"T_58079330_9cc6_11ea_9927_28c63f94f556row9_col5\" class=\"data row9 col5\" >35021</td> \n",
       "        <td id=\"T_58079330_9cc6_11ea_9927_28c63f94f556row9_col6\" class=\"data row9 col6\" >5.48714e+06</td> \n",
       "        <td id=\"T_58079330_9cc6_11ea_9927_28c63f94f556row9_col7\" class=\"data row9 col7\" >14.0161</td> \n",
       "        <td id=\"T_58079330_9cc6_11ea_9927_28c63f94f556row9_col8\" class=\"data row9 col8\" >3.37559</td> \n",
       "    </tr></tbody> \n",
       "</table> "
      ],
      "text/plain": [
       "<pandas.io.formats.style.Styler at 0x1f0da7cc5f8>"
      ]
     },
     "execution_count": 7,
     "metadata": {},
     "output_type": "execute_result"
    }
   ],
   "source": [
    "census_pd.head(10).style.set_properties(**{'background-color': 'black',                                                   \n",
    "                                    'color': 'lawngreen',                       \n",
    "                                    'border-color': 'white'})"
   ]
  },
  {
   "cell_type": "markdown",
   "metadata": {},
   "source": [
    "## Creating a choropleth map with Plotly"
   ]
  },
  {
   "cell_type": "code",
   "execution_count": 18,
   "metadata": {},
   "outputs": [
    {
     "data": {
      "application/vnd.plotly.v1+json": {
       "config": {
        "plotlyServerURL": "https://plot.ly"
       },
       "data": [
        {
         "colorbar": {
          "title": {
           "text": "Millions"
          }
         },
         "colorscale": [
          [
           0,
           "rgb(255,245,240)"
          ],
          [
           0.125,
           "rgb(254,224,210)"
          ],
          [
           0.25,
           "rgb(252,187,161)"
          ],
          [
           0.375,
           "rgb(252,146,114)"
          ],
          [
           0.5,
           "rgb(251,106,74)"
          ],
          [
           0.625,
           "rgb(239,59,44)"
          ],
          [
           0.75,
           "rgb(203,24,29)"
          ],
          [
           0.875,
           "rgb(165,15,21)"
          ],
          [
           1,
           "rgb(103,0,13)"
          ]
         ],
         "locationmode": "USA-states",
         "locations": [
          "MN",
          "MS",
          "MO",
          "MT",
          "NE",
          "NV",
          "NH",
          "NJ",
          "NM",
          "NY",
          "NC",
          "ND",
          "OH",
          "OK",
          "OR",
          "PA",
          "RI",
          "SC",
          "SD",
          "TN",
          "TX",
          "UT",
          "VT",
          "VA",
          "WV",
          "WA",
          "WI",
          "WY",
          "AL",
          "AK",
          "AZ",
          "AR",
          "CA",
          "CO",
          "CT",
          "DE",
          "DC",
          "FL",
          "GA",
          "ID",
          "HI",
          "IL",
          "IN",
          "IA",
          "KS",
          "KY",
          "LA",
          "ME",
          "MD",
          "MA",
          "MI"
         ],
         "type": "choropleth",
         "z": [
          5527358,
          2988762,
          6090062,
          1041732,
          1904760,
          2922849,
          1343622,
          8881845,
          2092434,
          19618453,
          10155624,
          752201,
          11641879,
          3918137,
          4081943,
          12791181,
          1056611,
          4955925,
          864289,
          6651089,
          27885195,
          3045350,
          624977,
          8413774,
          1829054,
          7294336,
          5778394,
          581836,
          4864680,
          738516,
          6946685,
          2990671,
          39148760,
          5531141,
          3581504,
          949495,
          684498,
          20598139,
          10297484,
          1687809,
          1422029,
          12821497,
          6637426,
          3132499,
          2908776,
          4440204,
          4663616,
          1332813,
          6003435,
          6830193,
          9957488
         ]
        }
       ],
       "layout": {
        "geo": {
         "scope": "usa"
        },
        "template": {
         "data": {
          "bar": [
           {
            "error_x": {
             "color": "#2a3f5f"
            },
            "error_y": {
             "color": "#2a3f5f"
            },
            "marker": {
             "line": {
              "color": "#E5ECF6",
              "width": 0.5
             }
            },
            "type": "bar"
           }
          ],
          "barpolar": [
           {
            "marker": {
             "line": {
              "color": "#E5ECF6",
              "width": 0.5
             }
            },
            "type": "barpolar"
           }
          ],
          "carpet": [
           {
            "aaxis": {
             "endlinecolor": "#2a3f5f",
             "gridcolor": "white",
             "linecolor": "white",
             "minorgridcolor": "white",
             "startlinecolor": "#2a3f5f"
            },
            "baxis": {
             "endlinecolor": "#2a3f5f",
             "gridcolor": "white",
             "linecolor": "white",
             "minorgridcolor": "white",
             "startlinecolor": "#2a3f5f"
            },
            "type": "carpet"
           }
          ],
          "choropleth": [
           {
            "colorbar": {
             "outlinewidth": 0,
             "ticks": ""
            },
            "type": "choropleth"
           }
          ],
          "contour": [
           {
            "colorbar": {
             "outlinewidth": 0,
             "ticks": ""
            },
            "colorscale": [
             [
              0,
              "#0d0887"
             ],
             [
              0.1111111111111111,
              "#46039f"
             ],
             [
              0.2222222222222222,
              "#7201a8"
             ],
             [
              0.3333333333333333,
              "#9c179e"
             ],
             [
              0.4444444444444444,
              "#bd3786"
             ],
             [
              0.5555555555555556,
              "#d8576b"
             ],
             [
              0.6666666666666666,
              "#ed7953"
             ],
             [
              0.7777777777777778,
              "#fb9f3a"
             ],
             [
              0.8888888888888888,
              "#fdca26"
             ],
             [
              1,
              "#f0f921"
             ]
            ],
            "type": "contour"
           }
          ],
          "contourcarpet": [
           {
            "colorbar": {
             "outlinewidth": 0,
             "ticks": ""
            },
            "type": "contourcarpet"
           }
          ],
          "heatmap": [
           {
            "colorbar": {
             "outlinewidth": 0,
             "ticks": ""
            },
            "colorscale": [
             [
              0,
              "#0d0887"
             ],
             [
              0.1111111111111111,
              "#46039f"
             ],
             [
              0.2222222222222222,
              "#7201a8"
             ],
             [
              0.3333333333333333,
              "#9c179e"
             ],
             [
              0.4444444444444444,
              "#bd3786"
             ],
             [
              0.5555555555555556,
              "#d8576b"
             ],
             [
              0.6666666666666666,
              "#ed7953"
             ],
             [
              0.7777777777777778,
              "#fb9f3a"
             ],
             [
              0.8888888888888888,
              "#fdca26"
             ],
             [
              1,
              "#f0f921"
             ]
            ],
            "type": "heatmap"
           }
          ],
          "heatmapgl": [
           {
            "colorbar": {
             "outlinewidth": 0,
             "ticks": ""
            },
            "colorscale": [
             [
              0,
              "#0d0887"
             ],
             [
              0.1111111111111111,
              "#46039f"
             ],
             [
              0.2222222222222222,
              "#7201a8"
             ],
             [
              0.3333333333333333,
              "#9c179e"
             ],
             [
              0.4444444444444444,
              "#bd3786"
             ],
             [
              0.5555555555555556,
              "#d8576b"
             ],
             [
              0.6666666666666666,
              "#ed7953"
             ],
             [
              0.7777777777777778,
              "#fb9f3a"
             ],
             [
              0.8888888888888888,
              "#fdca26"
             ],
             [
              1,
              "#f0f921"
             ]
            ],
            "type": "heatmapgl"
           }
          ],
          "histogram": [
           {
            "marker": {
             "colorbar": {
              "outlinewidth": 0,
              "ticks": ""
             }
            },
            "type": "histogram"
           }
          ],
          "histogram2d": [
           {
            "colorbar": {
             "outlinewidth": 0,
             "ticks": ""
            },
            "colorscale": [
             [
              0,
              "#0d0887"
             ],
             [
              0.1111111111111111,
              "#46039f"
             ],
             [
              0.2222222222222222,
              "#7201a8"
             ],
             [
              0.3333333333333333,
              "#9c179e"
             ],
             [
              0.4444444444444444,
              "#bd3786"
             ],
             [
              0.5555555555555556,
              "#d8576b"
             ],
             [
              0.6666666666666666,
              "#ed7953"
             ],
             [
              0.7777777777777778,
              "#fb9f3a"
             ],
             [
              0.8888888888888888,
              "#fdca26"
             ],
             [
              1,
              "#f0f921"
             ]
            ],
            "type": "histogram2d"
           }
          ],
          "histogram2dcontour": [
           {
            "colorbar": {
             "outlinewidth": 0,
             "ticks": ""
            },
            "colorscale": [
             [
              0,
              "#0d0887"
             ],
             [
              0.1111111111111111,
              "#46039f"
             ],
             [
              0.2222222222222222,
              "#7201a8"
             ],
             [
              0.3333333333333333,
              "#9c179e"
             ],
             [
              0.4444444444444444,
              "#bd3786"
             ],
             [
              0.5555555555555556,
              "#d8576b"
             ],
             [
              0.6666666666666666,
              "#ed7953"
             ],
             [
              0.7777777777777778,
              "#fb9f3a"
             ],
             [
              0.8888888888888888,
              "#fdca26"
             ],
             [
              1,
              "#f0f921"
             ]
            ],
            "type": "histogram2dcontour"
           }
          ],
          "mesh3d": [
           {
            "colorbar": {
             "outlinewidth": 0,
             "ticks": ""
            },
            "type": "mesh3d"
           }
          ],
          "parcoords": [
           {
            "line": {
             "colorbar": {
              "outlinewidth": 0,
              "ticks": ""
             }
            },
            "type": "parcoords"
           }
          ],
          "pie": [
           {
            "automargin": true,
            "type": "pie"
           }
          ],
          "scatter": [
           {
            "marker": {
             "colorbar": {
              "outlinewidth": 0,
              "ticks": ""
             }
            },
            "type": "scatter"
           }
          ],
          "scatter3d": [
           {
            "line": {
             "colorbar": {
              "outlinewidth": 0,
              "ticks": ""
             }
            },
            "marker": {
             "colorbar": {
              "outlinewidth": 0,
              "ticks": ""
             }
            },
            "type": "scatter3d"
           }
          ],
          "scattercarpet": [
           {
            "marker": {
             "colorbar": {
              "outlinewidth": 0,
              "ticks": ""
             }
            },
            "type": "scattercarpet"
           }
          ],
          "scattergeo": [
           {
            "marker": {
             "colorbar": {
              "outlinewidth": 0,
              "ticks": ""
             }
            },
            "type": "scattergeo"
           }
          ],
          "scattergl": [
           {
            "marker": {
             "colorbar": {
              "outlinewidth": 0,
              "ticks": ""
             }
            },
            "type": "scattergl"
           }
          ],
          "scattermapbox": [
           {
            "marker": {
             "colorbar": {
              "outlinewidth": 0,
              "ticks": ""
             }
            },
            "type": "scattermapbox"
           }
          ],
          "scatterpolar": [
           {
            "marker": {
             "colorbar": {
              "outlinewidth": 0,
              "ticks": ""
             }
            },
            "type": "scatterpolar"
           }
          ],
          "scatterpolargl": [
           {
            "marker": {
             "colorbar": {
              "outlinewidth": 0,
              "ticks": ""
             }
            },
            "type": "scatterpolargl"
           }
          ],
          "scatterternary": [
           {
            "marker": {
             "colorbar": {
              "outlinewidth": 0,
              "ticks": ""
             }
            },
            "type": "scatterternary"
           }
          ],
          "surface": [
           {
            "colorbar": {
             "outlinewidth": 0,
             "ticks": ""
            },
            "colorscale": [
             [
              0,
              "#0d0887"
             ],
             [
              0.1111111111111111,
              "#46039f"
             ],
             [
              0.2222222222222222,
              "#7201a8"
             ],
             [
              0.3333333333333333,
              "#9c179e"
             ],
             [
              0.4444444444444444,
              "#bd3786"
             ],
             [
              0.5555555555555556,
              "#d8576b"
             ],
             [
              0.6666666666666666,
              "#ed7953"
             ],
             [
              0.7777777777777778,
              "#fb9f3a"
             ],
             [
              0.8888888888888888,
              "#fdca26"
             ],
             [
              1,
              "#f0f921"
             ]
            ],
            "type": "surface"
           }
          ],
          "table": [
           {
            "cells": {
             "fill": {
              "color": "#EBF0F8"
             },
             "line": {
              "color": "white"
             }
            },
            "header": {
             "fill": {
              "color": "#C8D4E3"
             },
             "line": {
              "color": "white"
             }
            },
            "type": "table"
           }
          ]
         },
         "layout": {
          "annotationdefaults": {
           "arrowcolor": "#2a3f5f",
           "arrowhead": 0,
           "arrowwidth": 1
          },
          "coloraxis": {
           "colorbar": {
            "outlinewidth": 0,
            "ticks": ""
           }
          },
          "colorscale": {
           "diverging": [
            [
             0,
             "#8e0152"
            ],
            [
             0.1,
             "#c51b7d"
            ],
            [
             0.2,
             "#de77ae"
            ],
            [
             0.3,
             "#f1b6da"
            ],
            [
             0.4,
             "#fde0ef"
            ],
            [
             0.5,
             "#f7f7f7"
            ],
            [
             0.6,
             "#e6f5d0"
            ],
            [
             0.7,
             "#b8e186"
            ],
            [
             0.8,
             "#7fbc41"
            ],
            [
             0.9,
             "#4d9221"
            ],
            [
             1,
             "#276419"
            ]
           ],
           "sequential": [
            [
             0,
             "#0d0887"
            ],
            [
             0.1111111111111111,
             "#46039f"
            ],
            [
             0.2222222222222222,
             "#7201a8"
            ],
            [
             0.3333333333333333,
             "#9c179e"
            ],
            [
             0.4444444444444444,
             "#bd3786"
            ],
            [
             0.5555555555555556,
             "#d8576b"
            ],
            [
             0.6666666666666666,
             "#ed7953"
            ],
            [
             0.7777777777777778,
             "#fb9f3a"
            ],
            [
             0.8888888888888888,
             "#fdca26"
            ],
            [
             1,
             "#f0f921"
            ]
           ],
           "sequentialminus": [
            [
             0,
             "#0d0887"
            ],
            [
             0.1111111111111111,
             "#46039f"
            ],
            [
             0.2222222222222222,
             "#7201a8"
            ],
            [
             0.3333333333333333,
             "#9c179e"
            ],
            [
             0.4444444444444444,
             "#bd3786"
            ],
            [
             0.5555555555555556,
             "#d8576b"
            ],
            [
             0.6666666666666666,
             "#ed7953"
            ],
            [
             0.7777777777777778,
             "#fb9f3a"
            ],
            [
             0.8888888888888888,
             "#fdca26"
            ],
            [
             1,
             "#f0f921"
            ]
           ]
          },
          "colorway": [
           "#636efa",
           "#EF553B",
           "#00cc96",
           "#ab63fa",
           "#FFA15A",
           "#19d3f3",
           "#FF6692",
           "#B6E880",
           "#FF97FF",
           "#FECB52"
          ],
          "font": {
           "color": "#2a3f5f"
          },
          "geo": {
           "bgcolor": "white",
           "lakecolor": "white",
           "landcolor": "#E5ECF6",
           "showlakes": true,
           "showland": true,
           "subunitcolor": "white"
          },
          "hoverlabel": {
           "align": "left"
          },
          "hovermode": "closest",
          "mapbox": {
           "style": "light"
          },
          "paper_bgcolor": "white",
          "plot_bgcolor": "#E5ECF6",
          "polar": {
           "angularaxis": {
            "gridcolor": "white",
            "linecolor": "white",
            "ticks": ""
           },
           "bgcolor": "#E5ECF6",
           "radialaxis": {
            "gridcolor": "white",
            "linecolor": "white",
            "ticks": ""
           }
          },
          "scene": {
           "xaxis": {
            "backgroundcolor": "#E5ECF6",
            "gridcolor": "white",
            "gridwidth": 2,
            "linecolor": "white",
            "showbackground": true,
            "ticks": "",
            "zerolinecolor": "white"
           },
           "yaxis": {
            "backgroundcolor": "#E5ECF6",
            "gridcolor": "white",
            "gridwidth": 2,
            "linecolor": "white",
            "showbackground": true,
            "ticks": "",
            "zerolinecolor": "white"
           },
           "zaxis": {
            "backgroundcolor": "#E5ECF6",
            "gridcolor": "white",
            "gridwidth": 2,
            "linecolor": "white",
            "showbackground": true,
            "ticks": "",
            "zerolinecolor": "white"
           }
          },
          "shapedefaults": {
           "line": {
            "color": "#2a3f5f"
           }
          },
          "ternary": {
           "aaxis": {
            "gridcolor": "white",
            "linecolor": "white",
            "ticks": ""
           },
           "baxis": {
            "gridcolor": "white",
            "linecolor": "white",
            "ticks": ""
           },
           "bgcolor": "#E5ECF6",
           "caxis": {
            "gridcolor": "white",
            "linecolor": "white",
            "ticks": ""
           }
          },
          "title": {
           "x": 0.05
          },
          "xaxis": {
           "automargin": true,
           "gridcolor": "white",
           "linecolor": "white",
           "ticks": "",
           "title": {
            "standoff": 15
           },
           "zerolinecolor": "white",
           "zerolinewidth": 2
          },
          "yaxis": {
           "automargin": true,
           "gridcolor": "white",
           "linecolor": "white",
           "ticks": "",
           "title": {
            "standoff": 15
           },
           "zerolinecolor": "white",
           "zerolinewidth": 2
          }
         }
        },
        "title": {
         "text": "2018 US Population by State"
        }
       }
      },
      "text/html": [
       "<div>\n",
       "        \n",
       "        \n",
       "            <div id=\"ed52a134-7272-4bac-958e-1640d78f681d\" class=\"plotly-graph-div\" style=\"height:525px; width:100%;\"></div>\n",
       "            <script type=\"text/javascript\">\n",
       "                require([\"plotly\"], function(Plotly) {\n",
       "                    window.PLOTLYENV=window.PLOTLYENV || {};\n",
       "                    \n",
       "                if (document.getElementById(\"ed52a134-7272-4bac-958e-1640d78f681d\")) {\n",
       "                    Plotly.newPlot(\n",
       "                        'ed52a134-7272-4bac-958e-1640d78f681d',\n",
       "                        [{\"colorbar\": {\"title\": {\"text\": \"Millions\"}}, \"colorscale\": [[0.0, \"rgb(255,245,240)\"], [0.125, \"rgb(254,224,210)\"], [0.25, \"rgb(252,187,161)\"], [0.375, \"rgb(252,146,114)\"], [0.5, \"rgb(251,106,74)\"], [0.625, \"rgb(239,59,44)\"], [0.75, \"rgb(203,24,29)\"], [0.875, \"rgb(165,15,21)\"], [1.0, \"rgb(103,0,13)\"]], \"locationmode\": \"USA-states\", \"locations\": [\"MN\", \"MS\", \"MO\", \"MT\", \"NE\", \"NV\", \"NH\", \"NJ\", \"NM\", \"NY\", \"NC\", \"ND\", \"OH\", \"OK\", \"OR\", \"PA\", \"RI\", \"SC\", \"SD\", \"TN\", \"TX\", \"UT\", \"VT\", \"VA\", \"WV\", \"WA\", \"WI\", \"WY\", \"AL\", \"AK\", \"AZ\", \"AR\", \"CA\", \"CO\", \"CT\", \"DE\", \"DC\", \"FL\", \"GA\", \"ID\", \"HI\", \"IL\", \"IN\", \"IA\", \"KS\", \"KY\", \"LA\", \"ME\", \"MD\", \"MA\", \"MI\"], \"type\": \"choropleth\", \"z\": [5527358.0, 2988762.0, 6090062.0, 1041732.0, 1904760.0, 2922849.0, 1343622.0, 8881845.0, 2092434.0, 19618453.0, 10155624.0, 752201.0, 11641879.0, 3918137.0, 4081943.0, 12791181.0, 1056611.0, 4955925.0, 864289.0, 6651089.0, 27885195.0, 3045350.0, 624977.0, 8413774.0, 1829054.0, 7294336.0, 5778394.0, 581836.0, 4864680.0, 738516.0, 6946685.0, 2990671.0, 39148760.0, 5531141.0, 3581504.0, 949495.0, 684498.0, 20598139.0, 10297484.0, 1687809.0, 1422029.0, 12821497.0, 6637426.0, 3132499.0, 2908776.0, 4440204.0, 4663616.0, 1332813.0, 6003435.0, 6830193.0, 9957488.0]}],\n",
       "                        {\"geo\": {\"scope\": \"usa\"}, \"template\": {\"data\": {\"bar\": [{\"error_x\": {\"color\": \"#2a3f5f\"}, \"error_y\": {\"color\": \"#2a3f5f\"}, \"marker\": {\"line\": {\"color\": \"#E5ECF6\", \"width\": 0.5}}, \"type\": \"bar\"}], \"barpolar\": [{\"marker\": {\"line\": {\"color\": \"#E5ECF6\", \"width\": 0.5}}, \"type\": \"barpolar\"}], \"carpet\": [{\"aaxis\": {\"endlinecolor\": \"#2a3f5f\", \"gridcolor\": \"white\", \"linecolor\": \"white\", \"minorgridcolor\": \"white\", \"startlinecolor\": \"#2a3f5f\"}, \"baxis\": {\"endlinecolor\": \"#2a3f5f\", \"gridcolor\": \"white\", \"linecolor\": \"white\", \"minorgridcolor\": \"white\", \"startlinecolor\": \"#2a3f5f\"}, \"type\": \"carpet\"}], \"choropleth\": [{\"colorbar\": {\"outlinewidth\": 0, \"ticks\": \"\"}, \"type\": \"choropleth\"}], \"contour\": [{\"colorbar\": {\"outlinewidth\": 0, \"ticks\": \"\"}, \"colorscale\": [[0.0, \"#0d0887\"], [0.1111111111111111, \"#46039f\"], [0.2222222222222222, \"#7201a8\"], [0.3333333333333333, \"#9c179e\"], [0.4444444444444444, \"#bd3786\"], [0.5555555555555556, \"#d8576b\"], [0.6666666666666666, \"#ed7953\"], [0.7777777777777778, \"#fb9f3a\"], [0.8888888888888888, \"#fdca26\"], [1.0, \"#f0f921\"]], \"type\": \"contour\"}], \"contourcarpet\": [{\"colorbar\": {\"outlinewidth\": 0, \"ticks\": \"\"}, \"type\": \"contourcarpet\"}], \"heatmap\": [{\"colorbar\": {\"outlinewidth\": 0, \"ticks\": \"\"}, \"colorscale\": [[0.0, \"#0d0887\"], [0.1111111111111111, \"#46039f\"], [0.2222222222222222, \"#7201a8\"], [0.3333333333333333, \"#9c179e\"], [0.4444444444444444, \"#bd3786\"], [0.5555555555555556, \"#d8576b\"], [0.6666666666666666, \"#ed7953\"], [0.7777777777777778, \"#fb9f3a\"], [0.8888888888888888, \"#fdca26\"], [1.0, \"#f0f921\"]], \"type\": \"heatmap\"}], \"heatmapgl\": [{\"colorbar\": {\"outlinewidth\": 0, \"ticks\": \"\"}, \"colorscale\": [[0.0, \"#0d0887\"], [0.1111111111111111, \"#46039f\"], [0.2222222222222222, \"#7201a8\"], [0.3333333333333333, \"#9c179e\"], [0.4444444444444444, \"#bd3786\"], [0.5555555555555556, \"#d8576b\"], [0.6666666666666666, \"#ed7953\"], [0.7777777777777778, \"#fb9f3a\"], [0.8888888888888888, \"#fdca26\"], [1.0, \"#f0f921\"]], \"type\": \"heatmapgl\"}], \"histogram\": [{\"marker\": {\"colorbar\": {\"outlinewidth\": 0, \"ticks\": \"\"}}, \"type\": \"histogram\"}], \"histogram2d\": [{\"colorbar\": {\"outlinewidth\": 0, \"ticks\": \"\"}, \"colorscale\": [[0.0, \"#0d0887\"], [0.1111111111111111, \"#46039f\"], [0.2222222222222222, \"#7201a8\"], [0.3333333333333333, \"#9c179e\"], [0.4444444444444444, \"#bd3786\"], [0.5555555555555556, \"#d8576b\"], [0.6666666666666666, \"#ed7953\"], [0.7777777777777778, \"#fb9f3a\"], [0.8888888888888888, \"#fdca26\"], [1.0, \"#f0f921\"]], \"type\": \"histogram2d\"}], \"histogram2dcontour\": [{\"colorbar\": {\"outlinewidth\": 0, \"ticks\": \"\"}, \"colorscale\": [[0.0, \"#0d0887\"], [0.1111111111111111, \"#46039f\"], [0.2222222222222222, \"#7201a8\"], [0.3333333333333333, \"#9c179e\"], [0.4444444444444444, \"#bd3786\"], [0.5555555555555556, \"#d8576b\"], [0.6666666666666666, \"#ed7953\"], [0.7777777777777778, \"#fb9f3a\"], [0.8888888888888888, \"#fdca26\"], [1.0, \"#f0f921\"]], \"type\": \"histogram2dcontour\"}], \"mesh3d\": [{\"colorbar\": {\"outlinewidth\": 0, \"ticks\": \"\"}, \"type\": \"mesh3d\"}], \"parcoords\": [{\"line\": {\"colorbar\": {\"outlinewidth\": 0, \"ticks\": \"\"}}, \"type\": \"parcoords\"}], \"pie\": [{\"automargin\": true, \"type\": \"pie\"}], \"scatter\": [{\"marker\": {\"colorbar\": {\"outlinewidth\": 0, \"ticks\": \"\"}}, \"type\": \"scatter\"}], \"scatter3d\": [{\"line\": {\"colorbar\": {\"outlinewidth\": 0, \"ticks\": \"\"}}, \"marker\": {\"colorbar\": {\"outlinewidth\": 0, \"ticks\": \"\"}}, \"type\": \"scatter3d\"}], \"scattercarpet\": [{\"marker\": {\"colorbar\": {\"outlinewidth\": 0, \"ticks\": \"\"}}, \"type\": \"scattercarpet\"}], \"scattergeo\": [{\"marker\": {\"colorbar\": {\"outlinewidth\": 0, \"ticks\": \"\"}}, \"type\": \"scattergeo\"}], \"scattergl\": [{\"marker\": {\"colorbar\": {\"outlinewidth\": 0, \"ticks\": \"\"}}, \"type\": \"scattergl\"}], \"scattermapbox\": [{\"marker\": {\"colorbar\": {\"outlinewidth\": 0, \"ticks\": \"\"}}, \"type\": \"scattermapbox\"}], \"scatterpolar\": [{\"marker\": {\"colorbar\": {\"outlinewidth\": 0, \"ticks\": \"\"}}, \"type\": \"scatterpolar\"}], \"scatterpolargl\": [{\"marker\": {\"colorbar\": {\"outlinewidth\": 0, \"ticks\": \"\"}}, \"type\": \"scatterpolargl\"}], \"scatterternary\": [{\"marker\": {\"colorbar\": {\"outlinewidth\": 0, \"ticks\": \"\"}}, \"type\": \"scatterternary\"}], \"surface\": [{\"colorbar\": {\"outlinewidth\": 0, \"ticks\": \"\"}, \"colorscale\": [[0.0, \"#0d0887\"], [0.1111111111111111, \"#46039f\"], [0.2222222222222222, \"#7201a8\"], [0.3333333333333333, \"#9c179e\"], [0.4444444444444444, \"#bd3786\"], [0.5555555555555556, \"#d8576b\"], [0.6666666666666666, \"#ed7953\"], [0.7777777777777778, \"#fb9f3a\"], [0.8888888888888888, \"#fdca26\"], [1.0, \"#f0f921\"]], \"type\": \"surface\"}], \"table\": [{\"cells\": {\"fill\": {\"color\": \"#EBF0F8\"}, \"line\": {\"color\": \"white\"}}, \"header\": {\"fill\": {\"color\": \"#C8D4E3\"}, \"line\": {\"color\": \"white\"}}, \"type\": \"table\"}]}, \"layout\": {\"annotationdefaults\": {\"arrowcolor\": \"#2a3f5f\", \"arrowhead\": 0, \"arrowwidth\": 1}, \"coloraxis\": {\"colorbar\": {\"outlinewidth\": 0, \"ticks\": \"\"}}, \"colorscale\": {\"diverging\": [[0, \"#8e0152\"], [0.1, \"#c51b7d\"], [0.2, \"#de77ae\"], [0.3, \"#f1b6da\"], [0.4, \"#fde0ef\"], [0.5, \"#f7f7f7\"], [0.6, \"#e6f5d0\"], [0.7, \"#b8e186\"], [0.8, \"#7fbc41\"], [0.9, \"#4d9221\"], [1, \"#276419\"]], \"sequential\": [[0.0, \"#0d0887\"], [0.1111111111111111, \"#46039f\"], [0.2222222222222222, \"#7201a8\"], [0.3333333333333333, \"#9c179e\"], [0.4444444444444444, \"#bd3786\"], [0.5555555555555556, \"#d8576b\"], [0.6666666666666666, \"#ed7953\"], [0.7777777777777778, \"#fb9f3a\"], [0.8888888888888888, \"#fdca26\"], [1.0, \"#f0f921\"]], \"sequentialminus\": [[0.0, \"#0d0887\"], [0.1111111111111111, \"#46039f\"], [0.2222222222222222, \"#7201a8\"], [0.3333333333333333, \"#9c179e\"], [0.4444444444444444, \"#bd3786\"], [0.5555555555555556, \"#d8576b\"], [0.6666666666666666, \"#ed7953\"], [0.7777777777777778, \"#fb9f3a\"], [0.8888888888888888, \"#fdca26\"], [1.0, \"#f0f921\"]]}, \"colorway\": [\"#636efa\", \"#EF553B\", \"#00cc96\", \"#ab63fa\", \"#FFA15A\", \"#19d3f3\", \"#FF6692\", \"#B6E880\", \"#FF97FF\", \"#FECB52\"], \"font\": {\"color\": \"#2a3f5f\"}, \"geo\": {\"bgcolor\": \"white\", \"lakecolor\": \"white\", \"landcolor\": \"#E5ECF6\", \"showlakes\": true, \"showland\": true, \"subunitcolor\": \"white\"}, \"hoverlabel\": {\"align\": \"left\"}, \"hovermode\": \"closest\", \"mapbox\": {\"style\": \"light\"}, \"paper_bgcolor\": \"white\", \"plot_bgcolor\": \"#E5ECF6\", \"polar\": {\"angularaxis\": {\"gridcolor\": \"white\", \"linecolor\": \"white\", \"ticks\": \"\"}, \"bgcolor\": \"#E5ECF6\", \"radialaxis\": {\"gridcolor\": \"white\", \"linecolor\": \"white\", \"ticks\": \"\"}}, \"scene\": {\"xaxis\": {\"backgroundcolor\": \"#E5ECF6\", \"gridcolor\": \"white\", \"gridwidth\": 2, \"linecolor\": \"white\", \"showbackground\": true, \"ticks\": \"\", \"zerolinecolor\": \"white\"}, \"yaxis\": {\"backgroundcolor\": \"#E5ECF6\", \"gridcolor\": \"white\", \"gridwidth\": 2, \"linecolor\": \"white\", \"showbackground\": true, \"ticks\": \"\", \"zerolinecolor\": \"white\"}, \"zaxis\": {\"backgroundcolor\": \"#E5ECF6\", \"gridcolor\": \"white\", \"gridwidth\": 2, \"linecolor\": \"white\", \"showbackground\": true, \"ticks\": \"\", \"zerolinecolor\": \"white\"}}, \"shapedefaults\": {\"line\": {\"color\": \"#2a3f5f\"}}, \"ternary\": {\"aaxis\": {\"gridcolor\": \"white\", \"linecolor\": \"white\", \"ticks\": \"\"}, \"baxis\": {\"gridcolor\": \"white\", \"linecolor\": \"white\", \"ticks\": \"\"}, \"bgcolor\": \"#E5ECF6\", \"caxis\": {\"gridcolor\": \"white\", \"linecolor\": \"white\", \"ticks\": \"\"}}, \"title\": {\"x\": 0.05}, \"xaxis\": {\"automargin\": true, \"gridcolor\": \"white\", \"linecolor\": \"white\", \"ticks\": \"\", \"title\": {\"standoff\": 15}, \"zerolinecolor\": \"white\", \"zerolinewidth\": 2}, \"yaxis\": {\"automargin\": true, \"gridcolor\": \"white\", \"linecolor\": \"white\", \"ticks\": \"\", \"title\": {\"standoff\": 15}, \"zerolinecolor\": \"white\", \"zerolinewidth\": 2}}}, \"title\": {\"text\": \"2018 US Population by State\"}},\n",
       "                        {\"responsive\": true}\n",
       "                    ).then(function(){\n",
       "                            \n",
       "var gd = document.getElementById('ed52a134-7272-4bac-958e-1640d78f681d');\n",
       "var x = new MutationObserver(function (mutations, observer) {{\n",
       "        var display = window.getComputedStyle(gd).display;\n",
       "        if (!display || display === 'none') {{\n",
       "            console.log([gd, 'removed!']);\n",
       "            Plotly.purge(gd);\n",
       "            observer.disconnect();\n",
       "        }}\n",
       "}});\n",
       "\n",
       "// Listen for the removal of the full notebook cells\n",
       "var notebookContainer = gd.closest('#notebook-container');\n",
       "if (notebookContainer) {{\n",
       "    x.observe(notebookContainer, {childList: true});\n",
       "}}\n",
       "\n",
       "// Listen for the clearing of the current output cell\n",
       "var outputEl = gd.closest('.output');\n",
       "if (outputEl) {{\n",
       "    x.observe(outputEl, {childList: true});\n",
       "}}\n",
       "\n",
       "                        })\n",
       "                };\n",
       "                });\n",
       "            </script>\n",
       "        </div>"
      ]
     },
     "metadata": {},
     "output_type": "display_data"
    }
   ],
   "source": [
    "import plotly.graph_objects as go\n",
    "\n",
    "# Load data frame and tidy it.\n",
    "import pandas as pd\n",
    "#df = pd.read_csv('https://raw.githubusercontent.com/plotly/datasets/master/2011_us_ag_exports.csv')\n",
    "\n",
    "fig = go.Figure(data=go.Choropleth(\n",
    "    locations=merge_table['abbreviation'], # Spatial coordinates\n",
    "    z = merge_table['Population'].astype(float), # Data to be color-coded\n",
    "    locationmode = 'USA-states', # set of locations match entries in `locations`\n",
    "    colorscale = 'Reds',\n",
    "    colorbar_title = \"Millions\"\n",
    "))\n",
    "\n",
    "fig.update_layout(\n",
    "    title_text = '2018 US Population by State',\n",
    "    geo_scope='usa'\n",
    ")\n",
    "\n",
    "fig.show()"
   ]
  },
  {
   "cell_type": "code",
   "execution_count": 13,
   "metadata": {},
   "outputs": [
    {
     "data": {
      "application/vnd.plotly.v1+json": {
       "config": {
        "plotlyServerURL": "https://plot.ly"
       },
       "data": [
        {
         "colorbar": {
          "title": {
           "text": "Millions USD"
          }
         },
         "colorscale": [
          [
           0,
           "rgb(247,252,245)"
          ],
          [
           0.125,
           "rgb(229,245,224)"
          ],
          [
           0.25,
           "rgb(199,233,192)"
          ],
          [
           0.375,
           "rgb(161,217,155)"
          ],
          [
           0.5,
           "rgb(116,196,118)"
          ],
          [
           0.625,
           "rgb(65,171,93)"
          ],
          [
           0.75,
           "rgb(35,139,69)"
          ],
          [
           0.875,
           "rgb(0,109,44)"
          ],
          [
           1,
           "rgb(0,68,27)"
          ]
         ],
         "locationmode": "USA-states",
         "locations": [
          "MN",
          "MS",
          "MO",
          "MT",
          "NE",
          "NV",
          "NH",
          "NJ",
          "NM",
          "NY",
          "NC",
          "ND",
          "OH",
          "OK",
          "OR",
          "PA",
          "RI",
          "SC",
          "SD",
          "TN",
          "TX",
          "UT",
          "VT",
          "VA",
          "WV",
          "WA",
          "WI",
          "WY",
          "AL",
          "AK",
          "AZ",
          "AR",
          "CA",
          "CO",
          "CT",
          "DE",
          "DC",
          "FL",
          "GA",
          "ID",
          "HI",
          "IL",
          "IN",
          "IA",
          "KS",
          "KY",
          "LA",
          "ME",
          "MD",
          "MA",
          "MI"
         ],
         "type": "choropleth",
         "z": [
          68411,
          43567,
          53560,
          52559,
          59116,
          57598,
          74057,
          79363,
          48059,
          65323,
          52413,
          63473,
          54533,
          51424,
          59393,
          59445,
          63296,
          51015,
          56499,
          50972,
          59570,
          68374,
          60076,
          71564,
          44921,
          70116,
          59209,
          62268,
          48486,
          76715,
          56213,
          45726,
          71228,
          68811,
          76106,
          65627,
          82604,
          53267,
          55679,
          53089,
          78084,
          63575,
          54325,
          58580,
          57422,
          48392,
          47942,
          55425,
          81868,
          77378,
          54938
         ]
        }
       ],
       "layout": {
        "geo": {
         "scope": "usa"
        },
        "template": {
         "data": {
          "bar": [
           {
            "error_x": {
             "color": "#2a3f5f"
            },
            "error_y": {
             "color": "#2a3f5f"
            },
            "marker": {
             "line": {
              "color": "#E5ECF6",
              "width": 0.5
             }
            },
            "type": "bar"
           }
          ],
          "barpolar": [
           {
            "marker": {
             "line": {
              "color": "#E5ECF6",
              "width": 0.5
             }
            },
            "type": "barpolar"
           }
          ],
          "carpet": [
           {
            "aaxis": {
             "endlinecolor": "#2a3f5f",
             "gridcolor": "white",
             "linecolor": "white",
             "minorgridcolor": "white",
             "startlinecolor": "#2a3f5f"
            },
            "baxis": {
             "endlinecolor": "#2a3f5f",
             "gridcolor": "white",
             "linecolor": "white",
             "minorgridcolor": "white",
             "startlinecolor": "#2a3f5f"
            },
            "type": "carpet"
           }
          ],
          "choropleth": [
           {
            "colorbar": {
             "outlinewidth": 0,
             "ticks": ""
            },
            "type": "choropleth"
           }
          ],
          "contour": [
           {
            "colorbar": {
             "outlinewidth": 0,
             "ticks": ""
            },
            "colorscale": [
             [
              0,
              "#0d0887"
             ],
             [
              0.1111111111111111,
              "#46039f"
             ],
             [
              0.2222222222222222,
              "#7201a8"
             ],
             [
              0.3333333333333333,
              "#9c179e"
             ],
             [
              0.4444444444444444,
              "#bd3786"
             ],
             [
              0.5555555555555556,
              "#d8576b"
             ],
             [
              0.6666666666666666,
              "#ed7953"
             ],
             [
              0.7777777777777778,
              "#fb9f3a"
             ],
             [
              0.8888888888888888,
              "#fdca26"
             ],
             [
              1,
              "#f0f921"
             ]
            ],
            "type": "contour"
           }
          ],
          "contourcarpet": [
           {
            "colorbar": {
             "outlinewidth": 0,
             "ticks": ""
            },
            "type": "contourcarpet"
           }
          ],
          "heatmap": [
           {
            "colorbar": {
             "outlinewidth": 0,
             "ticks": ""
            },
            "colorscale": [
             [
              0,
              "#0d0887"
             ],
             [
              0.1111111111111111,
              "#46039f"
             ],
             [
              0.2222222222222222,
              "#7201a8"
             ],
             [
              0.3333333333333333,
              "#9c179e"
             ],
             [
              0.4444444444444444,
              "#bd3786"
             ],
             [
              0.5555555555555556,
              "#d8576b"
             ],
             [
              0.6666666666666666,
              "#ed7953"
             ],
             [
              0.7777777777777778,
              "#fb9f3a"
             ],
             [
              0.8888888888888888,
              "#fdca26"
             ],
             [
              1,
              "#f0f921"
             ]
            ],
            "type": "heatmap"
           }
          ],
          "heatmapgl": [
           {
            "colorbar": {
             "outlinewidth": 0,
             "ticks": ""
            },
            "colorscale": [
             [
              0,
              "#0d0887"
             ],
             [
              0.1111111111111111,
              "#46039f"
             ],
             [
              0.2222222222222222,
              "#7201a8"
             ],
             [
              0.3333333333333333,
              "#9c179e"
             ],
             [
              0.4444444444444444,
              "#bd3786"
             ],
             [
              0.5555555555555556,
              "#d8576b"
             ],
             [
              0.6666666666666666,
              "#ed7953"
             ],
             [
              0.7777777777777778,
              "#fb9f3a"
             ],
             [
              0.8888888888888888,
              "#fdca26"
             ],
             [
              1,
              "#f0f921"
             ]
            ],
            "type": "heatmapgl"
           }
          ],
          "histogram": [
           {
            "marker": {
             "colorbar": {
              "outlinewidth": 0,
              "ticks": ""
             }
            },
            "type": "histogram"
           }
          ],
          "histogram2d": [
           {
            "colorbar": {
             "outlinewidth": 0,
             "ticks": ""
            },
            "colorscale": [
             [
              0,
              "#0d0887"
             ],
             [
              0.1111111111111111,
              "#46039f"
             ],
             [
              0.2222222222222222,
              "#7201a8"
             ],
             [
              0.3333333333333333,
              "#9c179e"
             ],
             [
              0.4444444444444444,
              "#bd3786"
             ],
             [
              0.5555555555555556,
              "#d8576b"
             ],
             [
              0.6666666666666666,
              "#ed7953"
             ],
             [
              0.7777777777777778,
              "#fb9f3a"
             ],
             [
              0.8888888888888888,
              "#fdca26"
             ],
             [
              1,
              "#f0f921"
             ]
            ],
            "type": "histogram2d"
           }
          ],
          "histogram2dcontour": [
           {
            "colorbar": {
             "outlinewidth": 0,
             "ticks": ""
            },
            "colorscale": [
             [
              0,
              "#0d0887"
             ],
             [
              0.1111111111111111,
              "#46039f"
             ],
             [
              0.2222222222222222,
              "#7201a8"
             ],
             [
              0.3333333333333333,
              "#9c179e"
             ],
             [
              0.4444444444444444,
              "#bd3786"
             ],
             [
              0.5555555555555556,
              "#d8576b"
             ],
             [
              0.6666666666666666,
              "#ed7953"
             ],
             [
              0.7777777777777778,
              "#fb9f3a"
             ],
             [
              0.8888888888888888,
              "#fdca26"
             ],
             [
              1,
              "#f0f921"
             ]
            ],
            "type": "histogram2dcontour"
           }
          ],
          "mesh3d": [
           {
            "colorbar": {
             "outlinewidth": 0,
             "ticks": ""
            },
            "type": "mesh3d"
           }
          ],
          "parcoords": [
           {
            "line": {
             "colorbar": {
              "outlinewidth": 0,
              "ticks": ""
             }
            },
            "type": "parcoords"
           }
          ],
          "pie": [
           {
            "automargin": true,
            "type": "pie"
           }
          ],
          "scatter": [
           {
            "marker": {
             "colorbar": {
              "outlinewidth": 0,
              "ticks": ""
             }
            },
            "type": "scatter"
           }
          ],
          "scatter3d": [
           {
            "line": {
             "colorbar": {
              "outlinewidth": 0,
              "ticks": ""
             }
            },
            "marker": {
             "colorbar": {
              "outlinewidth": 0,
              "ticks": ""
             }
            },
            "type": "scatter3d"
           }
          ],
          "scattercarpet": [
           {
            "marker": {
             "colorbar": {
              "outlinewidth": 0,
              "ticks": ""
             }
            },
            "type": "scattercarpet"
           }
          ],
          "scattergeo": [
           {
            "marker": {
             "colorbar": {
              "outlinewidth": 0,
              "ticks": ""
             }
            },
            "type": "scattergeo"
           }
          ],
          "scattergl": [
           {
            "marker": {
             "colorbar": {
              "outlinewidth": 0,
              "ticks": ""
             }
            },
            "type": "scattergl"
           }
          ],
          "scattermapbox": [
           {
            "marker": {
             "colorbar": {
              "outlinewidth": 0,
              "ticks": ""
             }
            },
            "type": "scattermapbox"
           }
          ],
          "scatterpolar": [
           {
            "marker": {
             "colorbar": {
              "outlinewidth": 0,
              "ticks": ""
             }
            },
            "type": "scatterpolar"
           }
          ],
          "scatterpolargl": [
           {
            "marker": {
             "colorbar": {
              "outlinewidth": 0,
              "ticks": ""
             }
            },
            "type": "scatterpolargl"
           }
          ],
          "scatterternary": [
           {
            "marker": {
             "colorbar": {
              "outlinewidth": 0,
              "ticks": ""
             }
            },
            "type": "scatterternary"
           }
          ],
          "surface": [
           {
            "colorbar": {
             "outlinewidth": 0,
             "ticks": ""
            },
            "colorscale": [
             [
              0,
              "#0d0887"
             ],
             [
              0.1111111111111111,
              "#46039f"
             ],
             [
              0.2222222222222222,
              "#7201a8"
             ],
             [
              0.3333333333333333,
              "#9c179e"
             ],
             [
              0.4444444444444444,
              "#bd3786"
             ],
             [
              0.5555555555555556,
              "#d8576b"
             ],
             [
              0.6666666666666666,
              "#ed7953"
             ],
             [
              0.7777777777777778,
              "#fb9f3a"
             ],
             [
              0.8888888888888888,
              "#fdca26"
             ],
             [
              1,
              "#f0f921"
             ]
            ],
            "type": "surface"
           }
          ],
          "table": [
           {
            "cells": {
             "fill": {
              "color": "#EBF0F8"
             },
             "line": {
              "color": "white"
             }
            },
            "header": {
             "fill": {
              "color": "#C8D4E3"
             },
             "line": {
              "color": "white"
             }
            },
            "type": "table"
           }
          ]
         },
         "layout": {
          "annotationdefaults": {
           "arrowcolor": "#2a3f5f",
           "arrowhead": 0,
           "arrowwidth": 1
          },
          "coloraxis": {
           "colorbar": {
            "outlinewidth": 0,
            "ticks": ""
           }
          },
          "colorscale": {
           "diverging": [
            [
             0,
             "#8e0152"
            ],
            [
             0.1,
             "#c51b7d"
            ],
            [
             0.2,
             "#de77ae"
            ],
            [
             0.3,
             "#f1b6da"
            ],
            [
             0.4,
             "#fde0ef"
            ],
            [
             0.5,
             "#f7f7f7"
            ],
            [
             0.6,
             "#e6f5d0"
            ],
            [
             0.7,
             "#b8e186"
            ],
            [
             0.8,
             "#7fbc41"
            ],
            [
             0.9,
             "#4d9221"
            ],
            [
             1,
             "#276419"
            ]
           ],
           "sequential": [
            [
             0,
             "#0d0887"
            ],
            [
             0.1111111111111111,
             "#46039f"
            ],
            [
             0.2222222222222222,
             "#7201a8"
            ],
            [
             0.3333333333333333,
             "#9c179e"
            ],
            [
             0.4444444444444444,
             "#bd3786"
            ],
            [
             0.5555555555555556,
             "#d8576b"
            ],
            [
             0.6666666666666666,
             "#ed7953"
            ],
            [
             0.7777777777777778,
             "#fb9f3a"
            ],
            [
             0.8888888888888888,
             "#fdca26"
            ],
            [
             1,
             "#f0f921"
            ]
           ],
           "sequentialminus": [
            [
             0,
             "#0d0887"
            ],
            [
             0.1111111111111111,
             "#46039f"
            ],
            [
             0.2222222222222222,
             "#7201a8"
            ],
            [
             0.3333333333333333,
             "#9c179e"
            ],
            [
             0.4444444444444444,
             "#bd3786"
            ],
            [
             0.5555555555555556,
             "#d8576b"
            ],
            [
             0.6666666666666666,
             "#ed7953"
            ],
            [
             0.7777777777777778,
             "#fb9f3a"
            ],
            [
             0.8888888888888888,
             "#fdca26"
            ],
            [
             1,
             "#f0f921"
            ]
           ]
          },
          "colorway": [
           "#636efa",
           "#EF553B",
           "#00cc96",
           "#ab63fa",
           "#FFA15A",
           "#19d3f3",
           "#FF6692",
           "#B6E880",
           "#FF97FF",
           "#FECB52"
          ],
          "font": {
           "color": "#2a3f5f"
          },
          "geo": {
           "bgcolor": "white",
           "lakecolor": "white",
           "landcolor": "#E5ECF6",
           "showlakes": true,
           "showland": true,
           "subunitcolor": "white"
          },
          "hoverlabel": {
           "align": "left"
          },
          "hovermode": "closest",
          "mapbox": {
           "style": "light"
          },
          "paper_bgcolor": "white",
          "plot_bgcolor": "#E5ECF6",
          "polar": {
           "angularaxis": {
            "gridcolor": "white",
            "linecolor": "white",
            "ticks": ""
           },
           "bgcolor": "#E5ECF6",
           "radialaxis": {
            "gridcolor": "white",
            "linecolor": "white",
            "ticks": ""
           }
          },
          "scene": {
           "xaxis": {
            "backgroundcolor": "#E5ECF6",
            "gridcolor": "white",
            "gridwidth": 2,
            "linecolor": "white",
            "showbackground": true,
            "ticks": "",
            "zerolinecolor": "white"
           },
           "yaxis": {
            "backgroundcolor": "#E5ECF6",
            "gridcolor": "white",
            "gridwidth": 2,
            "linecolor": "white",
            "showbackground": true,
            "ticks": "",
            "zerolinecolor": "white"
           },
           "zaxis": {
            "backgroundcolor": "#E5ECF6",
            "gridcolor": "white",
            "gridwidth": 2,
            "linecolor": "white",
            "showbackground": true,
            "ticks": "",
            "zerolinecolor": "white"
           }
          },
          "shapedefaults": {
           "line": {
            "color": "#2a3f5f"
           }
          },
          "ternary": {
           "aaxis": {
            "gridcolor": "white",
            "linecolor": "white",
            "ticks": ""
           },
           "baxis": {
            "gridcolor": "white",
            "linecolor": "white",
            "ticks": ""
           },
           "bgcolor": "#E5ECF6",
           "caxis": {
            "gridcolor": "white",
            "linecolor": "white",
            "ticks": ""
           }
          },
          "title": {
           "x": 0.05
          },
          "xaxis": {
           "automargin": true,
           "gridcolor": "white",
           "linecolor": "white",
           "ticks": "",
           "title": {
            "standoff": 15
           },
           "zerolinecolor": "white",
           "zerolinewidth": 2
          },
          "yaxis": {
           "automargin": true,
           "gridcolor": "white",
           "linecolor": "white",
           "ticks": "",
           "title": {
            "standoff": 15
           },
           "zerolinecolor": "white",
           "zerolinewidth": 2
          }
         }
        },
        "title": {
         "text": "2018 US Household Income by State"
        }
       }
      },
      "text/html": [
       "<div>\n",
       "        \n",
       "        \n",
       "            <div id=\"e18808df-9876-40e3-92bd-62e7afbd9ea8\" class=\"plotly-graph-div\" style=\"height:525px; width:100%;\"></div>\n",
       "            <script type=\"text/javascript\">\n",
       "                require([\"plotly\"], function(Plotly) {\n",
       "                    window.PLOTLYENV=window.PLOTLYENV || {};\n",
       "                    \n",
       "                if (document.getElementById(\"e18808df-9876-40e3-92bd-62e7afbd9ea8\")) {\n",
       "                    Plotly.newPlot(\n",
       "                        'e18808df-9876-40e3-92bd-62e7afbd9ea8',\n",
       "                        [{\"colorbar\": {\"title\": {\"text\": \"Millions USD\"}}, \"colorscale\": [[0.0, \"rgb(247,252,245)\"], [0.125, \"rgb(229,245,224)\"], [0.25, \"rgb(199,233,192)\"], [0.375, \"rgb(161,217,155)\"], [0.5, \"rgb(116,196,118)\"], [0.625, \"rgb(65,171,93)\"], [0.75, \"rgb(35,139,69)\"], [0.875, \"rgb(0,109,44)\"], [1.0, \"rgb(0,68,27)\"]], \"locationmode\": \"USA-states\", \"locations\": [\"MN\", \"MS\", \"MO\", \"MT\", \"NE\", \"NV\", \"NH\", \"NJ\", \"NM\", \"NY\", \"NC\", \"ND\", \"OH\", \"OK\", \"OR\", \"PA\", \"RI\", \"SC\", \"SD\", \"TN\", \"TX\", \"UT\", \"VT\", \"VA\", \"WV\", \"WA\", \"WI\", \"WY\", \"AL\", \"AK\", \"AZ\", \"AR\", \"CA\", \"CO\", \"CT\", \"DE\", \"DC\", \"FL\", \"GA\", \"ID\", \"HI\", \"IL\", \"IN\", \"IA\", \"KS\", \"KY\", \"LA\", \"ME\", \"MD\", \"MA\", \"MI\"], \"type\": \"choropleth\", \"z\": [68411.0, 43567.0, 53560.0, 52559.0, 59116.0, 57598.0, 74057.0, 79363.0, 48059.0, 65323.0, 52413.0, 63473.0, 54533.0, 51424.0, 59393.0, 59445.0, 63296.0, 51015.0, 56499.0, 50972.0, 59570.0, 68374.0, 60076.0, 71564.0, 44921.0, 70116.0, 59209.0, 62268.0, 48486.0, 76715.0, 56213.0, 45726.0, 71228.0, 68811.0, 76106.0, 65627.0, 82604.0, 53267.0, 55679.0, 53089.0, 78084.0, 63575.0, 54325.0, 58580.0, 57422.0, 48392.0, 47942.0, 55425.0, 81868.0, 77378.0, 54938.0]}],\n",
       "                        {\"geo\": {\"scope\": \"usa\"}, \"template\": {\"data\": {\"bar\": [{\"error_x\": {\"color\": \"#2a3f5f\"}, \"error_y\": {\"color\": \"#2a3f5f\"}, \"marker\": {\"line\": {\"color\": \"#E5ECF6\", \"width\": 0.5}}, \"type\": \"bar\"}], \"barpolar\": [{\"marker\": {\"line\": {\"color\": \"#E5ECF6\", \"width\": 0.5}}, \"type\": \"barpolar\"}], \"carpet\": [{\"aaxis\": {\"endlinecolor\": \"#2a3f5f\", \"gridcolor\": \"white\", \"linecolor\": \"white\", \"minorgridcolor\": \"white\", \"startlinecolor\": \"#2a3f5f\"}, \"baxis\": {\"endlinecolor\": \"#2a3f5f\", \"gridcolor\": \"white\", \"linecolor\": \"white\", \"minorgridcolor\": \"white\", \"startlinecolor\": \"#2a3f5f\"}, \"type\": \"carpet\"}], \"choropleth\": [{\"colorbar\": {\"outlinewidth\": 0, \"ticks\": \"\"}, \"type\": \"choropleth\"}], \"contour\": [{\"colorbar\": {\"outlinewidth\": 0, \"ticks\": \"\"}, \"colorscale\": [[0.0, \"#0d0887\"], [0.1111111111111111, \"#46039f\"], [0.2222222222222222, \"#7201a8\"], [0.3333333333333333, \"#9c179e\"], [0.4444444444444444, \"#bd3786\"], [0.5555555555555556, \"#d8576b\"], [0.6666666666666666, \"#ed7953\"], [0.7777777777777778, \"#fb9f3a\"], [0.8888888888888888, \"#fdca26\"], [1.0, \"#f0f921\"]], \"type\": \"contour\"}], \"contourcarpet\": [{\"colorbar\": {\"outlinewidth\": 0, \"ticks\": \"\"}, \"type\": \"contourcarpet\"}], \"heatmap\": [{\"colorbar\": {\"outlinewidth\": 0, \"ticks\": \"\"}, \"colorscale\": [[0.0, \"#0d0887\"], [0.1111111111111111, \"#46039f\"], [0.2222222222222222, \"#7201a8\"], [0.3333333333333333, \"#9c179e\"], [0.4444444444444444, \"#bd3786\"], [0.5555555555555556, \"#d8576b\"], [0.6666666666666666, \"#ed7953\"], [0.7777777777777778, \"#fb9f3a\"], [0.8888888888888888, \"#fdca26\"], [1.0, \"#f0f921\"]], \"type\": \"heatmap\"}], \"heatmapgl\": [{\"colorbar\": {\"outlinewidth\": 0, \"ticks\": \"\"}, \"colorscale\": [[0.0, \"#0d0887\"], [0.1111111111111111, \"#46039f\"], [0.2222222222222222, \"#7201a8\"], [0.3333333333333333, \"#9c179e\"], [0.4444444444444444, \"#bd3786\"], [0.5555555555555556, \"#d8576b\"], [0.6666666666666666, \"#ed7953\"], [0.7777777777777778, \"#fb9f3a\"], [0.8888888888888888, \"#fdca26\"], [1.0, \"#f0f921\"]], \"type\": \"heatmapgl\"}], \"histogram\": [{\"marker\": {\"colorbar\": {\"outlinewidth\": 0, \"ticks\": \"\"}}, \"type\": \"histogram\"}], \"histogram2d\": [{\"colorbar\": {\"outlinewidth\": 0, \"ticks\": \"\"}, \"colorscale\": [[0.0, \"#0d0887\"], [0.1111111111111111, \"#46039f\"], [0.2222222222222222, \"#7201a8\"], [0.3333333333333333, \"#9c179e\"], [0.4444444444444444, \"#bd3786\"], [0.5555555555555556, \"#d8576b\"], [0.6666666666666666, \"#ed7953\"], [0.7777777777777778, \"#fb9f3a\"], [0.8888888888888888, \"#fdca26\"], [1.0, \"#f0f921\"]], \"type\": \"histogram2d\"}], \"histogram2dcontour\": [{\"colorbar\": {\"outlinewidth\": 0, \"ticks\": \"\"}, \"colorscale\": [[0.0, \"#0d0887\"], [0.1111111111111111, \"#46039f\"], [0.2222222222222222, \"#7201a8\"], [0.3333333333333333, \"#9c179e\"], [0.4444444444444444, \"#bd3786\"], [0.5555555555555556, \"#d8576b\"], [0.6666666666666666, \"#ed7953\"], [0.7777777777777778, \"#fb9f3a\"], [0.8888888888888888, \"#fdca26\"], [1.0, \"#f0f921\"]], \"type\": \"histogram2dcontour\"}], \"mesh3d\": [{\"colorbar\": {\"outlinewidth\": 0, \"ticks\": \"\"}, \"type\": \"mesh3d\"}], \"parcoords\": [{\"line\": {\"colorbar\": {\"outlinewidth\": 0, \"ticks\": \"\"}}, \"type\": \"parcoords\"}], \"pie\": [{\"automargin\": true, \"type\": \"pie\"}], \"scatter\": [{\"marker\": {\"colorbar\": {\"outlinewidth\": 0, \"ticks\": \"\"}}, \"type\": \"scatter\"}], \"scatter3d\": [{\"line\": {\"colorbar\": {\"outlinewidth\": 0, \"ticks\": \"\"}}, \"marker\": {\"colorbar\": {\"outlinewidth\": 0, \"ticks\": \"\"}}, \"type\": \"scatter3d\"}], \"scattercarpet\": [{\"marker\": {\"colorbar\": {\"outlinewidth\": 0, \"ticks\": \"\"}}, \"type\": \"scattercarpet\"}], \"scattergeo\": [{\"marker\": {\"colorbar\": {\"outlinewidth\": 0, \"ticks\": \"\"}}, \"type\": \"scattergeo\"}], \"scattergl\": [{\"marker\": {\"colorbar\": {\"outlinewidth\": 0, \"ticks\": \"\"}}, \"type\": \"scattergl\"}], \"scattermapbox\": [{\"marker\": {\"colorbar\": {\"outlinewidth\": 0, \"ticks\": \"\"}}, \"type\": \"scattermapbox\"}], \"scatterpolar\": [{\"marker\": {\"colorbar\": {\"outlinewidth\": 0, \"ticks\": \"\"}}, \"type\": \"scatterpolar\"}], \"scatterpolargl\": [{\"marker\": {\"colorbar\": {\"outlinewidth\": 0, \"ticks\": \"\"}}, \"type\": \"scatterpolargl\"}], \"scatterternary\": [{\"marker\": {\"colorbar\": {\"outlinewidth\": 0, \"ticks\": \"\"}}, \"type\": \"scatterternary\"}], \"surface\": [{\"colorbar\": {\"outlinewidth\": 0, \"ticks\": \"\"}, \"colorscale\": [[0.0, \"#0d0887\"], [0.1111111111111111, \"#46039f\"], [0.2222222222222222, \"#7201a8\"], [0.3333333333333333, \"#9c179e\"], [0.4444444444444444, \"#bd3786\"], [0.5555555555555556, \"#d8576b\"], [0.6666666666666666, \"#ed7953\"], [0.7777777777777778, \"#fb9f3a\"], [0.8888888888888888, \"#fdca26\"], [1.0, \"#f0f921\"]], \"type\": \"surface\"}], \"table\": [{\"cells\": {\"fill\": {\"color\": \"#EBF0F8\"}, \"line\": {\"color\": \"white\"}}, \"header\": {\"fill\": {\"color\": \"#C8D4E3\"}, \"line\": {\"color\": \"white\"}}, \"type\": \"table\"}]}, \"layout\": {\"annotationdefaults\": {\"arrowcolor\": \"#2a3f5f\", \"arrowhead\": 0, \"arrowwidth\": 1}, \"coloraxis\": {\"colorbar\": {\"outlinewidth\": 0, \"ticks\": \"\"}}, \"colorscale\": {\"diverging\": [[0, \"#8e0152\"], [0.1, \"#c51b7d\"], [0.2, \"#de77ae\"], [0.3, \"#f1b6da\"], [0.4, \"#fde0ef\"], [0.5, \"#f7f7f7\"], [0.6, \"#e6f5d0\"], [0.7, \"#b8e186\"], [0.8, \"#7fbc41\"], [0.9, \"#4d9221\"], [1, \"#276419\"]], \"sequential\": [[0.0, \"#0d0887\"], [0.1111111111111111, \"#46039f\"], [0.2222222222222222, \"#7201a8\"], [0.3333333333333333, \"#9c179e\"], [0.4444444444444444, \"#bd3786\"], [0.5555555555555556, \"#d8576b\"], [0.6666666666666666, \"#ed7953\"], [0.7777777777777778, \"#fb9f3a\"], [0.8888888888888888, \"#fdca26\"], [1.0, \"#f0f921\"]], \"sequentialminus\": [[0.0, \"#0d0887\"], [0.1111111111111111, \"#46039f\"], [0.2222222222222222, \"#7201a8\"], [0.3333333333333333, \"#9c179e\"], [0.4444444444444444, \"#bd3786\"], [0.5555555555555556, \"#d8576b\"], [0.6666666666666666, \"#ed7953\"], [0.7777777777777778, \"#fb9f3a\"], [0.8888888888888888, \"#fdca26\"], [1.0, \"#f0f921\"]]}, \"colorway\": [\"#636efa\", \"#EF553B\", \"#00cc96\", \"#ab63fa\", \"#FFA15A\", \"#19d3f3\", \"#FF6692\", \"#B6E880\", \"#FF97FF\", \"#FECB52\"], \"font\": {\"color\": \"#2a3f5f\"}, \"geo\": {\"bgcolor\": \"white\", \"lakecolor\": \"white\", \"landcolor\": \"#E5ECF6\", \"showlakes\": true, \"showland\": true, \"subunitcolor\": \"white\"}, \"hoverlabel\": {\"align\": \"left\"}, \"hovermode\": \"closest\", \"mapbox\": {\"style\": \"light\"}, \"paper_bgcolor\": \"white\", \"plot_bgcolor\": \"#E5ECF6\", \"polar\": {\"angularaxis\": {\"gridcolor\": \"white\", \"linecolor\": \"white\", \"ticks\": \"\"}, \"bgcolor\": \"#E5ECF6\", \"radialaxis\": {\"gridcolor\": \"white\", \"linecolor\": \"white\", \"ticks\": \"\"}}, \"scene\": {\"xaxis\": {\"backgroundcolor\": \"#E5ECF6\", \"gridcolor\": \"white\", \"gridwidth\": 2, \"linecolor\": \"white\", \"showbackground\": true, \"ticks\": \"\", \"zerolinecolor\": \"white\"}, \"yaxis\": {\"backgroundcolor\": \"#E5ECF6\", \"gridcolor\": \"white\", \"gridwidth\": 2, \"linecolor\": \"white\", \"showbackground\": true, \"ticks\": \"\", \"zerolinecolor\": \"white\"}, \"zaxis\": {\"backgroundcolor\": \"#E5ECF6\", \"gridcolor\": \"white\", \"gridwidth\": 2, \"linecolor\": \"white\", \"showbackground\": true, \"ticks\": \"\", \"zerolinecolor\": \"white\"}}, \"shapedefaults\": {\"line\": {\"color\": \"#2a3f5f\"}}, \"ternary\": {\"aaxis\": {\"gridcolor\": \"white\", \"linecolor\": \"white\", \"ticks\": \"\"}, \"baxis\": {\"gridcolor\": \"white\", \"linecolor\": \"white\", \"ticks\": \"\"}, \"bgcolor\": \"#E5ECF6\", \"caxis\": {\"gridcolor\": \"white\", \"linecolor\": \"white\", \"ticks\": \"\"}}, \"title\": {\"x\": 0.05}, \"xaxis\": {\"automargin\": true, \"gridcolor\": \"white\", \"linecolor\": \"white\", \"ticks\": \"\", \"title\": {\"standoff\": 15}, \"zerolinecolor\": \"white\", \"zerolinewidth\": 2}, \"yaxis\": {\"automargin\": true, \"gridcolor\": \"white\", \"linecolor\": \"white\", \"ticks\": \"\", \"title\": {\"standoff\": 15}, \"zerolinecolor\": \"white\", \"zerolinewidth\": 2}}}, \"title\": {\"text\": \"2018 US Household Income by State\"}},\n",
       "                        {\"responsive\": true}\n",
       "                    ).then(function(){\n",
       "                            \n",
       "var gd = document.getElementById('e18808df-9876-40e3-92bd-62e7afbd9ea8');\n",
       "var x = new MutationObserver(function (mutations, observer) {{\n",
       "        var display = window.getComputedStyle(gd).display;\n",
       "        if (!display || display === 'none') {{\n",
       "            console.log([gd, 'removed!']);\n",
       "            Plotly.purge(gd);\n",
       "            observer.disconnect();\n",
       "        }}\n",
       "}});\n",
       "\n",
       "// Listen for the removal of the full notebook cells\n",
       "var notebookContainer = gd.closest('#notebook-container');\n",
       "if (notebookContainer) {{\n",
       "    x.observe(notebookContainer, {childList: true});\n",
       "}}\n",
       "\n",
       "// Listen for the clearing of the current output cell\n",
       "var outputEl = gd.closest('.output');\n",
       "if (outputEl) {{\n",
       "    x.observe(outputEl, {childList: true});\n",
       "}}\n",
       "\n",
       "                        })\n",
       "                };\n",
       "                });\n",
       "            </script>\n",
       "        </div>"
      ]
     },
     "metadata": {},
     "output_type": "display_data"
    }
   ],
   "source": [
    "import plotly.graph_objects as go\n",
    "\n",
    "# Load data frame and tidy it.\n",
    "import pandas as pd\n",
    "#df = pd.read_csv('https://raw.githubusercontent.com/plotly/datasets/master/2011_us_ag_exports.csv')\n",
    "\n",
    "fig = go.Figure(data=go.Choropleth(\n",
    "    locations=merge_table['abbreviation'], # Spatial coordinates\n",
    "    z = merge_table['Household Income'].astype(float), # Data to be color-coded\n",
    "    locationmode = 'USA-states', # set of locations match entries in `locations`\n",
    "    colorscale = 'Greens',\n",
    "    colorbar_title = \"Millions USD\"\n",
    "))\n",
    "\n",
    "fig.update_layout(\n",
    "    title_text = '2018 US Household Income by State',\n",
    "    geo_scope='usa'\n",
    ")\n",
    "\n",
    "fig.show()"
   ]
  },
  {
   "cell_type": "code",
   "execution_count": 19,
   "metadata": {},
   "outputs": [
    {
     "data": {
      "application/vnd.plotly.v1+json": {
       "config": {
        "plotlyServerURL": "https://plot.ly"
       },
       "data": [
        {
         "colorbar": {
          "title": {
           "text": "Percent"
          }
         },
         "colorscale": [
          [
           0,
           "rgb(247,251,255)"
          ],
          [
           0.125,
           "rgb(222,235,247)"
          ],
          [
           0.25,
           "rgb(198,219,239)"
          ],
          [
           0.375,
           "rgb(158,202,225)"
          ],
          [
           0.5,
           "rgb(107,174,214)"
          ],
          [
           0.625,
           "rgb(66,146,198)"
          ],
          [
           0.75,
           "rgb(33,113,181)"
          ],
          [
           0.875,
           "rgb(8,81,156)"
          ],
          [
           1,
           "rgb(8,48,107)"
          ]
         ],
         "locationmode": "USA-states",
         "locations": [
          "MN",
          "MS",
          "MO",
          "MT",
          "NE",
          "NV",
          "NH",
          "NJ",
          "NM",
          "NY",
          "NC",
          "ND",
          "OH",
          "OK",
          "OR",
          "PA",
          "RI",
          "SC",
          "SD",
          "TN",
          "TX",
          "UT",
          "VT",
          "VA",
          "WV",
          "WA",
          "WI",
          "WY",
          "AL",
          "AK",
          "AZ",
          "AR",
          "CA",
          "CO",
          "CT",
          "DE",
          "DC",
          "FL",
          "GA",
          "ID",
          "HI",
          "IL",
          "IN",
          "IA",
          "KS",
          "KY",
          "LA",
          "ME",
          "MD",
          "MA",
          "MI"
         ],
         "type": "choropleth",
         "z": [
          2.156871329846918,
          3.6816581581270102,
          2.5608606283482827,
          2.153432936686211,
          1.9186144186144185,
          3.4811240676476958,
          2.261945696036534,
          3.2097385171661967,
          3.2674865730532003,
          3.071781449842146,
          3.0781958843690944,
          1.5539729407432321,
          2.9482525973685174,
          2.5289314794250433,
          3.0251524825309906,
          2.9689596292945897,
          3.263168753685131,
          3.0920968335880787,
          1.8803895456265207,
          2.8798892933172295,
          2.664517856159873,
          1.9360007880867551,
          2.2205617166711735,
          2.5870673493250473,
          2.938677589617365,
          2.7189589292294736,
          2.1596312054871993,
          2.3520373438563444,
          3.040241084716775,
          3.800459299459998,
          3.0261052573997524,
          2.533678896809445,
          3.375590951028845,
          2.51893777432179,
          3.515534255999714,
          3.0017009041648457,
          4.291173969828984,
          3.0244382757102475,
          3.1352707127294397,
          2.2320061096960617,
          2.2528373190701454,
          3.4094224722744935,
          2.7264936739031063,
          2.0819160676507797,
          2.2359232886960014,
          2.890813124802374,
          3.2131719249612316,
          2.416167909526693,
          3.016423097776523,
          2.9788909332430284,
          3.223784954598991
         ]
        }
       ],
       "layout": {
        "geo": {
         "scope": "usa"
        },
        "template": {
         "data": {
          "bar": [
           {
            "error_x": {
             "color": "#2a3f5f"
            },
            "error_y": {
             "color": "#2a3f5f"
            },
            "marker": {
             "line": {
              "color": "#E5ECF6",
              "width": 0.5
             }
            },
            "type": "bar"
           }
          ],
          "barpolar": [
           {
            "marker": {
             "line": {
              "color": "#E5ECF6",
              "width": 0.5
             }
            },
            "type": "barpolar"
           }
          ],
          "carpet": [
           {
            "aaxis": {
             "endlinecolor": "#2a3f5f",
             "gridcolor": "white",
             "linecolor": "white",
             "minorgridcolor": "white",
             "startlinecolor": "#2a3f5f"
            },
            "baxis": {
             "endlinecolor": "#2a3f5f",
             "gridcolor": "white",
             "linecolor": "white",
             "minorgridcolor": "white",
             "startlinecolor": "#2a3f5f"
            },
            "type": "carpet"
           }
          ],
          "choropleth": [
           {
            "colorbar": {
             "outlinewidth": 0,
             "ticks": ""
            },
            "type": "choropleth"
           }
          ],
          "contour": [
           {
            "colorbar": {
             "outlinewidth": 0,
             "ticks": ""
            },
            "colorscale": [
             [
              0,
              "#0d0887"
             ],
             [
              0.1111111111111111,
              "#46039f"
             ],
             [
              0.2222222222222222,
              "#7201a8"
             ],
             [
              0.3333333333333333,
              "#9c179e"
             ],
             [
              0.4444444444444444,
              "#bd3786"
             ],
             [
              0.5555555555555556,
              "#d8576b"
             ],
             [
              0.6666666666666666,
              "#ed7953"
             ],
             [
              0.7777777777777778,
              "#fb9f3a"
             ],
             [
              0.8888888888888888,
              "#fdca26"
             ],
             [
              1,
              "#f0f921"
             ]
            ],
            "type": "contour"
           }
          ],
          "contourcarpet": [
           {
            "colorbar": {
             "outlinewidth": 0,
             "ticks": ""
            },
            "type": "contourcarpet"
           }
          ],
          "heatmap": [
           {
            "colorbar": {
             "outlinewidth": 0,
             "ticks": ""
            },
            "colorscale": [
             [
              0,
              "#0d0887"
             ],
             [
              0.1111111111111111,
              "#46039f"
             ],
             [
              0.2222222222222222,
              "#7201a8"
             ],
             [
              0.3333333333333333,
              "#9c179e"
             ],
             [
              0.4444444444444444,
              "#bd3786"
             ],
             [
              0.5555555555555556,
              "#d8576b"
             ],
             [
              0.6666666666666666,
              "#ed7953"
             ],
             [
              0.7777777777777778,
              "#fb9f3a"
             ],
             [
              0.8888888888888888,
              "#fdca26"
             ],
             [
              1,
              "#f0f921"
             ]
            ],
            "type": "heatmap"
           }
          ],
          "heatmapgl": [
           {
            "colorbar": {
             "outlinewidth": 0,
             "ticks": ""
            },
            "colorscale": [
             [
              0,
              "#0d0887"
             ],
             [
              0.1111111111111111,
              "#46039f"
             ],
             [
              0.2222222222222222,
              "#7201a8"
             ],
             [
              0.3333333333333333,
              "#9c179e"
             ],
             [
              0.4444444444444444,
              "#bd3786"
             ],
             [
              0.5555555555555556,
              "#d8576b"
             ],
             [
              0.6666666666666666,
              "#ed7953"
             ],
             [
              0.7777777777777778,
              "#fb9f3a"
             ],
             [
              0.8888888888888888,
              "#fdca26"
             ],
             [
              1,
              "#f0f921"
             ]
            ],
            "type": "heatmapgl"
           }
          ],
          "histogram": [
           {
            "marker": {
             "colorbar": {
              "outlinewidth": 0,
              "ticks": ""
             }
            },
            "type": "histogram"
           }
          ],
          "histogram2d": [
           {
            "colorbar": {
             "outlinewidth": 0,
             "ticks": ""
            },
            "colorscale": [
             [
              0,
              "#0d0887"
             ],
             [
              0.1111111111111111,
              "#46039f"
             ],
             [
              0.2222222222222222,
              "#7201a8"
             ],
             [
              0.3333333333333333,
              "#9c179e"
             ],
             [
              0.4444444444444444,
              "#bd3786"
             ],
             [
              0.5555555555555556,
              "#d8576b"
             ],
             [
              0.6666666666666666,
              "#ed7953"
             ],
             [
              0.7777777777777778,
              "#fb9f3a"
             ],
             [
              0.8888888888888888,
              "#fdca26"
             ],
             [
              1,
              "#f0f921"
             ]
            ],
            "type": "histogram2d"
           }
          ],
          "histogram2dcontour": [
           {
            "colorbar": {
             "outlinewidth": 0,
             "ticks": ""
            },
            "colorscale": [
             [
              0,
              "#0d0887"
             ],
             [
              0.1111111111111111,
              "#46039f"
             ],
             [
              0.2222222222222222,
              "#7201a8"
             ],
             [
              0.3333333333333333,
              "#9c179e"
             ],
             [
              0.4444444444444444,
              "#bd3786"
             ],
             [
              0.5555555555555556,
              "#d8576b"
             ],
             [
              0.6666666666666666,
              "#ed7953"
             ],
             [
              0.7777777777777778,
              "#fb9f3a"
             ],
             [
              0.8888888888888888,
              "#fdca26"
             ],
             [
              1,
              "#f0f921"
             ]
            ],
            "type": "histogram2dcontour"
           }
          ],
          "mesh3d": [
           {
            "colorbar": {
             "outlinewidth": 0,
             "ticks": ""
            },
            "type": "mesh3d"
           }
          ],
          "parcoords": [
           {
            "line": {
             "colorbar": {
              "outlinewidth": 0,
              "ticks": ""
             }
            },
            "type": "parcoords"
           }
          ],
          "pie": [
           {
            "automargin": true,
            "type": "pie"
           }
          ],
          "scatter": [
           {
            "marker": {
             "colorbar": {
              "outlinewidth": 0,
              "ticks": ""
             }
            },
            "type": "scatter"
           }
          ],
          "scatter3d": [
           {
            "line": {
             "colorbar": {
              "outlinewidth": 0,
              "ticks": ""
             }
            },
            "marker": {
             "colorbar": {
              "outlinewidth": 0,
              "ticks": ""
             }
            },
            "type": "scatter3d"
           }
          ],
          "scattercarpet": [
           {
            "marker": {
             "colorbar": {
              "outlinewidth": 0,
              "ticks": ""
             }
            },
            "type": "scattercarpet"
           }
          ],
          "scattergeo": [
           {
            "marker": {
             "colorbar": {
              "outlinewidth": 0,
              "ticks": ""
             }
            },
            "type": "scattergeo"
           }
          ],
          "scattergl": [
           {
            "marker": {
             "colorbar": {
              "outlinewidth": 0,
              "ticks": ""
             }
            },
            "type": "scattergl"
           }
          ],
          "scattermapbox": [
           {
            "marker": {
             "colorbar": {
              "outlinewidth": 0,
              "ticks": ""
             }
            },
            "type": "scattermapbox"
           }
          ],
          "scatterpolar": [
           {
            "marker": {
             "colorbar": {
              "outlinewidth": 0,
              "ticks": ""
             }
            },
            "type": "scatterpolar"
           }
          ],
          "scatterpolargl": [
           {
            "marker": {
             "colorbar": {
              "outlinewidth": 0,
              "ticks": ""
             }
            },
            "type": "scatterpolargl"
           }
          ],
          "scatterternary": [
           {
            "marker": {
             "colorbar": {
              "outlinewidth": 0,
              "ticks": ""
             }
            },
            "type": "scatterternary"
           }
          ],
          "surface": [
           {
            "colorbar": {
             "outlinewidth": 0,
             "ticks": ""
            },
            "colorscale": [
             [
              0,
              "#0d0887"
             ],
             [
              0.1111111111111111,
              "#46039f"
             ],
             [
              0.2222222222222222,
              "#7201a8"
             ],
             [
              0.3333333333333333,
              "#9c179e"
             ],
             [
              0.4444444444444444,
              "#bd3786"
             ],
             [
              0.5555555555555556,
              "#d8576b"
             ],
             [
              0.6666666666666666,
              "#ed7953"
             ],
             [
              0.7777777777777778,
              "#fb9f3a"
             ],
             [
              0.8888888888888888,
              "#fdca26"
             ],
             [
              1,
              "#f0f921"
             ]
            ],
            "type": "surface"
           }
          ],
          "table": [
           {
            "cells": {
             "fill": {
              "color": "#EBF0F8"
             },
             "line": {
              "color": "white"
             }
            },
            "header": {
             "fill": {
              "color": "#C8D4E3"
             },
             "line": {
              "color": "white"
             }
            },
            "type": "table"
           }
          ]
         },
         "layout": {
          "annotationdefaults": {
           "arrowcolor": "#2a3f5f",
           "arrowhead": 0,
           "arrowwidth": 1
          },
          "coloraxis": {
           "colorbar": {
            "outlinewidth": 0,
            "ticks": ""
           }
          },
          "colorscale": {
           "diverging": [
            [
             0,
             "#8e0152"
            ],
            [
             0.1,
             "#c51b7d"
            ],
            [
             0.2,
             "#de77ae"
            ],
            [
             0.3,
             "#f1b6da"
            ],
            [
             0.4,
             "#fde0ef"
            ],
            [
             0.5,
             "#f7f7f7"
            ],
            [
             0.6,
             "#e6f5d0"
            ],
            [
             0.7,
             "#b8e186"
            ],
            [
             0.8,
             "#7fbc41"
            ],
            [
             0.9,
             "#4d9221"
            ],
            [
             1,
             "#276419"
            ]
           ],
           "sequential": [
            [
             0,
             "#0d0887"
            ],
            [
             0.1111111111111111,
             "#46039f"
            ],
            [
             0.2222222222222222,
             "#7201a8"
            ],
            [
             0.3333333333333333,
             "#9c179e"
            ],
            [
             0.4444444444444444,
             "#bd3786"
            ],
            [
             0.5555555555555556,
             "#d8576b"
            ],
            [
             0.6666666666666666,
             "#ed7953"
            ],
            [
             0.7777777777777778,
             "#fb9f3a"
            ],
            [
             0.8888888888888888,
             "#fdca26"
            ],
            [
             1,
             "#f0f921"
            ]
           ],
           "sequentialminus": [
            [
             0,
             "#0d0887"
            ],
            [
             0.1111111111111111,
             "#46039f"
            ],
            [
             0.2222222222222222,
             "#7201a8"
            ],
            [
             0.3333333333333333,
             "#9c179e"
            ],
            [
             0.4444444444444444,
             "#bd3786"
            ],
            [
             0.5555555555555556,
             "#d8576b"
            ],
            [
             0.6666666666666666,
             "#ed7953"
            ],
            [
             0.7777777777777778,
             "#fb9f3a"
            ],
            [
             0.8888888888888888,
             "#fdca26"
            ],
            [
             1,
             "#f0f921"
            ]
           ]
          },
          "colorway": [
           "#636efa",
           "#EF553B",
           "#00cc96",
           "#ab63fa",
           "#FFA15A",
           "#19d3f3",
           "#FF6692",
           "#B6E880",
           "#FF97FF",
           "#FECB52"
          ],
          "font": {
           "color": "#2a3f5f"
          },
          "geo": {
           "bgcolor": "white",
           "lakecolor": "white",
           "landcolor": "#E5ECF6",
           "showlakes": true,
           "showland": true,
           "subunitcolor": "white"
          },
          "hoverlabel": {
           "align": "left"
          },
          "hovermode": "closest",
          "mapbox": {
           "style": "light"
          },
          "paper_bgcolor": "white",
          "plot_bgcolor": "#E5ECF6",
          "polar": {
           "angularaxis": {
            "gridcolor": "white",
            "linecolor": "white",
            "ticks": ""
           },
           "bgcolor": "#E5ECF6",
           "radialaxis": {
            "gridcolor": "white",
            "linecolor": "white",
            "ticks": ""
           }
          },
          "scene": {
           "xaxis": {
            "backgroundcolor": "#E5ECF6",
            "gridcolor": "white",
            "gridwidth": 2,
            "linecolor": "white",
            "showbackground": true,
            "ticks": "",
            "zerolinecolor": "white"
           },
           "yaxis": {
            "backgroundcolor": "#E5ECF6",
            "gridcolor": "white",
            "gridwidth": 2,
            "linecolor": "white",
            "showbackground": true,
            "ticks": "",
            "zerolinecolor": "white"
           },
           "zaxis": {
            "backgroundcolor": "#E5ECF6",
            "gridcolor": "white",
            "gridwidth": 2,
            "linecolor": "white",
            "showbackground": true,
            "ticks": "",
            "zerolinecolor": "white"
           }
          },
          "shapedefaults": {
           "line": {
            "color": "#2a3f5f"
           }
          },
          "ternary": {
           "aaxis": {
            "gridcolor": "white",
            "linecolor": "white",
            "ticks": ""
           },
           "baxis": {
            "gridcolor": "white",
            "linecolor": "white",
            "ticks": ""
           },
           "bgcolor": "#E5ECF6",
           "caxis": {
            "gridcolor": "white",
            "linecolor": "white",
            "ticks": ""
           }
          },
          "title": {
           "x": 0.05
          },
          "xaxis": {
           "automargin": true,
           "gridcolor": "white",
           "linecolor": "white",
           "ticks": "",
           "title": {
            "standoff": 15
           },
           "zerolinecolor": "white",
           "zerolinewidth": 2
          },
          "yaxis": {
           "automargin": true,
           "gridcolor": "white",
           "linecolor": "white",
           "ticks": "",
           "title": {
            "standoff": 15
           },
           "zerolinecolor": "white",
           "zerolinewidth": 2
          }
         }
        },
        "title": {
         "text": "2018 US Unemployment Rate by State"
        }
       }
      },
      "text/html": [
       "<div>\n",
       "        \n",
       "        \n",
       "            <div id=\"3d3b2abc-ad3f-4041-a2b4-d41b2bdef954\" class=\"plotly-graph-div\" style=\"height:525px; width:100%;\"></div>\n",
       "            <script type=\"text/javascript\">\n",
       "                require([\"plotly\"], function(Plotly) {\n",
       "                    window.PLOTLYENV=window.PLOTLYENV || {};\n",
       "                    \n",
       "                if (document.getElementById(\"3d3b2abc-ad3f-4041-a2b4-d41b2bdef954\")) {\n",
       "                    Plotly.newPlot(\n",
       "                        '3d3b2abc-ad3f-4041-a2b4-d41b2bdef954',\n",
       "                        [{\"colorbar\": {\"title\": {\"text\": \"Percent\"}}, \"colorscale\": [[0.0, \"rgb(247,251,255)\"], [0.125, \"rgb(222,235,247)\"], [0.25, \"rgb(198,219,239)\"], [0.375, \"rgb(158,202,225)\"], [0.5, \"rgb(107,174,214)\"], [0.625, \"rgb(66,146,198)\"], [0.75, \"rgb(33,113,181)\"], [0.875, \"rgb(8,81,156)\"], [1.0, \"rgb(8,48,107)\"]], \"locationmode\": \"USA-states\", \"locations\": [\"MN\", \"MS\", \"MO\", \"MT\", \"NE\", \"NV\", \"NH\", \"NJ\", \"NM\", \"NY\", \"NC\", \"ND\", \"OH\", \"OK\", \"OR\", \"PA\", \"RI\", \"SC\", \"SD\", \"TN\", \"TX\", \"UT\", \"VT\", \"VA\", \"WV\", \"WA\", \"WI\", \"WY\", \"AL\", \"AK\", \"AZ\", \"AR\", \"CA\", \"CO\", \"CT\", \"DE\", \"DC\", \"FL\", \"GA\", \"ID\", \"HI\", \"IL\", \"IN\", \"IA\", \"KS\", \"KY\", \"LA\", \"ME\", \"MD\", \"MA\", \"MI\"], \"type\": \"choropleth\", \"z\": [2.156871329846918, 3.6816581581270102, 2.5608606283482827, 2.153432936686211, 1.9186144186144185, 3.4811240676476958, 2.261945696036534, 3.2097385171661967, 3.2674865730532003, 3.071781449842146, 3.0781958843690944, 1.5539729407432321, 2.9482525973685174, 2.5289314794250433, 3.0251524825309906, 2.9689596292945897, 3.263168753685131, 3.0920968335880787, 1.8803895456265207, 2.8798892933172295, 2.664517856159873, 1.9360007880867551, 2.2205617166711735, 2.5870673493250473, 2.938677589617365, 2.7189589292294736, 2.1596312054871993, 2.3520373438563444, 3.040241084716775, 3.800459299459998, 3.0261052573997524, 2.533678896809445, 3.375590951028845, 2.51893777432179, 3.515534255999714, 3.0017009041648457, 4.291173969828984, 3.0244382757102475, 3.1352707127294397, 2.2320061096960617, 2.2528373190701454, 3.4094224722744935, 2.7264936739031063, 2.0819160676507797, 2.2359232886960014, 2.890813124802374, 3.2131719249612316, 2.416167909526693, 3.016423097776523, 2.9788909332430284, 3.223784954598991]}],\n",
       "                        {\"geo\": {\"scope\": \"usa\"}, \"template\": {\"data\": {\"bar\": [{\"error_x\": {\"color\": \"#2a3f5f\"}, \"error_y\": {\"color\": \"#2a3f5f\"}, \"marker\": {\"line\": {\"color\": \"#E5ECF6\", \"width\": 0.5}}, \"type\": \"bar\"}], \"barpolar\": [{\"marker\": {\"line\": {\"color\": \"#E5ECF6\", \"width\": 0.5}}, \"type\": \"barpolar\"}], \"carpet\": [{\"aaxis\": {\"endlinecolor\": \"#2a3f5f\", \"gridcolor\": \"white\", \"linecolor\": \"white\", \"minorgridcolor\": \"white\", \"startlinecolor\": \"#2a3f5f\"}, \"baxis\": {\"endlinecolor\": \"#2a3f5f\", \"gridcolor\": \"white\", \"linecolor\": \"white\", \"minorgridcolor\": \"white\", \"startlinecolor\": \"#2a3f5f\"}, \"type\": \"carpet\"}], \"choropleth\": [{\"colorbar\": {\"outlinewidth\": 0, \"ticks\": \"\"}, \"type\": \"choropleth\"}], \"contour\": [{\"colorbar\": {\"outlinewidth\": 0, \"ticks\": \"\"}, \"colorscale\": [[0.0, \"#0d0887\"], [0.1111111111111111, \"#46039f\"], [0.2222222222222222, \"#7201a8\"], [0.3333333333333333, \"#9c179e\"], [0.4444444444444444, \"#bd3786\"], [0.5555555555555556, \"#d8576b\"], [0.6666666666666666, \"#ed7953\"], [0.7777777777777778, \"#fb9f3a\"], [0.8888888888888888, \"#fdca26\"], [1.0, \"#f0f921\"]], \"type\": \"contour\"}], \"contourcarpet\": [{\"colorbar\": {\"outlinewidth\": 0, \"ticks\": \"\"}, \"type\": \"contourcarpet\"}], \"heatmap\": [{\"colorbar\": {\"outlinewidth\": 0, \"ticks\": \"\"}, \"colorscale\": [[0.0, \"#0d0887\"], [0.1111111111111111, \"#46039f\"], [0.2222222222222222, \"#7201a8\"], [0.3333333333333333, \"#9c179e\"], [0.4444444444444444, \"#bd3786\"], [0.5555555555555556, \"#d8576b\"], [0.6666666666666666, \"#ed7953\"], [0.7777777777777778, \"#fb9f3a\"], [0.8888888888888888, \"#fdca26\"], [1.0, \"#f0f921\"]], \"type\": \"heatmap\"}], \"heatmapgl\": [{\"colorbar\": {\"outlinewidth\": 0, \"ticks\": \"\"}, \"colorscale\": [[0.0, \"#0d0887\"], [0.1111111111111111, \"#46039f\"], [0.2222222222222222, \"#7201a8\"], [0.3333333333333333, \"#9c179e\"], [0.4444444444444444, \"#bd3786\"], [0.5555555555555556, \"#d8576b\"], [0.6666666666666666, \"#ed7953\"], [0.7777777777777778, \"#fb9f3a\"], [0.8888888888888888, \"#fdca26\"], [1.0, \"#f0f921\"]], \"type\": \"heatmapgl\"}], \"histogram\": [{\"marker\": {\"colorbar\": {\"outlinewidth\": 0, \"ticks\": \"\"}}, \"type\": \"histogram\"}], \"histogram2d\": [{\"colorbar\": {\"outlinewidth\": 0, \"ticks\": \"\"}, \"colorscale\": [[0.0, \"#0d0887\"], [0.1111111111111111, \"#46039f\"], [0.2222222222222222, \"#7201a8\"], [0.3333333333333333, \"#9c179e\"], [0.4444444444444444, \"#bd3786\"], [0.5555555555555556, \"#d8576b\"], [0.6666666666666666, \"#ed7953\"], [0.7777777777777778, \"#fb9f3a\"], [0.8888888888888888, \"#fdca26\"], [1.0, \"#f0f921\"]], \"type\": \"histogram2d\"}], \"histogram2dcontour\": [{\"colorbar\": {\"outlinewidth\": 0, \"ticks\": \"\"}, \"colorscale\": [[0.0, \"#0d0887\"], [0.1111111111111111, \"#46039f\"], [0.2222222222222222, \"#7201a8\"], [0.3333333333333333, \"#9c179e\"], [0.4444444444444444, \"#bd3786\"], [0.5555555555555556, \"#d8576b\"], [0.6666666666666666, \"#ed7953\"], [0.7777777777777778, \"#fb9f3a\"], [0.8888888888888888, \"#fdca26\"], [1.0, \"#f0f921\"]], \"type\": \"histogram2dcontour\"}], \"mesh3d\": [{\"colorbar\": {\"outlinewidth\": 0, \"ticks\": \"\"}, \"type\": \"mesh3d\"}], \"parcoords\": [{\"line\": {\"colorbar\": {\"outlinewidth\": 0, \"ticks\": \"\"}}, \"type\": \"parcoords\"}], \"pie\": [{\"automargin\": true, \"type\": \"pie\"}], \"scatter\": [{\"marker\": {\"colorbar\": {\"outlinewidth\": 0, \"ticks\": \"\"}}, \"type\": \"scatter\"}], \"scatter3d\": [{\"line\": {\"colorbar\": {\"outlinewidth\": 0, \"ticks\": \"\"}}, \"marker\": {\"colorbar\": {\"outlinewidth\": 0, \"ticks\": \"\"}}, \"type\": \"scatter3d\"}], \"scattercarpet\": [{\"marker\": {\"colorbar\": {\"outlinewidth\": 0, \"ticks\": \"\"}}, \"type\": \"scattercarpet\"}], \"scattergeo\": [{\"marker\": {\"colorbar\": {\"outlinewidth\": 0, \"ticks\": \"\"}}, \"type\": \"scattergeo\"}], \"scattergl\": [{\"marker\": {\"colorbar\": {\"outlinewidth\": 0, \"ticks\": \"\"}}, \"type\": \"scattergl\"}], \"scattermapbox\": [{\"marker\": {\"colorbar\": {\"outlinewidth\": 0, \"ticks\": \"\"}}, \"type\": \"scattermapbox\"}], \"scatterpolar\": [{\"marker\": {\"colorbar\": {\"outlinewidth\": 0, \"ticks\": \"\"}}, \"type\": \"scatterpolar\"}], \"scatterpolargl\": [{\"marker\": {\"colorbar\": {\"outlinewidth\": 0, \"ticks\": \"\"}}, \"type\": \"scatterpolargl\"}], \"scatterternary\": [{\"marker\": {\"colorbar\": {\"outlinewidth\": 0, \"ticks\": \"\"}}, \"type\": \"scatterternary\"}], \"surface\": [{\"colorbar\": {\"outlinewidth\": 0, \"ticks\": \"\"}, \"colorscale\": [[0.0, \"#0d0887\"], [0.1111111111111111, \"#46039f\"], [0.2222222222222222, \"#7201a8\"], [0.3333333333333333, \"#9c179e\"], [0.4444444444444444, \"#bd3786\"], [0.5555555555555556, \"#d8576b\"], [0.6666666666666666, \"#ed7953\"], [0.7777777777777778, \"#fb9f3a\"], [0.8888888888888888, \"#fdca26\"], [1.0, \"#f0f921\"]], \"type\": \"surface\"}], \"table\": [{\"cells\": {\"fill\": {\"color\": \"#EBF0F8\"}, \"line\": {\"color\": \"white\"}}, \"header\": {\"fill\": {\"color\": \"#C8D4E3\"}, \"line\": {\"color\": \"white\"}}, \"type\": \"table\"}]}, \"layout\": {\"annotationdefaults\": {\"arrowcolor\": \"#2a3f5f\", \"arrowhead\": 0, \"arrowwidth\": 1}, \"coloraxis\": {\"colorbar\": {\"outlinewidth\": 0, \"ticks\": \"\"}}, \"colorscale\": {\"diverging\": [[0, \"#8e0152\"], [0.1, \"#c51b7d\"], [0.2, \"#de77ae\"], [0.3, \"#f1b6da\"], [0.4, \"#fde0ef\"], [0.5, \"#f7f7f7\"], [0.6, \"#e6f5d0\"], [0.7, \"#b8e186\"], [0.8, \"#7fbc41\"], [0.9, \"#4d9221\"], [1, \"#276419\"]], \"sequential\": [[0.0, \"#0d0887\"], [0.1111111111111111, \"#46039f\"], [0.2222222222222222, \"#7201a8\"], [0.3333333333333333, \"#9c179e\"], [0.4444444444444444, \"#bd3786\"], [0.5555555555555556, \"#d8576b\"], [0.6666666666666666, \"#ed7953\"], [0.7777777777777778, \"#fb9f3a\"], [0.8888888888888888, \"#fdca26\"], [1.0, \"#f0f921\"]], \"sequentialminus\": [[0.0, \"#0d0887\"], [0.1111111111111111, \"#46039f\"], [0.2222222222222222, \"#7201a8\"], [0.3333333333333333, \"#9c179e\"], [0.4444444444444444, \"#bd3786\"], [0.5555555555555556, \"#d8576b\"], [0.6666666666666666, \"#ed7953\"], [0.7777777777777778, \"#fb9f3a\"], [0.8888888888888888, \"#fdca26\"], [1.0, \"#f0f921\"]]}, \"colorway\": [\"#636efa\", \"#EF553B\", \"#00cc96\", \"#ab63fa\", \"#FFA15A\", \"#19d3f3\", \"#FF6692\", \"#B6E880\", \"#FF97FF\", \"#FECB52\"], \"font\": {\"color\": \"#2a3f5f\"}, \"geo\": {\"bgcolor\": \"white\", \"lakecolor\": \"white\", \"landcolor\": \"#E5ECF6\", \"showlakes\": true, \"showland\": true, \"subunitcolor\": \"white\"}, \"hoverlabel\": {\"align\": \"left\"}, \"hovermode\": \"closest\", \"mapbox\": {\"style\": \"light\"}, \"paper_bgcolor\": \"white\", \"plot_bgcolor\": \"#E5ECF6\", \"polar\": {\"angularaxis\": {\"gridcolor\": \"white\", \"linecolor\": \"white\", \"ticks\": \"\"}, \"bgcolor\": \"#E5ECF6\", \"radialaxis\": {\"gridcolor\": \"white\", \"linecolor\": \"white\", \"ticks\": \"\"}}, \"scene\": {\"xaxis\": {\"backgroundcolor\": \"#E5ECF6\", \"gridcolor\": \"white\", \"gridwidth\": 2, \"linecolor\": \"white\", \"showbackground\": true, \"ticks\": \"\", \"zerolinecolor\": \"white\"}, \"yaxis\": {\"backgroundcolor\": \"#E5ECF6\", \"gridcolor\": \"white\", \"gridwidth\": 2, \"linecolor\": \"white\", \"showbackground\": true, \"ticks\": \"\", \"zerolinecolor\": \"white\"}, \"zaxis\": {\"backgroundcolor\": \"#E5ECF6\", \"gridcolor\": \"white\", \"gridwidth\": 2, \"linecolor\": \"white\", \"showbackground\": true, \"ticks\": \"\", \"zerolinecolor\": \"white\"}}, \"shapedefaults\": {\"line\": {\"color\": \"#2a3f5f\"}}, \"ternary\": {\"aaxis\": {\"gridcolor\": \"white\", \"linecolor\": \"white\", \"ticks\": \"\"}, \"baxis\": {\"gridcolor\": \"white\", \"linecolor\": \"white\", \"ticks\": \"\"}, \"bgcolor\": \"#E5ECF6\", \"caxis\": {\"gridcolor\": \"white\", \"linecolor\": \"white\", \"ticks\": \"\"}}, \"title\": {\"x\": 0.05}, \"xaxis\": {\"automargin\": true, \"gridcolor\": \"white\", \"linecolor\": \"white\", \"ticks\": \"\", \"title\": {\"standoff\": 15}, \"zerolinecolor\": \"white\", \"zerolinewidth\": 2}, \"yaxis\": {\"automargin\": true, \"gridcolor\": \"white\", \"linecolor\": \"white\", \"ticks\": \"\", \"title\": {\"standoff\": 15}, \"zerolinecolor\": \"white\", \"zerolinewidth\": 2}}}, \"title\": {\"text\": \"2018 US Unemployment Rate by State\"}},\n",
       "                        {\"responsive\": true}\n",
       "                    ).then(function(){\n",
       "                            \n",
       "var gd = document.getElementById('3d3b2abc-ad3f-4041-a2b4-d41b2bdef954');\n",
       "var x = new MutationObserver(function (mutations, observer) {{\n",
       "        var display = window.getComputedStyle(gd).display;\n",
       "        if (!display || display === 'none') {{\n",
       "            console.log([gd, 'removed!']);\n",
       "            Plotly.purge(gd);\n",
       "            observer.disconnect();\n",
       "        }}\n",
       "}});\n",
       "\n",
       "// Listen for the removal of the full notebook cells\n",
       "var notebookContainer = gd.closest('#notebook-container');\n",
       "if (notebookContainer) {{\n",
       "    x.observe(notebookContainer, {childList: true});\n",
       "}}\n",
       "\n",
       "// Listen for the clearing of the current output cell\n",
       "var outputEl = gd.closest('.output');\n",
       "if (outputEl) {{\n",
       "    x.observe(outputEl, {childList: true});\n",
       "}}\n",
       "\n",
       "                        })\n",
       "                };\n",
       "                });\n",
       "            </script>\n",
       "        </div>"
      ]
     },
     "metadata": {},
     "output_type": "display_data"
    }
   ],
   "source": [
    "import plotly.graph_objects as go\n",
    "\n",
    "# Load data frame and tidy it.\n",
    "import pandas as pd\n",
    "#df = pd.read_csv('https://raw.githubusercontent.com/plotly/datasets/master/2011_us_ag_exports.csv')\n",
    "\n",
    "fig = go.Figure(data=go.Choropleth(\n",
    "    locations=merge_table['abbreviation'], # Spatial coordinates\n",
    "    z = merge_table['Unemployment Rate'].astype(float), # Data to be color-coded\n",
    "    locationmode = 'USA-states', # set of locations match entries in `locations`\n",
    "    colorscale = 'Blues',\n",
    "    colorbar_title = \"Percent\"\n",
    "))\n",
    "\n",
    "fig.update_layout(\n",
    "    title_text = '2018 US Unemployment Rate by State',\n",
    "    geo_scope='usa'\n",
    ")\n",
    "\n",
    "fig.show()"
   ]
  },
  {
   "cell_type": "code",
   "execution_count": 20,
   "metadata": {},
   "outputs": [
    {
     "data": {
      "application/vnd.plotly.v1+json": {
       "config": {
        "plotlyServerURL": "https://plot.ly"
       },
       "data": [
        {
         "colorbar": {
          "title": {
           "text": "Percent"
          }
         },
         "colorscale": [
          [
           0,
           "rgb(255,245,235)"
          ],
          [
           0.125,
           "rgb(254,230,206)"
          ],
          [
           0.25,
           "rgb(253,208,162)"
          ],
          [
           0.375,
           "rgb(253,174,107)"
          ],
          [
           0.5,
           "rgb(253,141,60)"
          ],
          [
           0.625,
           "rgb(241,105,19)"
          ],
          [
           0.75,
           "rgb(217,72,1)"
          ],
          [
           0.875,
           "rgb(166,54,3)"
          ],
          [
           1,
           "rgb(127,39,4)"
          ]
         ],
         "locationmode": "USA-states",
         "locations": [
          "MN",
          "MS",
          "MO",
          "MT",
          "NE",
          "NV",
          "NH",
          "NJ",
          "NM",
          "NY",
          "NC",
          "ND",
          "OH",
          "OK",
          "OR",
          "PA",
          "RI",
          "SC",
          "SD",
          "TN",
          "TX",
          "UT",
          "VT",
          "VA",
          "WV",
          "WA",
          "WI",
          "WY",
          "AL",
          "AK",
          "AZ",
          "AR",
          "CA",
          "CO",
          "CT",
          "DE",
          "DC",
          "FL",
          "GA",
          "ID",
          "HI",
          "IL",
          "IN",
          "IA",
          "KS",
          "KY",
          "LA",
          "ME",
          "MD",
          "MA",
          "MI"
         ],
         "type": "choropleth",
         "z": [
          9.904225490731738,
          20.06834267833973,
          13.758973225559936,
          13.349210737502544,
          11.223986223986223,
          13.460531146152265,
          7.6176186457203,
          10.179551658467357,
          19.612996156629073,
          14.262006285612836,
          15.005961228970273,
          10.538406622697922,
          14.13849087419651,
          15.51272964676835,
          13.847498605443535,
          12.344043915882358,
          12.592619232622035,
          15.549710699818904,
          13.090991554908138,
          15.734385752468505,
          15.111739401499612,
          10.176301574531664,
          10.725834710717354,
          10.620442146413726,
          17.247385807089348,
          11.263821683015424,
          11.564112796739025,
          10.88124488687534,
          17.049425655952703,
          10.543441171213622,
          15.72249209515042,
          17.06429761080373,
          14.016129757366517,
          10.675988914403014,
          9.72912497096192,
          11.563831299796208,
          15.996686622897364,
          14.486022256670857,
          15.61268752638994,
          13.560894627294912,
          9.670407565527848,
          12.75672411731641,
          13.685410579342053,
          11.28919753845093,
          12.04217856582975,
          17.38839026315007,
          18.835041307002978,
          12.13546086360202,
          9.219655080799576,
          10.399486515241955,
          14.632284769010015
         ]
        }
       ],
       "layout": {
        "geo": {
         "scope": "usa"
        },
        "template": {
         "data": {
          "bar": [
           {
            "error_x": {
             "color": "#2a3f5f"
            },
            "error_y": {
             "color": "#2a3f5f"
            },
            "marker": {
             "line": {
              "color": "#E5ECF6",
              "width": 0.5
             }
            },
            "type": "bar"
           }
          ],
          "barpolar": [
           {
            "marker": {
             "line": {
              "color": "#E5ECF6",
              "width": 0.5
             }
            },
            "type": "barpolar"
           }
          ],
          "carpet": [
           {
            "aaxis": {
             "endlinecolor": "#2a3f5f",
             "gridcolor": "white",
             "linecolor": "white",
             "minorgridcolor": "white",
             "startlinecolor": "#2a3f5f"
            },
            "baxis": {
             "endlinecolor": "#2a3f5f",
             "gridcolor": "white",
             "linecolor": "white",
             "minorgridcolor": "white",
             "startlinecolor": "#2a3f5f"
            },
            "type": "carpet"
           }
          ],
          "choropleth": [
           {
            "colorbar": {
             "outlinewidth": 0,
             "ticks": ""
            },
            "type": "choropleth"
           }
          ],
          "contour": [
           {
            "colorbar": {
             "outlinewidth": 0,
             "ticks": ""
            },
            "colorscale": [
             [
              0,
              "#0d0887"
             ],
             [
              0.1111111111111111,
              "#46039f"
             ],
             [
              0.2222222222222222,
              "#7201a8"
             ],
             [
              0.3333333333333333,
              "#9c179e"
             ],
             [
              0.4444444444444444,
              "#bd3786"
             ],
             [
              0.5555555555555556,
              "#d8576b"
             ],
             [
              0.6666666666666666,
              "#ed7953"
             ],
             [
              0.7777777777777778,
              "#fb9f3a"
             ],
             [
              0.8888888888888888,
              "#fdca26"
             ],
             [
              1,
              "#f0f921"
             ]
            ],
            "type": "contour"
           }
          ],
          "contourcarpet": [
           {
            "colorbar": {
             "outlinewidth": 0,
             "ticks": ""
            },
            "type": "contourcarpet"
           }
          ],
          "heatmap": [
           {
            "colorbar": {
             "outlinewidth": 0,
             "ticks": ""
            },
            "colorscale": [
             [
              0,
              "#0d0887"
             ],
             [
              0.1111111111111111,
              "#46039f"
             ],
             [
              0.2222222222222222,
              "#7201a8"
             ],
             [
              0.3333333333333333,
              "#9c179e"
             ],
             [
              0.4444444444444444,
              "#bd3786"
             ],
             [
              0.5555555555555556,
              "#d8576b"
             ],
             [
              0.6666666666666666,
              "#ed7953"
             ],
             [
              0.7777777777777778,
              "#fb9f3a"
             ],
             [
              0.8888888888888888,
              "#fdca26"
             ],
             [
              1,
              "#f0f921"
             ]
            ],
            "type": "heatmap"
           }
          ],
          "heatmapgl": [
           {
            "colorbar": {
             "outlinewidth": 0,
             "ticks": ""
            },
            "colorscale": [
             [
              0,
              "#0d0887"
             ],
             [
              0.1111111111111111,
              "#46039f"
             ],
             [
              0.2222222222222222,
              "#7201a8"
             ],
             [
              0.3333333333333333,
              "#9c179e"
             ],
             [
              0.4444444444444444,
              "#bd3786"
             ],
             [
              0.5555555555555556,
              "#d8576b"
             ],
             [
              0.6666666666666666,
              "#ed7953"
             ],
             [
              0.7777777777777778,
              "#fb9f3a"
             ],
             [
              0.8888888888888888,
              "#fdca26"
             ],
             [
              1,
              "#f0f921"
             ]
            ],
            "type": "heatmapgl"
           }
          ],
          "histogram": [
           {
            "marker": {
             "colorbar": {
              "outlinewidth": 0,
              "ticks": ""
             }
            },
            "type": "histogram"
           }
          ],
          "histogram2d": [
           {
            "colorbar": {
             "outlinewidth": 0,
             "ticks": ""
            },
            "colorscale": [
             [
              0,
              "#0d0887"
             ],
             [
              0.1111111111111111,
              "#46039f"
             ],
             [
              0.2222222222222222,
              "#7201a8"
             ],
             [
              0.3333333333333333,
              "#9c179e"
             ],
             [
              0.4444444444444444,
              "#bd3786"
             ],
             [
              0.5555555555555556,
              "#d8576b"
             ],
             [
              0.6666666666666666,
              "#ed7953"
             ],
             [
              0.7777777777777778,
              "#fb9f3a"
             ],
             [
              0.8888888888888888,
              "#fdca26"
             ],
             [
              1,
              "#f0f921"
             ]
            ],
            "type": "histogram2d"
           }
          ],
          "histogram2dcontour": [
           {
            "colorbar": {
             "outlinewidth": 0,
             "ticks": ""
            },
            "colorscale": [
             [
              0,
              "#0d0887"
             ],
             [
              0.1111111111111111,
              "#46039f"
             ],
             [
              0.2222222222222222,
              "#7201a8"
             ],
             [
              0.3333333333333333,
              "#9c179e"
             ],
             [
              0.4444444444444444,
              "#bd3786"
             ],
             [
              0.5555555555555556,
              "#d8576b"
             ],
             [
              0.6666666666666666,
              "#ed7953"
             ],
             [
              0.7777777777777778,
              "#fb9f3a"
             ],
             [
              0.8888888888888888,
              "#fdca26"
             ],
             [
              1,
              "#f0f921"
             ]
            ],
            "type": "histogram2dcontour"
           }
          ],
          "mesh3d": [
           {
            "colorbar": {
             "outlinewidth": 0,
             "ticks": ""
            },
            "type": "mesh3d"
           }
          ],
          "parcoords": [
           {
            "line": {
             "colorbar": {
              "outlinewidth": 0,
              "ticks": ""
             }
            },
            "type": "parcoords"
           }
          ],
          "pie": [
           {
            "automargin": true,
            "type": "pie"
           }
          ],
          "scatter": [
           {
            "marker": {
             "colorbar": {
              "outlinewidth": 0,
              "ticks": ""
             }
            },
            "type": "scatter"
           }
          ],
          "scatter3d": [
           {
            "line": {
             "colorbar": {
              "outlinewidth": 0,
              "ticks": ""
             }
            },
            "marker": {
             "colorbar": {
              "outlinewidth": 0,
              "ticks": ""
             }
            },
            "type": "scatter3d"
           }
          ],
          "scattercarpet": [
           {
            "marker": {
             "colorbar": {
              "outlinewidth": 0,
              "ticks": ""
             }
            },
            "type": "scattercarpet"
           }
          ],
          "scattergeo": [
           {
            "marker": {
             "colorbar": {
              "outlinewidth": 0,
              "ticks": ""
             }
            },
            "type": "scattergeo"
           }
          ],
          "scattergl": [
           {
            "marker": {
             "colorbar": {
              "outlinewidth": 0,
              "ticks": ""
             }
            },
            "type": "scattergl"
           }
          ],
          "scattermapbox": [
           {
            "marker": {
             "colorbar": {
              "outlinewidth": 0,
              "ticks": ""
             }
            },
            "type": "scattermapbox"
           }
          ],
          "scatterpolar": [
           {
            "marker": {
             "colorbar": {
              "outlinewidth": 0,
              "ticks": ""
             }
            },
            "type": "scatterpolar"
           }
          ],
          "scatterpolargl": [
           {
            "marker": {
             "colorbar": {
              "outlinewidth": 0,
              "ticks": ""
             }
            },
            "type": "scatterpolargl"
           }
          ],
          "scatterternary": [
           {
            "marker": {
             "colorbar": {
              "outlinewidth": 0,
              "ticks": ""
             }
            },
            "type": "scatterternary"
           }
          ],
          "surface": [
           {
            "colorbar": {
             "outlinewidth": 0,
             "ticks": ""
            },
            "colorscale": [
             [
              0,
              "#0d0887"
             ],
             [
              0.1111111111111111,
              "#46039f"
             ],
             [
              0.2222222222222222,
              "#7201a8"
             ],
             [
              0.3333333333333333,
              "#9c179e"
             ],
             [
              0.4444444444444444,
              "#bd3786"
             ],
             [
              0.5555555555555556,
              "#d8576b"
             ],
             [
              0.6666666666666666,
              "#ed7953"
             ],
             [
              0.7777777777777778,
              "#fb9f3a"
             ],
             [
              0.8888888888888888,
              "#fdca26"
             ],
             [
              1,
              "#f0f921"
             ]
            ],
            "type": "surface"
           }
          ],
          "table": [
           {
            "cells": {
             "fill": {
              "color": "#EBF0F8"
             },
             "line": {
              "color": "white"
             }
            },
            "header": {
             "fill": {
              "color": "#C8D4E3"
             },
             "line": {
              "color": "white"
             }
            },
            "type": "table"
           }
          ]
         },
         "layout": {
          "annotationdefaults": {
           "arrowcolor": "#2a3f5f",
           "arrowhead": 0,
           "arrowwidth": 1
          },
          "coloraxis": {
           "colorbar": {
            "outlinewidth": 0,
            "ticks": ""
           }
          },
          "colorscale": {
           "diverging": [
            [
             0,
             "#8e0152"
            ],
            [
             0.1,
             "#c51b7d"
            ],
            [
             0.2,
             "#de77ae"
            ],
            [
             0.3,
             "#f1b6da"
            ],
            [
             0.4,
             "#fde0ef"
            ],
            [
             0.5,
             "#f7f7f7"
            ],
            [
             0.6,
             "#e6f5d0"
            ],
            [
             0.7,
             "#b8e186"
            ],
            [
             0.8,
             "#7fbc41"
            ],
            [
             0.9,
             "#4d9221"
            ],
            [
             1,
             "#276419"
            ]
           ],
           "sequential": [
            [
             0,
             "#0d0887"
            ],
            [
             0.1111111111111111,
             "#46039f"
            ],
            [
             0.2222222222222222,
             "#7201a8"
            ],
            [
             0.3333333333333333,
             "#9c179e"
            ],
            [
             0.4444444444444444,
             "#bd3786"
            ],
            [
             0.5555555555555556,
             "#d8576b"
            ],
            [
             0.6666666666666666,
             "#ed7953"
            ],
            [
             0.7777777777777778,
             "#fb9f3a"
            ],
            [
             0.8888888888888888,
             "#fdca26"
            ],
            [
             1,
             "#f0f921"
            ]
           ],
           "sequentialminus": [
            [
             0,
             "#0d0887"
            ],
            [
             0.1111111111111111,
             "#46039f"
            ],
            [
             0.2222222222222222,
             "#7201a8"
            ],
            [
             0.3333333333333333,
             "#9c179e"
            ],
            [
             0.4444444444444444,
             "#bd3786"
            ],
            [
             0.5555555555555556,
             "#d8576b"
            ],
            [
             0.6666666666666666,
             "#ed7953"
            ],
            [
             0.7777777777777778,
             "#fb9f3a"
            ],
            [
             0.8888888888888888,
             "#fdca26"
            ],
            [
             1,
             "#f0f921"
            ]
           ]
          },
          "colorway": [
           "#636efa",
           "#EF553B",
           "#00cc96",
           "#ab63fa",
           "#FFA15A",
           "#19d3f3",
           "#FF6692",
           "#B6E880",
           "#FF97FF",
           "#FECB52"
          ],
          "font": {
           "color": "#2a3f5f"
          },
          "geo": {
           "bgcolor": "white",
           "lakecolor": "white",
           "landcolor": "#E5ECF6",
           "showlakes": true,
           "showland": true,
           "subunitcolor": "white"
          },
          "hoverlabel": {
           "align": "left"
          },
          "hovermode": "closest",
          "mapbox": {
           "style": "light"
          },
          "paper_bgcolor": "white",
          "plot_bgcolor": "#E5ECF6",
          "polar": {
           "angularaxis": {
            "gridcolor": "white",
            "linecolor": "white",
            "ticks": ""
           },
           "bgcolor": "#E5ECF6",
           "radialaxis": {
            "gridcolor": "white",
            "linecolor": "white",
            "ticks": ""
           }
          },
          "scene": {
           "xaxis": {
            "backgroundcolor": "#E5ECF6",
            "gridcolor": "white",
            "gridwidth": 2,
            "linecolor": "white",
            "showbackground": true,
            "ticks": "",
            "zerolinecolor": "white"
           },
           "yaxis": {
            "backgroundcolor": "#E5ECF6",
            "gridcolor": "white",
            "gridwidth": 2,
            "linecolor": "white",
            "showbackground": true,
            "ticks": "",
            "zerolinecolor": "white"
           },
           "zaxis": {
            "backgroundcolor": "#E5ECF6",
            "gridcolor": "white",
            "gridwidth": 2,
            "linecolor": "white",
            "showbackground": true,
            "ticks": "",
            "zerolinecolor": "white"
           }
          },
          "shapedefaults": {
           "line": {
            "color": "#2a3f5f"
           }
          },
          "ternary": {
           "aaxis": {
            "gridcolor": "white",
            "linecolor": "white",
            "ticks": ""
           },
           "baxis": {
            "gridcolor": "white",
            "linecolor": "white",
            "ticks": ""
           },
           "bgcolor": "#E5ECF6",
           "caxis": {
            "gridcolor": "white",
            "linecolor": "white",
            "ticks": ""
           }
          },
          "title": {
           "x": 0.05
          },
          "xaxis": {
           "automargin": true,
           "gridcolor": "white",
           "linecolor": "white",
           "ticks": "",
           "title": {
            "standoff": 15
           },
           "zerolinecolor": "white",
           "zerolinewidth": 2
          },
          "yaxis": {
           "automargin": true,
           "gridcolor": "white",
           "linecolor": "white",
           "ticks": "",
           "title": {
            "standoff": 15
           },
           "zerolinecolor": "white",
           "zerolinewidth": 2
          }
         }
        },
        "title": {
         "text": "2018 US Poverty Rate by State"
        }
       }
      },
      "text/html": [
       "<div>\n",
       "        \n",
       "        \n",
       "            <div id=\"85d2db6d-735e-4f20-8f46-6eac2e0cd6fe\" class=\"plotly-graph-div\" style=\"height:525px; width:100%;\"></div>\n",
       "            <script type=\"text/javascript\">\n",
       "                require([\"plotly\"], function(Plotly) {\n",
       "                    window.PLOTLYENV=window.PLOTLYENV || {};\n",
       "                    \n",
       "                if (document.getElementById(\"85d2db6d-735e-4f20-8f46-6eac2e0cd6fe\")) {\n",
       "                    Plotly.newPlot(\n",
       "                        '85d2db6d-735e-4f20-8f46-6eac2e0cd6fe',\n",
       "                        [{\"colorbar\": {\"title\": {\"text\": \"Percent\"}}, \"colorscale\": [[0.0, \"rgb(255,245,235)\"], [0.125, \"rgb(254,230,206)\"], [0.25, \"rgb(253,208,162)\"], [0.375, \"rgb(253,174,107)\"], [0.5, \"rgb(253,141,60)\"], [0.625, \"rgb(241,105,19)\"], [0.75, \"rgb(217,72,1)\"], [0.875, \"rgb(166,54,3)\"], [1.0, \"rgb(127,39,4)\"]], \"locationmode\": \"USA-states\", \"locations\": [\"MN\", \"MS\", \"MO\", \"MT\", \"NE\", \"NV\", \"NH\", \"NJ\", \"NM\", \"NY\", \"NC\", \"ND\", \"OH\", \"OK\", \"OR\", \"PA\", \"RI\", \"SC\", \"SD\", \"TN\", \"TX\", \"UT\", \"VT\", \"VA\", \"WV\", \"WA\", \"WI\", \"WY\", \"AL\", \"AK\", \"AZ\", \"AR\", \"CA\", \"CO\", \"CT\", \"DE\", \"DC\", \"FL\", \"GA\", \"ID\", \"HI\", \"IL\", \"IN\", \"IA\", \"KS\", \"KY\", \"LA\", \"ME\", \"MD\", \"MA\", \"MI\"], \"type\": \"choropleth\", \"z\": [9.904225490731738, 20.06834267833973, 13.758973225559936, 13.349210737502544, 11.223986223986223, 13.460531146152265, 7.6176186457203, 10.179551658467357, 19.612996156629073, 14.262006285612836, 15.005961228970273, 10.538406622697922, 14.13849087419651, 15.51272964676835, 13.847498605443535, 12.344043915882358, 12.592619232622035, 15.549710699818904, 13.090991554908138, 15.734385752468505, 15.111739401499612, 10.176301574531664, 10.725834710717354, 10.620442146413726, 17.247385807089348, 11.263821683015424, 11.564112796739025, 10.88124488687534, 17.049425655952703, 10.543441171213622, 15.72249209515042, 17.06429761080373, 14.016129757366517, 10.675988914403014, 9.72912497096192, 11.563831299796208, 15.996686622897364, 14.486022256670857, 15.61268752638994, 13.560894627294912, 9.670407565527848, 12.75672411731641, 13.685410579342053, 11.28919753845093, 12.04217856582975, 17.38839026315007, 18.835041307002978, 12.13546086360202, 9.219655080799576, 10.399486515241955, 14.632284769010015]}],\n",
       "                        {\"geo\": {\"scope\": \"usa\"}, \"template\": {\"data\": {\"bar\": [{\"error_x\": {\"color\": \"#2a3f5f\"}, \"error_y\": {\"color\": \"#2a3f5f\"}, \"marker\": {\"line\": {\"color\": \"#E5ECF6\", \"width\": 0.5}}, \"type\": \"bar\"}], \"barpolar\": [{\"marker\": {\"line\": {\"color\": \"#E5ECF6\", \"width\": 0.5}}, \"type\": \"barpolar\"}], \"carpet\": [{\"aaxis\": {\"endlinecolor\": \"#2a3f5f\", \"gridcolor\": \"white\", \"linecolor\": \"white\", \"minorgridcolor\": \"white\", \"startlinecolor\": \"#2a3f5f\"}, \"baxis\": {\"endlinecolor\": \"#2a3f5f\", \"gridcolor\": \"white\", \"linecolor\": \"white\", \"minorgridcolor\": \"white\", \"startlinecolor\": \"#2a3f5f\"}, \"type\": \"carpet\"}], \"choropleth\": [{\"colorbar\": {\"outlinewidth\": 0, \"ticks\": \"\"}, \"type\": \"choropleth\"}], \"contour\": [{\"colorbar\": {\"outlinewidth\": 0, \"ticks\": \"\"}, \"colorscale\": [[0.0, \"#0d0887\"], [0.1111111111111111, \"#46039f\"], [0.2222222222222222, \"#7201a8\"], [0.3333333333333333, \"#9c179e\"], [0.4444444444444444, \"#bd3786\"], [0.5555555555555556, \"#d8576b\"], [0.6666666666666666, \"#ed7953\"], [0.7777777777777778, \"#fb9f3a\"], [0.8888888888888888, \"#fdca26\"], [1.0, \"#f0f921\"]], \"type\": \"contour\"}], \"contourcarpet\": [{\"colorbar\": {\"outlinewidth\": 0, \"ticks\": \"\"}, \"type\": \"contourcarpet\"}], \"heatmap\": [{\"colorbar\": {\"outlinewidth\": 0, \"ticks\": \"\"}, \"colorscale\": [[0.0, \"#0d0887\"], [0.1111111111111111, \"#46039f\"], [0.2222222222222222, \"#7201a8\"], [0.3333333333333333, \"#9c179e\"], [0.4444444444444444, \"#bd3786\"], [0.5555555555555556, \"#d8576b\"], [0.6666666666666666, \"#ed7953\"], [0.7777777777777778, \"#fb9f3a\"], [0.8888888888888888, \"#fdca26\"], [1.0, \"#f0f921\"]], \"type\": \"heatmap\"}], \"heatmapgl\": [{\"colorbar\": {\"outlinewidth\": 0, \"ticks\": \"\"}, \"colorscale\": [[0.0, \"#0d0887\"], [0.1111111111111111, \"#46039f\"], [0.2222222222222222, \"#7201a8\"], [0.3333333333333333, \"#9c179e\"], [0.4444444444444444, \"#bd3786\"], [0.5555555555555556, \"#d8576b\"], [0.6666666666666666, \"#ed7953\"], [0.7777777777777778, \"#fb9f3a\"], [0.8888888888888888, \"#fdca26\"], [1.0, \"#f0f921\"]], \"type\": \"heatmapgl\"}], \"histogram\": [{\"marker\": {\"colorbar\": {\"outlinewidth\": 0, \"ticks\": \"\"}}, \"type\": \"histogram\"}], \"histogram2d\": [{\"colorbar\": {\"outlinewidth\": 0, \"ticks\": \"\"}, \"colorscale\": [[0.0, \"#0d0887\"], [0.1111111111111111, \"#46039f\"], [0.2222222222222222, \"#7201a8\"], [0.3333333333333333, \"#9c179e\"], [0.4444444444444444, \"#bd3786\"], [0.5555555555555556, \"#d8576b\"], [0.6666666666666666, \"#ed7953\"], [0.7777777777777778, \"#fb9f3a\"], [0.8888888888888888, \"#fdca26\"], [1.0, \"#f0f921\"]], \"type\": \"histogram2d\"}], \"histogram2dcontour\": [{\"colorbar\": {\"outlinewidth\": 0, \"ticks\": \"\"}, \"colorscale\": [[0.0, \"#0d0887\"], [0.1111111111111111, \"#46039f\"], [0.2222222222222222, \"#7201a8\"], [0.3333333333333333, \"#9c179e\"], [0.4444444444444444, \"#bd3786\"], [0.5555555555555556, \"#d8576b\"], [0.6666666666666666, \"#ed7953\"], [0.7777777777777778, \"#fb9f3a\"], [0.8888888888888888, \"#fdca26\"], [1.0, \"#f0f921\"]], \"type\": \"histogram2dcontour\"}], \"mesh3d\": [{\"colorbar\": {\"outlinewidth\": 0, \"ticks\": \"\"}, \"type\": \"mesh3d\"}], \"parcoords\": [{\"line\": {\"colorbar\": {\"outlinewidth\": 0, \"ticks\": \"\"}}, \"type\": \"parcoords\"}], \"pie\": [{\"automargin\": true, \"type\": \"pie\"}], \"scatter\": [{\"marker\": {\"colorbar\": {\"outlinewidth\": 0, \"ticks\": \"\"}}, \"type\": \"scatter\"}], \"scatter3d\": [{\"line\": {\"colorbar\": {\"outlinewidth\": 0, \"ticks\": \"\"}}, \"marker\": {\"colorbar\": {\"outlinewidth\": 0, \"ticks\": \"\"}}, \"type\": \"scatter3d\"}], \"scattercarpet\": [{\"marker\": {\"colorbar\": {\"outlinewidth\": 0, \"ticks\": \"\"}}, \"type\": \"scattercarpet\"}], \"scattergeo\": [{\"marker\": {\"colorbar\": {\"outlinewidth\": 0, \"ticks\": \"\"}}, \"type\": \"scattergeo\"}], \"scattergl\": [{\"marker\": {\"colorbar\": {\"outlinewidth\": 0, \"ticks\": \"\"}}, \"type\": \"scattergl\"}], \"scattermapbox\": [{\"marker\": {\"colorbar\": {\"outlinewidth\": 0, \"ticks\": \"\"}}, \"type\": \"scattermapbox\"}], \"scatterpolar\": [{\"marker\": {\"colorbar\": {\"outlinewidth\": 0, \"ticks\": \"\"}}, \"type\": \"scatterpolar\"}], \"scatterpolargl\": [{\"marker\": {\"colorbar\": {\"outlinewidth\": 0, \"ticks\": \"\"}}, \"type\": \"scatterpolargl\"}], \"scatterternary\": [{\"marker\": {\"colorbar\": {\"outlinewidth\": 0, \"ticks\": \"\"}}, \"type\": \"scatterternary\"}], \"surface\": [{\"colorbar\": {\"outlinewidth\": 0, \"ticks\": \"\"}, \"colorscale\": [[0.0, \"#0d0887\"], [0.1111111111111111, \"#46039f\"], [0.2222222222222222, \"#7201a8\"], [0.3333333333333333, \"#9c179e\"], [0.4444444444444444, \"#bd3786\"], [0.5555555555555556, \"#d8576b\"], [0.6666666666666666, \"#ed7953\"], [0.7777777777777778, \"#fb9f3a\"], [0.8888888888888888, \"#fdca26\"], [1.0, \"#f0f921\"]], \"type\": \"surface\"}], \"table\": [{\"cells\": {\"fill\": {\"color\": \"#EBF0F8\"}, \"line\": {\"color\": \"white\"}}, \"header\": {\"fill\": {\"color\": \"#C8D4E3\"}, \"line\": {\"color\": \"white\"}}, \"type\": \"table\"}]}, \"layout\": {\"annotationdefaults\": {\"arrowcolor\": \"#2a3f5f\", \"arrowhead\": 0, \"arrowwidth\": 1}, \"coloraxis\": {\"colorbar\": {\"outlinewidth\": 0, \"ticks\": \"\"}}, \"colorscale\": {\"diverging\": [[0, \"#8e0152\"], [0.1, \"#c51b7d\"], [0.2, \"#de77ae\"], [0.3, \"#f1b6da\"], [0.4, \"#fde0ef\"], [0.5, \"#f7f7f7\"], [0.6, \"#e6f5d0\"], [0.7, \"#b8e186\"], [0.8, \"#7fbc41\"], [0.9, \"#4d9221\"], [1, \"#276419\"]], \"sequential\": [[0.0, \"#0d0887\"], [0.1111111111111111, \"#46039f\"], [0.2222222222222222, \"#7201a8\"], [0.3333333333333333, \"#9c179e\"], [0.4444444444444444, \"#bd3786\"], [0.5555555555555556, \"#d8576b\"], [0.6666666666666666, \"#ed7953\"], [0.7777777777777778, \"#fb9f3a\"], [0.8888888888888888, \"#fdca26\"], [1.0, \"#f0f921\"]], \"sequentialminus\": [[0.0, \"#0d0887\"], [0.1111111111111111, \"#46039f\"], [0.2222222222222222, \"#7201a8\"], [0.3333333333333333, \"#9c179e\"], [0.4444444444444444, \"#bd3786\"], [0.5555555555555556, \"#d8576b\"], [0.6666666666666666, \"#ed7953\"], [0.7777777777777778, \"#fb9f3a\"], [0.8888888888888888, \"#fdca26\"], [1.0, \"#f0f921\"]]}, \"colorway\": [\"#636efa\", \"#EF553B\", \"#00cc96\", \"#ab63fa\", \"#FFA15A\", \"#19d3f3\", \"#FF6692\", \"#B6E880\", \"#FF97FF\", \"#FECB52\"], \"font\": {\"color\": \"#2a3f5f\"}, \"geo\": {\"bgcolor\": \"white\", \"lakecolor\": \"white\", \"landcolor\": \"#E5ECF6\", \"showlakes\": true, \"showland\": true, \"subunitcolor\": \"white\"}, \"hoverlabel\": {\"align\": \"left\"}, \"hovermode\": \"closest\", \"mapbox\": {\"style\": \"light\"}, \"paper_bgcolor\": \"white\", \"plot_bgcolor\": \"#E5ECF6\", \"polar\": {\"angularaxis\": {\"gridcolor\": \"white\", \"linecolor\": \"white\", \"ticks\": \"\"}, \"bgcolor\": \"#E5ECF6\", \"radialaxis\": {\"gridcolor\": \"white\", \"linecolor\": \"white\", \"ticks\": \"\"}}, \"scene\": {\"xaxis\": {\"backgroundcolor\": \"#E5ECF6\", \"gridcolor\": \"white\", \"gridwidth\": 2, \"linecolor\": \"white\", \"showbackground\": true, \"ticks\": \"\", \"zerolinecolor\": \"white\"}, \"yaxis\": {\"backgroundcolor\": \"#E5ECF6\", \"gridcolor\": \"white\", \"gridwidth\": 2, \"linecolor\": \"white\", \"showbackground\": true, \"ticks\": \"\", \"zerolinecolor\": \"white\"}, \"zaxis\": {\"backgroundcolor\": \"#E5ECF6\", \"gridcolor\": \"white\", \"gridwidth\": 2, \"linecolor\": \"white\", \"showbackground\": true, \"ticks\": \"\", \"zerolinecolor\": \"white\"}}, \"shapedefaults\": {\"line\": {\"color\": \"#2a3f5f\"}}, \"ternary\": {\"aaxis\": {\"gridcolor\": \"white\", \"linecolor\": \"white\", \"ticks\": \"\"}, \"baxis\": {\"gridcolor\": \"white\", \"linecolor\": \"white\", \"ticks\": \"\"}, \"bgcolor\": \"#E5ECF6\", \"caxis\": {\"gridcolor\": \"white\", \"linecolor\": \"white\", \"ticks\": \"\"}}, \"title\": {\"x\": 0.05}, \"xaxis\": {\"automargin\": true, \"gridcolor\": \"white\", \"linecolor\": \"white\", \"ticks\": \"\", \"title\": {\"standoff\": 15}, \"zerolinecolor\": \"white\", \"zerolinewidth\": 2}, \"yaxis\": {\"automargin\": true, \"gridcolor\": \"white\", \"linecolor\": \"white\", \"ticks\": \"\", \"title\": {\"standoff\": 15}, \"zerolinecolor\": \"white\", \"zerolinewidth\": 2}}}, \"title\": {\"text\": \"2018 US Poverty Rate by State\"}},\n",
       "                        {\"responsive\": true}\n",
       "                    ).then(function(){\n",
       "                            \n",
       "var gd = document.getElementById('85d2db6d-735e-4f20-8f46-6eac2e0cd6fe');\n",
       "var x = new MutationObserver(function (mutations, observer) {{\n",
       "        var display = window.getComputedStyle(gd).display;\n",
       "        if (!display || display === 'none') {{\n",
       "            console.log([gd, 'removed!']);\n",
       "            Plotly.purge(gd);\n",
       "            observer.disconnect();\n",
       "        }}\n",
       "}});\n",
       "\n",
       "// Listen for the removal of the full notebook cells\n",
       "var notebookContainer = gd.closest('#notebook-container');\n",
       "if (notebookContainer) {{\n",
       "    x.observe(notebookContainer, {childList: true});\n",
       "}}\n",
       "\n",
       "// Listen for the clearing of the current output cell\n",
       "var outputEl = gd.closest('.output');\n",
       "if (outputEl) {{\n",
       "    x.observe(outputEl, {childList: true});\n",
       "}}\n",
       "\n",
       "                        })\n",
       "                };\n",
       "                });\n",
       "            </script>\n",
       "        </div>"
      ]
     },
     "metadata": {},
     "output_type": "display_data"
    }
   ],
   "source": [
    "import plotly.graph_objects as go\n",
    "\n",
    "# Load data frame and tidy it.\n",
    "import pandas as pd\n",
    "#df = pd.read_csv('https://raw.githubusercontent.com/plotly/datasets/master/2011_us_ag_exports.csv')\n",
    "\n",
    "fig = go.Figure(data=go.Choropleth(\n",
    "    locations=merge_table['abbreviation'], # Spatial coordinates\n",
    "    z = merge_table['Poverty Rate'].astype(float), # Data to be color-coded\n",
    "    locationmode = 'USA-states', # set of locations match entries in `locations`\n",
    "    colorscale = 'Oranges',\n",
    "    colorbar_title = \"Percent\"\n",
    "))\n",
    "\n",
    "fig.update_layout(\n",
    "    title_text = '2018 US Poverty Rate by State',\n",
    "    geo_scope='usa'\n",
    ")\n",
    "\n",
    "fig.show()"
   ]
  },
  {
   "cell_type": "code",
   "execution_count": 99,
   "metadata": {},
   "outputs": [
    {
     "data": {
      "text/plain": [
       "'[{\"State\":\"11\",\"Name\":\"District of Columbia\",\"Population\":684498.0,\"Median Age\":33.9,\"Household Income\":82604.0,\"Per Capita Income\":53321.0,\"Poverty Count\":109497.0,\"Poverty Rate\":15.9966866229,\"Unemployment Rate\":4.2911739698},{\"State\":\"24\",\"Name\":\"Maryland\",\"Population\":6003435.0,\"Median Age\":38.6,\"Household Income\":81868.0,\"Per Capita Income\":40517.0,\"Poverty Count\":553496.0,\"Poverty Rate\":9.2196550808,\"Unemployment Rate\":3.0164230978},{\"State\":\"34\",\"Name\":\"New Jersey\",\"Population\":8881845.0,\"Median Age\":39.8,\"Household Income\":79363.0,\"Per Capita Income\":40895.0,\"Poverty Count\":904132.0,\"Poverty Rate\":10.1795516585,\"Unemployment Rate\":3.2097385172},{\"State\":\"15\",\"Name\":\"Hawaii\",\"Population\":1422029.0,\"Median Age\":38.9,\"Household Income\":78084.0,\"Per Capita Income\":34035.0,\"Poverty Count\":137516.0,\"Poverty Rate\":9.6704075655,\"Unemployment Rate\":2.2528373191},{\"State\":\"25\",\"Name\":\"Massachusetts\",\"Population\":6830193.0,\"Median Age\":39.4,\"Household Income\":77378.0,\"Per Capita Income\":41794.0,\"Poverty Count\":710305.0,\"Poverty Rate\":10.3994865152,\"Unemployment Rate\":2.9788909332},{\"State\":\"02\",\"Name\":\"Alaska\",\"Population\":738516.0,\"Median Age\":34.0,\"Household Income\":76715.0,\"Per Capita Income\":35874.0,\"Poverty Count\":77865.0,\"Poverty Rate\":10.5434411712,\"Unemployment Rate\":3.8004592995},{\"State\":\"09\",\"Name\":\"Connecticut\",\"Population\":3581504.0,\"Median Age\":40.8,\"Household Income\":76106.0,\"Per Capita Income\":43056.0,\"Poverty Count\":348449.0,\"Poverty Rate\":9.729124971,\"Unemployment Rate\":3.515534256},{\"State\":\"33\",\"Name\":\"New Hampshire\",\"Population\":1343622.0,\"Median Age\":42.7,\"Household Income\":74057.0,\"Per Capita Income\":38548.0,\"Poverty Count\":102352.0,\"Poverty Rate\":7.6176186457,\"Unemployment Rate\":2.261945696},{\"State\":\"51\",\"Name\":\"Virginia\",\"Population\":8413774.0,\"Median Age\":38.1,\"Household Income\":71564.0,\"Per Capita Income\":37763.0,\"Poverty Count\":893580.0,\"Poverty Rate\":10.6204421464,\"Unemployment Rate\":2.5870673493},{\"State\":\"06\",\"Name\":\"California\",\"Population\":39148760.0,\"Median Age\":36.3,\"Household Income\":71228.0,\"Per Capita Income\":35021.0,\"Poverty Count\":5487141.0,\"Poverty Rate\":14.0161297574,\"Unemployment Rate\":3.375590951},{\"State\":\"53\",\"Name\":\"Washington\",\"Population\":7294336.0,\"Median Age\":37.6,\"Household Income\":70116.0,\"Per Capita Income\":36888.0,\"Poverty Count\":821621.0,\"Poverty Rate\":11.263821683,\"Unemployment Rate\":2.7189589292},{\"State\":\"08\",\"Name\":\"Colorado\",\"Population\":5531141.0,\"Median Age\":36.6,\"Household Income\":68811.0,\"Per Capita Income\":36415.0,\"Poverty Count\":590504.0,\"Poverty Rate\":10.6759889144,\"Unemployment Rate\":2.5189377743},{\"State\":\"27\",\"Name\":\"Minnesota\",\"Population\":5527358.0,\"Median Age\":37.9,\"Household Income\":68411.0,\"Per Capita Income\":36245.0,\"Poverty Count\":547442.0,\"Poverty Rate\":9.9042254907,\"Unemployment Rate\":2.1568713298},{\"State\":\"49\",\"Name\":\"Utah\",\"Population\":3045350.0,\"Median Age\":30.7,\"Household Income\":68374.0,\"Per Capita Income\":28239.0,\"Poverty Count\":309904.0,\"Poverty Rate\":10.1763015745,\"Unemployment Rate\":1.9360007881},{\"State\":\"10\",\"Name\":\"Delaware\",\"Population\":949495.0,\"Median Age\":40.2,\"Household Income\":65627.0,\"Per Capita Income\":33989.0,\"Poverty Count\":109798.0,\"Poverty Rate\":11.5638312998,\"Unemployment Rate\":3.0017009042},{\"State\":\"36\",\"Name\":\"New York\",\"Population\":19618453.0,\"Median Age\":38.7,\"Household Income\":65323.0,\"Per Capita Income\":37470.0,\"Poverty Count\":2797985.0,\"Poverty Rate\":14.2620062856,\"Unemployment Rate\":3.0717814498},{\"State\":\"17\",\"Name\":\"Illinois\",\"Population\":12821497.0,\"Median Age\":37.9,\"Household Income\":63575.0,\"Per Capita Income\":34463.0,\"Poverty Count\":1635603.0,\"Poverty Rate\":12.7567241173,\"Unemployment Rate\":3.4094224723},{\"State\":\"38\",\"Name\":\"North Dakota\",\"Population\":752201.0,\"Median Age\":35.1,\"Household Income\":63473.0,\"Per Capita Income\":35373.0,\"Poverty Count\":79270.0,\"Poverty Rate\":10.5384066227,\"Unemployment Rate\":1.5539729407},{\"State\":\"44\",\"Name\":\"Rhode Island\",\"Population\":1056611.0,\"Median Age\":39.9,\"Household Income\":63296.0,\"Per Capita Income\":34619.0,\"Poverty Count\":133055.0,\"Poverty Rate\":12.5926192326,\"Unemployment Rate\":3.2631687537},{\"State\":\"56\",\"Name\":\"Wyoming\",\"Population\":581836.0,\"Median Age\":37.3,\"Household Income\":62268.0,\"Per Capita Income\":32295.0,\"Poverty Count\":63311.0,\"Poverty Rate\":10.8812448869,\"Unemployment Rate\":2.3520373439},{\"State\":\"50\",\"Name\":\"Vermont\",\"Population\":624977.0,\"Median Age\":42.9,\"Household Income\":60076.0,\"Per Capita Income\":33238.0,\"Poverty Count\":67034.0,\"Poverty Rate\":10.7258347107,\"Unemployment Rate\":2.2205617167},{\"State\":\"48\",\"Name\":\"Texas\",\"Population\":27885195.0,\"Median Age\":34.4,\"Household Income\":59570.0,\"Per Capita Income\":30143.0,\"Poverty Count\":4213938.0,\"Poverty Rate\":15.1117394015,\"Unemployment Rate\":2.6645178562},{\"State\":\"42\",\"Name\":\"Pennsylvania\",\"Population\":12791181.0,\"Median Age\":40.7,\"Household Income\":59445.0,\"Per Capita Income\":32889.0,\"Poverty Count\":1578949.0,\"Poverty Rate\":12.3440439159,\"Unemployment Rate\":2.9689596293},{\"State\":\"41\",\"Name\":\"Oregon\",\"Population\":4081943.0,\"Median Age\":39.2,\"Household Income\":59393.0,\"Per Capita Income\":32045.0,\"Poverty Count\":565247.0,\"Poverty Rate\":13.8474986054,\"Unemployment Rate\":3.0251524825},{\"State\":\"55\",\"Name\":\"Wisconsin\",\"Population\":5778394.0,\"Median Age\":39.3,\"Household Income\":59209.0,\"Per Capita Income\":32018.0,\"Poverty Count\":668220.0,\"Poverty Rate\":11.5641127967,\"Unemployment Rate\":2.1596312055},{\"State\":\"31\",\"Name\":\"Nebraska\",\"Population\":1904760.0,\"Median Age\":36.4,\"Household Income\":59116.0,\"Per Capita Income\":31101.0,\"Poverty Count\":213790.0,\"Poverty Rate\":11.223986224,\"Unemployment Rate\":1.9186144186},{\"State\":\"19\",\"Name\":\"Iowa\",\"Population\":3132499.0,\"Median Age\":38.1,\"Household Income\":58580.0,\"Per Capita Income\":31085.0,\"Poverty Count\":353634.0,\"Poverty Rate\":11.2891975385,\"Unemployment Rate\":2.0819160677},{\"State\":\"32\",\"Name\":\"Nevada\",\"Population\":2922849.0,\"Median Age\":37.9,\"Household Income\":57598.0,\"Per Capita Income\":29961.0,\"Poverty Count\":393431.0,\"Poverty Rate\":13.4605311462,\"Unemployment Rate\":3.4811240676},{\"State\":\"20\",\"Name\":\"Kansas\",\"Population\":2908776.0,\"Median Age\":36.5,\"Household Income\":57422.0,\"Per Capita Income\":30757.0,\"Poverty Count\":350280.0,\"Poverty Rate\":12.0421785658,\"Unemployment Rate\":2.2359232887},{\"State\":\"46\",\"Name\":\"South Dakota\",\"Population\":864289.0,\"Median Age\":36.8,\"Household Income\":56499.0,\"Per Capita Income\":29801.0,\"Poverty Count\":113144.0,\"Poverty Rate\":13.0909915549,\"Unemployment Rate\":1.8803895456},{\"State\":\"04\",\"Name\":\"Arizona\",\"Population\":6946685.0,\"Median Age\":37.4,\"Household Income\":56213.0,\"Per Capita Income\":29265.0,\"Poverty Count\":1092192.0,\"Poverty Rate\":15.7224920952,\"Unemployment Rate\":3.0261052574},{\"State\":\"13\",\"Name\":\"Georgia\",\"Population\":10297484.0,\"Median Age\":36.5,\"Household Income\":55679.0,\"Per Capita Income\":29523.0,\"Poverty Count\":1607714.0,\"Poverty Rate\":15.6126875264,\"Unemployment Rate\":3.1352707127},{\"State\":\"23\",\"Name\":\"Maine\",\"Population\":1332813.0,\"Median Age\":44.6,\"Household Income\":55425.0,\"Per Capita Income\":31253.0,\"Poverty Count\":161743.0,\"Poverty Rate\":12.1354608636,\"Unemployment Rate\":2.4161679095},{\"State\":\"26\",\"Name\":\"Michigan\",\"Population\":9957488.0,\"Median Age\":39.7,\"Household Income\":54938.0,\"Per Capita Income\":30336.0,\"Poverty Count\":1457008.0,\"Poverty Rate\":14.632284769,\"Unemployment Rate\":3.2237849546},{\"State\":\"39\",\"Name\":\"Ohio\",\"Population\":11641879.0,\"Median Age\":39.3,\"Household Income\":54533.0,\"Per Capita Income\":30304.0,\"Poverty Count\":1645986.0,\"Poverty Rate\":14.1384908742,\"Unemployment Rate\":2.9482525974},{\"State\":\"18\",\"Name\":\"Indiana\",\"Population\":6637426.0,\"Median Age\":37.6,\"Household Income\":54325.0,\"Per Capita Income\":28461.0,\"Poverty Count\":908359.0,\"Poverty Rate\":13.6854105793,\"Unemployment Rate\":2.7264936739},{\"State\":\"29\",\"Name\":\"Missouri\",\"Population\":6090062.0,\"Median Age\":38.5,\"Household Income\":53560.0,\"Per Capita Income\":29537.0,\"Poverty Count\":837930.0,\"Poverty Rate\":13.7589732256,\"Unemployment Rate\":2.5608606283},{\"State\":\"12\",\"Name\":\"Florida\",\"Population\":20598139.0,\"Median Age\":41.9,\"Household Income\":53267.0,\"Per Capita Income\":30197.0,\"Poverty Count\":2983851.0,\"Poverty Rate\":14.4860222567,\"Unemployment Rate\":3.0244382757},{\"State\":\"16\",\"Name\":\"Idaho\",\"Population\":1687809.0,\"Median Age\":36.1,\"Household Income\":53089.0,\"Per Capita Income\":26772.0,\"Poverty Count\":228882.0,\"Poverty Rate\":13.5608946273,\"Unemployment Rate\":2.2320061097},{\"State\":\"30\",\"Name\":\"Montana\",\"Population\":1041732.0,\"Median Age\":39.8,\"Household Income\":52559.0,\"Per Capita Income\":29765.0,\"Poverty Count\":139063.0,\"Poverty Rate\":13.3492107375,\"Unemployment Rate\":2.1534329367},{\"State\":\"37\",\"Name\":\"North Carolina\",\"Population\":10155624.0,\"Median Age\":38.6,\"Household Income\":52413.0,\"Per Capita Income\":29456.0,\"Poverty Count\":1523949.0,\"Poverty Rate\":15.005961229,\"Unemployment Rate\":3.0781958844},{\"State\":\"40\",\"Name\":\"Oklahoma\",\"Population\":3918137.0,\"Median Age\":36.4,\"Household Income\":51424.0,\"Per Capita Income\":27432.0,\"Poverty Count\":607810.0,\"Poverty Rate\":15.5127296468,\"Unemployment Rate\":2.5289314794},{\"State\":\"45\",\"Name\":\"South Carolina\",\"Population\":4955925.0,\"Median Age\":39.2,\"Household Income\":51015.0,\"Per Capita Income\":27986.0,\"Poverty Count\":770632.0,\"Poverty Rate\":15.5497106998,\"Unemployment Rate\":3.0920968336},{\"State\":\"47\",\"Name\":\"Tennessee\",\"Population\":6651089.0,\"Median Age\":38.7,\"Household Income\":50972.0,\"Per Capita Income\":28511.0,\"Poverty Count\":1046508.0,\"Poverty Rate\":15.7343857525,\"Unemployment Rate\":2.8798892933},{\"State\":\"01\",\"Name\":\"Alabama\",\"Population\":4864680.0,\"Median Age\":38.9,\"Household Income\":48486.0,\"Per Capita Income\":26846.0,\"Poverty Count\":829400.0,\"Poverty Rate\":17.049425656,\"Unemployment Rate\":3.0402410847},{\"State\":\"21\",\"Name\":\"Kentucky\",\"Population\":4440204.0,\"Median Age\":38.7,\"Household Income\":48392.0,\"Per Capita Income\":26948.0,\"Poverty Count\":772080.0,\"Poverty Rate\":17.3883902632,\"Unemployment Rate\":2.8908131248},{\"State\":\"35\",\"Name\":\"New Mexico\",\"Population\":2092434.0,\"Median Age\":37.5,\"Household Income\":48059.0,\"Per Capita Income\":26085.0,\"Poverty Count\":410389.0,\"Poverty Rate\":19.6129961566,\"Unemployment Rate\":3.2674865731},{\"State\":\"22\",\"Name\":\"Louisiana\",\"Population\":4663616.0,\"Median Age\":36.6,\"Household Income\":47942.0,\"Per Capita Income\":27027.0,\"Poverty Count\":878394.0,\"Poverty Rate\":18.835041307,\"Unemployment Rate\":3.213171925},{\"State\":\"05\",\"Name\":\"Arkansas\",\"Population\":2990671.0,\"Median Age\":37.9,\"Household Income\":45726.0,\"Per Capita Income\":25635.0,\"Poverty Count\":510337.0,\"Poverty Rate\":17.0642976108,\"Unemployment Rate\":2.5336788968},{\"State\":\"54\",\"Name\":\"West Virginia\",\"Population\":1829054.0,\"Median Age\":42.4,\"Household Income\":44921.0,\"Per Capita Income\":25479.0,\"Poverty Count\":315464.0,\"Poverty Rate\":17.2473858071,\"Unemployment Rate\":2.9386775896},{\"State\":\"28\",\"Name\":\"Mississippi\",\"Population\":2988762.0,\"Median Age\":37.2,\"Household Income\":43567.0,\"Per Capita Income\":23434.0,\"Poverty Count\":599795.0,\"Poverty Rate\":20.0683426783,\"Unemployment Rate\":3.6816581581},{\"State\":\"72\",\"Name\":\"Puerto Rico\",\"Population\":3386941.0,\"Median Age\":40.9,\"Household Income\":20166.0,\"Per Capita Income\":12451.0,\"Poverty Count\":1495160.0,\"Poverty Rate\":44.1448492903,\"Unemployment Rate\":6.1988088957}]'"
      ]
     },
     "execution_count": 99,
     "metadata": {},
     "output_type": "execute_result"
    }
   ],
   "source": [
    "census_pd.to_json(orient=\"records\")"
   ]
  },
  {
   "cell_type": "code",
   "execution_count": 3,
   "metadata": {
    "collapsed": true
   },
   "outputs": [],
   "source": [
    "# Save as a csv\n",
    "# Note to avoid any issues later, use encoding=\"utf-8\"\n",
    "census_pd.to_csv(\"census_data_states.csv\", encoding=\"utf-8\", index=False)"
   ]
  }
 ],
 "metadata": {
  "anaconda-cloud": {},
  "kernelspec": {
   "display_name": "Python 3",
   "language": "python",
   "name": "python3"
  },
  "language_info": {
   "codemirror_mode": {
    "name": "ipython",
    "version": 3
   },
   "file_extension": ".py",
   "mimetype": "text/x-python",
   "name": "python",
   "nbconvert_exporter": "python",
   "pygments_lexer": "ipython3",
   "version": "3.6.4"
  }
 },
 "nbformat": 4,
 "nbformat_minor": 1
}
